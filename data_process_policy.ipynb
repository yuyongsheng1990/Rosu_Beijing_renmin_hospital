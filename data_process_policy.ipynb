{
 "cells": [
  {
   "cell_type": "code",
   "execution_count": 1,
   "metadata": {},
   "outputs": [
    {
     "data": {
      "text/plain": [
       "'\\n2022/04/24 17:27\\n北大人民医院--瑞舒伐他汀vatin：依从性数据处理\\n'"
      ]
     },
     "execution_count": 1,
     "metadata": {},
     "output_type": "execute_result"
    }
   ],
   "source": [
    "'''\n",
    "2022/04/26 17:27\n",
    "北大人民医院--瑞舒伐他汀vatin：政策性数据处理。\n",
    "换药率和初始治疗选择\n",
    "    2018.03.23-2019.03.22政策前\n",
    "    2019.03.23-2020.03.22政策后\n",
    "'''"
   ]
  },
  {
   "cell_type": "markdown",
   "metadata": {},
   "source": [
    "# 政策性性数据预处理"
   ]
  },
  {
   "cell_type": "markdown",
   "metadata": {},
   "source": [
    "## 导入程序包"
   ]
  },
  {
   "cell_type": "code",
   "execution_count": 4,
   "metadata": {},
   "outputs": [
    {
     "name": "stdout",
     "output_type": "stream",
     "text": [
      "D:\\PycharmProjects\\Rosu_Beijing_renmin_hospital\n"
     ]
    }
   ],
   "source": [
    "# 导入程序包\n",
    "import pymysql as MySQLDB\n",
    "import pandas as pd\n",
    "import numpy as np\n",
    "import datetime\n",
    "\n",
    "import math\n",
    "import re\n",
    "import sys\n",
    "import os\n",
    "project_path = os.getcwd()\n",
    "print(project_path)"
   ]
  },
  {
   "cell_type": "markdown",
   "metadata": {},
   "source": [
    "## 导入预定义函数"
   ]
  },
  {
   "cell_type": "code",
   "execution_count": 5,
   "metadata": {},
   "outputs": [],
   "source": [
    "# 判断是否为float类型\n",
    "def judge_float(x):\n",
    "    try:\n",
    "        a=float(x)\n",
    "        return a\n",
    "    except :\n",
    "        return np.NaN"
   ]
  },
  {
   "cell_type": "code",
   "execution_count": 4,
   "metadata": {},
   "outputs": [],
   "source": [
    "# 过滤文字\n",
    "import numpy as np\n",
    "def filter_string(df,feature):\n",
    "    # 过滤文字!!!!!!!!!!!!!!!!!!!!!!!!!!!\n",
    "    df=df[df[feature].str.contains('\\d')]\n",
    "    return df"
   ]
  },
  {
   "cell_type": "code",
   "execution_count": 5,
   "metadata": {},
   "outputs": [],
   "source": [
    "# 过滤特殊字符\n",
    "def filter_spec_character(x):\n",
    "    if pd.isnull(x):\n",
    "        return np.nan\n",
    "    else:\n",
    "        x = re.sub('<|>|＞|＜|\\+|\\/|-|cm|kg','',str(x))\n",
    "        return x"
   ]
  },
  {
   "cell_type": "code",
   "execution_count": 6,
   "metadata": {},
   "outputs": [],
   "source": [
    "# 过滤异常大值\n",
    "def filter_huge_value(df,feature,median_value=1):\n",
    "    # 过滤异常大值!!!!!!!!!!!!!!!!!!!!!!!!!!\n",
    "    if not median_value:\n",
    "        median_value=df[feature].median()\n",
    "    df[feature]=df[feature].apply(lambda x: np.nan if x<0 else x if float(x) <= 100 * median_value else np.nan)\n",
    "    df=df[df[feature].notnull()]\n",
    "    return df"
   ]
  },
  {
   "cell_type": "markdown",
   "metadata": {},
   "source": [
    "# 读取raw_data"
   ]
  },
  {
   "cell_type": "markdown",
   "metadata": {},
   "source": [
    "## 用药数据预处理"
   ]
  },
  {
   "cell_type": "code",
   "execution_count": 113,
   "metadata": {},
   "outputs": [
    {
     "data": {
      "text/plain": [
       "'\\n统计患者京新、可定、其他品牌他汀、其他降脂药的首末次处方时间、用药天数、用药剂量\\n注意先不需要分冠心病，首先落脚点是在高脂血症，即只要使用了他汀类药物的患者都纳入，当明确诊断为冠心病时则直接归为极高危人群，在后面的分层分析中考虑\\n'"
      ]
     },
     "execution_count": 113,
     "metadata": {},
     "output_type": "execute_result"
    }
   ],
   "source": [
    "'''\n",
    "统计患者京新、可定、其他品牌他汀、其他降脂药的首末次处方时间、用药天数、用药剂量\n",
    "注意先不需要分冠心病，首先落脚点是在高脂血症，即只要使用了他汀类药物的患者都纳入，当明确诊断为冠心病时则直接归为极高危人群，在后面的分层分析中考虑\n",
    "'''"
   ]
  },
  {
   "cell_type": "markdown",
   "metadata": {},
   "source": [
    "### 人民医院"
   ]
  },
  {
   "cell_type": "code",
   "execution_count": 133,
   "metadata": {},
   "outputs": [],
   "source": [
    "# 人民医院用药\n",
    "df_drug_order_1 = pd.read_excel(r'./data/raw_data/人民医院/4-药物医嘱.xlsx')"
   ]
  },
  {
   "cell_type": "code",
   "execution_count": 115,
   "metadata": {},
   "outputs": [],
   "source": [
    "# 删除重复用药\n",
    "df_drug_order_1 = df_drug_order_1.drop_duplicates(df_drug_order_1.columns,keep='first')\n",
    "# 删除开药总数量为负的，退药记录\n",
    "df_drug_order_1 = df_drug_order_1[df_drug_order_1['开药总数量']>=0]"
   ]
  },
  {
   "cell_type": "code",
   "execution_count": 116,
   "metadata": {},
   "outputs": [],
   "source": [
    "# 人民医院--他汀用药\n",
    "df_drug_vatin_1 = df_drug_order_1[df_drug_order_1.药物通用名称.str.contains('他汀')]"
   ]
  },
  {
   "cell_type": "code",
   "execution_count": 117,
   "metadata": {},
   "outputs": [
    {
     "name": "stdout",
     "output_type": "stream",
     "text": [
      "(422162, 22)\n",
      "(251698, 22)\n"
     ]
    }
   ],
   "source": [
    "print(df_drug_order_1.shape)\n",
    "print(df_drug_vatin_1.shape)"
   ]
  },
  {
   "cell_type": "code",
   "execution_count": 118,
   "metadata": {},
   "outputs": [
    {
     "data": {
      "text/plain": [
       "Index(['患者编号', '当前就诊次数/命中就诊总次数', '长期或临时', '药物编码', '药物商品名', '药物通用名称', '批准文号',\n",
       "       '医嘱开始时间', '医嘱停止时间', 'ATC分类码', 'ATC分类名称', 'DDD值', '药物规格', '药物剂量',\n",
       "       '药物剂量单位名称', '频率名称', '用药途径名称', '开药总数量', '开药总数量单位名称', '药物剂型', '下嘱科室名称',\n",
       "       '数据来源'],\n",
       "      dtype='object')"
      ]
     },
     "execution_count": 118,
     "metadata": {},
     "output_type": "execute_result"
    }
   ],
   "source": [
    "df_drug_vatin_1.columns"
   ]
  },
  {
   "cell_type": "code",
   "execution_count": 119,
   "metadata": {},
   "outputs": [],
   "source": [
    "# 提取有效字段\n",
    "df_drug_vatin_1 = df_drug_vatin_1[['患者编号', '药物编码', '药物通用名称','医嘱开始时间', '医嘱停止时间', '药物规格', '药物剂量',\n",
    "       '药物剂量单位名称', '频率名称', '开药总数量', '开药总数量单位名称', '药物剂型']]"
   ]
  },
  {
   "cell_type": "code",
   "execution_count": 120,
   "metadata": {},
   "outputs": [
    {
     "data": {
      "text/plain": [
       "(251698, 11)"
      ]
     },
     "execution_count": 120,
     "metadata": {},
     "output_type": "execute_result"
    }
   ],
   "source": [
    "df_drug_vatin_1.shape"
   ]
  },
  {
   "cell_type": "code",
   "execution_count": 121,
   "metadata": {},
   "outputs": [
    {
     "data": {
      "text/html": [
       "<div>\n",
       "<style scoped>\n",
       "    .dataframe tbody tr th:only-of-type {\n",
       "        vertical-align: middle;\n",
       "    }\n",
       "\n",
       "    .dataframe tbody tr th {\n",
       "        vertical-align: top;\n",
       "    }\n",
       "\n",
       "    .dataframe thead th {\n",
       "        text-align: right;\n",
       "    }\n",
       "</style>\n",
       "<table border=\"1\" class=\"dataframe\">\n",
       "  <thead>\n",
       "    <tr style=\"text-align: right;\">\n",
       "      <th></th>\n",
       "      <th>患者编号</th>\n",
       "      <th>药物通用名称</th>\n",
       "      <th>医嘱开始时间</th>\n",
       "      <th>医嘱停止时间</th>\n",
       "      <th>药物规格</th>\n",
       "      <th>药物剂量</th>\n",
       "      <th>药物剂量单位名称</th>\n",
       "      <th>频率名称</th>\n",
       "      <th>开药总数量</th>\n",
       "      <th>开药总数量单位名称</th>\n",
       "      <th>药物剂型</th>\n",
       "    </tr>\n",
       "  </thead>\n",
       "  <tbody>\n",
       "    <tr>\n",
       "      <th>0</th>\n",
       "      <td>pat_0d9297a346707bce01f0b4637484efe9</td>\n",
       "      <td>瑞舒伐他汀钙</td>\n",
       "      <td>2019-12-31 07:54:51</td>\n",
       "      <td>NaN</td>\n",
       "      <td>旧  10mgx28片/盒</td>\n",
       "      <td>1.0</td>\n",
       "      <td>片</td>\n",
       "      <td>QD(8am)</td>\n",
       "      <td>1.0</td>\n",
       "      <td>盒</td>\n",
       "      <td>片剂</td>\n",
       "    </tr>\n",
       "    <tr>\n",
       "      <th>1</th>\n",
       "      <td>pat_0ebd83a8c3990a103016a650f84616f8</td>\n",
       "      <td>瑞舒伐他汀钙</td>\n",
       "      <td>2018-03-11 11:23:20</td>\n",
       "      <td>NaN</td>\n",
       "      <td>可定 10mg x7片/盒</td>\n",
       "      <td>10.0</td>\n",
       "      <td>mg</td>\n",
       "      <td>QD(8am)</td>\n",
       "      <td>5.0</td>\n",
       "      <td>盒</td>\n",
       "      <td>片剂</td>\n",
       "    </tr>\n",
       "    <tr>\n",
       "      <th>2</th>\n",
       "      <td>pat_13da443c402ad02c9e9de0c5c0751eda</td>\n",
       "      <td>阿托伐他汀钙</td>\n",
       "      <td>2018-01-08 16:29:39</td>\n",
       "      <td>NaN</td>\n",
       "      <td>旧  10mgx7片/盒</td>\n",
       "      <td>10.0</td>\n",
       "      <td>mg</td>\n",
       "      <td>QD(8am)</td>\n",
       "      <td>5.0</td>\n",
       "      <td>盒</td>\n",
       "      <td>片剂</td>\n",
       "    </tr>\n",
       "    <tr>\n",
       "      <th>3</th>\n",
       "      <td>pat_13da443c402ad02c9e9de0c5c0751eda</td>\n",
       "      <td>阿托伐他汀钙</td>\n",
       "      <td>2018-03-22 15:00:58</td>\n",
       "      <td>NaN</td>\n",
       "      <td>旧  10mgx7片/盒</td>\n",
       "      <td>10.0</td>\n",
       "      <td>mg</td>\n",
       "      <td>QD(8am)</td>\n",
       "      <td>5.0</td>\n",
       "      <td>盒</td>\n",
       "      <td>片剂</td>\n",
       "    </tr>\n",
       "    <tr>\n",
       "      <th>4</th>\n",
       "      <td>pat_13da443c402ad02c9e9de0c5c0751eda</td>\n",
       "      <td>阿托伐他汀钙</td>\n",
       "      <td>2018-06-26 14:08:42</td>\n",
       "      <td>NaN</td>\n",
       "      <td>旧  10mgx7片/盒</td>\n",
       "      <td>10.0</td>\n",
       "      <td>mg</td>\n",
       "      <td>QD(8am)</td>\n",
       "      <td>5.0</td>\n",
       "      <td>盒</td>\n",
       "      <td>片剂</td>\n",
       "    </tr>\n",
       "  </tbody>\n",
       "</table>\n",
       "</div>"
      ],
      "text/plain": [
       "                                   患者编号  药物通用名称               医嘱开始时间 医嘱停止时间  \\\n",
       "0  pat_0d9297a346707bce01f0b4637484efe9  瑞舒伐他汀钙  2019-12-31 07:54:51    NaN   \n",
       "1  pat_0ebd83a8c3990a103016a650f84616f8  瑞舒伐他汀钙  2018-03-11 11:23:20    NaN   \n",
       "2  pat_13da443c402ad02c9e9de0c5c0751eda  阿托伐他汀钙  2018-01-08 16:29:39    NaN   \n",
       "3  pat_13da443c402ad02c9e9de0c5c0751eda  阿托伐他汀钙  2018-03-22 15:00:58    NaN   \n",
       "4  pat_13da443c402ad02c9e9de0c5c0751eda  阿托伐他汀钙  2018-06-26 14:08:42    NaN   \n",
       "\n",
       "            药物规格  药物剂量 药物剂量单位名称     频率名称  开药总数量 开药总数量单位名称 药物剂型  \n",
       "0  旧  10mgx28片/盒   1.0        片  QD(8am)    1.0         盒   片剂  \n",
       "1  可定 10mg x7片/盒  10.0       mg  QD(8am)    5.0         盒   片剂  \n",
       "2   旧  10mgx7片/盒  10.0       mg  QD(8am)    5.0         盒   片剂  \n",
       "3   旧  10mgx7片/盒  10.0       mg  QD(8am)    5.0         盒   片剂  \n",
       "4   旧  10mgx7片/盒  10.0       mg  QD(8am)    5.0         盒   片剂  "
      ]
     },
     "execution_count": 121,
     "metadata": {},
     "output_type": "execute_result"
    }
   ],
   "source": [
    "df_drug_vatin_1.head()"
   ]
  },
  {
   "cell_type": "code",
   "execution_count": 122,
   "metadata": {},
   "outputs": [],
   "source": [
    "df_drug_vatin_1.to_csv(project_path+'/data/pre_processed_raw_data/df_2.3.1_人民_drug_vatin.csv')"
   ]
  },
  {
   "cell_type": "markdown",
   "metadata": {},
   "source": [
    "### 世纪坛医院"
   ]
  },
  {
   "cell_type": "code",
   "execution_count": 132,
   "metadata": {},
   "outputs": [],
   "source": [
    "# 世纪坛用药\n",
    "df_drug_order_2 = pd.read_excel(r'./data/raw_data/首都医科大学附属北京世纪坛医院—阿托他汀临床疗效及安全性评价的真实世界研究-住院+门诊-2018.3.23-2020.3.xlsx',\n",
    "                           sheet_name='用药')"
   ]
  },
  {
   "cell_type": "code",
   "execution_count": 158,
   "metadata": {},
   "outputs": [],
   "source": [
    "# 世纪坛医院-他汀用药\n",
    "df_drug_order_2 = df_drug_order_2[df_drug_order_2['药品名称'].notnull()]\n",
    "# 删除重复\n",
    "df_drug_order_2 = df_drug_order_2.drop_duplicates(df_drug_order_2.columns,keep='first')\n",
    "# 他汀类药物\n",
    "df_drug_vatin_2 = df_drug_order_2[df_drug_order_2.药品名称.str.contains('他汀|可定|阿乐|立普妥')]"
   ]
  },
  {
   "cell_type": "code",
   "execution_count": null,
   "metadata": {},
   "outputs": [],
   "source": [
    "print(df_drug_order_2.shape)\n",
    "print(df_drug_vatin_2.shape)"
   ]
  },
  {
   "cell_type": "code",
   "execution_count": null,
   "metadata": {},
   "outputs": [],
   "source": [
    "df_drug_vatin_2.columns"
   ]
  },
  {
   "cell_type": "code",
   "execution_count": null,
   "metadata": {},
   "outputs": [],
   "source": [
    "# 提取有效字段\n",
    "df_drug_vatin_2 = df_drug_vatin_2[['patient_SN', '就诊时间（门诊）','给药开始时间', '给药停止时间', '用药时长',\n",
    "                '用药频率', '单次剂量','药品类别', '用药（商品名称）', '药物规格', '药品医嘱内容', '药品名称']]"
   ]
  },
  {
   "cell_type": "code",
   "execution_count": null,
   "metadata": {},
   "outputs": [],
   "source": [
    "# 世纪坛医院的用药频率和药品类别部分数据混乱\n",
    "# 就诊时间（门诊）-补充-给药开始时间缺失值\n",
    "df_drug_vatin_2=df_drug_vatin_2.reset_index(drop=True)\n",
    "for i in range(df_drug_vatin_2.shape[0]):\n",
    "    x =  df_drug_vatin_2.loc[i,'药品类别']\n",
    "    if re.match('.*?次', x):\n",
    "        df_drug_vatin_2.loc[i,'用药频率'] = x\n",
    "    t = df_drug_vatin_2.loc[i,'就诊时间（门诊）']\n",
    "    if pd.notnull(t):\n",
    "        df_drug_vatin_2.loc[i,'给药开始时间'] = t"
   ]
  },
  {
   "cell_type": "code",
   "execution_count": null,
   "metadata": {},
   "outputs": [],
   "source": [
    "df_drug_vatin_2.columns"
   ]
  },
  {
   "cell_type": "code",
   "execution_count": null,
   "metadata": {},
   "outputs": [],
   "source": [
    "# 有效字段排序\n",
    "df_drug_vatin_2 = df_drug_vatin_2[['patient_SN', '药品名称', '给药开始时间', '给药停止时间', '用药时长', '药物规格', '单次剂量', '用药频率']]\n",
    "# 修改列名\n",
    "df_drug_vatin_2.columns = ['患者编号', '药物通用名称','医嘱开始时间', '医嘱停止时间', '用药时长', '药物规格', '药物剂量', '频率名称']"
   ]
  },
  {
   "cell_type": "code",
   "execution_count": null,
   "metadata": {},
   "outputs": [],
   "source": [
    "# 删除医嘱开始时间为空的数据\n",
    "df_drug_vatin_2 = df_drug_vatin_2[df_drug_vatin_2.医嘱开始时间.notnull()]"
   ]
  },
  {
   "cell_type": "code",
   "execution_count": null,
   "metadata": {},
   "outputs": [],
   "source": [
    "df_drug_vatin_2.shape"
   ]
  },
  {
   "cell_type": "code",
   "execution_count": null,
   "metadata": {},
   "outputs": [],
   "source": [
    "df_drug_vatin_2.head()"
   ]
  },
  {
   "cell_type": "code",
   "execution_count": null,
   "metadata": {},
   "outputs": [],
   "source": [
    "df_drug_vatin_2.to_csv(project_path+'/data/pre_processed_raw_data/df_2.3.2_世纪坛_drug_vatin.csv')"
   ]
  },
  {
   "cell_type": "markdown",
   "metadata": {},
   "source": [
    "### 合并用药数据"
   ]
  },
  {
   "cell_type": "code",
   "execution_count": null,
   "metadata": {},
   "outputs": [],
   "source": [
    "# 添加数据来源\n",
    "df_drug_vatin_1.insert(0,'data_source','人民医院')\n",
    "df_drug_vatin_2.insert(0,'data_source','世纪坛医院')"
   ]
  },
  {
   "cell_type": "code",
   "execution_count": null,
   "metadata": {},
   "outputs": [],
   "source": [
    "# 合并人民医院和世纪坛医院的他汀类用药\n",
    "df_drug_vatin = pd.concat([df_drug_vatin_1, df_drug_vatin_2],axis=0).reset_index(drop=True)"
   ]
  },
  {
   "cell_type": "code",
   "execution_count": null,
   "metadata": {},
   "outputs": [],
   "source": [
    "df_drug_vatin.shape"
   ]
  },
  {
   "cell_type": "code",
   "execution_count": null,
   "metadata": {},
   "outputs": [],
   "source": [
    "df_drug_vatin.data_source.value_counts()"
   ]
  },
  {
   "cell_type": "code",
   "execution_count": null,
   "metadata": {},
   "outputs": [],
   "source": [
    "df_drug_vatin.head()"
   ]
  },
  {
   "cell_type": "code",
   "execution_count": null,
   "metadata": {},
   "outputs": [],
   "source": [
    "df_drug_vatin.to_csv(project_path+'/data/pre_processed_raw_data/df_2.3.3_他汀用药.csv')"
   ]
  },
  {
   "cell_type": "markdown",
   "metadata": {},
   "source": [
    "### 提取瑞舒伐他汀"
   ]
  },
  {
   "cell_type": "code",
   "execution_count": null,
   "metadata": {},
   "outputs": [],
   "source": [
    "# 提取瑞舒伐他汀\n",
    "df_drug_resuvatin = df_drug_vatin[df_drug_vatin.药物通用名称.str.contains('瑞舒|可定')]"
   ]
  },
  {
   "cell_type": "code",
   "execution_count": null,
   "metadata": {},
   "outputs": [],
   "source": [
    "df_drug_resuvatin.columns"
   ]
  },
  {
   "cell_type": "code",
   "execution_count": null,
   "metadata": {},
   "outputs": [],
   "source": [
    "# 用药时长和药物规格部分数据混乱\n",
    "df_drug_resuvatin = df_drug_resuvatin.reset_index(drop=True)\n",
    "# 药物规格drug specifications\n",
    "for i in range(df_drug_resuvatin.shape[0]):\n",
    "    s = df_drug_resuvatin.loc[i,'用药时长']\n",
    "    if re.match('.*?[盒片]', str(s)):\n",
    "        df_drug_resuvatin.loc[i,'药物规格'] = df_drug_resuvatin.loc[i,'药物规格'] + s"
   ]
  },
  {
   "cell_type": "code",
   "execution_count": null,
   "metadata": {},
   "outputs": [],
   "source": [
    "df_drug_resuvatin.shape"
   ]
  },
  {
   "cell_type": "code",
   "execution_count": null,
   "metadata": {},
   "outputs": [],
   "source": [
    "# 删除重复\n",
    "df_drug_resuvatin = df_drug_resuvatin.drop_duplicates(df_drug_resuvatin.columns,keep='first')"
   ]
  },
  {
   "cell_type": "code",
   "execution_count": null,
   "metadata": {},
   "outputs": [],
   "source": [
    "df_drug_resuvatin.shape"
   ]
  },
  {
   "cell_type": "code",
   "execution_count": null,
   "metadata": {},
   "outputs": [],
   "source": [
    "df_drug_resuvatin.to_csv(project_path + '/data/processed_data/df_2.3.4_瑞舒伐他汀用药.csv')"
   ]
  },
  {
   "cell_type": "code",
   "execution_count": null,
   "metadata": {},
   "outputs": [],
   "source": [
    "# 其它他汀药物\n",
    "df_drug_vatin_other = df_drug_vatin[~ df_drug_vatin.药物通用名称.str.contains('瑞舒|可定')]\n",
    "# 删除重复数据\n",
    "df_drug_vatin_other = df_drug_vatin_other.drop_duplicates(df_drug_vatin_other.columns, keep='first')"
   ]
  },
  {
   "cell_type": "code",
   "execution_count": null,
   "metadata": {},
   "outputs": [],
   "source": [
    "df_drug_vatin_other.shape"
   ]
  },
  {
   "cell_type": "code",
   "execution_count": null,
   "metadata": {},
   "outputs": [],
   "source": [
    "df_drug_vatin_other.to_csv(project_path + '/data/processed_data/df_2.3.4_其它他汀用药.csv')"
   ]
  },
  {
   "cell_type": "code",
   "execution_count": null,
   "metadata": {},
   "outputs": [],
   "source": [
    "df_drug_vatin_other.head(1)"
   ]
  },
  {
   "cell_type": "markdown",
   "metadata": {},
   "source": [
    "### 打标签：京新、可定"
   ]
  },
  {
   "cell_type": "code",
   "execution_count": null,
   "metadata": {},
   "outputs": [],
   "source": [
    "'''\n",
    "进口瑞舒伐他汀钙（可定）药物编码为203238，包括3个规格：10mg/片、可定10mg/片、可定10mg×7片/盒。\n",
    "国产瑞舒伐他汀钙（京新）药物编码为204979，包括4个规格：10mg×28片/盒、京新10mg×28片/盒、旧 10mg×28片/盒、京新10mg/片。\n",
    "'''"
   ]
  },
  {
   "cell_type": "code",
   "execution_count": null,
   "metadata": {},
   "outputs": [],
   "source": [
    "df_drug_resuvatin.药物规格.value_counts()"
   ]
  },
  {
   "cell_type": "code",
   "execution_count": null,
   "metadata": {},
   "outputs": [],
   "source": [
    "df_drug_resuvatin.head(1)"
   ]
  },
  {
   "cell_type": "code",
   "execution_count": null,
   "metadata": {},
   "outputs": [],
   "source": [
    "df_drug_resuvatin = df_drug_resuvatin.reset_index(drop=True)\n",
    "for i in range(df_drug_resuvatin.shape[0]):\n",
    "    s = df_drug_resuvatin.loc[i,'药物规格']\n",
    "    if re.match('京新', s):\n",
    "        df_drug_resuvatin.loc[i,'resuvatin_brand'] = '京新'\n",
    "    elif re.match('可定', s):\n",
    "        df_drug_resuvatin.loc[i,'resuvatin_brand'] = '可定'\n",
    "    elif re.match('.*?28片', s):\n",
    "        df_drug_resuvatin.loc[i,'resuvatin_brand'] = '京新'\n",
    "    elif re.match('.*?7片', s):\n",
    "        df_drug_resuvatin.loc[i,'resuvatin_brand'] = '可定'\n",
    "    elif re.match('10毫克 /片',s):\n",
    "        df_drug_resuvatin.loc[i,'resuvatin_brand'] = '可定'"
   ]
  },
  {
   "cell_type": "code",
   "execution_count": null,
   "metadata": {},
   "outputs": [],
   "source": [
    "df_drug_resuvatin.shape"
   ]
  },
  {
   "cell_type": "code",
   "execution_count": null,
   "metadata": {},
   "outputs": [],
   "source": [
    "df_drug_resuvatin.to_csv(project_path+'/data/processed_data/df_2.3.5_打厂商标签.csv')"
   ]
  },
  {
   "cell_type": "code",
   "execution_count": 283,
   "metadata": {},
   "outputs": [],
   "source": [
    "df_drug_resuvatin=pd.read_csv(project_path+'/data/processed_data/df_2.3.5_打厂商标签.csv')\n",
    "if 'Unnamed: 0' in df_drug_resuvatin.columns:\n",
    "    del df_drug_resuvatin['Unnamed: 0']"
   ]
  },
  {
   "cell_type": "markdown",
   "metadata": {},
   "source": [
    "### 计算日剂量"
   ]
  },
  {
   "cell_type": "markdown",
   "metadata": {},
   "source": [
    "#### 转换频率"
   ]
  },
  {
   "cell_type": "code",
   "execution_count": 284,
   "metadata": {},
   "outputs": [
    {
     "data": {
      "text/plain": [
       "array(['QD(8am)', '1/晚(10PM)', 'QN每晚 (8pm)', 'BID(8-4)', 'ONCE',\n",
       "       'TID(8-12-4)', 'Q12H (8-8)', 'QD1(8am)', 'QOD5 （8pm）', 'QOD(8am)',\n",
       "       'QD3(12N)', 'QD6(4pm)', 'QOD1(12N)', 'BID1 (8-4)口服', '必要时',\n",
       "       'QD4 (5pm)', '05 每晚一次', '01 每日一次', '03 每日三次', '02 每日两次'],\n",
       "      dtype=object)"
      ]
     },
     "execution_count": 284,
     "metadata": {},
     "output_type": "execute_result"
    }
   ],
   "source": [
    "df_drug_resuvatin.频率名称.unique()"
   ]
  },
  {
   "cell_type": "code",
   "execution_count": 285,
   "metadata": {},
   "outputs": [],
   "source": [
    "# 清洗频次\n",
    "half=['QOD5 （8pm）','QOD(8am)','QOD1(12N)',]\n",
    "one=['QD(8am)','1/晚(10PM)', 'QN每晚 (8pm)','QD1(8am)','ONCE','01 每日一次','QD3(12N)', 'QD6(4pm)','QD4 (5pm)']\n",
    "two=['BID(8-4)','Q12H (8-8)','02 每日两次','BID1 (8-4)口服',]\n",
    "three=['TID(8-12-4)','03 每日三次',]\n",
    "\n",
    "df_drug_resuvatin['频率名称']=df_drug_resuvatin['频率名称'].apply(lambda x: 0.5 if x in half else\n",
    "                                                                          1 if x in one else\n",
    "                                                                          2 if x in two else\n",
    "                                                                          3 if x in three else np.nan)"
   ]
  },
  {
   "cell_type": "code",
   "execution_count": 286,
   "metadata": {},
   "outputs": [
    {
     "data": {
      "text/plain": [
       "1.0    56541\n",
       "2.0      891\n",
       "3.0       39\n",
       "0.5       26\n",
       "Name: 频率名称, dtype: int64"
      ]
     },
     "execution_count": 286,
     "metadata": {},
     "output_type": "execute_result"
    }
   ],
   "source": [
    "df_drug_resuvatin.频率名称.value_counts()"
   ]
  },
  {
   "cell_type": "code",
   "execution_count": 287,
   "metadata": {},
   "outputs": [],
   "source": [
    "# 删除频率为空的用药\n",
    "df_drug_resuvatin = df_drug_resuvatin[df_drug_resuvatin.频率名称.notnull()]"
   ]
  },
  {
   "cell_type": "code",
   "execution_count": 288,
   "metadata": {},
   "outputs": [
    {
     "data": {
      "text/plain": [
       "(57497, 14)"
      ]
     },
     "execution_count": 288,
     "metadata": {},
     "output_type": "execute_result"
    }
   ],
   "source": [
    "df_drug_resuvatin.shape"
   ]
  },
  {
   "cell_type": "markdown",
   "metadata": {},
   "source": [
    "#### 单次剂量处理"
   ]
  },
  {
   "cell_type": "code",
   "execution_count": null,
   "metadata": {},
   "outputs": [],
   "source": [
    "df_drug_resuvatin.药物剂量单位名称.value_counts()"
   ]
  },
  {
   "cell_type": "code",
   "execution_count": null,
   "metadata": {},
   "outputs": [],
   "source": [
    "# 片--10mg；盒--280mg\n",
    "df_drug_resuvatin= df_drug_resuvatin.reset_index(drop=True)\n",
    "for i in range(df_drug_resuvatin.shape[0]):\n",
    "    u = df_drug_resuvatin.loc[i,'药物剂量单位名称']\n",
    "    # 将数值为1的剂量统一换成10mg\n",
    "    if df_drug_resuvatin.loc[i,'药物剂量']== 1:\n",
    "        df_drug_resuvatin.loc[i,'药物剂量']=10\n",
    "    elif df_drug_resuvatin.loc[i,'药物剂量']==14:\n",
    "        df_drug_resuvatin.loc[i,'药物剂量']=10\n",
    "    elif df_drug_resuvatin.loc[i,'药物剂量']== 28:\n",
    "        df_drug_resuvatin.loc[i,'药物剂量']=10\n",
    "    elif pd.isnull(u):\n",
    "        continue\n",
    "    elif re.match('片',u):\n",
    "        df_drug_resuvatin.loc[i,'药物剂量']= df_drug_resuvatin.loc[i,'药物剂量']*10"
   ]
  },
  {
   "cell_type": "code",
   "execution_count": null,
   "metadata": {},
   "outputs": [],
   "source": [
    "# 将超过50mg的单次剂量重置为10mg\n",
    "df_drug_resuvatin['药物剂量'] = df_drug_resuvatin['药物剂量'].apply(lambda x: 10 if x>50 else x)"
   ]
  },
  {
   "cell_type": "code",
   "execution_count": null,
   "metadata": {},
   "outputs": [],
   "source": [
    "df_drug_resuvatin.shape"
   ]
  },
  {
   "cell_type": "code",
   "execution_count": null,
   "metadata": {},
   "outputs": [],
   "source": [
    "df_drug_resuvatin.药物剂量.value_counts()"
   ]
  },
  {
   "cell_type": "code",
   "execution_count": null,
   "metadata": {},
   "outputs": [],
   "source": [
    "df_drug_resuvatin.to_csv(project_path+'/data/processed_data/df_2.3.6.2_单次剂量处理.csv')"
   ]
  },
  {
   "cell_type": "markdown",
   "metadata": {},
   "source": [
    "#### 计算日剂量"
   ]
  },
  {
   "cell_type": "code",
   "execution_count": 249,
   "metadata": {},
   "outputs": [],
   "source": [
    "df_drug_resuvatin['日剂量']=df_drug_resuvatin['药物剂量'].astype('float') * df_drug_resuvatin['频率名称'].astype('float')"
   ]
  },
  {
   "cell_type": "code",
   "execution_count": null,
   "metadata": {},
   "outputs": [],
   "source": [
    "# 限定瑞舒伐他汀最大日剂量，将超过50mg的日剂量重置为单次剂量\n",
    "df_drug_resuvatin = df_drug_resuvatin.reset_index(drop=True)\n",
    "for i in range(df_drug_resuvatin.shape[0]):\n",
    "    if df_drug_resuvatin.loc[i,'日剂量'] > 50:\n",
    "        df_drug_resuvatin.loc[i,'日剂量']=df_drug_resuvatin.loc[i,'药物剂量']"
   ]
  },
  {
   "cell_type": "code",
   "execution_count": null,
   "metadata": {},
   "outputs": [],
   "source": [
    "df_drug_resuvatin['日剂量'].value_counts()"
   ]
  },
  {
   "cell_type": "code",
   "execution_count": null,
   "metadata": {},
   "outputs": [],
   "source": [
    "df_drug_resuvatin.shape"
   ]
  },
  {
   "cell_type": "code",
   "execution_count": null,
   "metadata": {},
   "outputs": [],
   "source": [
    "df_drug_resuvatin.head(1)"
   ]
  },
  {
   "cell_type": "code",
   "execution_count": null,
   "metadata": {},
   "outputs": [],
   "source": [
    "df_drug_resuvatin.to_csv(project_path+'/data/processed_data/df_2.3.6.3_计算日计量.csv')"
   ]
  },
  {
   "cell_type": "markdown",
   "metadata": {},
   "source": [
    "### 删除重复用药"
   ]
  },
  {
   "cell_type": "code",
   "execution_count": 7,
   "metadata": {},
   "outputs": [
    {
     "data": {
      "text/plain": [
       "'\\n重复数据、多次开药，取最后一次开药记录\\n注意，别删掉不同brand的用药，后面需要纳排\\n'"
      ]
     },
     "execution_count": 7,
     "metadata": {},
     "output_type": "execute_result"
    }
   ],
   "source": [
    "'''\n",
    "重复数据、多次开药，取最后一次开药记录\n",
    "注意，别删掉不同brand的用药，后面需要纳排\n",
    "'''"
   ]
  },
  {
   "cell_type": "code",
   "execution_count": 12,
   "metadata": {},
   "outputs": [
    {
     "name": "stderr",
     "output_type": "stream",
     "text": [
      "D:\\Anaconda3\\lib\\site-packages\\IPython\\core\\interactiveshell.py:3049: DtypeWarning: Columns (13) have mixed types. Specify dtype option on import or set low_memory=False.\n",
      "  interactivity=interactivity, compiler=compiler, result=result)\n"
     ]
    }
   ],
   "source": [
    "df_drug_resuvatin=pd.read_csv(project_path+'/data/processed_data/df_2.3.6.3_计算日计量.csv')\n",
    "if 'Unnamed: 0' in df_drug_resuvatin.columns:\n",
    "    del df_drug_resuvatin['Unnamed: 0']"
   ]
  },
  {
   "cell_type": "code",
   "execution_count": 13,
   "metadata": {},
   "outputs": [
    {
     "data": {
      "text/plain": [
       "(57497, 15)"
      ]
     },
     "execution_count": 13,
     "metadata": {},
     "output_type": "execute_result"
    }
   ],
   "source": [
    "df_drug_resuvatin.shape"
   ]
  },
  {
   "cell_type": "code",
   "execution_count": 14,
   "metadata": {},
   "outputs": [
    {
     "data": {
      "text/plain": [
       "Index(['data_source', '患者编号', '药物通用名称', '医嘱开始时间', '医嘱停止时间', '药物规格', '药物剂量',\n",
       "       '药物剂量单位名称', '频率名称', '开药总数量', '开药总数量单位名称', '药物剂型', '用药时长',\n",
       "       'resuvatin_brand', '日剂量'],\n",
       "      dtype='object')"
      ]
     },
     "execution_count": 14,
     "metadata": {},
     "output_type": "execute_result"
    }
   ],
   "source": [
    "df_drug_resuvatin.columns"
   ]
  },
  {
   "cell_type": "code",
   "execution_count": 15,
   "metadata": {},
   "outputs": [],
   "source": [
    "# 同一天多次用药记录，取最后一次;\n",
    "df_drug_resuvatin['医嘱开始日期'] = df_drug_resuvatin.医嘱开始时间.apply(lambda x: str(x).split(' ')[0])\n",
    "df_drug_resuvatin = df_drug_resuvatin.sort_values(['患者编号','医嘱开始时间'],ascending=True)\n",
    "df_drug_resuvatin = df_drug_resuvatin.drop_duplicates(subset=['患者编号','resuvatin_brand','医嘱开始日期'],keep='last')"
   ]
  },
  {
   "cell_type": "code",
   "execution_count": 16,
   "metadata": {},
   "outputs": [
    {
     "data": {
      "text/plain": [
       "(57301, 16)"
      ]
     },
     "execution_count": 16,
     "metadata": {},
     "output_type": "execute_result"
    }
   ],
   "source": [
    "df_drug_resuvatin.shape"
   ]
  },
  {
   "cell_type": "code",
   "execution_count": 13,
   "metadata": {},
   "outputs": [],
   "source": [
    "df_drug_resuvatin.to_csv(project_path+'/data/processed_data/df_2.1.7_删除用药重复记录.csv')"
   ]
  },
  {
   "cell_type": "markdown",
   "metadata": {},
   "source": [
    "### 计算用药时长和开药总剂量"
   ]
  },
  {
   "cell_type": "code",
   "execution_count": 18,
   "metadata": {},
   "outputs": [
    {
     "data": {
      "text/plain": [
       "'\\n人民医院：开药总剂量=开药总数量*盒数\\n世纪坛医院：开药总剂量=日剂量*用药时长\\n'"
      ]
     },
     "execution_count": 18,
     "metadata": {},
     "output_type": "execute_result"
    }
   ],
   "source": [
    "'''\n",
    "人民医院：用药时长 = 开药总剂量/日剂量；医嘱结束时间 = 医嘱开始时间 + 用药时长\n",
    "世纪坛医院：用药时长 = 用药停止时间-用药开始时间 + 1\n",
    "'''\n",
    "'''\n",
    "人民医院：开药总剂量=开药总数量*盒数\n",
    "世纪坛医院：开药总剂量=日剂量*用药时长\n",
    "'''"
   ]
  },
  {
   "cell_type": "markdown",
   "metadata": {},
   "source": [
    "#### 计算世纪坛--用药时长"
   ]
  },
  {
   "cell_type": "code",
   "execution_count": 19,
   "metadata": {},
   "outputs": [
    {
     "data": {
      "text/plain": [
       "Index(['data_source', '患者编号', '药物通用名称', '医嘱开始时间', '医嘱停止时间', '药物规格', '药物剂量',\n",
       "       '药物剂量单位名称', '频率名称', '开药总数量', '开药总数量单位名称', '药物剂型', '用药时长',\n",
       "       'resuvatin_brand', '日剂量', '医嘱开始日期'],\n",
       "      dtype='object')"
      ]
     },
     "execution_count": 19,
     "metadata": {},
     "output_type": "execute_result"
    }
   ],
   "source": [
    "df_drug_resuvatin.columns"
   ]
  },
  {
   "cell_type": "code",
   "execution_count": 20,
   "metadata": {},
   "outputs": [
    {
     "data": {
      "text/plain": [
       "(57301, 16)"
      ]
     },
     "execution_count": 20,
     "metadata": {},
     "output_type": "execute_result"
    }
   ],
   "source": [
    "df_drug_resuvatin.shape"
   ]
  },
  {
   "cell_type": "code",
   "execution_count": 34,
   "metadata": {},
   "outputs": [],
   "source": [
    "# 对于世纪坛医院用药结束时间为空的数据，将下一次开药时间作为其上一次结束时间。\n",
    "temp_list=[]\n",
    "for i in df_drug_resuvatin.患者编号.unique():\n",
    "    temp = df_drug_resuvatin[df_drug_resuvatin['患者编号']==i]\n",
    "    temp = temp.sort_values(by=['医嘱开始时间'],ascending=True).reset_index(drop=True)\n",
    "    hospital = temp.loc[0,'data_source']\n",
    "    if re.match('世纪坛医院',hospital) and (temp.shape[0]>1):\n",
    "        for j in range(temp.shape[0]):\n",
    "            # 医嘱结束时间为空\n",
    "            if pd.isnull(temp.loc[j,'医嘱停止时间']) and (j+1<temp.shape[0]):\n",
    "                # 提取下一次用药记录\n",
    "                temp_end = temp[temp['医嘱开始日期'] > temp.loc[j,'医嘱开始日期']].reset_index(drop=True)\n",
    "                if temp_end.shape[0]>0:\n",
    "                    temp.loc[j,'医嘱停止时间'] = temp_end.loc[0,'医嘱开始时间']\n",
    "    temp_list.append(temp)"
   ]
  },
  {
   "cell_type": "code",
   "execution_count": 36,
   "metadata": {},
   "outputs": [],
   "source": [
    "df_drug_resuvatin=pd.concat(temp_list,axis=0)\n",
    "del temp_list"
   ]
  },
  {
   "cell_type": "code",
   "execution_count": 37,
   "metadata": {},
   "outputs": [
    {
     "data": {
      "text/plain": [
       "(57301, 16)"
      ]
     },
     "execution_count": 37,
     "metadata": {},
     "output_type": "execute_result"
    }
   ],
   "source": [
    "df_drug_resuvatin.shape"
   ]
  },
  {
   "cell_type": "code",
   "execution_count": 38,
   "metadata": {},
   "outputs": [],
   "source": [
    "df_drug_resuvatin.to_csv(project_path+'/data/processed_data/df_temp_补充用药结束时间.csv')"
   ]
  },
  {
   "cell_type": "code",
   "execution_count": 39,
   "metadata": {},
   "outputs": [],
   "source": [
    "# 用药时长=医嘱结束时间-医嘱开始时间+1\n",
    "df_drug_resuvatin['用药时长']=np.nan\n",
    "df_drug_resuvatin = df_drug_resuvatin.reset_index(drop=True)\n",
    "for i in range(df_drug_resuvatin.shape[0]):\n",
    "    # 根据医嘱时间计算\n",
    "    drug_start_time = df_drug_resuvatin.loc[i,'医嘱开始时间']\n",
    "    drug_end_time = df_drug_resuvatin.loc[i,'医嘱停止时间']\n",
    "    hospital= df_drug_resuvatin.loc[i,'data_source']\n",
    "    if re.match('世纪坛医院', hospital):\n",
    "        df_drug_resuvatin.loc[i,'用药时长'] = (pd.to_datetime(drug_end_time)-pd.to_datetime(drug_start_time)).days + 1\n",
    "#     # 根据开药剂量计算\n",
    "#     prescription_sum = df_drug_resuvatin.loc[i,'开药总剂量']\n",
    "#     dosage = df_drug_resuvatin.loc[i,'日剂量']\n",
    "#     if pd.isnull(prescription_sum):\n",
    "#         prescription_time = np.nan\n",
    "#     else:\n",
    "#         prescription_time = math.ceil(prescription_sum / dosage) # 向上取整\n",
    "#     df_drug_resuvatin.loc[i,'用药时长']= max(-1,drug_time,prescription_time)"
   ]
  },
  {
   "cell_type": "code",
   "execution_count": 40,
   "metadata": {},
   "outputs": [
    {
     "data": {
      "text/plain": [
       "(57301, 16)"
      ]
     },
     "execution_count": 40,
     "metadata": {},
     "output_type": "execute_result"
    }
   ],
   "source": [
    "df_drug_resuvatin.shape"
   ]
  },
  {
   "cell_type": "code",
   "execution_count": 41,
   "metadata": {},
   "outputs": [],
   "source": [
    "df_drug_resuvatin.to_csv(project_path+'/data/processed_data/df_2.1.8.1_计算世纪坛_用药时长.csv')"
   ]
  },
  {
   "cell_type": "markdown",
   "metadata": {},
   "source": [
    "#### 计算开药总剂量"
   ]
  },
  {
   "cell_type": "code",
   "execution_count": 42,
   "metadata": {},
   "outputs": [],
   "source": [
    "# 盒--280mg；片--10mg\n",
    "df_drug_resuvatin = df_drug_resuvatin.reset_index(drop=True)\n",
    "for i in range(df_drug_resuvatin.shape[0]):\n",
    "    prescription_u = df_drug_resuvatin.loc[i,'开药总数量单位名称']\n",
    "    # 世纪坛医院：日剂量*用药时长\n",
    "    if pd.isnull(prescription_u):\n",
    "        df_drug_resuvatin.loc[i,'开药总剂量']= df_drug_resuvatin.loc[i,'用药时长'] * df_drug_resuvatin.loc[i,'日剂量']\n",
    "    # 人民医院: 开药总剂量\n",
    "    elif re.match('盒', prescription_u):\n",
    "        # 京新一盒280mg；可定一盒70mg\n",
    "        brand = df_drug_resuvatin.loc[i,'resuvatin_brand']\n",
    "        if re.match('京新', brand):\n",
    "            df_drug_resuvatin.loc[i,'开药总剂量']= df_drug_resuvatin.loc[i,'开药总数量']*280\n",
    "        else:\n",
    "            df_drug_resuvatin.loc[i,'开药总剂量']= df_drug_resuvatin.loc[i,'开药总数量']*70\n",
    "    elif re.match('片', prescription_u):\n",
    "        df_drug_resuvatin.loc[i,'开药总剂量']= df_drug_resuvatin.loc[i,'开药总数量']*10"
   ]
  },
  {
   "cell_type": "code",
   "execution_count": 43,
   "metadata": {},
   "outputs": [],
   "source": [
    "# 删除数值为0的开药总剂量\n",
    "df_drug_resuvatin = df_drug_resuvatin[df_drug_resuvatin['开药总剂量']>0]"
   ]
  },
  {
   "cell_type": "code",
   "execution_count": 44,
   "metadata": {},
   "outputs": [
    {
     "data": {
      "text/plain": [
       "(54471, 17)"
      ]
     },
     "execution_count": 44,
     "metadata": {},
     "output_type": "execute_result"
    }
   ],
   "source": [
    "df_drug_resuvatin.shape"
   ]
  },
  {
   "cell_type": "code",
   "execution_count": 47,
   "metadata": {},
   "outputs": [
    {
     "ename": "PermissionError",
     "evalue": "[Errno 13] Permission denied: 'D:\\\\PycharmProjects\\\\Rosu_Beijing_renmin_hospital/data/processed_data/df_2.1.8.2计算开药总剂量.csv'",
     "output_type": "error",
     "traceback": [
      "\u001b[1;31m---------------------------------------------------------------------------\u001b[0m",
      "\u001b[1;31mPermissionError\u001b[0m                           Traceback (most recent call last)",
      "\u001b[1;32m<ipython-input-47-a085f78a24af>\u001b[0m in \u001b[0;36m<module>\u001b[1;34m\u001b[0m\n\u001b[1;32m----> 1\u001b[1;33m \u001b[0mdf_drug_resuvatin\u001b[0m\u001b[1;33m.\u001b[0m\u001b[0mto_csv\u001b[0m\u001b[1;33m(\u001b[0m\u001b[0mproject_path\u001b[0m\u001b[1;33m+\u001b[0m\u001b[1;34m'/data/processed_data/df_2.1.8.2计算开药总剂量.csv'\u001b[0m\u001b[1;33m)\u001b[0m\u001b[1;33m\u001b[0m\u001b[1;33m\u001b[0m\u001b[0m\n\u001b[0m",
      "\u001b[1;32mD:\\Anaconda3\\lib\\site-packages\\pandas\\core\\generic.py\u001b[0m in \u001b[0;36mto_csv\u001b[1;34m(self, path_or_buf, sep, na_rep, float_format, columns, header, index, index_label, mode, encoding, compression, quoting, quotechar, line_terminator, chunksize, date_format, doublequote, escapechar, decimal)\u001b[0m\n\u001b[0;32m   3226\u001b[0m             \u001b[0mdecimal\u001b[0m\u001b[1;33m=\u001b[0m\u001b[0mdecimal\u001b[0m\u001b[1;33m,\u001b[0m\u001b[1;33m\u001b[0m\u001b[1;33m\u001b[0m\u001b[0m\n\u001b[0;32m   3227\u001b[0m         )\n\u001b[1;32m-> 3228\u001b[1;33m         \u001b[0mformatter\u001b[0m\u001b[1;33m.\u001b[0m\u001b[0msave\u001b[0m\u001b[1;33m(\u001b[0m\u001b[1;33m)\u001b[0m\u001b[1;33m\u001b[0m\u001b[1;33m\u001b[0m\u001b[0m\n\u001b[0m\u001b[0;32m   3229\u001b[0m \u001b[1;33m\u001b[0m\u001b[0m\n\u001b[0;32m   3230\u001b[0m         \u001b[1;32mif\u001b[0m \u001b[0mpath_or_buf\u001b[0m \u001b[1;32mis\u001b[0m \u001b[1;32mNone\u001b[0m\u001b[1;33m:\u001b[0m\u001b[1;33m\u001b[0m\u001b[1;33m\u001b[0m\u001b[0m\n",
      "\u001b[1;32mD:\\Anaconda3\\lib\\site-packages\\pandas\\io\\formats\\csvs.py\u001b[0m in \u001b[0;36msave\u001b[1;34m(self)\u001b[0m\n\u001b[0;32m    181\u001b[0m                 \u001b[0mself\u001b[0m\u001b[1;33m.\u001b[0m\u001b[0mmode\u001b[0m\u001b[1;33m,\u001b[0m\u001b[1;33m\u001b[0m\u001b[1;33m\u001b[0m\u001b[0m\n\u001b[0;32m    182\u001b[0m                 \u001b[0mencoding\u001b[0m\u001b[1;33m=\u001b[0m\u001b[0mself\u001b[0m\u001b[1;33m.\u001b[0m\u001b[0mencoding\u001b[0m\u001b[1;33m,\u001b[0m\u001b[1;33m\u001b[0m\u001b[1;33m\u001b[0m\u001b[0m\n\u001b[1;32m--> 183\u001b[1;33m                 \u001b[0mcompression\u001b[0m\u001b[1;33m=\u001b[0m\u001b[0mself\u001b[0m\u001b[1;33m.\u001b[0m\u001b[0mcompression\u001b[0m\u001b[1;33m,\u001b[0m\u001b[1;33m\u001b[0m\u001b[1;33m\u001b[0m\u001b[0m\n\u001b[0m\u001b[0;32m    184\u001b[0m             )\n\u001b[0;32m    185\u001b[0m             \u001b[0mclose\u001b[0m \u001b[1;33m=\u001b[0m \u001b[1;32mTrue\u001b[0m\u001b[1;33m\u001b[0m\u001b[1;33m\u001b[0m\u001b[0m\n",
      "\u001b[1;32mD:\\Anaconda3\\lib\\site-packages\\pandas\\io\\common.py\u001b[0m in \u001b[0;36m_get_handle\u001b[1;34m(path_or_buf, mode, encoding, compression, memory_map, is_text)\u001b[0m\n\u001b[0;32m    397\u001b[0m         \u001b[1;32mif\u001b[0m \u001b[0mencoding\u001b[0m\u001b[1;33m:\u001b[0m\u001b[1;33m\u001b[0m\u001b[1;33m\u001b[0m\u001b[0m\n\u001b[0;32m    398\u001b[0m             \u001b[1;31m# Encoding\u001b[0m\u001b[1;33m\u001b[0m\u001b[1;33m\u001b[0m\u001b[1;33m\u001b[0m\u001b[0m\n\u001b[1;32m--> 399\u001b[1;33m             \u001b[0mf\u001b[0m \u001b[1;33m=\u001b[0m \u001b[0mopen\u001b[0m\u001b[1;33m(\u001b[0m\u001b[0mpath_or_buf\u001b[0m\u001b[1;33m,\u001b[0m \u001b[0mmode\u001b[0m\u001b[1;33m,\u001b[0m \u001b[0mencoding\u001b[0m\u001b[1;33m=\u001b[0m\u001b[0mencoding\u001b[0m\u001b[1;33m,\u001b[0m \u001b[0mnewline\u001b[0m\u001b[1;33m=\u001b[0m\u001b[1;34m\"\"\u001b[0m\u001b[1;33m)\u001b[0m\u001b[1;33m\u001b[0m\u001b[1;33m\u001b[0m\u001b[0m\n\u001b[0m\u001b[0;32m    400\u001b[0m         \u001b[1;32melif\u001b[0m \u001b[0mis_text\u001b[0m\u001b[1;33m:\u001b[0m\u001b[1;33m\u001b[0m\u001b[1;33m\u001b[0m\u001b[0m\n\u001b[0;32m    401\u001b[0m             \u001b[1;31m# No explicit encoding\u001b[0m\u001b[1;33m\u001b[0m\u001b[1;33m\u001b[0m\u001b[1;33m\u001b[0m\u001b[0m\n",
      "\u001b[1;31mPermissionError\u001b[0m: [Errno 13] Permission denied: 'D:\\\\PycharmProjects\\\\Rosu_Beijing_renmin_hospital/data/processed_data/df_2.1.8.2计算开药总剂量.csv'"
     ]
    }
   ],
   "source": [
    "df_drug_resuvatin.to_csv(project_path+'/data/processed_data/df_2.1.8.2计算开药总剂量.csv')"
   ]
  },
  {
   "cell_type": "markdown",
   "metadata": {},
   "source": [
    "#### 计算人民医院医嘱结束时间"
   ]
  },
  {
   "cell_type": "code",
   "execution_count": 49,
   "metadata": {},
   "outputs": [
    {
     "data": {
      "text/plain": [
       "'\\n人民：医嘱停止时间 = 医嘱开始时间 + 用药时长\\n'"
      ]
     },
     "execution_count": 49,
     "metadata": {},
     "output_type": "execute_result"
    }
   ],
   "source": [
    "'''\n",
    "人民：医嘱停止时间 = 医嘱开始时间 + 用药时长\n",
    "'''"
   ]
  },
  {
   "cell_type": "code",
   "execution_count": 50,
   "metadata": {},
   "outputs": [],
   "source": [
    "df_drug_resuvatin = df_drug_resuvatin.reset_index(drop=True)\n",
    "for i in range(df_drug_resuvatin.shape[0]):\n",
    "    # 计算人民医院：用药时长\n",
    "    if df_drug_resuvatin.loc[i,'data_source'] == '人民医院':\n",
    "        d = round(df_drug_resuvatin.loc[i,'开药总剂量']/df_drug_resuvatin.loc[i,'日剂量'],0)\n",
    "        df_drug_resuvatin.loc[i,'用药时长']= d\n",
    "        df_drug_resuvatin.loc[i,'医嘱停止时间'] = pd.to_datetime(df_drug_resuvatin.loc[i,'医嘱开始时间']) + datetime.timedelta(days=d)"
   ]
  },
  {
   "cell_type": "code",
   "execution_count": 51,
   "metadata": {},
   "outputs": [
    {
     "data": {
      "text/plain": [
       "(54471, 17)"
      ]
     },
     "execution_count": 51,
     "metadata": {},
     "output_type": "execute_result"
    }
   ],
   "source": [
    "df_drug_resuvatin.shape"
   ]
  },
  {
   "cell_type": "code",
   "execution_count": 52,
   "metadata": {},
   "outputs": [],
   "source": [
    "df_drug_resuvatin.to_csv(project_path+'/data/processed_data/df_2.1.8.3_计算人民医院_医嘱结束时间.csv')"
   ]
  },
  {
   "cell_type": "markdown",
   "metadata": {},
   "source": [
    "## 诊断数据预处理"
   ]
  },
  {
   "cell_type": "markdown",
   "metadata": {},
   "source": [
    "### 人民医院"
   ]
  },
  {
   "cell_type": "code",
   "execution_count": 8,
   "metadata": {
    "code_folding": []
   },
   "outputs": [],
   "source": [
    "# 人民医院--诊断数据\n",
    "df_diagnose_1 = pd.read_excel(r'./data/raw_data/人民医院/3-诊断.xlsx')\n",
    "df_diagnose_supplement = pd.read_excel(r'./data/raw_data/人民医院/诊断-补.xlsx')\n",
    "\n",
    "df_diagnose_1 = pd.concat([df_diagnose_1, df_diagnose_supplement],axis=0).drop_duplicates(subset=df_diagnose_1.columns, keep='first')"
   ]
  },
  {
   "cell_type": "code",
   "execution_count": 9,
   "metadata": {},
   "outputs": [
    {
     "data": {
      "text/plain": [
       "(1005384, 8)"
      ]
     },
     "execution_count": 9,
     "metadata": {},
     "output_type": "execute_result"
    }
   ],
   "source": [
    "df_diagnose_1.shape"
   ]
  },
  {
   "cell_type": "code",
   "execution_count": 10,
   "metadata": {},
   "outputs": [
    {
     "data": {
      "text/plain": [
       "Index(['患者编号', '当前就诊次数/命中就诊总次数', '诊断编码', '诊断名称', '诊断日期', '是否主要诊断', '诊断类别名称',\n",
       "       '数据来源'],\n",
       "      dtype='object')"
      ]
     },
     "execution_count": 10,
     "metadata": {},
     "output_type": "execute_result"
    }
   ],
   "source": [
    "df_diagnose_1.columns"
   ]
  },
  {
   "cell_type": "code",
   "execution_count": 11,
   "metadata": {},
   "outputs": [],
   "source": [
    "# 提取有效字段\n",
    "df_diagnose_1 = df_diagnose_1[['患者编号', '诊断名称', '诊断日期', '是否主要诊断', '诊断类别名称']]\n",
    "# 删除重复数据\n",
    "df_diagnose_1 = df_diagnose_1.drop_duplicates(df_diagnose_1.columns, keep='first')"
   ]
  },
  {
   "cell_type": "code",
   "execution_count": 14,
   "metadata": {},
   "outputs": [],
   "source": [
    "# 患者限定\n",
    "df_diagnose_1 = df_diagnose_1[df_diagnose_1.患者编号.isin(df_drug_resuvatin.患者编号.unique())]"
   ]
  },
  {
   "cell_type": "code",
   "execution_count": 15,
   "metadata": {},
   "outputs": [
    {
     "data": {
      "text/plain": [
       "(231391, 5)"
      ]
     },
     "execution_count": 15,
     "metadata": {},
     "output_type": "execute_result"
    }
   ],
   "source": [
    "df_diagnose_1.shape"
   ]
  },
  {
   "cell_type": "code",
   "execution_count": 16,
   "metadata": {},
   "outputs": [
    {
     "data": {
      "text/html": [
       "<div>\n",
       "<style scoped>\n",
       "    .dataframe tbody tr th:only-of-type {\n",
       "        vertical-align: middle;\n",
       "    }\n",
       "\n",
       "    .dataframe tbody tr th {\n",
       "        vertical-align: top;\n",
       "    }\n",
       "\n",
       "    .dataframe thead th {\n",
       "        text-align: right;\n",
       "    }\n",
       "</style>\n",
       "<table border=\"1\" class=\"dataframe\">\n",
       "  <thead>\n",
       "    <tr style=\"text-align: right;\">\n",
       "      <th></th>\n",
       "      <th>患者编号</th>\n",
       "      <th>诊断名称</th>\n",
       "      <th>诊断日期</th>\n",
       "      <th>是否主要诊断</th>\n",
       "      <th>诊断类别名称</th>\n",
       "    </tr>\n",
       "  </thead>\n",
       "  <tbody>\n",
       "    <tr>\n",
       "      <th>0</th>\n",
       "      <td>pat_0d9297a346707bce01f0b4637484efe9</td>\n",
       "      <td>高胆固醇血症</td>\n",
       "      <td>2019-12-31 07:54:05</td>\n",
       "      <td>否</td>\n",
       "      <td>门诊诊断</td>\n",
       "    </tr>\n",
       "    <tr>\n",
       "      <th>1</th>\n",
       "      <td>pat_0ebd83a8c3990a103016a650f84616f8</td>\n",
       "      <td>高胆固醇血症</td>\n",
       "      <td>2018-03-11 11:06:21</td>\n",
       "      <td>否</td>\n",
       "      <td>门诊诊断</td>\n",
       "    </tr>\n",
       "    <tr>\n",
       "      <th>121</th>\n",
       "      <td>pat_05eab24ef6eb4e0827cd26e1553a0f64</td>\n",
       "      <td>动脉粥样硬化并高脂血症</td>\n",
       "      <td>2018-02-06 13:20:56</td>\n",
       "      <td>是</td>\n",
       "      <td>门诊诊断</td>\n",
       "    </tr>\n",
       "    <tr>\n",
       "      <th>294</th>\n",
       "      <td>pat_04dfcad1038b64914a0cb3dbe835ae57</td>\n",
       "      <td>冠心病</td>\n",
       "      <td>2018-07-20 15:48:42</td>\n",
       "      <td>否</td>\n",
       "      <td>门诊诊断</td>\n",
       "    </tr>\n",
       "    <tr>\n",
       "      <th>295</th>\n",
       "      <td>pat_04dfcad1038b64914a0cb3dbe835ae57</td>\n",
       "      <td>高脂血症</td>\n",
       "      <td>2018-07-20 15:48:01</td>\n",
       "      <td>否</td>\n",
       "      <td>门诊诊断</td>\n",
       "    </tr>\n",
       "  </tbody>\n",
       "</table>\n",
       "</div>"
      ],
      "text/plain": [
       "                                     患者编号         诊断名称                 诊断日期  \\\n",
       "0    pat_0d9297a346707bce01f0b4637484efe9       高胆固醇血症  2019-12-31 07:54:05   \n",
       "1    pat_0ebd83a8c3990a103016a650f84616f8       高胆固醇血症  2018-03-11 11:06:21   \n",
       "121  pat_05eab24ef6eb4e0827cd26e1553a0f64  动脉粥样硬化并高脂血症  2018-02-06 13:20:56   \n",
       "294  pat_04dfcad1038b64914a0cb3dbe835ae57          冠心病  2018-07-20 15:48:42   \n",
       "295  pat_04dfcad1038b64914a0cb3dbe835ae57         高脂血症  2018-07-20 15:48:01   \n",
       "\n",
       "    是否主要诊断 诊断类别名称  \n",
       "0        否   门诊诊断  \n",
       "1        否   门诊诊断  \n",
       "121      是   门诊诊断  \n",
       "294      否   门诊诊断  \n",
       "295      否   门诊诊断  "
      ]
     },
     "execution_count": 16,
     "metadata": {},
     "output_type": "execute_result"
    }
   ],
   "source": [
    "df_diagnose_1.head()"
   ]
  },
  {
   "cell_type": "code",
   "execution_count": null,
   "metadata": {},
   "outputs": [],
   "source": [
    "df_diagnose_1.to_csv(project_path+'/data/pre_processed_raw_data/df_2.4.1_人民医院_诊断.csv')"
   ]
  },
  {
   "cell_type": "markdown",
   "metadata": {},
   "source": [
    "### 世纪坛医院"
   ]
  },
  {
   "cell_type": "code",
   "execution_count": 17,
   "metadata": {},
   "outputs": [],
   "source": [
    "# 世纪坛医院--诊断数据\n",
    "df_diagnose_2 = pd.read_excel(r'./data/raw_data/首都医科大学附属北京世纪坛医院—阿托他汀临床疗效及安全性评价的真实世界研究-住院+门诊-2018.3.23-2020.3.xlsx',\n",
    "                              sheet_name='诊断')"
   ]
  },
  {
   "cell_type": "code",
   "execution_count": 18,
   "metadata": {},
   "outputs": [
    {
     "data": {
      "text/plain": [
       "(617655, 8)"
      ]
     },
     "execution_count": 18,
     "metadata": {},
     "output_type": "execute_result"
    }
   ],
   "source": [
    "df_diagnose_2.shape"
   ]
  },
  {
   "cell_type": "code",
   "execution_count": 19,
   "metadata": {},
   "outputs": [
    {
     "data": {
      "text/plain": [
       "Index(['Unnamed: 0', 'Unnamed: 1', 'patient_SN', '就诊次数（住院）', '就诊时间（门诊）',\n",
       "       '就诊科室（门诊）', 'ICD10编码', 'ICD10名称'],\n",
       "      dtype='object')"
      ]
     },
     "execution_count": 19,
     "metadata": {},
     "output_type": "execute_result"
    }
   ],
   "source": [
    "df_diagnose_2.columns"
   ]
  },
  {
   "cell_type": "code",
   "execution_count": 20,
   "metadata": {},
   "outputs": [],
   "source": [
    "# 提取有效字段\n",
    "df_diagnose_2 = df_diagnose_2[['patient_SN','ICD10名称','就诊时间（门诊）']]\n",
    "# 删除重复数据\n",
    "df_diagnose_2 = df_diagnose_2.drop_duplicates(df_diagnose_2.columns, keep='first')"
   ]
  },
  {
   "cell_type": "code",
   "execution_count": 23,
   "metadata": {},
   "outputs": [
    {
     "data": {
      "text/plain": [
       "('患者编号', '诊断名称', '诊断日期', '是否主要诊断', '诊断类别名称')"
      ]
     },
     "execution_count": 23,
     "metadata": {},
     "output_type": "execute_result"
    }
   ],
   "source": [
    "'患者编号', '诊断名称', '诊断日期', '是否主要诊断', '诊断类别名称'"
   ]
  },
  {
   "cell_type": "code",
   "execution_count": 24,
   "metadata": {},
   "outputs": [],
   "source": [
    "df_diagnose_2.columns = ['患者编号', '诊断名称', '诊断日期']"
   ]
  },
  {
   "cell_type": "code",
   "execution_count": 25,
   "metadata": {},
   "outputs": [],
   "source": [
    "# 患者限定\n",
    "df_diagnose_2 = df_diagnose_2[df_diagnose_2.患者编号.isin(df_drug_resuvatin.患者编号.unique())]"
   ]
  },
  {
   "cell_type": "code",
   "execution_count": 26,
   "metadata": {},
   "outputs": [
    {
     "data": {
      "text/html": [
       "<div>\n",
       "<style scoped>\n",
       "    .dataframe tbody tr th:only-of-type {\n",
       "        vertical-align: middle;\n",
       "    }\n",
       "\n",
       "    .dataframe tbody tr th {\n",
       "        vertical-align: top;\n",
       "    }\n",
       "\n",
       "    .dataframe thead th {\n",
       "        text-align: right;\n",
       "    }\n",
       "</style>\n",
       "<table border=\"1\" class=\"dataframe\">\n",
       "  <thead>\n",
       "    <tr style=\"text-align: right;\">\n",
       "      <th></th>\n",
       "      <th>患者编号</th>\n",
       "      <th>诊断名称</th>\n",
       "      <th>诊断日期</th>\n",
       "    </tr>\n",
       "  </thead>\n",
       "  <tbody>\n",
       "    <tr>\n",
       "      <th>234</th>\n",
       "      <td>0020640c4052f1dae97fcf39be390e1b</td>\n",
       "      <td>I25.105</td>\n",
       "      <td>NaT</td>\n",
       "    </tr>\n",
       "  </tbody>\n",
       "</table>\n",
       "</div>"
      ],
      "text/plain": [
       "                                 患者编号     诊断名称 诊断日期\n",
       "234  0020640c4052f1dae97fcf39be390e1b  I25.105  NaT"
      ]
     },
     "execution_count": 26,
     "metadata": {},
     "output_type": "execute_result"
    }
   ],
   "source": [
    "df_diagnose_2.head(1)"
   ]
  },
  {
   "cell_type": "code",
   "execution_count": null,
   "metadata": {},
   "outputs": [],
   "source": [
    "df_diagnose_2.to_csv(project_path+'/data/pre_processed_raw_data/df_2.4.2_世纪坛_诊断.csv')"
   ]
  },
  {
   "cell_type": "code",
   "execution_count": 64,
   "metadata": {},
   "outputs": [],
   "source": [
    "df_diagnose_2=pd.read_csv(project_path+'/data/pre_processed_raw_data/df_2.4.2_世纪坛_诊断.csv')\n",
    "if 'Unnamed: 0' in df_diagnose_2.columns:\n",
    "    del df_diagnose_2['Unnamed: 0']"
   ]
  },
  {
   "cell_type": "code",
   "execution_count": 65,
   "metadata": {},
   "outputs": [
    {
     "data": {
      "text/html": [
       "<div>\n",
       "<style scoped>\n",
       "    .dataframe tbody tr th:only-of-type {\n",
       "        vertical-align: middle;\n",
       "    }\n",
       "\n",
       "    .dataframe tbody tr th {\n",
       "        vertical-align: top;\n",
       "    }\n",
       "\n",
       "    .dataframe thead th {\n",
       "        text-align: right;\n",
       "    }\n",
       "</style>\n",
       "<table border=\"1\" class=\"dataframe\">\n",
       "  <thead>\n",
       "    <tr style=\"text-align: right;\">\n",
       "      <th></th>\n",
       "      <th>患者编号</th>\n",
       "      <th>诊断名称</th>\n",
       "      <th>诊断日期</th>\n",
       "    </tr>\n",
       "  </thead>\n",
       "  <tbody>\n",
       "    <tr>\n",
       "      <th>0</th>\n",
       "      <td>0000706397b506f3ddc1a470b0e5505a</td>\n",
       "      <td>前列腺增生</td>\n",
       "      <td>2018-05-24</td>\n",
       "    </tr>\n",
       "    <tr>\n",
       "      <th>1</th>\n",
       "      <td>0000706397b506f3ddc1a470b0e5505a</td>\n",
       "      <td>高血压</td>\n",
       "      <td>2018-05-24</td>\n",
       "    </tr>\n",
       "    <tr>\n",
       "      <th>2</th>\n",
       "      <td>0000706397b506f3ddc1a470b0e5505a</td>\n",
       "      <td>高脂血症</td>\n",
       "      <td>2018-05-24</td>\n",
       "    </tr>\n",
       "    <tr>\n",
       "      <th>3</th>\n",
       "      <td>0000706397b506f3ddc1a470b0e5505a</td>\n",
       "      <td>消瘦</td>\n",
       "      <td>2018-05-24</td>\n",
       "    </tr>\n",
       "    <tr>\n",
       "      <th>4</th>\n",
       "      <td>0000706397b506f3ddc1a470b0e5505a</td>\n",
       "      <td>腹痛</td>\n",
       "      <td>2018-05-24</td>\n",
       "    </tr>\n",
       "  </tbody>\n",
       "</table>\n",
       "</div>"
      ],
      "text/plain": [
       "                               患者编号   诊断名称        诊断日期\n",
       "0  0000706397b506f3ddc1a470b0e5505a  前列腺增生  2018-05-24\n",
       "1  0000706397b506f3ddc1a470b0e5505a    高血压  2018-05-24\n",
       "2  0000706397b506f3ddc1a470b0e5505a   高脂血症  2018-05-24\n",
       "3  0000706397b506f3ddc1a470b0e5505a     消瘦  2018-05-24\n",
       "4  0000706397b506f3ddc1a470b0e5505a     腹痛  2018-05-24"
      ]
     },
     "execution_count": 65,
     "metadata": {},
     "output_type": "execute_result"
    }
   ],
   "source": [
    "df_diagnose_2.head()"
   ]
  },
  {
   "cell_type": "markdown",
   "metadata": {},
   "source": [
    "### 合并疾病诊断"
   ]
  },
  {
   "cell_type": "code",
   "execution_count": 27,
   "metadata": {},
   "outputs": [],
   "source": [
    "# 合并人民医院和世纪坛医院的疾病诊断\n",
    "df_diagnose = pd.concat([df_diagnose_1, df_diagnose_2],axis=0).reset_index(drop=True)"
   ]
  },
  {
   "cell_type": "code",
   "execution_count": 28,
   "metadata": {},
   "outputs": [],
   "source": [
    "# 患者限定\n",
    "df_diagnose = df_diagnose[df_diagnose.患者编号.isin(df_drug_resuvatin.患者编号.unique())]"
   ]
  },
  {
   "cell_type": "code",
   "execution_count": 29,
   "metadata": {},
   "outputs": [
    {
     "data": {
      "text/plain": [
       "(303522, 5)"
      ]
     },
     "execution_count": 29,
     "metadata": {},
     "output_type": "execute_result"
    }
   ],
   "source": [
    "df_diagnose.shape"
   ]
  },
  {
   "cell_type": "code",
   "execution_count": 30,
   "metadata": {},
   "outputs": [
    {
     "data": {
      "text/html": [
       "<div>\n",
       "<style scoped>\n",
       "    .dataframe tbody tr th:only-of-type {\n",
       "        vertical-align: middle;\n",
       "    }\n",
       "\n",
       "    .dataframe tbody tr th {\n",
       "        vertical-align: top;\n",
       "    }\n",
       "\n",
       "    .dataframe thead th {\n",
       "        text-align: right;\n",
       "    }\n",
       "</style>\n",
       "<table border=\"1\" class=\"dataframe\">\n",
       "  <thead>\n",
       "    <tr style=\"text-align: right;\">\n",
       "      <th></th>\n",
       "      <th>患者编号</th>\n",
       "      <th>诊断名称</th>\n",
       "      <th>诊断日期</th>\n",
       "      <th>是否主要诊断</th>\n",
       "      <th>诊断类别名称</th>\n",
       "    </tr>\n",
       "  </thead>\n",
       "  <tbody>\n",
       "    <tr>\n",
       "      <th>0</th>\n",
       "      <td>pat_0d9297a346707bce01f0b4637484efe9</td>\n",
       "      <td>高胆固醇血症</td>\n",
       "      <td>2019-12-31 07:54:05</td>\n",
       "      <td>否</td>\n",
       "      <td>门诊诊断</td>\n",
       "    </tr>\n",
       "    <tr>\n",
       "      <th>1</th>\n",
       "      <td>pat_0ebd83a8c3990a103016a650f84616f8</td>\n",
       "      <td>高胆固醇血症</td>\n",
       "      <td>2018-03-11 11:06:21</td>\n",
       "      <td>否</td>\n",
       "      <td>门诊诊断</td>\n",
       "    </tr>\n",
       "    <tr>\n",
       "      <th>2</th>\n",
       "      <td>pat_05eab24ef6eb4e0827cd26e1553a0f64</td>\n",
       "      <td>动脉粥样硬化并高脂血症</td>\n",
       "      <td>2018-02-06 13:20:56</td>\n",
       "      <td>是</td>\n",
       "      <td>门诊诊断</td>\n",
       "    </tr>\n",
       "    <tr>\n",
       "      <th>3</th>\n",
       "      <td>pat_04dfcad1038b64914a0cb3dbe835ae57</td>\n",
       "      <td>冠心病</td>\n",
       "      <td>2018-07-20 15:48:42</td>\n",
       "      <td>否</td>\n",
       "      <td>门诊诊断</td>\n",
       "    </tr>\n",
       "    <tr>\n",
       "      <th>4</th>\n",
       "      <td>pat_04dfcad1038b64914a0cb3dbe835ae57</td>\n",
       "      <td>高脂血症</td>\n",
       "      <td>2018-07-20 15:48:01</td>\n",
       "      <td>否</td>\n",
       "      <td>门诊诊断</td>\n",
       "    </tr>\n",
       "  </tbody>\n",
       "</table>\n",
       "</div>"
      ],
      "text/plain": [
       "                                   患者编号         诊断名称                 诊断日期  \\\n",
       "0  pat_0d9297a346707bce01f0b4637484efe9       高胆固醇血症  2019-12-31 07:54:05   \n",
       "1  pat_0ebd83a8c3990a103016a650f84616f8       高胆固醇血症  2018-03-11 11:06:21   \n",
       "2  pat_05eab24ef6eb4e0827cd26e1553a0f64  动脉粥样硬化并高脂血症  2018-02-06 13:20:56   \n",
       "3  pat_04dfcad1038b64914a0cb3dbe835ae57          冠心病  2018-07-20 15:48:42   \n",
       "4  pat_04dfcad1038b64914a0cb3dbe835ae57         高脂血症  2018-07-20 15:48:01   \n",
       "\n",
       "  是否主要诊断 诊断类别名称  \n",
       "0      否   门诊诊断  \n",
       "1      否   门诊诊断  \n",
       "2      是   门诊诊断  \n",
       "3      否   门诊诊断  \n",
       "4      否   门诊诊断  "
      ]
     },
     "execution_count": 30,
     "metadata": {},
     "output_type": "execute_result"
    }
   ],
   "source": [
    "df_diagnose.head()"
   ]
  },
  {
   "cell_type": "code",
   "execution_count": 31,
   "metadata": {},
   "outputs": [],
   "source": [
    "df_diagnose.to_csv(project_path+'/data/pre_processed_raw_data/df_2.4.3_诊断.csv')"
   ]
  },
  {
   "cell_type": "code",
   "execution_count": 162,
   "metadata": {},
   "outputs": [
    {
     "name": "stderr",
     "output_type": "stream",
     "text": [
      "D:\\Anaconda3\\lib\\site-packages\\IPython\\core\\interactiveshell.py:3049: DtypeWarning: Columns (4,5) have mixed types. Specify dtype option on import or set low_memory=False.\n",
      "  interactivity=interactivity, compiler=compiler, result=result)\n"
     ]
    }
   ],
   "source": [
    "df_diagnose=pd.read_csv(project_path+'/data/pre_processed_raw_data/df_2.4.3_诊断.csv')\n",
    "if 'Unnamed: 0' in df_diagnose.columns:\n",
    "    del df_diagnose['Unnamed: 0']"
   ]
  },
  {
   "cell_type": "markdown",
   "metadata": {},
   "source": [
    "## 检验数据预处理"
   ]
  },
  {
   "cell_type": "markdown",
   "metadata": {},
   "source": [
    "### 人民医院"
   ]
  },
  {
   "cell_type": "code",
   "execution_count": 32,
   "metadata": {},
   "outputs": [],
   "source": [
    "# 人民医院--检验数据\n",
    "df_check_1 = pd.read_excel(r'./data/raw_data/人民医院/检验.xlsx',\n",
    "                          header=1)"
   ]
  },
  {
   "cell_type": "code",
   "execution_count": 33,
   "metadata": {},
   "outputs": [
    {
     "data": {
      "text/plain": [
       "(359081, 15)"
      ]
     },
     "execution_count": 33,
     "metadata": {},
     "output_type": "execute_result"
    }
   ],
   "source": [
    "df_check_1.shape"
   ]
  },
  {
   "cell_type": "code",
   "execution_count": 34,
   "metadata": {},
   "outputs": [
    {
     "data": {
      "text/plain": [
       "Index(['Unnamed: 0', 'Unnamed: 1', 'Unnamed: 2', 'Unnamed: 3', 'Unnamed: 4',\n",
       "       'Unnamed: 5', 'Unnamed: 6', 'Unnamed: 7', 'Unnamed: 8', '检验子项结果正常标志',\n",
       "       '检验子项中文名', '检验子项英文名', '检验子项结果', '检验子项结果数值', '检验子项单位'],\n",
       "      dtype='object')"
      ]
     },
     "execution_count": 34,
     "metadata": {},
     "output_type": "execute_result"
    }
   ],
   "source": [
    "df_check_1.columns"
   ]
  },
  {
   "cell_type": "code",
   "execution_count": 35,
   "metadata": {},
   "outputs": [],
   "source": [
    "df_check_1.columns = ['患者编号', '当前就诊次数/命中就诊总次数', '检验单号', '检验项目名称', '采集时间', '采集时间_date',\n",
    "       '采集时间_time', '标本名称', '标本类型', '检验子项结果正常标志', '检验子项中文名', '检验子项英文名',\n",
    "       '检验子项结果', '检验子项结果数值', '检验子项单位']"
   ]
  },
  {
   "cell_type": "code",
   "execution_count": 36,
   "metadata": {},
   "outputs": [],
   "source": [
    "# 提取有效字段\n",
    "df_check_1 = df_check_1[['患者编号', '采集时间', '采集时间_date','采集时间_time', '检验子项结果正常标志', '检验子项英文名',\n",
    "                         '检验子项结果','检验子项结果数值', '检验子项单位']]\n",
    "# 修改列名\n",
    "df_check_1 = df_check_1.rename(columns={'采集时间':'检验时间',\n",
    "                                       '采集时间_date':'检验时间_date',\n",
    "                                       '采集时间_time':'检验时间_time'})"
   ]
  },
  {
   "cell_type": "code",
   "execution_count": 37,
   "metadata": {},
   "outputs": [],
   "source": [
    "# 修改项名\n",
    "df_check_1['检验子项英文名'] = df_check_1['检验子项英文名'].apply(lambda x: 'BUN' if re.match('尿素氮',str(x)) else\n",
    "                                                                       'Urea' if re.match('尿素',str(x)) else\n",
    "                                                                       'Glu' if re.match('血糖',str(x)) else\n",
    "                                                                       'TBIL' if re.match('总胆红素',str(x)) else\n",
    "                                                                       'TG' if re.match('甘油三酯',str(x)) else\n",
    "                                                                       'CK' if re.match('肌酸激酶',str(x)) else x)"
   ]
  },
  {
   "cell_type": "code",
   "execution_count": 38,
   "metadata": {},
   "outputs": [
    {
     "data": {
      "text/html": [
       "<div>\n",
       "<style scoped>\n",
       "    .dataframe tbody tr th:only-of-type {\n",
       "        vertical-align: middle;\n",
       "    }\n",
       "\n",
       "    .dataframe tbody tr th {\n",
       "        vertical-align: top;\n",
       "    }\n",
       "\n",
       "    .dataframe thead th {\n",
       "        text-align: right;\n",
       "    }\n",
       "</style>\n",
       "<table border=\"1\" class=\"dataframe\">\n",
       "  <thead>\n",
       "    <tr style=\"text-align: right;\">\n",
       "      <th></th>\n",
       "      <th>患者编号</th>\n",
       "      <th>检验时间</th>\n",
       "      <th>检验时间_date</th>\n",
       "      <th>检验时间_time</th>\n",
       "      <th>检验子项结果正常标志</th>\n",
       "      <th>检验子项英文名</th>\n",
       "      <th>检验子项结果</th>\n",
       "      <th>检验子项结果数值</th>\n",
       "      <th>检验子项单位</th>\n",
       "    </tr>\n",
       "  </thead>\n",
       "  <tbody>\n",
       "    <tr>\n",
       "      <th>0</th>\n",
       "      <td>pat_13da443c402ad02c9e9de0c5c0751eda</td>\n",
       "      <td>2018-04-06 07:11:20</td>\n",
       "      <td>2018-04-06</td>\n",
       "      <td>07:11:20</td>\n",
       "      <td>正常</td>\n",
       "      <td>Urea</td>\n",
       "      <td>4.96</td>\n",
       "      <td>4.96</td>\n",
       "      <td>mmol/L</td>\n",
       "    </tr>\n",
       "  </tbody>\n",
       "</table>\n",
       "</div>"
      ],
      "text/plain": [
       "                                   患者编号                 检验时间  检验时间_date  \\\n",
       "0  pat_13da443c402ad02c9e9de0c5c0751eda  2018-04-06 07:11:20 2018-04-06   \n",
       "\n",
       "  检验时间_time 检验子项结果正常标志 检验子项英文名 检验子项结果  检验子项结果数值  检验子项单位  \n",
       "0  07:11:20         正常    Urea   4.96      4.96  mmol/L  "
      ]
     },
     "execution_count": 38,
     "metadata": {},
     "output_type": "execute_result"
    }
   ],
   "source": [
    "df_check_1.head(1)"
   ]
  },
  {
   "cell_type": "code",
   "execution_count": 39,
   "metadata": {},
   "outputs": [],
   "source": [
    "# 删除重复数据\n",
    "df_check_1 = df_check_1.drop_duplicates(df_check_1.columns, keep='first')\n",
    "# 删除缺失值\n",
    "df_check_1 = df_check_1[df_check_1.检验时间_date.notnull()]\n",
    "df_check_1 = df_check_1[df_check_1['检验子项结果数值'].notnull() & df_check_1.检验子项英文名.notnull()]"
   ]
  },
  {
   "cell_type": "code",
   "execution_count": 40,
   "metadata": {},
   "outputs": [
    {
     "data": {
      "text/plain": [
       "(352521, 9)"
      ]
     },
     "execution_count": 40,
     "metadata": {},
     "output_type": "execute_result"
    }
   ],
   "source": [
    "df_check_1.shape"
   ]
  },
  {
   "cell_type": "code",
   "execution_count": 41,
   "metadata": {},
   "outputs": [],
   "source": [
    "#删除只有一次的检验\n",
    "df_check_1_count = df_check_1['患者编号'].value_counts().reset_index()\n",
    "df_check_1_count = df_check_1_count[df_check_1_count['患者编号']>1]\n",
    "# 提取剩余的检验\n",
    "df_check_1 = df_check_1[df_check_1.患者编号.isin(df_check_1_count['index'].unique())]"
   ]
  },
  {
   "cell_type": "code",
   "execution_count": 42,
   "metadata": {},
   "outputs": [
    {
     "data": {
      "text/plain": [
       "(352317, 9)"
      ]
     },
     "execution_count": 42,
     "metadata": {},
     "output_type": "execute_result"
    }
   ],
   "source": [
    "df_check_1.shape"
   ]
  },
  {
   "cell_type": "code",
   "execution_count": 43,
   "metadata": {},
   "outputs": [],
   "source": [
    "# 限定患者\n",
    "df_check_1 = df_check_1[df_check_1.患者编号.isin(df_drug_resuvatin.患者编号.unique())]"
   ]
  },
  {
   "cell_type": "code",
   "execution_count": 44,
   "metadata": {},
   "outputs": [
    {
     "data": {
      "text/plain": [
       "(82296, 9)"
      ]
     },
     "execution_count": 44,
     "metadata": {},
     "output_type": "execute_result"
    }
   ],
   "source": [
    "df_check_1.shape"
   ]
  },
  {
   "cell_type": "code",
   "execution_count": 45,
   "metadata": {},
   "outputs": [
    {
     "data": {
      "text/html": [
       "<div>\n",
       "<style scoped>\n",
       "    .dataframe tbody tr th:only-of-type {\n",
       "        vertical-align: middle;\n",
       "    }\n",
       "\n",
       "    .dataframe tbody tr th {\n",
       "        vertical-align: top;\n",
       "    }\n",
       "\n",
       "    .dataframe thead th {\n",
       "        text-align: right;\n",
       "    }\n",
       "</style>\n",
       "<table border=\"1\" class=\"dataframe\">\n",
       "  <thead>\n",
       "    <tr style=\"text-align: right;\">\n",
       "      <th></th>\n",
       "      <th>患者编号</th>\n",
       "      <th>检验时间</th>\n",
       "      <th>检验时间_date</th>\n",
       "      <th>检验时间_time</th>\n",
       "      <th>检验子项结果正常标志</th>\n",
       "      <th>检验子项英文名</th>\n",
       "      <th>检验子项结果</th>\n",
       "      <th>检验子项结果数值</th>\n",
       "      <th>检验子项单位</th>\n",
       "    </tr>\n",
       "  </thead>\n",
       "  <tbody>\n",
       "    <tr>\n",
       "      <th>261</th>\n",
       "      <td>pat_2bb0dfeccae4278dbf399d6428a2573d</td>\n",
       "      <td>2018-08-16 08:55:23</td>\n",
       "      <td>2018-08-16</td>\n",
       "      <td>08:55:23</td>\n",
       "      <td>正常</td>\n",
       "      <td>AST</td>\n",
       "      <td>29</td>\n",
       "      <td>29.00</td>\n",
       "      <td>U/L</td>\n",
       "    </tr>\n",
       "    <tr>\n",
       "      <th>262</th>\n",
       "      <td>pat_2bb0dfeccae4278dbf399d6428a2573d</td>\n",
       "      <td>2018-08-16 08:55:23</td>\n",
       "      <td>2018-08-16</td>\n",
       "      <td>08:55:23</td>\n",
       "      <td>正常</td>\n",
       "      <td>CK</td>\n",
       "      <td>67</td>\n",
       "      <td>67.00</td>\n",
       "      <td>U/L</td>\n",
       "    </tr>\n",
       "    <tr>\n",
       "      <th>263</th>\n",
       "      <td>pat_2bb0dfeccae4278dbf399d6428a2573d</td>\n",
       "      <td>2018-08-16 08:55:23</td>\n",
       "      <td>2018-08-16</td>\n",
       "      <td>08:55:23</td>\n",
       "      <td>正常</td>\n",
       "      <td>LDL-C</td>\n",
       "      <td>2.42</td>\n",
       "      <td>2.42</td>\n",
       "      <td>mmol/L</td>\n",
       "    </tr>\n",
       "    <tr>\n",
       "      <th>264</th>\n",
       "      <td>pat_2bb0dfeccae4278dbf399d6428a2573d</td>\n",
       "      <td>2018-08-16 08:55:23</td>\n",
       "      <td>2018-08-16</td>\n",
       "      <td>08:55:23</td>\n",
       "      <td>正常</td>\n",
       "      <td>ALT</td>\n",
       "      <td>28</td>\n",
       "      <td>28.00</td>\n",
       "      <td>U/L</td>\n",
       "    </tr>\n",
       "    <tr>\n",
       "      <th>265</th>\n",
       "      <td>pat_2bb0dfeccae4278dbf399d6428a2573d</td>\n",
       "      <td>2018-08-16 08:55:23</td>\n",
       "      <td>2018-08-16</td>\n",
       "      <td>08:55:23</td>\n",
       "      <td>正常</td>\n",
       "      <td>Urea</td>\n",
       "      <td>5.34</td>\n",
       "      <td>5.34</td>\n",
       "      <td>mmol/L</td>\n",
       "    </tr>\n",
       "  </tbody>\n",
       "</table>\n",
       "</div>"
      ],
      "text/plain": [
       "                                     患者编号                 检验时间  检验时间_date  \\\n",
       "261  pat_2bb0dfeccae4278dbf399d6428a2573d  2018-08-16 08:55:23 2018-08-16   \n",
       "262  pat_2bb0dfeccae4278dbf399d6428a2573d  2018-08-16 08:55:23 2018-08-16   \n",
       "263  pat_2bb0dfeccae4278dbf399d6428a2573d  2018-08-16 08:55:23 2018-08-16   \n",
       "264  pat_2bb0dfeccae4278dbf399d6428a2573d  2018-08-16 08:55:23 2018-08-16   \n",
       "265  pat_2bb0dfeccae4278dbf399d6428a2573d  2018-08-16 08:55:23 2018-08-16   \n",
       "\n",
       "    检验时间_time 检验子项结果正常标志 检验子项英文名 检验子项结果  检验子项结果数值  检验子项单位  \n",
       "261  08:55:23         正常     AST     29     29.00     U/L  \n",
       "262  08:55:23         正常      CK     67     67.00     U/L  \n",
       "263  08:55:23         正常   LDL-C   2.42      2.42  mmol/L  \n",
       "264  08:55:23         正常     ALT     28     28.00     U/L  \n",
       "265  08:55:23         正常    Urea   5.34      5.34  mmol/L  "
      ]
     },
     "execution_count": 45,
     "metadata": {},
     "output_type": "execute_result"
    }
   ],
   "source": [
    "df_check_1.head()"
   ]
  },
  {
   "cell_type": "code",
   "execution_count": 46,
   "metadata": {},
   "outputs": [],
   "source": [
    "# 判断是否为float类型\n",
    "def judge_float(x):\n",
    "    try:\n",
    "        a=float(x)\n",
    "        return a\n",
    "    except :\n",
    "        return np.NaN"
   ]
  },
  {
   "cell_type": "code",
   "execution_count": 47,
   "metadata": {},
   "outputs": [],
   "source": [
    "# 转置表头\n",
    "df_check_1 = df_check_1.reset_index(drop=True)\n",
    "df_check_1_T = pd.DataFrame()\n",
    "count = 0\n",
    "for i in df_check_1.患者编号.unique():\n",
    "    count += 1\n",
    "    # 同一个病人ID的相同检验项\n",
    "    temp = df_check_1[df_check_1['患者编号']== i].sort_values(['检验时间'],ascending=True)\n",
    "    temp = temp.drop_duplicates(subset=['患者编号','检验时间_date','检验子项英文名'],keep='last').reset_index(drop=True)\n",
    "    ## 检验项转置为表头\n",
    "    if temp.shape[0]>0:\n",
    "        temp['检验子项结果']=temp['检验子项结果'].apply(judge_float)\n",
    "        temp= temp.pivot_table('检验子项结果', ['患者编号','检验时间_date'], '检验子项英文名').reset_index()\n",
    "        df_check_1_T = pd.concat([df_check_1_T,temp],axis=0)"
   ]
  },
  {
   "cell_type": "code",
   "execution_count": 48,
   "metadata": {},
   "outputs": [
    {
     "data": {
      "text/plain": [
       "(9890, 16)"
      ]
     },
     "execution_count": 48,
     "metadata": {},
     "output_type": "execute_result"
    }
   ],
   "source": [
    "df_check_1_T.shape"
   ]
  },
  {
   "cell_type": "code",
   "execution_count": 49,
   "metadata": {},
   "outputs": [
    {
     "data": {
      "text/html": [
       "<div>\n",
       "<style scoped>\n",
       "    .dataframe tbody tr th:only-of-type {\n",
       "        vertical-align: middle;\n",
       "    }\n",
       "\n",
       "    .dataframe tbody tr th {\n",
       "        vertical-align: top;\n",
       "    }\n",
       "\n",
       "    .dataframe thead th {\n",
       "        text-align: right;\n",
       "    }\n",
       "</style>\n",
       "<table border=\"1\" class=\"dataframe\">\n",
       "  <thead>\n",
       "    <tr style=\"text-align: right;\">\n",
       "      <th></th>\n",
       "      <th>患者编号</th>\n",
       "      <th>检验时间_date</th>\n",
       "      <th>ALT</th>\n",
       "      <th>AST</th>\n",
       "      <th>CHO</th>\n",
       "      <th>CK</th>\n",
       "      <th>HDL-C</th>\n",
       "      <th>LDL-C</th>\n",
       "      <th>TBIL</th>\n",
       "      <th>TG</th>\n",
       "      <th>Urea</th>\n",
       "      <th>apo-A1</th>\n",
       "      <th>apo-B</th>\n",
       "      <th>CK-MB</th>\n",
       "      <th>BUN</th>\n",
       "      <th>Glu</th>\n",
       "    </tr>\n",
       "  </thead>\n",
       "  <tbody>\n",
       "    <tr>\n",
       "      <th>0</th>\n",
       "      <td>pat_2bb0dfeccae4278dbf399d6428a2573d</td>\n",
       "      <td>2018-08-16</td>\n",
       "      <td>28.0</td>\n",
       "      <td>29.0</td>\n",
       "      <td>3.87</td>\n",
       "      <td>67.0</td>\n",
       "      <td>1.10</td>\n",
       "      <td>2.42</td>\n",
       "      <td>8.5</td>\n",
       "      <td>2.89</td>\n",
       "      <td>5.34</td>\n",
       "      <td>119.5</td>\n",
       "      <td>86.4</td>\n",
       "      <td>NaN</td>\n",
       "      <td>NaN</td>\n",
       "      <td>NaN</td>\n",
       "    </tr>\n",
       "    <tr>\n",
       "      <th>1</th>\n",
       "      <td>pat_2bb0dfeccae4278dbf399d6428a2573d</td>\n",
       "      <td>2019-04-10</td>\n",
       "      <td>17.0</td>\n",
       "      <td>16.0</td>\n",
       "      <td>2.82</td>\n",
       "      <td>72.0</td>\n",
       "      <td>0.95</td>\n",
       "      <td>1.43</td>\n",
       "      <td>6.4</td>\n",
       "      <td>1.78</td>\n",
       "      <td>6.21</td>\n",
       "      <td>112.9</td>\n",
       "      <td>60.7</td>\n",
       "      <td>NaN</td>\n",
       "      <td>NaN</td>\n",
       "      <td>NaN</td>\n",
       "    </tr>\n",
       "    <tr>\n",
       "      <th>2</th>\n",
       "      <td>pat_2bb0dfeccae4278dbf399d6428a2573d</td>\n",
       "      <td>2019-11-06</td>\n",
       "      <td>15.0</td>\n",
       "      <td>14.0</td>\n",
       "      <td>3.19</td>\n",
       "      <td>57.0</td>\n",
       "      <td>1.06</td>\n",
       "      <td>1.78</td>\n",
       "      <td>8.8</td>\n",
       "      <td>2.56</td>\n",
       "      <td>4.32</td>\n",
       "      <td>117.5</td>\n",
       "      <td>66.8</td>\n",
       "      <td>NaN</td>\n",
       "      <td>NaN</td>\n",
       "      <td>NaN</td>\n",
       "    </tr>\n",
       "    <tr>\n",
       "      <th>0</th>\n",
       "      <td>pat_043aba443d80d048105d8903d2034364</td>\n",
       "      <td>2018-06-05</td>\n",
       "      <td>30.0</td>\n",
       "      <td>29.0</td>\n",
       "      <td>4.78</td>\n",
       "      <td>114.0</td>\n",
       "      <td>1.30</td>\n",
       "      <td>3.28</td>\n",
       "      <td>14.8</td>\n",
       "      <td>1.48</td>\n",
       "      <td>6.67</td>\n",
       "      <td>NaN</td>\n",
       "      <td>NaN</td>\n",
       "      <td>NaN</td>\n",
       "      <td>NaN</td>\n",
       "      <td>NaN</td>\n",
       "    </tr>\n",
       "    <tr>\n",
       "      <th>0</th>\n",
       "      <td>pat_272f3f5730bfc5a361c461b4fde1dbb8</td>\n",
       "      <td>2018-08-15</td>\n",
       "      <td>16.0</td>\n",
       "      <td>24.0</td>\n",
       "      <td>4.25</td>\n",
       "      <td>133.0</td>\n",
       "      <td>1.24</td>\n",
       "      <td>2.22</td>\n",
       "      <td>11.8</td>\n",
       "      <td>1.15</td>\n",
       "      <td>8.29</td>\n",
       "      <td>125.7</td>\n",
       "      <td>79.2</td>\n",
       "      <td>NaN</td>\n",
       "      <td>NaN</td>\n",
       "      <td>NaN</td>\n",
       "    </tr>\n",
       "  </tbody>\n",
       "</table>\n",
       "</div>"
      ],
      "text/plain": [
       "                                   患者编号  检验时间_date   ALT   AST   CHO     CK  \\\n",
       "0  pat_2bb0dfeccae4278dbf399d6428a2573d 2018-08-16  28.0  29.0  3.87   67.0   \n",
       "1  pat_2bb0dfeccae4278dbf399d6428a2573d 2019-04-10  17.0  16.0  2.82   72.0   \n",
       "2  pat_2bb0dfeccae4278dbf399d6428a2573d 2019-11-06  15.0  14.0  3.19   57.0   \n",
       "0  pat_043aba443d80d048105d8903d2034364 2018-06-05  30.0  29.0  4.78  114.0   \n",
       "0  pat_272f3f5730bfc5a361c461b4fde1dbb8 2018-08-15  16.0  24.0  4.25  133.0   \n",
       "\n",
       "   HDL-C  LDL-C  TBIL    TG  Urea  apo-A1  apo-B  CK-MB  BUN  Glu  \n",
       "0   1.10   2.42   8.5  2.89  5.34   119.5   86.4    NaN  NaN  NaN  \n",
       "1   0.95   1.43   6.4  1.78  6.21   112.9   60.7    NaN  NaN  NaN  \n",
       "2   1.06   1.78   8.8  2.56  4.32   117.5   66.8    NaN  NaN  NaN  \n",
       "0   1.30   3.28  14.8  1.48  6.67     NaN    NaN    NaN  NaN  NaN  \n",
       "0   1.24   2.22  11.8  1.15  8.29   125.7   79.2    NaN  NaN  NaN  "
      ]
     },
     "execution_count": 49,
     "metadata": {},
     "output_type": "execute_result"
    }
   ],
   "source": [
    "df_check_1_T.head()"
   ]
  },
  {
   "cell_type": "code",
   "execution_count": null,
   "metadata": {},
   "outputs": [],
   "source": [
    "df_check_1_T.to_csv(project_path+'/data/pre_processed_raw_data/df_2.5.1_人民_检验.csv')"
   ]
  },
  {
   "cell_type": "code",
   "execution_count": 8,
   "metadata": {},
   "outputs": [],
   "source": [
    "df_check_1_T=pd.read_csv(project_path+'/data/pre_processed_raw_data/df_2.5.1_人民_检验.csv')\n",
    "if 'Unnamed: 0' in df_check_1_T.columns:\n",
    "    del df_check_1_T['Unnamed: 0']"
   ]
  },
  {
   "cell_type": "markdown",
   "metadata": {},
   "source": [
    "### 世纪坛医院"
   ]
  },
  {
   "cell_type": "code",
   "execution_count": 50,
   "metadata": {},
   "outputs": [],
   "source": [
    "# 世纪坛医院--检验数据\n",
    "df_check_2 = pd.read_excel(r'./data/raw_data/首都医科大学附属北京世纪坛医院—阿托他汀临床疗效及安全性评价的真实世界研究-住院+门诊-2018.3.23-2020.3.xlsx',\n",
    "                           sheet_name='检验')\n",
    "df_check_2 = df_check_2[:-2]\n",
    "df_check_2 = df_check_2.dropna(how='all',axis=1)"
   ]
  },
  {
   "cell_type": "code",
   "execution_count": 51,
   "metadata": {},
   "outputs": [
    {
     "data": {
      "text/plain": [
       "(36126, 45)"
      ]
     },
     "execution_count": 51,
     "metadata": {},
     "output_type": "execute_result"
    }
   ],
   "source": [
    "df_check_2.shape"
   ]
  },
  {
   "cell_type": "code",
   "execution_count": 52,
   "metadata": {},
   "outputs": [
    {
     "data": {
      "text/plain": [
       "Index(['Unnamed: 0', 'Unnamed: 1', 'patient_SN', '就诊次数（住院）', '就诊时间（门诊）',\n",
       "       '就诊科室（门诊）', '检验时间', '总胆固醇(TC)-静脉血', '天门冬氨酸氨基转移酶(AST)-静脉血',\n",
       "       '丙氨酸氨基转移酶(ALT)-静脉血', '总胆红素(TBIL)-静脉血', '肌酐(Crea)-静脉血', '甘油三酯(TG)-静脉血',\n",
       "       '尿素(Urea)-静脉血(空腹)', '尿素(Urea)-静脉血(空腹)-定性', '尿素(Urea)-静脉血',\n",
       "       '肌酸激酶(CK)-静脉血(空腹)', '肌酸激酶(CK)-静脉血', '肌酸激酶(CK)-静脉血-定性', '葡萄糖(Glu)-末梢血',\n",
       "       '葡萄糖(Glu)-静脉血(2小时)', '甘油三酯(TG)-静脉血(空腹)', '甘油三酯(TG)-静脉血(空腹)-定性',\n",
       "       '甘油三酯(TG)-静脉血-定性', '总胆固醇(TC)-静脉血(空腹)', '总胆固醇(TC)-静脉血(空腹)-定性',\n",
       "       '载脂蛋白B(apoB)-静脉血(空腹)', '载脂蛋白AI(apoAI)-静脉血(空腹)',\n",
       "       '载脂蛋白B(apoB)-静脉血(空腹)-定性', '高密度脂蛋白胆固醇(HDL-C)-静脉血(空腹)',\n",
       "       '低密度脂蛋白胆固醇(LDL-C)-静脉血(空腹)', '低密度脂蛋白胆固醇(LDL-C)-静脉血',\n",
       "       '高密度脂蛋白胆固醇(HDL-C)-静脉血', '载脂蛋白AI(apoAI)-静脉血', '载脂蛋白B(apoB)-静脉血',\n",
       "       '脂蛋白a(LPa)-静脉血', '脂蛋白a(LPa)-静脉血-定性', '尿蛋白定性-24小时尿液-定性', '微量总蛋白-24小时尿液',\n",
       "       '总蛋白(TP)-尿液-定性', '总蛋白(TP)-尿液', '微量白蛋白(mAlb)-尿液', '葡萄糖(Glu)-尿液-定性',\n",
       "       '肌酸激酶(CK)-静脉血(空腹)-定性', 'Unnamed: 67'],\n",
       "      dtype='object')"
      ]
     },
     "execution_count": 52,
     "metadata": {},
     "output_type": "execute_result"
    }
   ],
   "source": [
    "df_check_2.columns"
   ]
  },
  {
   "cell_type": "code",
   "execution_count": 53,
   "metadata": {},
   "outputs": [],
   "source": [
    "# 删除无效列\n",
    "df_check_2 = df_check_2.drop(['Unnamed: 0', 'Unnamed: 1', 'Unnamed: 67','就诊次数（住院）',\n",
    "                              '就诊时间（门诊）', '就诊科室（门诊）'],axis=1)\n",
    "# 删除定性列\n",
    "q_list = [i for i in df_check_2.columns if '定性' in i]\n",
    "df_check_2 = df_check_2.drop(q_list,axis=1)\n",
    "# 修改列名\n",
    "df_check_2 = df_check_2.rename(columns={'patient_SN':'患者编号',\n",
    "                                       '检验时间':'检验时间_date'})\n",
    "df_check_2['检验时间_date'] = df_check_2['检验时间_date'].apply(lambda x: str(x).split(' ')[0])"
   ]
  },
  {
   "cell_type": "code",
   "execution_count": 54,
   "metadata": {},
   "outputs": [],
   "source": [
    "# 删除重复列\n",
    "df_check_2 = df_check_2.drop_duplicates(df_check_2.columns, keep='first')\n",
    "# 删除只有一次的检验\n",
    "df_check_2_count = df_check_2['患者编号'].value_counts().reset_index()\n",
    "df_check_2_count = df_check_2_count[df_check_2_count['患者编号']>1]\n",
    "# 提取剩余的检验\n",
    "df_check_2 = df_check_2[df_check_2.患者编号.isin(df_check_2_count['index'].unique())]"
   ]
  },
  {
   "cell_type": "code",
   "execution_count": 55,
   "metadata": {},
   "outputs": [
    {
     "data": {
      "text/plain": [
       "(32715, 28)"
      ]
     },
     "execution_count": 55,
     "metadata": {},
     "output_type": "execute_result"
    }
   ],
   "source": [
    "df_check_2.shape"
   ]
  },
  {
   "cell_type": "code",
   "execution_count": 56,
   "metadata": {},
   "outputs": [
    {
     "data": {
      "text/html": [
       "<div>\n",
       "<style scoped>\n",
       "    .dataframe tbody tr th:only-of-type {\n",
       "        vertical-align: middle;\n",
       "    }\n",
       "\n",
       "    .dataframe tbody tr th {\n",
       "        vertical-align: top;\n",
       "    }\n",
       "\n",
       "    .dataframe thead th {\n",
       "        text-align: right;\n",
       "    }\n",
       "</style>\n",
       "<table border=\"1\" class=\"dataframe\">\n",
       "  <thead>\n",
       "    <tr style=\"text-align: right;\">\n",
       "      <th></th>\n",
       "      <th>患者编号</th>\n",
       "      <th>检验时间_date</th>\n",
       "      <th>总胆固醇(TC)-静脉血</th>\n",
       "      <th>天门冬氨酸氨基转移酶(AST)-静脉血</th>\n",
       "      <th>丙氨酸氨基转移酶(ALT)-静脉血</th>\n",
       "      <th>总胆红素(TBIL)-静脉血</th>\n",
       "      <th>肌酐(Crea)-静脉血</th>\n",
       "      <th>甘油三酯(TG)-静脉血</th>\n",
       "      <th>尿素(Urea)-静脉血(空腹)</th>\n",
       "      <th>尿素(Urea)-静脉血</th>\n",
       "      <th>...</th>\n",
       "      <th>高密度脂蛋白胆固醇(HDL-C)-静脉血(空腹)</th>\n",
       "      <th>低密度脂蛋白胆固醇(LDL-C)-静脉血(空腹)</th>\n",
       "      <th>低密度脂蛋白胆固醇(LDL-C)-静脉血</th>\n",
       "      <th>高密度脂蛋白胆固醇(HDL-C)-静脉血</th>\n",
       "      <th>载脂蛋白AI(apoAI)-静脉血</th>\n",
       "      <th>载脂蛋白B(apoB)-静脉血</th>\n",
       "      <th>脂蛋白a(LPa)-静脉血</th>\n",
       "      <th>微量总蛋白-24小时尿液</th>\n",
       "      <th>总蛋白(TP)-尿液</th>\n",
       "      <th>微量白蛋白(mAlb)-尿液</th>\n",
       "    </tr>\n",
       "  </thead>\n",
       "  <tbody>\n",
       "    <tr>\n",
       "      <th>2</th>\n",
       "      <td>0006b9e1f7ff71744d8162c0c71b2a95</td>\n",
       "      <td>2018-03-18</td>\n",
       "      <td>NaN</td>\n",
       "      <td>NaN</td>\n",
       "      <td>NaN</td>\n",
       "      <td>NaN</td>\n",
       "      <td>NaN</td>\n",
       "      <td>NaN</td>\n",
       "      <td>NaN</td>\n",
       "      <td>NaN</td>\n",
       "      <td>...</td>\n",
       "      <td>NaN</td>\n",
       "      <td>NaN</td>\n",
       "      <td>NaN</td>\n",
       "      <td>NaN</td>\n",
       "      <td>NaN</td>\n",
       "      <td>NaN</td>\n",
       "      <td>NaN</td>\n",
       "      <td>NaN</td>\n",
       "      <td>NaN</td>\n",
       "      <td>NaN</td>\n",
       "    </tr>\n",
       "    <tr>\n",
       "      <th>3</th>\n",
       "      <td>0006b9e1f7ff71744d8162c0c71b2a95</td>\n",
       "      <td>2018-03-18</td>\n",
       "      <td>NaN</td>\n",
       "      <td>NaN</td>\n",
       "      <td>NaN</td>\n",
       "      <td>NaN</td>\n",
       "      <td>NaN</td>\n",
       "      <td>NaN</td>\n",
       "      <td>13.41</td>\n",
       "      <td>NaN</td>\n",
       "      <td>...</td>\n",
       "      <td>1.17</td>\n",
       "      <td>1.55</td>\n",
       "      <td>NaN</td>\n",
       "      <td>NaN</td>\n",
       "      <td>NaN</td>\n",
       "      <td>NaN</td>\n",
       "      <td>NaN</td>\n",
       "      <td>NaN</td>\n",
       "      <td>NaN</td>\n",
       "      <td>NaN</td>\n",
       "    </tr>\n",
       "    <tr>\n",
       "      <th>4</th>\n",
       "      <td>0006b9e1f7ff71744d8162c0c71b2a95</td>\n",
       "      <td>2018-03-22</td>\n",
       "      <td>NaN</td>\n",
       "      <td>NaN</td>\n",
       "      <td>NaN</td>\n",
       "      <td>NaN</td>\n",
       "      <td>NaN</td>\n",
       "      <td>NaN</td>\n",
       "      <td>11.04</td>\n",
       "      <td>NaN</td>\n",
       "      <td>...</td>\n",
       "      <td>NaN</td>\n",
       "      <td>NaN</td>\n",
       "      <td>NaN</td>\n",
       "      <td>NaN</td>\n",
       "      <td>NaN</td>\n",
       "      <td>NaN</td>\n",
       "      <td>NaN</td>\n",
       "      <td>NaN</td>\n",
       "      <td>NaN</td>\n",
       "      <td>NaN</td>\n",
       "    </tr>\n",
       "    <tr>\n",
       "      <th>5</th>\n",
       "      <td>0006b9e1f7ff71744d8162c0c71b2a95</td>\n",
       "      <td>2018-03-27</td>\n",
       "      <td>NaN</td>\n",
       "      <td>NaN</td>\n",
       "      <td>NaN</td>\n",
       "      <td>NaN</td>\n",
       "      <td>NaN</td>\n",
       "      <td>NaN</td>\n",
       "      <td>9.29</td>\n",
       "      <td>NaN</td>\n",
       "      <td>...</td>\n",
       "      <td>NaN</td>\n",
       "      <td>NaN</td>\n",
       "      <td>NaN</td>\n",
       "      <td>NaN</td>\n",
       "      <td>NaN</td>\n",
       "      <td>NaN</td>\n",
       "      <td>NaN</td>\n",
       "      <td>NaN</td>\n",
       "      <td>NaN</td>\n",
       "      <td>NaN</td>\n",
       "    </tr>\n",
       "    <tr>\n",
       "      <th>6</th>\n",
       "      <td>0006b9e1f7ff71744d8162c0c71b2a95</td>\n",
       "      <td>2018-03-29</td>\n",
       "      <td>NaN</td>\n",
       "      <td>NaN</td>\n",
       "      <td>NaN</td>\n",
       "      <td>NaN</td>\n",
       "      <td>NaN</td>\n",
       "      <td>NaN</td>\n",
       "      <td>NaN</td>\n",
       "      <td>NaN</td>\n",
       "      <td>...</td>\n",
       "      <td>NaN</td>\n",
       "      <td>NaN</td>\n",
       "      <td>NaN</td>\n",
       "      <td>NaN</td>\n",
       "      <td>NaN</td>\n",
       "      <td>NaN</td>\n",
       "      <td>NaN</td>\n",
       "      <td>NaN</td>\n",
       "      <td>NaN</td>\n",
       "      <td>NaN</td>\n",
       "    </tr>\n",
       "  </tbody>\n",
       "</table>\n",
       "<p>5 rows × 28 columns</p>\n",
       "</div>"
      ],
      "text/plain": [
       "                               患者编号   检验时间_date 总胆固醇(TC)-静脉血  \\\n",
       "2  0006b9e1f7ff71744d8162c0c71b2a95  2018-03-18          NaN   \n",
       "3  0006b9e1f7ff71744d8162c0c71b2a95  2018-03-18          NaN   \n",
       "4  0006b9e1f7ff71744d8162c0c71b2a95  2018-03-22          NaN   \n",
       "5  0006b9e1f7ff71744d8162c0c71b2a95  2018-03-27          NaN   \n",
       "6  0006b9e1f7ff71744d8162c0c71b2a95  2018-03-29          NaN   \n",
       "\n",
       "  天门冬氨酸氨基转移酶(AST)-静脉血 丙氨酸氨基转移酶(ALT)-静脉血 总胆红素(TBIL)-静脉血 肌酐(Crea)-静脉血  \\\n",
       "2                 NaN               NaN            NaN          NaN   \n",
       "3                 NaN               NaN            NaN          NaN   \n",
       "4                 NaN               NaN            NaN          NaN   \n",
       "5                 NaN               NaN            NaN          NaN   \n",
       "6                 NaN               NaN            NaN          NaN   \n",
       "\n",
       "  甘油三酯(TG)-静脉血 尿素(Urea)-静脉血(空腹) 尿素(Urea)-静脉血  ... 高密度脂蛋白胆固醇(HDL-C)-静脉血(空腹)  \\\n",
       "2          NaN              NaN          NaN  ...                      NaN   \n",
       "3          NaN            13.41          NaN  ...                     1.17   \n",
       "4          NaN            11.04          NaN  ...                      NaN   \n",
       "5          NaN             9.29          NaN  ...                      NaN   \n",
       "6          NaN              NaN          NaN  ...                      NaN   \n",
       "\n",
       "  低密度脂蛋白胆固醇(LDL-C)-静脉血(空腹) 低密度脂蛋白胆固醇(LDL-C)-静脉血 高密度脂蛋白胆固醇(HDL-C)-静脉血  \\\n",
       "2                      NaN                  NaN                  NaN   \n",
       "3                     1.55                  NaN                  NaN   \n",
       "4                      NaN                  NaN                  NaN   \n",
       "5                      NaN                  NaN                  NaN   \n",
       "6                      NaN                  NaN                  NaN   \n",
       "\n",
       "  载脂蛋白AI(apoAI)-静脉血 载脂蛋白B(apoB)-静脉血 脂蛋白a(LPa)-静脉血 微量总蛋白-24小时尿液 总蛋白(TP)-尿液  \\\n",
       "2               NaN             NaN           NaN          NaN        NaN   \n",
       "3               NaN             NaN           NaN          NaN        NaN   \n",
       "4               NaN             NaN           NaN          NaN        NaN   \n",
       "5               NaN             NaN           NaN          NaN        NaN   \n",
       "6               NaN             NaN           NaN          NaN        NaN   \n",
       "\n",
       "  微量白蛋白(mAlb)-尿液  \n",
       "2            NaN  \n",
       "3            NaN  \n",
       "4            NaN  \n",
       "5            NaN  \n",
       "6            NaN  \n",
       "\n",
       "[5 rows x 28 columns]"
      ]
     },
     "execution_count": 56,
     "metadata": {},
     "output_type": "execute_result"
    }
   ],
   "source": [
    "df_check_2.head()"
   ]
  },
  {
   "cell_type": "code",
   "execution_count": null,
   "metadata": {},
   "outputs": [],
   "source": [
    "df_check_2.to_csv(project_path+'/data/pre_processed_raw_data/df_2.5.2_世纪坛_检验.csv')"
   ]
  },
  {
   "cell_type": "code",
   "execution_count": 9,
   "metadata": {},
   "outputs": [],
   "source": [
    "df_check_2=pd.read_csv(project_path+'/data/pre_processed_raw_data/df_2.5.2_世纪坛_检验.csv')\n",
    "if 'Unnamed: 0' in df_check_2.columns:\n",
    "    del df_check_2['Unnamed: 0']"
   ]
  },
  {
   "cell_type": "markdown",
   "metadata": {},
   "source": [
    "# 数据处理"
   ]
  },
  {
   "cell_type": "code",
   "execution_count": 14,
   "metadata": {},
   "outputs": [
    {
     "data": {
      "text/plain": [
       "'\\n人口统计学特征、现病史和既往病史、药物使用情况、临床症状／体征、实验室检查和功能检查、患者治疗满意度\\n'"
      ]
     },
     "execution_count": 14,
     "metadata": {},
     "output_type": "execute_result"
    }
   ],
   "source": [
    "'''\n",
    "人口统计学特征、现病史和既往病史、药物使用情况、临床症状／体征、实验室检查和功能检查、患者治疗满意度\n",
    "'''"
   ]
  },
  {
   "cell_type": "code",
   "execution_count": 277,
   "metadata": {},
   "outputs": [],
   "source": [
    "df_drug_resuvatin = pd.read_csv(project_path+'/data/processed_data/df_2.1.8.3_计算人民医院_医嘱结束时间.csv')\n",
    "if 'Unnamed: 0' in df_drug_resuvatin.columns:\n",
    "    del df_drug_resuvatin['Unnamed: 0']"
   ]
  },
  {
   "cell_type": "code",
   "execution_count": 278,
   "metadata": {},
   "outputs": [
    {
     "data": {
      "text/plain": [
       "(54471, 17)"
      ]
     },
     "execution_count": 278,
     "metadata": {},
     "output_type": "execute_result"
    }
   ],
   "source": [
    "df_drug_resuvatin.shape"
   ]
  },
  {
   "cell_type": "code",
   "execution_count": 181,
   "metadata": {},
   "outputs": [
    {
     "data": {
      "text/plain": [
       "Index(['data_source', '患者编号', '药物通用名称', '医嘱开始时间', '医嘱停止时间', '药物规格', '药物剂量',\n",
       "       '药物剂量单位名称', '频率名称', '开药总数量', '开药总数量单位名称', '药物剂型', '用药时长',\n",
       "       'resuvatin_brand', '日剂量', '医嘱开始日期', '开药总剂量'],\n",
       "      dtype='object')"
      ]
     },
     "execution_count": 181,
     "metadata": {},
     "output_type": "execute_result"
    }
   ],
   "source": [
    "df_drug_resuvatin.columns"
   ]
  },
  {
   "cell_type": "code",
   "execution_count": null,
   "metadata": {},
   "outputs": [],
   "source": [
    "# ## 统计人数\n",
    "\n",
    "# '''\n",
    "# 政策前后只用京新或可定的人数，2019.3.22\n",
    "# '''\n",
    "\n",
    "# # 政策前后标签,0--政策前；1--政策后\n",
    "# df_drug_resuvatin['strategy_label']=df_drug_resuvatin.医嘱开始时间.apply(lambda x: 0 if pd.to_datetime(x)<=pd.to_datetime('2019-03-22') else 1)\n",
    "\n",
    "# # 提取政策前后数据\n",
    "# df_drug_resuvatin_before=df_drug_resuvatin[df_drug_resuvatin['strategy_label']==0]\n",
    "# df_drug_resuvatin_after=df_drug_resuvatin[df_drug_resuvatin['strategy_label']==1]\n",
    "\n",
    "# print(df_drug_resuvatin_before.shape)\n",
    "# print(df_drug_resuvatin_after.shape)\n",
    "\n",
    "# # 只用一种药\n",
    "# temp_list=[]\n",
    "# for i in df_drug_resuvatin_before.患者编号.unique():\n",
    "#     temp=df_drug_resuvatin_before[df_drug_resuvatin_before['患者编号']==i]\n",
    "#     if temp.resuvatin_brand.nunique()==1:\n",
    "#         temp_list.append(temp)\n",
    "# df_drug_resuvatin_before=pd.concat(temp_list,axis=0)\n",
    "# del temp_list\n",
    "\n",
    "# temp_list=[]\n",
    "# for i in df_drug_resuvatin_after.患者编号.unique():\n",
    "#     temp=df_drug_resuvatin_after[df_drug_resuvatin_after['患者编号']==i]\n",
    "#     if temp.resuvatin_brand.nunique()==1:\n",
    "#         temp_list.append(temp)\n",
    "# df_drug_resuvatin_after=pd.concat(temp_list,axis=0)\n",
    "# del temp_list\n",
    "\n",
    "# print(df_drug_resuvatin_before.shape)\n",
    "# print(df_drug_resuvatin_after.shape)\n",
    "\n",
    "# df_drug_resuvatin.患者编号.nunique()\n",
    "\n",
    "# df_drug_resuvatin_before_京新=df_drug_resuvatin_before[df_drug_resuvatin_before['resuvatin_brand']=='京新']\n",
    "# df_drug_resuvatin_before_可定=df_drug_resuvatin_before[df_drug_resuvatin_before['resuvatin_brand']=='可定']\n",
    "\n",
    "# print(df_drug_resuvatin_before_京新.患者编号.nunique())\n",
    "# print(df_drug_resuvatin_before_可定.患者编号.nunique())\n",
    "\n",
    "# df_drug_resuvatin_after_京新=df_drug_resuvatin_after[df_drug_resuvatin_after['resuvatin_brand']=='京新']\n",
    "# df_drug_resuvatin_after_可定=df_drug_resuvatin_after[df_drug_resuvatin_after['resuvatin_brand']=='可定']\n",
    "\n",
    "# print(df_drug_resuvatin_after_京新.患者编号.nunique())\n",
    "# print(df_drug_resuvatin_after_可定.患者编号.nunique())"
   ]
  },
  {
   "cell_type": "markdown",
   "metadata": {},
   "source": [
    "## 其他他汀数据处理"
   ]
  },
  {
   "cell_type": "code",
   "execution_count": 96,
   "metadata": {},
   "outputs": [
    {
     "name": "stderr",
     "output_type": "stream",
     "text": [
      "D:\\Anaconda3\\lib\\site-packages\\IPython\\core\\interactiveshell.py:3049: DtypeWarning: Columns (8,11,12,13) have mixed types. Specify dtype option on import or set low_memory=False.\n",
      "  interactivity=interactivity, compiler=compiler, result=result)\n"
     ]
    }
   ],
   "source": [
    "df_drug_vatin_other=pd.read_csv(project_path + '/data/processed_data/df_2.3.4_其它他汀用药.csv')\n",
    "if 'Unnamed: 0' in df_drug_vatin_other.columns:\n",
    "    del df_drug_vatin_other['Unnamed: 0']"
   ]
  },
  {
   "cell_type": "code",
   "execution_count": 97,
   "metadata": {},
   "outputs": [
    {
     "data": {
      "text/plain": [
       "(275612, 13)"
      ]
     },
     "execution_count": 97,
     "metadata": {},
     "output_type": "execute_result"
    }
   ],
   "source": [
    "df_drug_vatin_other.shape"
   ]
  },
  {
   "cell_type": "code",
   "execution_count": 98,
   "metadata": {},
   "outputs": [
    {
     "data": {
      "text/plain": [
       "Index(['data_source', '患者编号', '药物通用名称', '医嘱开始时间', '医嘱停止时间', '药物规格', '药物剂量',\n",
       "       '药物剂量单位名称', '频率名称', '开药总数量', '开药总数量单位名称', '药物剂型', '用药时长',\n",
       "       'resuvatin_brand', '日剂量', '医嘱开始日期', '开药总剂量'],\n",
       "      dtype='object')"
      ]
     },
     "execution_count": 98,
     "metadata": {},
     "output_type": "execute_result"
    }
   ],
   "source": [
    "df_drug_resuvatin.columns"
   ]
  },
  {
   "cell_type": "code",
   "execution_count": 99,
   "metadata": {},
   "outputs": [
    {
     "data": {
      "text/plain": [
       "Index(['data_source', '患者编号', '药物通用名称', '医嘱开始时间', '医嘱停止时间', '药物规格', '药物剂量',\n",
       "       '药物剂量单位名称', '频率名称', '开药总数量', '开药总数量单位名称', '药物剂型', '用药时长'],\n",
       "      dtype='object')"
      ]
     },
     "execution_count": 99,
     "metadata": {},
     "output_type": "execute_result"
    }
   ],
   "source": [
    "df_drug_vatin_other.columns"
   ]
  },
  {
   "cell_type": "code",
   "execution_count": 100,
   "metadata": {},
   "outputs": [],
   "source": [
    "# 打标签\n",
    "df_drug_vatin_other['resuvatin_brand']='其他汀'"
   ]
  },
  {
   "cell_type": "markdown",
   "metadata": {},
   "source": [
    "### 删除重复"
   ]
  },
  {
   "cell_type": "code",
   "execution_count": 101,
   "metadata": {},
   "outputs": [
    {
     "data": {
      "text/plain": [
       "(275612, 14)"
      ]
     },
     "execution_count": 101,
     "metadata": {},
     "output_type": "execute_result"
    }
   ],
   "source": [
    "df_drug_vatin_other.shape"
   ]
  },
  {
   "cell_type": "code",
   "execution_count": 102,
   "metadata": {},
   "outputs": [],
   "source": [
    "# 同一天多次用药记录，取最后一次;\n",
    "df_drug_vatin_other['医嘱开始日期'] = df_drug_vatin_other.医嘱开始时间.apply(lambda x: str(x).split(' ')[0])\n",
    "df_drug_vatin_other = df_drug_vatin_other.sort_values(['患者编号','药物通用名称','医嘱开始时间'],ascending=True)\n",
    "df_drug_vatin_other = df_drug_vatin_other.drop_duplicates(subset=['患者编号','药物通用名称','医嘱开始日期'],keep='last')"
   ]
  },
  {
   "cell_type": "code",
   "execution_count": 103,
   "metadata": {},
   "outputs": [
    {
     "data": {
      "text/plain": [
       "(274168, 15)"
      ]
     },
     "execution_count": 103,
     "metadata": {},
     "output_type": "execute_result"
    }
   ],
   "source": [
    "df_drug_vatin_other.shape"
   ]
  },
  {
   "cell_type": "code",
   "execution_count": 104,
   "metadata": {},
   "outputs": [
    {
     "data": {
      "text/plain": [
       "Index(['data_source', '患者编号', '药物通用名称', '医嘱开始时间', '医嘱停止时间', '药物规格', '药物剂量',\n",
       "       '药物剂量单位名称', '频率名称', '开药总数量', '开药总数量单位名称', '药物剂型', '用药时长',\n",
       "       'resuvatin_brand', '医嘱开始日期'],\n",
       "      dtype='object')"
      ]
     },
     "execution_count": 104,
     "metadata": {},
     "output_type": "execute_result"
    }
   ],
   "source": [
    "df_drug_vatin_other.columns"
   ]
  },
  {
   "cell_type": "markdown",
   "metadata": {},
   "source": [
    "### 计算日剂量"
   ]
  },
  {
   "cell_type": "markdown",
   "metadata": {},
   "source": [
    "#### 转换频率"
   ]
  },
  {
   "cell_type": "code",
   "execution_count": 105,
   "metadata": {},
   "outputs": [],
   "source": [
    "# 清洗频次\n",
    "half=['QOD(8am)','QOD5 （8pm）','QOD1(12N)','QOD4 (4pm)','QON （9pm）']\n",
    "one=['QD(8am)','01 每日一次','QN每晚 (8pm)','ONCE','1/晚(10PM)','05 每晚一次','QD1(8am)','QD7(1pm)','QD6(4pm)','QD4 (5pm)','QD3(12N)',\n",
    "     'QD12(10am)']\n",
    "two=['BID(8-4)','02 每日两次','BID1 (8-4)口服','Q12H (8-8)']\n",
    "three=['TID(8-12-4)','03 每日三次']\n",
    "\n",
    "df_drug_vatin_other['频率名称']=df_drug_vatin_other['频率名称'].apply(lambda x: 0.5 if x in half else\n",
    "                                                                          1 if x in one else\n",
    "                                                                          2 if x in two else\n",
    "                                                                          3 if x in three else np.nan)"
   ]
  },
  {
   "cell_type": "code",
   "execution_count": 106,
   "metadata": {},
   "outputs": [
    {
     "data": {
      "text/plain": [
       "1.0    265641\n",
       "2.0      7591\n",
       "3.0       870\n",
       "0.5        61\n",
       "Name: 频率名称, dtype: int64"
      ]
     },
     "execution_count": 106,
     "metadata": {},
     "output_type": "execute_result"
    }
   ],
   "source": [
    "df_drug_vatin_other.频率名称.value_counts()"
   ]
  },
  {
   "cell_type": "code",
   "execution_count": 107,
   "metadata": {},
   "outputs": [],
   "source": [
    "# 删除频率为空的用药\n",
    "df_drug_vatin_other = df_drug_vatin_other[df_drug_vatin_other.频率名称.notnull()]"
   ]
  },
  {
   "cell_type": "code",
   "execution_count": 108,
   "metadata": {},
   "outputs": [
    {
     "data": {
      "text/plain": [
       "(274163, 15)"
      ]
     },
     "execution_count": 108,
     "metadata": {},
     "output_type": "execute_result"
    }
   ],
   "source": [
    "df_drug_vatin_other.shape"
   ]
  },
  {
   "cell_type": "code",
   "execution_count": 109,
   "metadata": {},
   "outputs": [],
   "source": [
    "df_drug_vatin_other.to_csv(project_path+'/data/processed_data/政策性/df_3.1.2.1_其他汀_转换频率.csv')"
   ]
  },
  {
   "cell_type": "markdown",
   "metadata": {},
   "source": [
    "#### 单次剂量处理"
   ]
  },
  {
   "cell_type": "code",
   "execution_count": 110,
   "metadata": {},
   "outputs": [
    {
     "data": {
      "text/plain": [
       "mg    163605\n",
       "片      42642\n",
       "盒        131\n",
       "胶囊        22\n",
       "g          2\n",
       "Name: 药物剂量单位名称, dtype: int64"
      ]
     },
     "execution_count": 110,
     "metadata": {},
     "output_type": "execute_result"
    }
   ],
   "source": [
    "df_drug_vatin_other.药物剂量单位名称.value_counts()"
   ]
  },
  {
   "cell_type": "code",
   "execution_count": 111,
   "metadata": {},
   "outputs": [],
   "source": [
    "# 预处理片、盒、胶囊等单位\n",
    "df_drug_vatin_other= df_drug_vatin_other.reset_index(drop=True)\n",
    "for i in range(df_drug_vatin_other.shape[0]):\n",
    "    u = df_drug_vatin_other.loc[i,'药物剂量单位名称']\n",
    "    if pd.isnull(u):\n",
    "        continue\n",
    "    # 剂量单位为g\n",
    "    if re.match('g',u):\n",
    "        if re.match('阿托伐他汀',df_drug_vatin_other.loc[i,'药物通用名称']):\n",
    "             df_drug_vatin_other.loc[i,'药物剂量']=10\n",
    "    # 剂量单位为盒\n",
    "    elif re.match('盒',u):\n",
    "        if re.match('阿托伐他汀',df_drug_vatin_other.loc[i,'药物通用名称']):\n",
    "            if df_drug_vatin_other.loc[i,'药物剂量']>=40:\n",
    "                continue\n",
    "            else:\n",
    "                df_drug_vatin_other.loc[i,'药物剂量']=20\n",
    "        elif re.match('匹伐他汀',df_drug_vatin_other.loc[i,'药物通用名称']):\n",
    "            df_drug_vatin_other.loc[i,'药物剂量']=2\n",
    "    # 剂量单位为胶囊\n",
    "    elif re.match('胶囊',u):\n",
    "        if re.match('氨氯地平阿托伐他汀',df_drug_vatin_other.loc[i,'药物通用名称']):\n",
    "            df_drug_vatin_other.loc[i,'药物剂量']=10\n",
    "        elif re.match('氟伐他汀',df_drug_vatin_other.loc[i,'药物通用名称']):\n",
    "            df_drug_vatin_other.loc[i,'药物剂量']=40\n",
    "    # 剂量单位为片\n",
    "    elif re.match('片',u):\n",
    "#         break\n",
    "        if re.match('阿托伐他汀',df_drug_vatin_other.loc[i,'药物通用名称']):\n",
    "            # 正则\n",
    "            if re.match('.*20.*', df_drug_vatin_other.loc[i,'药物规格']):\n",
    "                df_drug_vatin_other.loc[i,'药物剂量']=20*df_drug_vatin_other.loc[i,'药物剂量']\n",
    "            else:\n",
    "                df_drug_vatin_other.loc[i,'药物剂量']=10*df_drug_vatin_other.loc[i,'药物剂量']\n",
    "        elif re.match('氨氯地平阿托伐他汀钙',df_drug_vatin_other.loc[i,'药物通用名称']):\n",
    "            if df_drug_vatin_other.loc[i,'药物剂量']>=2:\n",
    "                df_drug_vatin_other.loc[i,'药物剂量']=5\n",
    "            else:\n",
    "                df_drug_vatin_other.loc[i,'药物剂量']=5*df_drug_vatin_other.loc[i,'药物剂量']\n",
    "        elif re.match('洛伐他汀',df_drug_vatin_other.loc[i,'药物通用名称']):\n",
    "            df_drug_vatin_other.loc[i,'药物剂量']=20\n",
    "        elif re.match('匹伐他汀钙',df_drug_vatin_other.loc[i,'药物通用名称']):\n",
    "            if df_drug_vatin_other.loc[i,'药物剂量']>=2:\n",
    "                df_drug_vatin_other.loc[i,'药物剂量']=2\n",
    "            else:\n",
    "                df_drug_vatin_other.loc[i,'药物剂量']=2*df_drug_vatin_other.loc[i,'药物剂量']\n",
    "#                 break\n",
    "        elif re.match('辛伐他汀',df_drug_vatin_other.loc[i,'药物通用名称']):\n",
    "            if df_drug_vatin_other.loc[i,'药物剂量']>=5:\n",
    "                df_drug_vatin_other.loc[i,'药物剂量']=40\n",
    "            else:\n",
    "                df_drug_vatin_other.loc[i,'药物剂量']=40*df_drug_vatin_other.loc[i,'药物剂量']    "
   ]
  },
  {
   "cell_type": "code",
   "execution_count": 117,
   "metadata": {},
   "outputs": [],
   "source": [
    "# 调整单次剂量的数值\n",
    "df_drug_vatin_other= df_drug_vatin_other.reset_index(drop=True)\n",
    "for i in range(df_drug_vatin_other.shape[0]):\n",
    "    n = df_drug_vatin_other.loc[i,'药物通用名称']\n",
    "    # 阿托伐他汀\n",
    "    if re.match('阿托伐他汀|阿乐片|立普妥', n):\n",
    "        if df_drug_vatin_other.loc[i,'药物剂量']<=4:\n",
    "            df_drug_vatin_other.loc[i,'药物剂量']=20*df_drug_vatin_other.loc[i,'药物剂量']\n",
    "        elif df_drug_vatin_other.loc[i,'药物剂量']>80:\n",
    "            df_drug_vatin_other.loc[i,'药物剂量']=20\n",
    "    # 氨氯地平阿托伐他汀\n",
    "    if re.match('氨氯地平阿托伐他汀钙', n):\n",
    "        if df_drug_vatin_other.loc[i,'药物剂量']<=2:\n",
    "            df_drug_vatin_other.loc[i,'药物剂量']=5*df_drug_vatin_other.loc[i,'药物剂量']\n",
    "        elif df_drug_vatin_other.loc[i,'药物剂量']>10:\n",
    "            df_drug_vatin_other.loc[i,'药物剂量']=10\n",
    "    # 匹伐他汀钙\n",
    "    if re.match('匹伐他汀', n):\n",
    "        if df_drug_vatin_other.loc[i,'药物剂量']<=0.5:\n",
    "            df_drug_vatin_other.loc[i,'药物剂量']=2*df_drug_vatin_other.loc[i,'药物剂量']\n",
    "        elif df_drug_vatin_other.loc[i,'药物剂量']>4:\n",
    "            df_drug_vatin_other.loc[i,'药物剂量']=2\n",
    "    # 辛伐他汀\n",
    "    if re.match('辛伐他汀', n):\n",
    "        if df_drug_vatin_other.loc[i,'药物剂量']>80:\n",
    "            df_drug_vatin_other.loc[i,'药物剂量']=40"
   ]
  },
  {
   "cell_type": "code",
   "execution_count": 118,
   "metadata": {},
   "outputs": [
    {
     "data": {
      "text/plain": [
       "(274163, 15)"
      ]
     },
     "execution_count": 118,
     "metadata": {},
     "output_type": "execute_result"
    }
   ],
   "source": [
    "df_drug_vatin_other.shape"
   ]
  },
  {
   "cell_type": "code",
   "execution_count": 119,
   "metadata": {},
   "outputs": [
    {
     "data": {
      "text/plain": [
       "20.00     115267\n",
       "2.00       36818\n",
       "40.00      33437\n",
       "10.00      30903\n",
       "5.00       18479\n",
       "4.00       16028\n",
       "30.00       6881\n",
       "7.50        3553\n",
       "15.00       3063\n",
       "80.00       2598\n",
       "3.00        2407\n",
       "60.00       1513\n",
       "1.00        1192\n",
       "50.00       1145\n",
       "25.00        523\n",
       "45.00        131\n",
       "70.00         75\n",
       "12.00         26\n",
       "22.00         25\n",
       "75.00         24\n",
       "11.00         17\n",
       "35.00         12\n",
       "5.50          10\n",
       "2.50           9\n",
       "100.00         8\n",
       "14.00          7\n",
       "41.00          4\n",
       "3.75           2\n",
       "28.00          2\n",
       "21.00          1\n",
       "7.00           1\n",
       "48.00          1\n",
       "1.50           1\n",
       "Name: 药物剂量, dtype: int64"
      ]
     },
     "execution_count": 119,
     "metadata": {},
     "output_type": "execute_result"
    }
   ],
   "source": [
    "df_drug_vatin_other.药物剂量.value_counts()"
   ]
  },
  {
   "cell_type": "code",
   "execution_count": 120,
   "metadata": {},
   "outputs": [],
   "source": [
    "df_drug_vatin_other.to_csv(project_path+'/data/processed_data/政策性/df_3.1.2.2_单次剂量处理.csv')"
   ]
  },
  {
   "cell_type": "markdown",
   "metadata": {},
   "source": [
    "#### 计算日剂量"
   ]
  },
  {
   "cell_type": "code",
   "execution_count": 121,
   "metadata": {},
   "outputs": [],
   "source": [
    "df_drug_vatin_other['日剂量']=df_drug_vatin_other['药物剂量'].astype('float') * df_drug_vatin_other['频率名称'].astype('float')"
   ]
  },
  {
   "cell_type": "code",
   "execution_count": 124,
   "metadata": {},
   "outputs": [],
   "source": [
    "# 调整异常值\n",
    "df_drug_vatin_other= df_drug_vatin_other.reset_index(drop=True)\n",
    "for i in range(df_drug_vatin_other.shape[0]):\n",
    "    n = df_drug_vatin_other.loc[i,'药物通用名称']\n",
    "    # 阿托伐他汀\n",
    "    if re.match('阿托伐他汀|阿乐片|立普妥', n):\n",
    "        if df_drug_vatin_other.loc[i,'日剂量']>80:\n",
    "            df_drug_vatin_other.loc[i,'日剂量']=80\n",
    "    # 氟伐他汀\n",
    "    if re.match('氟伐他汀', n):\n",
    "        if df_drug_vatin_other.loc[i,'日剂量']>100:\n",
    "            df_drug_vatin_other.loc[i,'日剂量']=100\n",
    "    # 辛伐他汀\n",
    "    if re.match('辛伐他汀', n):\n",
    "        if df_drug_vatin_other.loc[i,'日剂量']>80:\n",
    "            df_drug_vatin_other.loc[i,'日剂量']=80"
   ]
  },
  {
   "cell_type": "code",
   "execution_count": null,
   "metadata": {},
   "outputs": [],
   "source": [
    "df_drug_vatin_other.shape"
   ]
  },
  {
   "cell_type": "code",
   "execution_count": 127,
   "metadata": {},
   "outputs": [],
   "source": [
    "df_drug_vatin_other.to_csv(project_path+'/data/processed_data/政策性/df_3.1.2.3_计算其他汀日剂量.csv')"
   ]
  },
  {
   "cell_type": "markdown",
   "metadata": {},
   "source": [
    "### 计算他汀药物时长和开药总剂量"
   ]
  },
  {
   "cell_type": "markdown",
   "metadata": {},
   "source": [
    "#### 计算世纪坛--用药时长"
   ]
  },
  {
   "cell_type": "code",
   "execution_count": 130,
   "metadata": {},
   "outputs": [],
   "source": [
    "# 对于世纪坛医院用药结束时间为空的数据，将下一次开药时间作为其上一次结束时间。\n",
    "temp_list=[]\n",
    "for i in df_drug_vatin_other.患者编号.unique():\n",
    "    temp = df_drug_vatin_other[df_drug_vatin_other['患者编号']==i]\n",
    "    temp = temp.sort_values(by=['医嘱开始时间'],ascending=True).reset_index(drop=True)\n",
    "    hospital = temp.loc[0,'data_source']\n",
    "    if re.match('世纪坛医院',hospital) and (temp.shape[0]>1):\n",
    "        for j in range(temp.shape[0]):\n",
    "            # 医嘱结束时间为空\n",
    "            if pd.isnull(temp.loc[j,'医嘱停止时间']) and (j+1<temp.shape[0]):\n",
    "                # 提取下一次用药记录\n",
    "                temp_end = temp[temp['医嘱开始日期'] > temp.loc[j,'医嘱开始日期']].reset_index(drop=True)\n",
    "                if temp_end.shape[0]>0:\n",
    "                    temp.loc[j,'医嘱停止时间'] = temp_end.loc[0,'医嘱开始时间']\n",
    "    temp_list.append(temp)"
   ]
  },
  {
   "cell_type": "code",
   "execution_count": 131,
   "metadata": {},
   "outputs": [],
   "source": [
    "df_drug_vatin_other=pd.concat(temp_list,axis=0)\n",
    "del temp_list"
   ]
  },
  {
   "cell_type": "code",
   "execution_count": 132,
   "metadata": {},
   "outputs": [
    {
     "data": {
      "text/plain": [
       "(274163, 16)"
      ]
     },
     "execution_count": 132,
     "metadata": {},
     "output_type": "execute_result"
    }
   ],
   "source": [
    "df_drug_vatin_other.shape"
   ]
  },
  {
   "cell_type": "code",
   "execution_count": 134,
   "metadata": {},
   "outputs": [
    {
     "data": {
      "text/plain": [
       "Index(['data_source', '患者编号', '药物通用名称', '医嘱开始时间', '医嘱停止时间', '药物规格', '药物剂量',\n",
       "       '药物剂量单位名称', '频率名称', '开药总数量', '开药总数量单位名称', '药物剂型', '用药时长',\n",
       "       'resuvatin_brand', '医嘱开始日期', '日剂量'],\n",
       "      dtype='object')"
      ]
     },
     "execution_count": 134,
     "metadata": {},
     "output_type": "execute_result"
    }
   ],
   "source": [
    "df_drug_vatin_other.columns"
   ]
  },
  {
   "cell_type": "code",
   "execution_count": 136,
   "metadata": {},
   "outputs": [],
   "source": [
    "# 用药时长=医嘱结束时间-医嘱开始时间+1\n",
    "df_drug_vatin_other['用药时长'] = df_drug_vatin_other.apply(lambda x: (pd.to_datetime(x['医嘱停止时间'])-pd.to_datetime(x['医嘱开始时间'])).days + 1 if x['data_source']=='世纪坛医院' else np.nan,axis=1)"
   ]
  },
  {
   "cell_type": "code",
   "execution_count": 137,
   "metadata": {},
   "outputs": [
    {
     "data": {
      "text/plain": [
       "(274163, 16)"
      ]
     },
     "execution_count": 137,
     "metadata": {},
     "output_type": "execute_result"
    }
   ],
   "source": [
    "df_drug_vatin_other.shape"
   ]
  },
  {
   "cell_type": "code",
   "execution_count": 140,
   "metadata": {},
   "outputs": [],
   "source": [
    "df_drug_vatin_other.to_csv(project_path+'/data/processed_data/政策性/df_3.1.3.1_计算他汀药物_世纪坛_用药时长.csv')"
   ]
  },
  {
   "cell_type": "markdown",
   "metadata": {},
   "source": [
    "#### 计算开药总剂量"
   ]
  },
  {
   "cell_type": "code",
   "execution_count": 144,
   "metadata": {},
   "outputs": [],
   "source": [
    "# 盒--280mg；片--10mg\n",
    "df_drug_vatin_other = df_drug_vatin_other.reset_index(drop=True)\n",
    "for i in range(df_drug_vatin_other.shape[0]):\n",
    "    prescription_u = df_drug_vatin_other.loc[i,'开药总数量单位名称']\n",
    "    # 世纪坛医院：日剂量*用药时长\n",
    "    if pd.isnull(prescription_u):\n",
    "        df_drug_vatin_other.loc[i,'开药总剂量']= df_drug_vatin_other.loc[i,'用药时长'] * df_drug_vatin_other.loc[i,'日剂量']\n",
    "    # 人民医院: 盒\n",
    "    elif re.match('盒', prescription_u):\n",
    "        name = df_drug_vatin_other.loc[i,'药物通用名称']\n",
    "        # 阿托伐他汀\n",
    "        if re.match('阿托伐他汀', name):\n",
    "            # 正则\n",
    "            if re.match('.*20.*', df_drug_vatin_other.loc[i,'药物规格']):\n",
    "                df_drug_vatin_other.loc[i,'开药总剂量']= df_drug_vatin_other.loc[i,'开药总数量']*140\n",
    "            else:\n",
    "                df_drug_vatin_other.loc[i,'开药总剂量']= df_drug_vatin_other.loc[i,'开药总数量']*70\n",
    "        # 氨氯地平阿托伐他汀钙\n",
    "        elif re.match('氨氯地平', name):\n",
    "            df_drug_vatin_other.loc[i,'开药总剂量']= df_drug_vatin_other.loc[i,'开药总数量']*35\n",
    "        # 氟伐他汀\n",
    "        elif re.match('氟伐他汀', name):\n",
    "            df_drug_vatin_other.loc[i,'开药总剂量']= df_drug_vatin_other.loc[i,'开药总数量']*280\n",
    "        # 洛伐他汀\n",
    "        elif re.match('洛伐他汀', name):\n",
    "            df_drug_vatin_other.loc[i,'开药总剂量']= df_drug_vatin_other.loc[i,'开药总数量']*200\n",
    "        # 匹伐他汀钙\n",
    "        elif re.match('匹伐他汀', name):\n",
    "            df_drug_vatin_other.loc[i,'开药总剂量']= df_drug_vatin_other.loc[i,'开药总数量']*14\n",
    "        # 辛伐他汀\n",
    "        elif re.match('辛伐他汀', name):\n",
    "            df_drug_vatin_other.loc[i,'开药总剂量']= df_drug_vatin_other.loc[i,'开药总数量']*200\n",
    "    # 人民医院: 胶囊\n",
    "    elif re.match('胶囊', prescription_u):\n",
    "        df_drug_vatin_other.loc[i,'开药总剂量']= df_drug_vatin_other.loc[i,'开药总数量']*40\n",
    "    # 人民医院：片\n",
    "    elif re.match('片', prescription_u):\n",
    "        name = df_drug_vatin_other.loc[i,'药物通用名称']\n",
    "        # 阿托伐他汀\n",
    "        if re.match('阿托伐他汀', name):\n",
    "            # 正则\n",
    "            if re.match('.*20.*', df_drug_vatin_other.loc[i,'药物规格']):\n",
    "                df_drug_vatin_other.loc[i,'开药总剂量']= df_drug_vatin_other.loc[i,'开药总数量']*20\n",
    "            else:\n",
    "                df_drug_vatin_other.loc[i,'开药总剂量']= df_drug_vatin_other.loc[i,'开药总数量']*10\n",
    "        # 氨氯地平阿托伐他汀钙\n",
    "        if re.match('氨氯地平', name):\n",
    "            df_drug_vatin_other.loc[i,'开药总剂量']= df_drug_vatin_other.loc[i,'开药总数量']*5\n",
    "        # 洛伐他汀\n",
    "        if re.match('洛伐他汀', name):\n",
    "            df_drug_vatin_other.loc[i,'开药总剂量']= df_drug_vatin_other.loc[i,'开药总数量']*20\n",
    "        # 匹伐他汀钙\n",
    "        if re.match('匹伐他汀', name):\n",
    "            df_drug_vatin_other.loc[i,'开药总剂量']= df_drug_vatin_other.loc[i,'开药总数量']*2\n",
    "        # 辛伐他汀\n",
    "        if re.match('辛伐他汀', name):\n",
    "            df_drug_vatin_other.loc[i,'开药总剂量']= df_drug_vatin_other.loc[i,'开药总数量']*40"
   ]
  },
  {
   "cell_type": "code",
   "execution_count": 145,
   "metadata": {},
   "outputs": [],
   "source": [
    "df_drug_vatin_other.to_csv(project_path+'/data/processed_data/政策性/df_3.1.3.2_计算其他汀开药总剂量.csv')"
   ]
  },
  {
   "cell_type": "markdown",
   "metadata": {},
   "source": [
    "#### 计算人民医院医嘱结束时间"
   ]
  },
  {
   "cell_type": "code",
   "execution_count": 149,
   "metadata": {},
   "outputs": [
    {
     "data": {
      "text/plain": [
       "(274163, 17)"
      ]
     },
     "execution_count": 149,
     "metadata": {},
     "output_type": "execute_result"
    }
   ],
   "source": [
    "df_drug_vatin_other.shape"
   ]
  },
  {
   "cell_type": "code",
   "execution_count": 153,
   "metadata": {},
   "outputs": [],
   "source": [
    "# 计算用药时长\n",
    "df_drug_vatin_other['用药时长']= df_drug_vatin_other.apply(lambda x:round(x['开药总剂量']/x['日剂量'],0) if x['data_source']=='人民医院' else x['用药时长'],axis=1)"
   ]
  },
  {
   "cell_type": "code",
   "execution_count": 155,
   "metadata": {},
   "outputs": [],
   "source": [
    "df_drug_vatin_other['医嘱停止时间']=df_drug_vatin_other.apply(lambda x: pd.to_datetime(x['医嘱开始时间'])+datetime.timedelta(days=x['用药时长'])if (x['data_source']=='人民医院') & (pd.notnull(x['用药时长'])) \n",
    "                                                                    else x['医嘱停止时间'],axis=1)"
   ]
  },
  {
   "cell_type": "code",
   "execution_count": 157,
   "metadata": {},
   "outputs": [
    {
     "data": {
      "text/plain": [
       "(274163, 17)"
      ]
     },
     "execution_count": 157,
     "metadata": {},
     "output_type": "execute_result"
    }
   ],
   "source": [
    "df_drug_vatin_other.shape"
   ]
  },
  {
   "cell_type": "code",
   "execution_count": 156,
   "metadata": {},
   "outputs": [],
   "source": [
    "df_drug_vatin_other.to_csv(project_path+'/data/processed_data/政策性/df_3.1.3.3_计算其他汀_医嘱结束时间.csv')"
   ]
  },
  {
   "cell_type": "code",
   "execution_count": 279,
   "metadata": {},
   "outputs": [
    {
     "name": "stderr",
     "output_type": "stream",
     "text": [
      "D:\\Anaconda3\\lib\\site-packages\\IPython\\core\\interactiveshell.py:3049: DtypeWarning: Columns (8,11,12) have mixed types. Specify dtype option on import or set low_memory=False.\n",
      "  interactivity=interactivity, compiler=compiler, result=result)\n"
     ]
    }
   ],
   "source": [
    "df_drug_vatin_other=pd.read_csv(project_path+'/data/processed_data/政策性/df_3.1.3.3_计算其他汀_医嘱结束时间.csv')\n",
    "if 'Unnamed: 0' in df_drug_vatin_other.columns:\n",
    "    del df_drug_vatin_other['Unnamed: 0']"
   ]
  },
  {
   "cell_type": "code",
   "execution_count": 280,
   "metadata": {},
   "outputs": [
    {
     "data": {
      "text/plain": [
       "Index(['data_source', '患者编号', '药物通用名称', '医嘱开始时间', '医嘱停止时间', '药物规格', '药物剂量',\n",
       "       '药物剂量单位名称', '频率名称', '开药总数量', '开药总数量单位名称', '药物剂型', '用药时长',\n",
       "       'resuvatin_brand', '医嘱开始日期', '日剂量', '开药总剂量'],\n",
       "      dtype='object')"
      ]
     },
     "execution_count": 280,
     "metadata": {},
     "output_type": "execute_result"
    }
   ],
   "source": [
    "df_drug_vatin_other.columns"
   ]
  },
  {
   "cell_type": "markdown",
   "metadata": {},
   "source": [
    "## 合并瑞舒他汀和其他他汀用药"
   ]
  },
  {
   "cell_type": "code",
   "execution_count": 281,
   "metadata": {},
   "outputs": [
    {
     "data": {
      "text/plain": [
       "Index(['data_source', '患者编号', '药物通用名称', '医嘱开始时间', '医嘱停止时间', '药物规格', '药物剂量',\n",
       "       '药物剂量单位名称', '频率名称', '开药总数量', '开药总数量单位名称', '药物剂型', '用药时长',\n",
       "       'resuvatin_brand', '日剂量', '医嘱开始日期', '开药总剂量'],\n",
       "      dtype='object')"
      ]
     },
     "execution_count": 281,
     "metadata": {},
     "output_type": "execute_result"
    }
   ],
   "source": [
    "df_drug_resuvatin.columns"
   ]
  },
  {
   "cell_type": "code",
   "execution_count": 282,
   "metadata": {},
   "outputs": [
    {
     "data": {
      "text/plain": [
       "Index(['data_source', '患者编号', '药物通用名称', '医嘱开始时间', '医嘱停止时间', '药物规格', '药物剂量',\n",
       "       '药物剂量单位名称', '频率名称', '开药总数量', '开药总数量单位名称', '药物剂型', '用药时长',\n",
       "       'resuvatin_brand', '医嘱开始日期', '日剂量', '开药总剂量'],\n",
       "      dtype='object')"
      ]
     },
     "execution_count": 282,
     "metadata": {},
     "output_type": "execute_result"
    }
   ],
   "source": [
    "df_drug_vatin_other.columns"
   ]
  },
  {
   "cell_type": "code",
   "execution_count": 283,
   "metadata": {},
   "outputs": [],
   "source": [
    "# 调整顺序\n",
    "df_drug_resuvatin = df_drug_resuvatin[['data_source', '患者编号', '药物通用名称', '医嘱开始时间', '医嘱停止时间', '药物规格', '药物剂量',\n",
    "                                       '药物剂量单位名称', '频率名称', '开药总数量', '开药总数量单位名称', '药物剂型', '用药时长',\n",
    "                                       'resuvatin_brand', '医嘱开始日期', '日剂量', '开药总剂量']]"
   ]
  },
  {
   "cell_type": "code",
   "execution_count": 684,
   "metadata": {},
   "outputs": [],
   "source": [
    "df_drug_vatin=pd.concat([df_drug_resuvatin,df_drug_vatin_other],axis=0).sort_values(['患者编号','医嘱开始时间'],ascending=True).reset_index(drop=True)"
   ]
  },
  {
   "cell_type": "code",
   "execution_count": 685,
   "metadata": {},
   "outputs": [
    {
     "data": {
      "text/plain": [
       "(328634, 17)"
      ]
     },
     "execution_count": 685,
     "metadata": {},
     "output_type": "execute_result"
    }
   ],
   "source": [
    "df_drug_vatin.shape"
   ]
  },
  {
   "cell_type": "markdown",
   "metadata": {},
   "source": [
    "### 拆分出瑞舒伐他汀和其他他汀"
   ]
  },
  {
   "cell_type": "code",
   "execution_count": 686,
   "metadata": {},
   "outputs": [
    {
     "data": {
      "text/plain": [
       "array(['阿乐片(ZC/10mg/片)', '阿托伐他汀钙片(10mg/片(ZX))', '匹伐他汀钙片(ZD/ 2mg/片)',\n",
       "       '立普妥片(ZC/ 20mg/片)', '阿托伐他汀钙片(20mg/片(ZX))', '瑞舒伐他汀钙片(10mg/片(ZX))',\n",
       "       '阿托伐他汀钙片(20mg/片)', '可定片(ZDL/ 10mg/片)', '瑞舒伐他汀钙片(ZD/ 10mg/片)',\n",
       "       '瑞舒伐他汀钙片(10mg/片)', '氟伐他汀钠缓释片(ZD/ 80mg/片)',\n",
       "       '氨氯地平阿托伐他汀钙片(ZDL/ 5mg/10mg/片)', '匹伐他汀钙', '阿托伐他汀钙', '瑞舒伐他汀钙',\n",
       "       '氨氯地平阿托伐他汀钙', '辛伐他汀', '氟伐他汀', '阿托伐他汀钙片', '洛伐他汀', '瑞舒伐他汀钙片'],\n",
       "      dtype=object)"
      ]
     },
     "execution_count": 686,
     "metadata": {},
     "output_type": "execute_result"
    }
   ],
   "source": [
    "df_drug_vatin.药物通用名称.unique()"
   ]
  },
  {
   "cell_type": "code",
   "execution_count": 687,
   "metadata": {},
   "outputs": [],
   "source": [
    "df_drug_vatin['瑞舒伐他汀']=df_drug_vatin.药物通用名称.apply(lambda x: 1 if re.match('瑞舒伐他汀|可定片',x) else 0)\n",
    "df_drug_vatin['阿托伐他汀']=df_drug_vatin.药物通用名称.apply(lambda x: 1 if re.match('阿托伐他汀|阿乐片|立普妥片',x) else 0)\n",
    "df_drug_vatin['匹伐他汀']=df_drug_vatin.药物通用名称.apply(lambda x: 1 if re.match('匹伐他汀',x) else 0)\n",
    "df_drug_vatin['氟伐他汀']=df_drug_vatin.药物通用名称.apply(lambda x: 1 if re.match('氟伐他汀',x) else 0)\n",
    "df_drug_vatin['氨氯地平阿托伐他汀']=df_drug_vatin.药物通用名称.apply(lambda x: 1 if re.match('氨氯地平阿托伐他汀',x) else 0)\n",
    "df_drug_vatin['辛伐他汀']=df_drug_vatin.药物通用名称.apply(lambda x: 1 if re.match('辛伐他汀',x) else 0)\n",
    "df_drug_vatin['洛伐他汀']=df_drug_vatin.药物通用名称.apply(lambda x: 1 if re.match('洛伐他汀',x) else 0)"
   ]
  },
  {
   "cell_type": "code",
   "execution_count": 688,
   "metadata": {},
   "outputs": [
    {
     "data": {
      "text/plain": [
       "Index(['data_source', '患者编号', '药物通用名称', '医嘱开始时间', '医嘱停止时间', '药物规格', '药物剂量',\n",
       "       '药物剂量单位名称', '频率名称', '开药总数量', '开药总数量单位名称', '药物剂型', '用药时长',\n",
       "       'resuvatin_brand', '医嘱开始日期', '日剂量', '开药总剂量', '瑞舒伐他汀', '阿托伐他汀', '匹伐他汀',\n",
       "       '氟伐他汀', '氨氯地平阿托伐他汀', '辛伐他汀', '洛伐他汀'],\n",
       "      dtype='object')"
      ]
     },
     "execution_count": 688,
     "metadata": {},
     "output_type": "execute_result"
    }
   ],
   "source": [
    "df_drug_vatin.columns"
   ]
  },
  {
   "cell_type": "code",
   "execution_count": 689,
   "metadata": {},
   "outputs": [],
   "source": [
    "# 调整顺序\n",
    "df_drug_vatin=df_drug_vatin[['data_source', '患者编号', '药物通用名称', '医嘱开始时间', '医嘱停止时间', '药物规格', '药物剂量',\n",
    "       '药物剂量单位名称', '频率名称', '开药总数量', '开药总数量单位名称', '药物剂型', '用药时长',\n",
    "       '医嘱开始日期', '日剂量', '开药总剂量', 'resuvatin_brand', '瑞舒伐他汀', '阿托伐他汀', '匹伐他汀',\n",
    "       '氟伐他汀', '氨氯地平阿托伐他汀', '辛伐他汀', '洛伐他汀']]"
   ]
  },
  {
   "cell_type": "markdown",
   "metadata": {},
   "source": [
    "### 删除同一天的联合用药"
   ]
  },
  {
   "cell_type": "code",
   "execution_count": 690,
   "metadata": {},
   "outputs": [],
   "source": [
    "# 如果同一天存在多条用药，以最后一条为准\n",
    "df_drug_vatin=df_drug_vatin.sort_values(['患者编号','医嘱开始时间']).drop_duplicates(['患者编号','医嘱开始日期'],keep='last').reset_index(drop=True)"
   ]
  },
  {
   "cell_type": "code",
   "execution_count": 691,
   "metadata": {},
   "outputs": [
    {
     "data": {
      "text/plain": [
       "(327565, 24)"
      ]
     },
     "execution_count": 691,
     "metadata": {},
     "output_type": "execute_result"
    }
   ],
   "source": [
    "df_drug_vatin.shape"
   ]
  },
  {
   "cell_type": "code",
   "execution_count": 692,
   "metadata": {},
   "outputs": [],
   "source": [
    "df_drug_vatin.to_csv(project_path+'/data/processed_data/政策性/df_3.2_合并他汀类药物.csv')"
   ]
  },
  {
   "cell_type": "markdown",
   "metadata": {},
   "source": [
    "## 纳入高血脂、冠心病患者"
   ]
  },
  {
   "cell_type": "code",
   "execution_count": 693,
   "metadata": {},
   "outputs": [],
   "source": [
    "# 高脂血症、冠心病\n",
    "df_diagnose_disease = df_diagnose[df_diagnose['诊断名称'].str.contains('高脂血症|冠心病|冠状动脉粥样硬化性心脏病')]\n",
    "# 删除重复诊断\n",
    "df_diagnose_disease = df_diagnose_disease.drop_duplicates(['患者编号','诊断名称'],keep='first')"
   ]
  },
  {
   "cell_type": "code",
   "execution_count": 694,
   "metadata": {},
   "outputs": [
    {
     "name": "stdout",
     "output_type": "stream",
     "text": [
      "(18322, 5)\n",
      "9598\n"
     ]
    }
   ],
   "source": [
    "print(df_diagnose_disease.shape)\n",
    "print(df_diagnose_disease.患者编号.nunique())"
   ]
  },
  {
   "cell_type": "code",
   "execution_count": 695,
   "metadata": {},
   "outputs": [
    {
     "data": {
      "text/html": [
       "<div>\n",
       "<style scoped>\n",
       "    .dataframe tbody tr th:only-of-type {\n",
       "        vertical-align: middle;\n",
       "    }\n",
       "\n",
       "    .dataframe tbody tr th {\n",
       "        vertical-align: top;\n",
       "    }\n",
       "\n",
       "    .dataframe thead th {\n",
       "        text-align: right;\n",
       "    }\n",
       "</style>\n",
       "<table border=\"1\" class=\"dataframe\">\n",
       "  <thead>\n",
       "    <tr style=\"text-align: right;\">\n",
       "      <th></th>\n",
       "      <th>患者编号</th>\n",
       "      <th>诊断名称</th>\n",
       "      <th>诊断日期</th>\n",
       "      <th>是否主要诊断</th>\n",
       "      <th>诊断类别名称</th>\n",
       "    </tr>\n",
       "  </thead>\n",
       "  <tbody>\n",
       "    <tr>\n",
       "      <th>2</th>\n",
       "      <td>pat_05eab24ef6eb4e0827cd26e1553a0f64</td>\n",
       "      <td>动脉粥样硬化并高脂血症</td>\n",
       "      <td>2018-02-06 13:20:56</td>\n",
       "      <td>是</td>\n",
       "      <td>门诊诊断</td>\n",
       "    </tr>\n",
       "  </tbody>\n",
       "</table>\n",
       "</div>"
      ],
      "text/plain": [
       "                                   患者编号         诊断名称                 诊断日期  \\\n",
       "2  pat_05eab24ef6eb4e0827cd26e1553a0f64  动脉粥样硬化并高脂血症  2018-02-06 13:20:56   \n",
       "\n",
       "  是否主要诊断 诊断类别名称  \n",
       "2      是   门诊诊断  "
      ]
     },
     "execution_count": 695,
     "metadata": {},
     "output_type": "execute_result"
    }
   ],
   "source": [
    "df_diagnose_disease.head(1)"
   ]
  },
  {
   "cell_type": "code",
   "execution_count": 696,
   "metadata": {},
   "outputs": [],
   "source": [
    "df_diagnose_disease.to_csv(project_path+'/data/processed_data/df_temp_冠心病和高脂血病诊断.csv')"
   ]
  },
  {
   "cell_type": "code",
   "execution_count": 697,
   "metadata": {},
   "outputs": [
    {
     "data": {
      "text/plain": [
       "(54471, 17)"
      ]
     },
     "execution_count": 697,
     "metadata": {},
     "output_type": "execute_result"
    }
   ],
   "source": [
    "df_drug_resuvatin.shape"
   ]
  },
  {
   "cell_type": "code",
   "execution_count": 698,
   "metadata": {},
   "outputs": [],
   "source": [
    "# 纳入高脂血症、冠心病\n",
    "df_drug_vatin_disease = df_drug_vatin[df_drug_vatin.患者编号.isin(df_diagnose_disease.患者编号.unique())]\n",
    "# 删除重复数据\n",
    "df_drug_vatin_disease = df_drug_vatin_disease.drop_duplicates(df_drug_vatin_disease.columns,keep='first')"
   ]
  },
  {
   "cell_type": "code",
   "execution_count": 699,
   "metadata": {},
   "outputs": [
    {
     "name": "stdout",
     "output_type": "stream",
     "text": [
      "(66787, 24)\n",
      "9598\n"
     ]
    }
   ],
   "source": [
    "print(df_drug_vatin_disease.shape)\n",
    "print(df_drug_vatin_disease.患者编号.nunique())"
   ]
  },
  {
   "cell_type": "code",
   "execution_count": 700,
   "metadata": {},
   "outputs": [
    {
     "data": {
      "text/html": [
       "<div>\n",
       "<style scoped>\n",
       "    .dataframe tbody tr th:only-of-type {\n",
       "        vertical-align: middle;\n",
       "    }\n",
       "\n",
       "    .dataframe tbody tr th {\n",
       "        vertical-align: top;\n",
       "    }\n",
       "\n",
       "    .dataframe thead th {\n",
       "        text-align: right;\n",
       "    }\n",
       "</style>\n",
       "<table border=\"1\" class=\"dataframe\">\n",
       "  <thead>\n",
       "    <tr style=\"text-align: right;\">\n",
       "      <th></th>\n",
       "      <th>data_source</th>\n",
       "      <th>患者编号</th>\n",
       "      <th>药物通用名称</th>\n",
       "      <th>医嘱开始时间</th>\n",
       "      <th>医嘱停止时间</th>\n",
       "      <th>药物规格</th>\n",
       "      <th>药物剂量</th>\n",
       "      <th>药物剂量单位名称</th>\n",
       "      <th>频率名称</th>\n",
       "      <th>开药总数量</th>\n",
       "      <th>...</th>\n",
       "      <th>日剂量</th>\n",
       "      <th>开药总剂量</th>\n",
       "      <th>resuvatin_brand</th>\n",
       "      <th>瑞舒伐他汀</th>\n",
       "      <th>阿托伐他汀</th>\n",
       "      <th>匹伐他汀</th>\n",
       "      <th>氟伐他汀</th>\n",
       "      <th>氨氯地平阿托伐他汀</th>\n",
       "      <th>辛伐他汀</th>\n",
       "      <th>洛伐他汀</th>\n",
       "    </tr>\n",
       "  </thead>\n",
       "  <tbody>\n",
       "    <tr>\n",
       "      <th>35</th>\n",
       "      <td>世纪坛医院</td>\n",
       "      <td>0020640c4052f1dae97fcf39be390e1b</td>\n",
       "      <td>瑞舒伐他汀钙片(10mg/片(ZX))</td>\n",
       "      <td>2019-04-04 15:35:28</td>\n",
       "      <td>2019-04-09 07:42:00</td>\n",
       "      <td>10mg*28片(ZX)</td>\n",
       "      <td>10.0</td>\n",
       "      <td>NaN</td>\n",
       "      <td>1.0</td>\n",
       "      <td>NaN</td>\n",
       "      <td>...</td>\n",
       "      <td>10.0</td>\n",
       "      <td>50.0</td>\n",
       "      <td>京新</td>\n",
       "      <td>1</td>\n",
       "      <td>0</td>\n",
       "      <td>0</td>\n",
       "      <td>0</td>\n",
       "      <td>0</td>\n",
       "      <td>0</td>\n",
       "      <td>0</td>\n",
       "    </tr>\n",
       "  </tbody>\n",
       "</table>\n",
       "<p>1 rows × 24 columns</p>\n",
       "</div>"
      ],
      "text/plain": [
       "   data_source                              患者编号               药物通用名称  \\\n",
       "35       世纪坛医院  0020640c4052f1dae97fcf39be390e1b  瑞舒伐他汀钙片(10mg/片(ZX))   \n",
       "\n",
       "                 医嘱开始时间               医嘱停止时间          药物规格  药物剂量 药物剂量单位名称  \\\n",
       "35  2019-04-04 15:35:28  2019-04-09 07:42:00  10mg*28片(ZX)  10.0      NaN   \n",
       "\n",
       "    频率名称  开药总数量  ...   日剂量 开药总剂量  resuvatin_brand 瑞舒伐他汀  阿托伐他汀  匹伐他汀 氟伐他汀  \\\n",
       "35   1.0    NaN  ...  10.0  50.0               京新     1      0     0    0   \n",
       "\n",
       "    氨氯地平阿托伐他汀  辛伐他汀  洛伐他汀  \n",
       "35          0     0     0  \n",
       "\n",
       "[1 rows x 24 columns]"
      ]
     },
     "execution_count": 700,
     "metadata": {},
     "output_type": "execute_result"
    }
   ],
   "source": [
    "df_drug_vatin_disease.head(1)"
   ]
  },
  {
   "cell_type": "markdown",
   "metadata": {},
   "source": [
    "### 冠心病标签"
   ]
  },
  {
   "cell_type": "code",
   "execution_count": 701,
   "metadata": {},
   "outputs": [],
   "source": [
    "# 提取冠心病\n",
    "df_disease_CHD = df_diagnose_disease[df_diagnose_disease.诊断名称.str.contains('冠心病|冠状动脉粥样硬化性心脏病')]\n",
    "df_drug_vatin_disease = pd.merge(df_drug_vatin_disease, df_disease_CHD[['患者编号','诊断名称']], how='left', on='患者编号')"
   ]
  },
  {
   "cell_type": "code",
   "execution_count": 702,
   "metadata": {},
   "outputs": [],
   "source": [
    "# 打冠心病标签\n",
    "df_drug_vatin_disease = df_drug_vatin_disease.rename(columns={'诊断名称':'冠心病'})\n",
    "df_drug_vatin_disease['冠心病'] = df_drug_vatin_disease['冠心病'].apply(lambda x: 0 if pd.isnull(x) else 1)\n",
    "# 删除相同诊断造成的重复\n",
    "df_drug_vatin_disease =df_drug_vatin_disease.drop_duplicates(df_drug_vatin_disease.columns,keep='first')"
   ]
  },
  {
   "cell_type": "code",
   "execution_count": 703,
   "metadata": {},
   "outputs": [
    {
     "data": {
      "text/plain": [
       "1    43088\n",
       "0    23699\n",
       "Name: 冠心病, dtype: int64"
      ]
     },
     "execution_count": 703,
     "metadata": {},
     "output_type": "execute_result"
    }
   ],
   "source": [
    "df_drug_vatin_disease.冠心病.value_counts()"
   ]
  },
  {
   "cell_type": "code",
   "execution_count": 704,
   "metadata": {},
   "outputs": [
    {
     "data": {
      "text/html": [
       "<div>\n",
       "<style scoped>\n",
       "    .dataframe tbody tr th:only-of-type {\n",
       "        vertical-align: middle;\n",
       "    }\n",
       "\n",
       "    .dataframe tbody tr th {\n",
       "        vertical-align: top;\n",
       "    }\n",
       "\n",
       "    .dataframe thead th {\n",
       "        text-align: right;\n",
       "    }\n",
       "</style>\n",
       "<table border=\"1\" class=\"dataframe\">\n",
       "  <thead>\n",
       "    <tr style=\"text-align: right;\">\n",
       "      <th></th>\n",
       "      <th>data_source</th>\n",
       "      <th>患者编号</th>\n",
       "      <th>药物通用名称</th>\n",
       "      <th>医嘱开始时间</th>\n",
       "      <th>医嘱停止时间</th>\n",
       "      <th>药物规格</th>\n",
       "      <th>药物剂量</th>\n",
       "      <th>药物剂量单位名称</th>\n",
       "      <th>频率名称</th>\n",
       "      <th>开药总数量</th>\n",
       "      <th>...</th>\n",
       "      <th>开药总剂量</th>\n",
       "      <th>resuvatin_brand</th>\n",
       "      <th>瑞舒伐他汀</th>\n",
       "      <th>阿托伐他汀</th>\n",
       "      <th>匹伐他汀</th>\n",
       "      <th>氟伐他汀</th>\n",
       "      <th>氨氯地平阿托伐他汀</th>\n",
       "      <th>辛伐他汀</th>\n",
       "      <th>洛伐他汀</th>\n",
       "      <th>冠心病</th>\n",
       "    </tr>\n",
       "  </thead>\n",
       "  <tbody>\n",
       "    <tr>\n",
       "      <th>0</th>\n",
       "      <td>世纪坛医院</td>\n",
       "      <td>0020640c4052f1dae97fcf39be390e1b</td>\n",
       "      <td>瑞舒伐他汀钙片(10mg/片(ZX))</td>\n",
       "      <td>2019-04-04 15:35:28</td>\n",
       "      <td>2019-04-09 07:42:00</td>\n",
       "      <td>10mg*28片(ZX)</td>\n",
       "      <td>10.0</td>\n",
       "      <td>NaN</td>\n",
       "      <td>1.0</td>\n",
       "      <td>NaN</td>\n",
       "      <td>...</td>\n",
       "      <td>50.0</td>\n",
       "      <td>京新</td>\n",
       "      <td>1</td>\n",
       "      <td>0</td>\n",
       "      <td>0</td>\n",
       "      <td>0</td>\n",
       "      <td>0</td>\n",
       "      <td>0</td>\n",
       "      <td>0</td>\n",
       "      <td>1</td>\n",
       "    </tr>\n",
       "  </tbody>\n",
       "</table>\n",
       "<p>1 rows × 25 columns</p>\n",
       "</div>"
      ],
      "text/plain": [
       "  data_source                              患者编号               药物通用名称  \\\n",
       "0       世纪坛医院  0020640c4052f1dae97fcf39be390e1b  瑞舒伐他汀钙片(10mg/片(ZX))   \n",
       "\n",
       "                医嘱开始时间               医嘱停止时间          药物规格  药物剂量 药物剂量单位名称  \\\n",
       "0  2019-04-04 15:35:28  2019-04-09 07:42:00  10mg*28片(ZX)  10.0      NaN   \n",
       "\n",
       "   频率名称  开药总数量  ... 开药总剂量 resuvatin_brand  瑞舒伐他汀 阿托伐他汀  匹伐他汀  氟伐他汀 氨氯地平阿托伐他汀  \\\n",
       "0   1.0    NaN  ...  50.0              京新      1     0     0     0         0   \n",
       "\n",
       "   辛伐他汀  洛伐他汀  冠心病  \n",
       "0     0     0    1  \n",
       "\n",
       "[1 rows x 25 columns]"
      ]
     },
     "execution_count": 704,
     "metadata": {},
     "output_type": "execute_result"
    }
   ],
   "source": [
    "df_drug_vatin_disease.head(1)"
   ]
  },
  {
   "cell_type": "markdown",
   "metadata": {},
   "source": [
    "### 高脂血病标签"
   ]
  },
  {
   "cell_type": "code",
   "execution_count": 705,
   "metadata": {},
   "outputs": [],
   "source": [
    "# 打高脂血症标签\n",
    "df_disease_HLP = df_diagnose_disease[df_diagnose_disease.诊断名称.str.contains('高脂血症')]\n",
    "df_drug_vatin_disease = pd.merge(df_drug_vatin_disease, df_disease_HLP[['患者编号','诊断名称']], how='left', on='患者编号') "
   ]
  },
  {
   "cell_type": "code",
   "execution_count": 706,
   "metadata": {},
   "outputs": [],
   "source": [
    "df_drug_vatin_disease = df_drug_vatin_disease.rename(columns={'诊断名称':'高脂血症'})\n",
    "df_drug_vatin_disease['高脂血症'] = df_drug_vatin_disease['高脂血症'].apply(lambda x: 0 if pd.isnull(x) else 1)\n",
    "# 删除相同诊断造成的重复\n",
    "df_drug_vatin_disease =df_drug_vatin_disease.drop_duplicates(df_drug_vatin_disease.columns,keep='first')"
   ]
  },
  {
   "cell_type": "code",
   "execution_count": 707,
   "metadata": {},
   "outputs": [
    {
     "data": {
      "text/plain": [
       "1    65442\n",
       "0     1345\n",
       "Name: 高脂血症, dtype: int64"
      ]
     },
     "execution_count": 707,
     "metadata": {},
     "output_type": "execute_result"
    }
   ],
   "source": [
    "df_drug_vatin_disease.高脂血症.value_counts()"
   ]
  },
  {
   "cell_type": "code",
   "execution_count": 708,
   "metadata": {},
   "outputs": [
    {
     "data": {
      "text/html": [
       "<div>\n",
       "<style scoped>\n",
       "    .dataframe tbody tr th:only-of-type {\n",
       "        vertical-align: middle;\n",
       "    }\n",
       "\n",
       "    .dataframe tbody tr th {\n",
       "        vertical-align: top;\n",
       "    }\n",
       "\n",
       "    .dataframe thead th {\n",
       "        text-align: right;\n",
       "    }\n",
       "</style>\n",
       "<table border=\"1\" class=\"dataframe\">\n",
       "  <thead>\n",
       "    <tr style=\"text-align: right;\">\n",
       "      <th></th>\n",
       "      <th>data_source</th>\n",
       "      <th>患者编号</th>\n",
       "      <th>药物通用名称</th>\n",
       "      <th>医嘱开始时间</th>\n",
       "      <th>医嘱停止时间</th>\n",
       "      <th>药物规格</th>\n",
       "      <th>药物剂量</th>\n",
       "      <th>药物剂量单位名称</th>\n",
       "      <th>频率名称</th>\n",
       "      <th>开药总数量</th>\n",
       "      <th>...</th>\n",
       "      <th>resuvatin_brand</th>\n",
       "      <th>瑞舒伐他汀</th>\n",
       "      <th>阿托伐他汀</th>\n",
       "      <th>匹伐他汀</th>\n",
       "      <th>氟伐他汀</th>\n",
       "      <th>氨氯地平阿托伐他汀</th>\n",
       "      <th>辛伐他汀</th>\n",
       "      <th>洛伐他汀</th>\n",
       "      <th>冠心病</th>\n",
       "      <th>高脂血症</th>\n",
       "    </tr>\n",
       "  </thead>\n",
       "  <tbody>\n",
       "    <tr>\n",
       "      <th>0</th>\n",
       "      <td>世纪坛医院</td>\n",
       "      <td>0020640c4052f1dae97fcf39be390e1b</td>\n",
       "      <td>瑞舒伐他汀钙片(10mg/片(ZX))</td>\n",
       "      <td>2019-04-04 15:35:28</td>\n",
       "      <td>2019-04-09 07:42:00</td>\n",
       "      <td>10mg*28片(ZX)</td>\n",
       "      <td>10.0</td>\n",
       "      <td>NaN</td>\n",
       "      <td>1.0</td>\n",
       "      <td>NaN</td>\n",
       "      <td>...</td>\n",
       "      <td>京新</td>\n",
       "      <td>1</td>\n",
       "      <td>0</td>\n",
       "      <td>0</td>\n",
       "      <td>0</td>\n",
       "      <td>0</td>\n",
       "      <td>0</td>\n",
       "      <td>0</td>\n",
       "      <td>1</td>\n",
       "      <td>1</td>\n",
       "    </tr>\n",
       "  </tbody>\n",
       "</table>\n",
       "<p>1 rows × 26 columns</p>\n",
       "</div>"
      ],
      "text/plain": [
       "  data_source                              患者编号               药物通用名称  \\\n",
       "0       世纪坛医院  0020640c4052f1dae97fcf39be390e1b  瑞舒伐他汀钙片(10mg/片(ZX))   \n",
       "\n",
       "                医嘱开始时间               医嘱停止时间          药物规格  药物剂量 药物剂量单位名称  \\\n",
       "0  2019-04-04 15:35:28  2019-04-09 07:42:00  10mg*28片(ZX)  10.0      NaN   \n",
       "\n",
       "   频率名称  开药总数量  ... resuvatin_brand 瑞舒伐他汀  阿托伐他汀 匹伐他汀  氟伐他汀  氨氯地平阿托伐他汀 辛伐他汀  \\\n",
       "0   1.0    NaN  ...              京新     1      0    0     0          0    0   \n",
       "\n",
       "   洛伐他汀  冠心病  高脂血症  \n",
       "0     0    1     1  \n",
       "\n",
       "[1 rows x 26 columns]"
      ]
     },
     "execution_count": 708,
     "metadata": {},
     "output_type": "execute_result"
    }
   ],
   "source": [
    "df_drug_vatin_disease.head(1)"
   ]
  },
  {
   "cell_type": "markdown",
   "metadata": {},
   "source": [
    "### 冠心病&高脂血病-标签"
   ]
  },
  {
   "cell_type": "code",
   "execution_count": 709,
   "metadata": {},
   "outputs": [],
   "source": [
    "# 同时发生冠心病和高血脂病\n",
    "df_drug_vatin_disease['冠心病_高脂血症']=df_drug_vatin_disease.apply(lambda x: 1 if (x['冠心病']==1) & (x['高脂血症']==1) \n",
    "                                                                      else 0,axis=1)"
   ]
  },
  {
   "cell_type": "code",
   "execution_count": 710,
   "metadata": {},
   "outputs": [
    {
     "data": {
      "text/plain": [
       "(66787, 27)"
      ]
     },
     "execution_count": 710,
     "metadata": {},
     "output_type": "execute_result"
    }
   ],
   "source": [
    "df_drug_vatin_disease.shape"
   ]
  },
  {
   "cell_type": "code",
   "execution_count": 711,
   "metadata": {},
   "outputs": [],
   "source": [
    "df_drug_vatin_disease.to_csv(project_path+'/data/processed_data/政策性/df_3.3.3_打冠心病和高脂血病标签.csv')"
   ]
  },
  {
   "cell_type": "markdown",
   "metadata": {},
   "source": [
    "## 排除癌症患者"
   ]
  },
  {
   "cell_type": "code",
   "execution_count": 712,
   "metadata": {},
   "outputs": [],
   "source": [
    "# 癌症患者\n",
    "df_diagnose_cancer = df_diagnose[df_diagnose['诊断名称'].str.contains('癌|恶性肿瘤')]\n",
    "# 排除癌症患者\n",
    "df_drug_vatin_cancer = df_drug_vatin_disease[~ df_drug_vatin_disease.患者编号.isin(df_diagnose_cancer.患者编号.unique())]"
   ]
  },
  {
   "cell_type": "code",
   "execution_count": 713,
   "metadata": {},
   "outputs": [
    {
     "data": {
      "text/plain": [
       "(65898, 27)"
      ]
     },
     "execution_count": 713,
     "metadata": {},
     "output_type": "execute_result"
    }
   ],
   "source": [
    "df_drug_vatin_cancer.shape"
   ]
  },
  {
   "cell_type": "code",
   "execution_count": 714,
   "metadata": {},
   "outputs": [],
   "source": [
    "df_drug_vatin_cancer.to_csv(project_path+'/data/processed_data/政策性/df_3.4_排除癌症患者.csv')"
   ]
  },
  {
   "cell_type": "code",
   "execution_count": 715,
   "metadata": {},
   "outputs": [],
   "source": [
    "df_drug_vatin_cancer=pd.read_csv(project_path+'/data/processed_data/政策性/df_3.4_排除癌症患者.csv')\n",
    "if 'Unnamed: 0' in df_drug_vatin_cancer.columns:\n",
    "    del df_drug_vatin_cancer['Unnamed: 0']"
   ]
  },
  {
   "cell_type": "markdown",
   "metadata": {},
   "source": [
    "## 人口学特征"
   ]
  },
  {
   "cell_type": "code",
   "execution_count": 213,
   "metadata": {},
   "outputs": [
    {
     "data": {
      "text/plain": [
       "'\\nAGE=患者初次处方京新和/或可定日期-患者的出生日期\\n'"
      ]
     },
     "execution_count": 213,
     "metadata": {},
     "output_type": "execute_result"
    }
   ],
   "source": [
    "'''\n",
    "AGE=患者初次处方京新和/或可定日期-患者的出生日期\n",
    "'''"
   ]
  },
  {
   "cell_type": "markdown",
   "metadata": {},
   "source": [
    "### 人民医院--人口学数据"
   ]
  },
  {
   "cell_type": "code",
   "execution_count": 95,
   "metadata": {},
   "outputs": [],
   "source": [
    "df_popu_1 = pd.read_excel(r'./data/raw_data/人民医院/1-患者基本信息.xlsx')"
   ]
  },
  {
   "cell_type": "code",
   "execution_count": 96,
   "metadata": {},
   "outputs": [
    {
     "data": {
      "text/plain": [
       "(44998, 3)"
      ]
     },
     "execution_count": 96,
     "metadata": {},
     "output_type": "execute_result"
    }
   ],
   "source": [
    "df_popu_1.shape"
   ]
  },
  {
   "cell_type": "code",
   "execution_count": 97,
   "metadata": {},
   "outputs": [
    {
     "data": {
      "text/plain": [
       "Index(['患者编号', '性别', '出生日期'], dtype='object')"
      ]
     },
     "execution_count": 97,
     "metadata": {},
     "output_type": "execute_result"
    }
   ],
   "source": [
    "df_popu_1.columns"
   ]
  },
  {
   "cell_type": "markdown",
   "metadata": {},
   "source": [
    "### 世纪坛医院--人口学数据"
   ]
  },
  {
   "cell_type": "code",
   "execution_count": 98,
   "metadata": {},
   "outputs": [
    {
     "ename": "KeyboardInterrupt",
     "evalue": "",
     "output_type": "error",
     "traceback": [
      "\u001b[1;31m---------------------------------------------------------------------------\u001b[0m",
      "\u001b[1;31mKeyboardInterrupt\u001b[0m                         Traceback (most recent call last)",
      "\u001b[1;32m<ipython-input-98-f38ad87aa97a>\u001b[0m in \u001b[0;36m<module>\u001b[1;34m\u001b[0m\n\u001b[0;32m      1\u001b[0m \u001b[1;31m# 世纪坛医院--人口学数据\u001b[0m\u001b[1;33m\u001b[0m\u001b[1;33m\u001b[0m\u001b[1;33m\u001b[0m\u001b[0m\n\u001b[0;32m      2\u001b[0m df_popu_2 = pd.read_excel(r'./data/raw_data/首都医科大学附属北京世纪坛医院—阿托他汀临床疗效及安全性评价的真实世界研究-住院+门诊-2018.3.23-2020.3.xlsx',\n\u001b[1;32m----> 3\u001b[1;33m                               sheet_name='患者')\n\u001b[0m",
      "\u001b[1;32mD:\\Anaconda3\\lib\\site-packages\\pandas\\util\\_decorators.py\u001b[0m in \u001b[0;36mwrapper\u001b[1;34m(*args, **kwargs)\u001b[0m\n\u001b[0;32m    206\u001b[0m                 \u001b[1;32melse\u001b[0m\u001b[1;33m:\u001b[0m\u001b[1;33m\u001b[0m\u001b[1;33m\u001b[0m\u001b[0m\n\u001b[0;32m    207\u001b[0m                     \u001b[0mkwargs\u001b[0m\u001b[1;33m[\u001b[0m\u001b[0mnew_arg_name\u001b[0m\u001b[1;33m]\u001b[0m \u001b[1;33m=\u001b[0m \u001b[0mnew_arg_value\u001b[0m\u001b[1;33m\u001b[0m\u001b[1;33m\u001b[0m\u001b[0m\n\u001b[1;32m--> 208\u001b[1;33m             \u001b[1;32mreturn\u001b[0m \u001b[0mfunc\u001b[0m\u001b[1;33m(\u001b[0m\u001b[1;33m*\u001b[0m\u001b[0margs\u001b[0m\u001b[1;33m,\u001b[0m \u001b[1;33m**\u001b[0m\u001b[0mkwargs\u001b[0m\u001b[1;33m)\u001b[0m\u001b[1;33m\u001b[0m\u001b[1;33m\u001b[0m\u001b[0m\n\u001b[0m\u001b[0;32m    209\u001b[0m \u001b[1;33m\u001b[0m\u001b[0m\n\u001b[0;32m    210\u001b[0m         \u001b[1;32mreturn\u001b[0m \u001b[0mwrapper\u001b[0m\u001b[1;33m\u001b[0m\u001b[1;33m\u001b[0m\u001b[0m\n",
      "\u001b[1;32mD:\\Anaconda3\\lib\\site-packages\\pandas\\io\\excel\\_base.py\u001b[0m in \u001b[0;36mread_excel\u001b[1;34m(io, sheet_name, header, names, index_col, usecols, squeeze, dtype, engine, converters, true_values, false_values, skiprows, nrows, na_values, keep_default_na, verbose, parse_dates, date_parser, thousands, comment, skip_footer, skipfooter, convert_float, mangle_dupe_cols, **kwds)\u001b[0m\n\u001b[0;32m    308\u001b[0m \u001b[1;33m\u001b[0m\u001b[0m\n\u001b[0;32m    309\u001b[0m     \u001b[1;32mif\u001b[0m \u001b[1;32mnot\u001b[0m \u001b[0misinstance\u001b[0m\u001b[1;33m(\u001b[0m\u001b[0mio\u001b[0m\u001b[1;33m,\u001b[0m \u001b[0mExcelFile\u001b[0m\u001b[1;33m)\u001b[0m\u001b[1;33m:\u001b[0m\u001b[1;33m\u001b[0m\u001b[1;33m\u001b[0m\u001b[0m\n\u001b[1;32m--> 310\u001b[1;33m         \u001b[0mio\u001b[0m \u001b[1;33m=\u001b[0m \u001b[0mExcelFile\u001b[0m\u001b[1;33m(\u001b[0m\u001b[0mio\u001b[0m\u001b[1;33m,\u001b[0m \u001b[0mengine\u001b[0m\u001b[1;33m=\u001b[0m\u001b[0mengine\u001b[0m\u001b[1;33m)\u001b[0m\u001b[1;33m\u001b[0m\u001b[1;33m\u001b[0m\u001b[0m\n\u001b[0m\u001b[0;32m    311\u001b[0m     \u001b[1;32melif\u001b[0m \u001b[0mengine\u001b[0m \u001b[1;32mand\u001b[0m \u001b[0mengine\u001b[0m \u001b[1;33m!=\u001b[0m \u001b[0mio\u001b[0m\u001b[1;33m.\u001b[0m\u001b[0mengine\u001b[0m\u001b[1;33m:\u001b[0m\u001b[1;33m\u001b[0m\u001b[1;33m\u001b[0m\u001b[0m\n\u001b[0;32m    312\u001b[0m         raise ValueError(\n",
      "\u001b[1;32mD:\\Anaconda3\\lib\\site-packages\\pandas\\io\\excel\\_base.py\u001b[0m in \u001b[0;36m__init__\u001b[1;34m(self, io, engine)\u001b[0m\n\u001b[0;32m    817\u001b[0m         \u001b[0mself\u001b[0m\u001b[1;33m.\u001b[0m\u001b[0m_io\u001b[0m \u001b[1;33m=\u001b[0m \u001b[0m_stringify_path\u001b[0m\u001b[1;33m(\u001b[0m\u001b[0mio\u001b[0m\u001b[1;33m)\u001b[0m\u001b[1;33m\u001b[0m\u001b[1;33m\u001b[0m\u001b[0m\n\u001b[0;32m    818\u001b[0m \u001b[1;33m\u001b[0m\u001b[0m\n\u001b[1;32m--> 819\u001b[1;33m         \u001b[0mself\u001b[0m\u001b[1;33m.\u001b[0m\u001b[0m_reader\u001b[0m \u001b[1;33m=\u001b[0m \u001b[0mself\u001b[0m\u001b[1;33m.\u001b[0m\u001b[0m_engines\u001b[0m\u001b[1;33m[\u001b[0m\u001b[0mengine\u001b[0m\u001b[1;33m]\u001b[0m\u001b[1;33m(\u001b[0m\u001b[0mself\u001b[0m\u001b[1;33m.\u001b[0m\u001b[0m_io\u001b[0m\u001b[1;33m)\u001b[0m\u001b[1;33m\u001b[0m\u001b[1;33m\u001b[0m\u001b[0m\n\u001b[0m\u001b[0;32m    820\u001b[0m \u001b[1;33m\u001b[0m\u001b[0m\n\u001b[0;32m    821\u001b[0m     \u001b[1;32mdef\u001b[0m \u001b[0m__fspath__\u001b[0m\u001b[1;33m(\u001b[0m\u001b[0mself\u001b[0m\u001b[1;33m)\u001b[0m\u001b[1;33m:\u001b[0m\u001b[1;33m\u001b[0m\u001b[1;33m\u001b[0m\u001b[0m\n",
      "\u001b[1;32mD:\\Anaconda3\\lib\\site-packages\\pandas\\io\\excel\\_xlrd.py\u001b[0m in \u001b[0;36m__init__\u001b[1;34m(self, filepath_or_buffer)\u001b[0m\n\u001b[0;32m     19\u001b[0m         \u001b[0merr_msg\u001b[0m \u001b[1;33m=\u001b[0m \u001b[1;34m\"Install xlrd >= 1.0.0 for Excel support\"\u001b[0m\u001b[1;33m\u001b[0m\u001b[1;33m\u001b[0m\u001b[0m\n\u001b[0;32m     20\u001b[0m         \u001b[0mimport_optional_dependency\u001b[0m\u001b[1;33m(\u001b[0m\u001b[1;34m\"xlrd\"\u001b[0m\u001b[1;33m,\u001b[0m \u001b[0mextra\u001b[0m\u001b[1;33m=\u001b[0m\u001b[0merr_msg\u001b[0m\u001b[1;33m)\u001b[0m\u001b[1;33m\u001b[0m\u001b[1;33m\u001b[0m\u001b[0m\n\u001b[1;32m---> 21\u001b[1;33m         \u001b[0msuper\u001b[0m\u001b[1;33m(\u001b[0m\u001b[1;33m)\u001b[0m\u001b[1;33m.\u001b[0m\u001b[0m__init__\u001b[0m\u001b[1;33m(\u001b[0m\u001b[0mfilepath_or_buffer\u001b[0m\u001b[1;33m)\u001b[0m\u001b[1;33m\u001b[0m\u001b[1;33m\u001b[0m\u001b[0m\n\u001b[0m\u001b[0;32m     22\u001b[0m \u001b[1;33m\u001b[0m\u001b[0m\n\u001b[0;32m     23\u001b[0m     \u001b[1;33m@\u001b[0m\u001b[0mproperty\u001b[0m\u001b[1;33m\u001b[0m\u001b[1;33m\u001b[0m\u001b[0m\n",
      "\u001b[1;32mD:\\Anaconda3\\lib\\site-packages\\pandas\\io\\excel\\_base.py\u001b[0m in \u001b[0;36m__init__\u001b[1;34m(self, filepath_or_buffer)\u001b[0m\n\u001b[0;32m    357\u001b[0m             \u001b[0mself\u001b[0m\u001b[1;33m.\u001b[0m\u001b[0mbook\u001b[0m \u001b[1;33m=\u001b[0m \u001b[0mself\u001b[0m\u001b[1;33m.\u001b[0m\u001b[0mload_workbook\u001b[0m\u001b[1;33m(\u001b[0m\u001b[0mfilepath_or_buffer\u001b[0m\u001b[1;33m)\u001b[0m\u001b[1;33m\u001b[0m\u001b[1;33m\u001b[0m\u001b[0m\n\u001b[0;32m    358\u001b[0m         \u001b[1;32melif\u001b[0m \u001b[0misinstance\u001b[0m\u001b[1;33m(\u001b[0m\u001b[0mfilepath_or_buffer\u001b[0m\u001b[1;33m,\u001b[0m \u001b[0mstr\u001b[0m\u001b[1;33m)\u001b[0m\u001b[1;33m:\u001b[0m\u001b[1;33m\u001b[0m\u001b[1;33m\u001b[0m\u001b[0m\n\u001b[1;32m--> 359\u001b[1;33m             \u001b[0mself\u001b[0m\u001b[1;33m.\u001b[0m\u001b[0mbook\u001b[0m \u001b[1;33m=\u001b[0m \u001b[0mself\u001b[0m\u001b[1;33m.\u001b[0m\u001b[0mload_workbook\u001b[0m\u001b[1;33m(\u001b[0m\u001b[0mfilepath_or_buffer\u001b[0m\u001b[1;33m)\u001b[0m\u001b[1;33m\u001b[0m\u001b[1;33m\u001b[0m\u001b[0m\n\u001b[0m\u001b[0;32m    360\u001b[0m         \u001b[1;32melse\u001b[0m\u001b[1;33m:\u001b[0m\u001b[1;33m\u001b[0m\u001b[1;33m\u001b[0m\u001b[0m\n\u001b[0;32m    361\u001b[0m             raise ValueError(\n",
      "\u001b[1;32mD:\\Anaconda3\\lib\\site-packages\\pandas\\io\\excel\\_xlrd.py\u001b[0m in \u001b[0;36mload_workbook\u001b[1;34m(self, filepath_or_buffer)\u001b[0m\n\u001b[0;32m     34\u001b[0m             \u001b[1;32mreturn\u001b[0m \u001b[0mopen_workbook\u001b[0m\u001b[1;33m(\u001b[0m\u001b[0mfile_contents\u001b[0m\u001b[1;33m=\u001b[0m\u001b[0mdata\u001b[0m\u001b[1;33m)\u001b[0m\u001b[1;33m\u001b[0m\u001b[1;33m\u001b[0m\u001b[0m\n\u001b[0;32m     35\u001b[0m         \u001b[1;32melse\u001b[0m\u001b[1;33m:\u001b[0m\u001b[1;33m\u001b[0m\u001b[1;33m\u001b[0m\u001b[0m\n\u001b[1;32m---> 36\u001b[1;33m             \u001b[1;32mreturn\u001b[0m \u001b[0mopen_workbook\u001b[0m\u001b[1;33m(\u001b[0m\u001b[0mfilepath_or_buffer\u001b[0m\u001b[1;33m)\u001b[0m\u001b[1;33m\u001b[0m\u001b[1;33m\u001b[0m\u001b[0m\n\u001b[0m\u001b[0;32m     37\u001b[0m \u001b[1;33m\u001b[0m\u001b[0m\n\u001b[0;32m     38\u001b[0m     \u001b[1;33m@\u001b[0m\u001b[0mproperty\u001b[0m\u001b[1;33m\u001b[0m\u001b[1;33m\u001b[0m\u001b[0m\n",
      "\u001b[1;32mD:\\Anaconda3\\lib\\site-packages\\xlrd\\__init__.py\u001b[0m in \u001b[0;36mopen_workbook\u001b[1;34m(filename, logfile, verbosity, use_mmap, file_contents, encoding_override, formatting_info, on_demand, ragged_rows)\u001b[0m\n\u001b[0;32m    136\u001b[0m                 \u001b[0mformatting_info\u001b[0m\u001b[1;33m=\u001b[0m\u001b[0mformatting_info\u001b[0m\u001b[1;33m,\u001b[0m\u001b[1;33m\u001b[0m\u001b[1;33m\u001b[0m\u001b[0m\n\u001b[0;32m    137\u001b[0m                 \u001b[0mon_demand\u001b[0m\u001b[1;33m=\u001b[0m\u001b[0mon_demand\u001b[0m\u001b[1;33m,\u001b[0m\u001b[1;33m\u001b[0m\u001b[1;33m\u001b[0m\u001b[0m\n\u001b[1;32m--> 138\u001b[1;33m                 \u001b[0mragged_rows\u001b[0m\u001b[1;33m=\u001b[0m\u001b[0mragged_rows\u001b[0m\u001b[1;33m,\u001b[0m\u001b[1;33m\u001b[0m\u001b[1;33m\u001b[0m\u001b[0m\n\u001b[0m\u001b[0;32m    139\u001b[0m             )\n\u001b[0;32m    140\u001b[0m             \u001b[1;32mreturn\u001b[0m \u001b[0mbk\u001b[0m\u001b[1;33m\u001b[0m\u001b[1;33m\u001b[0m\u001b[0m\n",
      "\u001b[1;32mD:\\Anaconda3\\lib\\site-packages\\xlrd\\xlsx.py\u001b[0m in \u001b[0;36mopen_workbook_2007_xml\u001b[1;34m(zf, component_names, logfile, verbosity, use_mmap, formatting_info, on_demand, ragged_rows)\u001b[0m\n\u001b[0;32m    839\u001b[0m         \u001b[0mx12sheet\u001b[0m \u001b[1;33m=\u001b[0m \u001b[0mX12Sheet\u001b[0m\u001b[1;33m(\u001b[0m\u001b[0msheet\u001b[0m\u001b[1;33m,\u001b[0m \u001b[0mlogfile\u001b[0m\u001b[1;33m,\u001b[0m \u001b[0mverbosity\u001b[0m\u001b[1;33m)\u001b[0m\u001b[1;33m\u001b[0m\u001b[1;33m\u001b[0m\u001b[0m\n\u001b[0;32m    840\u001b[0m         \u001b[0mheading\u001b[0m \u001b[1;33m=\u001b[0m \u001b[1;34m\"Sheet %r (sheetx=%d) from %r\"\u001b[0m \u001b[1;33m%\u001b[0m \u001b[1;33m(\u001b[0m\u001b[0msheet\u001b[0m\u001b[1;33m.\u001b[0m\u001b[0mname\u001b[0m\u001b[1;33m,\u001b[0m \u001b[0msheetx\u001b[0m\u001b[1;33m,\u001b[0m \u001b[0mfname\u001b[0m\u001b[1;33m)\u001b[0m\u001b[1;33m\u001b[0m\u001b[1;33m\u001b[0m\u001b[0m\n\u001b[1;32m--> 841\u001b[1;33m         \u001b[0mx12sheet\u001b[0m\u001b[1;33m.\u001b[0m\u001b[0mprocess_stream\u001b[0m\u001b[1;33m(\u001b[0m\u001b[0mzflo\u001b[0m\u001b[1;33m,\u001b[0m \u001b[0mheading\u001b[0m\u001b[1;33m)\u001b[0m\u001b[1;33m\u001b[0m\u001b[1;33m\u001b[0m\u001b[0m\n\u001b[0m\u001b[0;32m    842\u001b[0m         \u001b[1;32mdel\u001b[0m \u001b[0mzflo\u001b[0m\u001b[1;33m\u001b[0m\u001b[1;33m\u001b[0m\u001b[0m\n\u001b[0;32m    843\u001b[0m \u001b[1;33m\u001b[0m\u001b[0m\n",
      "\u001b[1;32mD:\\Anaconda3\\lib\\site-packages\\xlrd\\xlsx.py\u001b[0m in \u001b[0;36mown_process_stream\u001b[1;34m(self, stream, heading)\u001b[0m\n\u001b[0;32m    546\u001b[0m         \u001b[0mrow_tag\u001b[0m \u001b[1;33m=\u001b[0m \u001b[0mU_SSML12\u001b[0m \u001b[1;33m+\u001b[0m \u001b[1;34m\"row\"\u001b[0m\u001b[1;33m\u001b[0m\u001b[1;33m\u001b[0m\u001b[0m\n\u001b[0;32m    547\u001b[0m         \u001b[0mself_do_row\u001b[0m \u001b[1;33m=\u001b[0m \u001b[0mself\u001b[0m\u001b[1;33m.\u001b[0m\u001b[0mdo_row\u001b[0m\u001b[1;33m\u001b[0m\u001b[1;33m\u001b[0m\u001b[0m\n\u001b[1;32m--> 548\u001b[1;33m         \u001b[1;32mfor\u001b[0m \u001b[0mevent\u001b[0m\u001b[1;33m,\u001b[0m \u001b[0melem\u001b[0m \u001b[1;32min\u001b[0m \u001b[0mET\u001b[0m\u001b[1;33m.\u001b[0m\u001b[0miterparse\u001b[0m\u001b[1;33m(\u001b[0m\u001b[0mstream\u001b[0m\u001b[1;33m)\u001b[0m\u001b[1;33m:\u001b[0m\u001b[1;33m\u001b[0m\u001b[1;33m\u001b[0m\u001b[0m\n\u001b[0m\u001b[0;32m    549\u001b[0m             \u001b[1;32mif\u001b[0m \u001b[0melem\u001b[0m\u001b[1;33m.\u001b[0m\u001b[0mtag\u001b[0m \u001b[1;33m==\u001b[0m \u001b[0mrow_tag\u001b[0m\u001b[1;33m:\u001b[0m\u001b[1;33m\u001b[0m\u001b[1;33m\u001b[0m\u001b[0m\n\u001b[0;32m    550\u001b[0m                 \u001b[0mself_do_row\u001b[0m\u001b[1;33m(\u001b[0m\u001b[0melem\u001b[0m\u001b[1;33m)\u001b[0m\u001b[1;33m\u001b[0m\u001b[1;33m\u001b[0m\u001b[0m\n",
      "\u001b[1;32mD:\\Anaconda3\\lib\\xml\\etree\\ElementTree.py\u001b[0m in \u001b[0;36miterator\u001b[1;34m()\u001b[0m\n\u001b[0;32m   1221\u001b[0m                 \u001b[1;32myield\u001b[0m \u001b[1;32mfrom\u001b[0m \u001b[0mpullparser\u001b[0m\u001b[1;33m.\u001b[0m\u001b[0mread_events\u001b[0m\u001b[1;33m(\u001b[0m\u001b[1;33m)\u001b[0m\u001b[1;33m\u001b[0m\u001b[1;33m\u001b[0m\u001b[0m\n\u001b[0;32m   1222\u001b[0m                 \u001b[1;31m# load event buffer\u001b[0m\u001b[1;33m\u001b[0m\u001b[1;33m\u001b[0m\u001b[1;33m\u001b[0m\u001b[0m\n\u001b[1;32m-> 1223\u001b[1;33m                 \u001b[0mdata\u001b[0m \u001b[1;33m=\u001b[0m \u001b[0msource\u001b[0m\u001b[1;33m.\u001b[0m\u001b[0mread\u001b[0m\u001b[1;33m(\u001b[0m\u001b[1;36m16\u001b[0m \u001b[1;33m*\u001b[0m \u001b[1;36m1024\u001b[0m\u001b[1;33m)\u001b[0m\u001b[1;33m\u001b[0m\u001b[1;33m\u001b[0m\u001b[0m\n\u001b[0m\u001b[0;32m   1224\u001b[0m                 \u001b[1;32mif\u001b[0m \u001b[1;32mnot\u001b[0m \u001b[0mdata\u001b[0m\u001b[1;33m:\u001b[0m\u001b[1;33m\u001b[0m\u001b[1;33m\u001b[0m\u001b[0m\n\u001b[0;32m   1225\u001b[0m                     \u001b[1;32mbreak\u001b[0m\u001b[1;33m\u001b[0m\u001b[1;33m\u001b[0m\u001b[0m\n",
      "\u001b[1;32mD:\\Anaconda3\\lib\\zipfile.py\u001b[0m in \u001b[0;36mread\u001b[1;34m(self, n)\u001b[0m\n\u001b[0;32m    870\u001b[0m         \u001b[0mself\u001b[0m\u001b[1;33m.\u001b[0m\u001b[0m_offset\u001b[0m \u001b[1;33m=\u001b[0m \u001b[1;36m0\u001b[0m\u001b[1;33m\u001b[0m\u001b[1;33m\u001b[0m\u001b[0m\n\u001b[0;32m    871\u001b[0m         \u001b[1;32mwhile\u001b[0m \u001b[0mn\u001b[0m \u001b[1;33m>\u001b[0m \u001b[1;36m0\u001b[0m \u001b[1;32mand\u001b[0m \u001b[1;32mnot\u001b[0m \u001b[0mself\u001b[0m\u001b[1;33m.\u001b[0m\u001b[0m_eof\u001b[0m\u001b[1;33m:\u001b[0m\u001b[1;33m\u001b[0m\u001b[1;33m\u001b[0m\u001b[0m\n\u001b[1;32m--> 872\u001b[1;33m             \u001b[0mdata\u001b[0m \u001b[1;33m=\u001b[0m \u001b[0mself\u001b[0m\u001b[1;33m.\u001b[0m\u001b[0m_read1\u001b[0m\u001b[1;33m(\u001b[0m\u001b[0mn\u001b[0m\u001b[1;33m)\u001b[0m\u001b[1;33m\u001b[0m\u001b[1;33m\u001b[0m\u001b[0m\n\u001b[0m\u001b[0;32m    873\u001b[0m             \u001b[1;32mif\u001b[0m \u001b[0mn\u001b[0m \u001b[1;33m<\u001b[0m \u001b[0mlen\u001b[0m\u001b[1;33m(\u001b[0m\u001b[0mdata\u001b[0m\u001b[1;33m)\u001b[0m\u001b[1;33m:\u001b[0m\u001b[1;33m\u001b[0m\u001b[1;33m\u001b[0m\u001b[0m\n\u001b[0;32m    874\u001b[0m                 \u001b[0mself\u001b[0m\u001b[1;33m.\u001b[0m\u001b[0m_readbuffer\u001b[0m \u001b[1;33m=\u001b[0m \u001b[0mdata\u001b[0m\u001b[1;33m\u001b[0m\u001b[1;33m\u001b[0m\u001b[0m\n",
      "\u001b[1;32mD:\\Anaconda3\\lib\\zipfile.py\u001b[0m in \u001b[0;36m_read1\u001b[1;34m(self, n)\u001b[0m\n\u001b[0;32m    960\u001b[0m         \u001b[1;32mif\u001b[0m \u001b[0mself\u001b[0m\u001b[1;33m.\u001b[0m\u001b[0m_left\u001b[0m \u001b[1;33m<=\u001b[0m \u001b[1;36m0\u001b[0m\u001b[1;33m:\u001b[0m\u001b[1;33m\u001b[0m\u001b[1;33m\u001b[0m\u001b[0m\n\u001b[0;32m    961\u001b[0m             \u001b[0mself\u001b[0m\u001b[1;33m.\u001b[0m\u001b[0m_eof\u001b[0m \u001b[1;33m=\u001b[0m \u001b[1;32mTrue\u001b[0m\u001b[1;33m\u001b[0m\u001b[1;33m\u001b[0m\u001b[0m\n\u001b[1;32m--> 962\u001b[1;33m         \u001b[0mself\u001b[0m\u001b[1;33m.\u001b[0m\u001b[0m_update_crc\u001b[0m\u001b[1;33m(\u001b[0m\u001b[0mdata\u001b[0m\u001b[1;33m)\u001b[0m\u001b[1;33m\u001b[0m\u001b[1;33m\u001b[0m\u001b[0m\n\u001b[0m\u001b[0;32m    963\u001b[0m         \u001b[1;32mreturn\u001b[0m \u001b[0mdata\u001b[0m\u001b[1;33m\u001b[0m\u001b[1;33m\u001b[0m\u001b[0m\n\u001b[0;32m    964\u001b[0m \u001b[1;33m\u001b[0m\u001b[0m\n",
      "\u001b[1;32mD:\\Anaconda3\\lib\\zipfile.py\u001b[0m in \u001b[0;36m_update_crc\u001b[1;34m(self, newdata)\u001b[0m\n\u001b[0;32m    885\u001b[0m             \u001b[1;31m# No need to compute the CRC if we don't have a reference value\u001b[0m\u001b[1;33m\u001b[0m\u001b[1;33m\u001b[0m\u001b[1;33m\u001b[0m\u001b[0m\n\u001b[0;32m    886\u001b[0m             \u001b[1;32mreturn\u001b[0m\u001b[1;33m\u001b[0m\u001b[1;33m\u001b[0m\u001b[0m\n\u001b[1;32m--> 887\u001b[1;33m         \u001b[0mself\u001b[0m\u001b[1;33m.\u001b[0m\u001b[0m_running_crc\u001b[0m \u001b[1;33m=\u001b[0m \u001b[0mcrc32\u001b[0m\u001b[1;33m(\u001b[0m\u001b[0mnewdata\u001b[0m\u001b[1;33m,\u001b[0m \u001b[0mself\u001b[0m\u001b[1;33m.\u001b[0m\u001b[0m_running_crc\u001b[0m\u001b[1;33m)\u001b[0m\u001b[1;33m\u001b[0m\u001b[1;33m\u001b[0m\u001b[0m\n\u001b[0m\u001b[0;32m    888\u001b[0m         \u001b[1;31m# Check the CRC if we're at the end of the file\u001b[0m\u001b[1;33m\u001b[0m\u001b[1;33m\u001b[0m\u001b[1;33m\u001b[0m\u001b[0m\n\u001b[0;32m    889\u001b[0m         \u001b[1;32mif\u001b[0m \u001b[0mself\u001b[0m\u001b[1;33m.\u001b[0m\u001b[0m_eof\u001b[0m \u001b[1;32mand\u001b[0m \u001b[0mself\u001b[0m\u001b[1;33m.\u001b[0m\u001b[0m_running_crc\u001b[0m \u001b[1;33m!=\u001b[0m \u001b[0mself\u001b[0m\u001b[1;33m.\u001b[0m\u001b[0m_expected_crc\u001b[0m\u001b[1;33m:\u001b[0m\u001b[1;33m\u001b[0m\u001b[1;33m\u001b[0m\u001b[0m\n",
      "\u001b[1;31mKeyboardInterrupt\u001b[0m: "
     ]
    }
   ],
   "source": [
    "# 世纪坛医院--人口学数据\n",
    "df_popu_2 = pd.read_excel(r'./data/raw_data/首都医科大学附属北京世纪坛医院—阿托他汀临床疗效及安全性评价的真实世界研究-住院+门诊-2018.3.23-2020.3.xlsx',\n",
    "                              sheet_name='患者')"
   ]
  },
  {
   "cell_type": "code",
   "execution_count": null,
   "metadata": {},
   "outputs": [],
   "source": [
    "df_popu_2.shape"
   ]
  },
  {
   "cell_type": "code",
   "execution_count": null,
   "metadata": {},
   "outputs": [],
   "source": [
    "df_popu_2.columns"
   ]
  },
  {
   "cell_type": "code",
   "execution_count": null,
   "metadata": {},
   "outputs": [],
   "source": [
    "df_popu_2 = df_popu_2[['patient_SN', '性别', '出生日期']]\n",
    "df_popu_2.rename(columns={'patient_SN':'患者编号'},inplace=True)"
   ]
  },
  {
   "cell_type": "markdown",
   "metadata": {},
   "source": [
    "### 合并人口学特征"
   ]
  },
  {
   "cell_type": "code",
   "execution_count": null,
   "metadata": {},
   "outputs": [],
   "source": [
    "df_popu = pd.concat([df_popu_1,df_popu_2],axis=0).reset_index(drop=True)"
   ]
  },
  {
   "cell_type": "code",
   "execution_count": null,
   "metadata": {},
   "outputs": [],
   "source": [
    "df_popu.shape"
   ]
  },
  {
   "cell_type": "code",
   "execution_count": null,
   "metadata": {},
   "outputs": [],
   "source": [
    "# 删除重复数据\n",
    "df_popu = df_popu.drop_duplicates(df_popu.columns, keep='first')"
   ]
  },
  {
   "cell_type": "code",
   "execution_count": null,
   "metadata": {},
   "outputs": [],
   "source": [
    "df_popu.shape"
   ]
  },
  {
   "cell_type": "code",
   "execution_count": null,
   "metadata": {},
   "outputs": [],
   "source": [
    "df_popu.head()"
   ]
  },
  {
   "cell_type": "code",
   "execution_count": null,
   "metadata": {},
   "outputs": [],
   "source": [
    "df_popu.to_csv(project_path+'/data/processed_data/df_3.5.3_合并人口学特征.csv')"
   ]
  },
  {
   "cell_type": "code",
   "execution_count": 716,
   "metadata": {},
   "outputs": [],
   "source": [
    "df_popu=pd.read_csv(project_path+'/data/processed_data/df_3.5.3_合并人口学特征.csv')\n",
    "if 'Unnamed: 0' in df_popu.columns:\n",
    "    del df_popu['Unnamed: 0']"
   ]
  },
  {
   "cell_type": "code",
   "execution_count": 717,
   "metadata": {},
   "outputs": [
    {
     "data": {
      "text/plain": [
       "Index(['患者编号', '性别', '出生日期'], dtype='object')"
      ]
     },
     "execution_count": 717,
     "metadata": {},
     "output_type": "execute_result"
    }
   ],
   "source": [
    "df_popu.columns"
   ]
  },
  {
   "cell_type": "markdown",
   "metadata": {},
   "source": [
    "### 并入人口学特征"
   ]
  },
  {
   "cell_type": "code",
   "execution_count": 718,
   "metadata": {},
   "outputs": [],
   "source": [
    "# 性别：男-1；女-0\n",
    "df_popu['性别'] = df_popu.性别.apply(lambda x: 1 if re.match('男',x) else 0)"
   ]
  },
  {
   "cell_type": "code",
   "execution_count": 719,
   "metadata": {},
   "outputs": [
    {
     "data": {
      "text/plain": [
       "1    34957\n",
       "0    30847\n",
       "Name: 性别, dtype: int64"
      ]
     },
     "execution_count": 719,
     "metadata": {},
     "output_type": "execute_result"
    }
   ],
   "source": [
    "df_popu.性别.value_counts()"
   ]
  },
  {
   "cell_type": "code",
   "execution_count": 720,
   "metadata": {},
   "outputs": [],
   "source": [
    "# 提取出生年\n",
    "df_popu['出生日期'] = df_popu.出生日期.apply(lambda x: np.nan if pd.isnull(x) else\n",
    "                                     str(x).split('-')[0] if '-' in str(x) else x)"
   ]
  },
  {
   "cell_type": "code",
   "execution_count": 721,
   "metadata": {},
   "outputs": [
    {
     "data": {
      "text/html": [
       "<div>\n",
       "<style scoped>\n",
       "    .dataframe tbody tr th:only-of-type {\n",
       "        vertical-align: middle;\n",
       "    }\n",
       "\n",
       "    .dataframe tbody tr th {\n",
       "        vertical-align: top;\n",
       "    }\n",
       "\n",
       "    .dataframe thead th {\n",
       "        text-align: right;\n",
       "    }\n",
       "</style>\n",
       "<table border=\"1\" class=\"dataframe\">\n",
       "  <thead>\n",
       "    <tr style=\"text-align: right;\">\n",
       "      <th></th>\n",
       "      <th>患者编号</th>\n",
       "      <th>性别</th>\n",
       "      <th>出生日期</th>\n",
       "    </tr>\n",
       "  </thead>\n",
       "  <tbody>\n",
       "    <tr>\n",
       "      <th>0</th>\n",
       "      <td>pat_0d9297a346707bce01f0b4637484efe9</td>\n",
       "      <td>0</td>\n",
       "      <td>1956.0</td>\n",
       "    </tr>\n",
       "    <tr>\n",
       "      <th>1</th>\n",
       "      <td>pat_0ebd83a8c3990a103016a650f84616f8</td>\n",
       "      <td>0</td>\n",
       "      <td>1962.0</td>\n",
       "    </tr>\n",
       "    <tr>\n",
       "      <th>2</th>\n",
       "      <td>pat_13da443c402ad02c9e9de0c5c0751eda</td>\n",
       "      <td>0</td>\n",
       "      <td>1973.0</td>\n",
       "    </tr>\n",
       "    <tr>\n",
       "      <th>3</th>\n",
       "      <td>pat_2c40bef1b35d17984b1d393c6be55688</td>\n",
       "      <td>0</td>\n",
       "      <td>1952.0</td>\n",
       "    </tr>\n",
       "    <tr>\n",
       "      <th>4</th>\n",
       "      <td>pat_0f6bf632666460422c4923f591ede61f</td>\n",
       "      <td>0</td>\n",
       "      <td>1943.0</td>\n",
       "    </tr>\n",
       "  </tbody>\n",
       "</table>\n",
       "</div>"
      ],
      "text/plain": [
       "                                   患者编号  性别    出生日期\n",
       "0  pat_0d9297a346707bce01f0b4637484efe9   0  1956.0\n",
       "1  pat_0ebd83a8c3990a103016a650f84616f8   0  1962.0\n",
       "2  pat_13da443c402ad02c9e9de0c5c0751eda   0  1973.0\n",
       "3  pat_2c40bef1b35d17984b1d393c6be55688   0  1952.0\n",
       "4  pat_0f6bf632666460422c4923f591ede61f   0  1943.0"
      ]
     },
     "execution_count": 721,
     "metadata": {},
     "output_type": "execute_result"
    }
   ],
   "source": [
    "df_popu.head()"
   ]
  },
  {
   "cell_type": "code",
   "execution_count": 722,
   "metadata": {},
   "outputs": [
    {
     "data": {
      "text/plain": [
       "Index(['data_source', '患者编号', '药物通用名称', '医嘱开始时间', '医嘱停止时间', '药物规格', '药物剂量',\n",
       "       '药物剂量单位名称', '频率名称', '开药总数量', '开药总数量单位名称', '药物剂型', '用药时长', '医嘱开始日期',\n",
       "       '日剂量', '开药总剂量', 'resuvatin_brand', '瑞舒伐他汀', '阿托伐他汀', '匹伐他汀', '氟伐他汀',\n",
       "       '氨氯地平阿托伐他汀', '辛伐他汀', '洛伐他汀', '冠心病', '高脂血症', '冠心病_高脂血症'],\n",
       "      dtype='object')"
      ]
     },
     "execution_count": 722,
     "metadata": {},
     "output_type": "execute_result"
    }
   ],
   "source": [
    "df_drug_vatin_cancer.columns"
   ]
  },
  {
   "cell_type": "code",
   "execution_count": 723,
   "metadata": {},
   "outputs": [],
   "source": [
    "# 计算年龄\n",
    "# 初次用药年\n",
    "df_drug_vatin_popu = df_drug_vatin_cancer.copy().sort_values(['患者编号','医嘱开始时间'])[['患者编号','医嘱开始时间']].reset_index(drop=True)\n",
    "df_drug_vatin_popu = df_drug_vatin_popu.drop_duplicates(['患者编号'],keep='first').rename(columns={'医嘱开始时间':'初次用药年'})\n",
    "df_drug_vatin_popu['初次用药年']=df_drug_vatin_popu.初次用药年.apply(lambda x: str(x).split('-')[0])"
   ]
  },
  {
   "cell_type": "code",
   "execution_count": 724,
   "metadata": {},
   "outputs": [],
   "source": [
    "# 计算年龄\n",
    "df_drug_vatin_popu = df_drug_vatin_cancer.copy().reset_index(drop=True)\n",
    "df_drug_start_time = df_drug_vatin_popu.sort_values(['患者编号','医嘱开始时间']).drop_duplicates(['患者编号'],keep='first')\n",
    "df_drug_start_time = df_drug_start_time[['患者编号','医嘱开始时间']].rename(columns={'医嘱开始时间':'初次用药年'})\n",
    "df_drug_start_time['初次用药年'] =df_drug_start_time.初次用药年.apply(lambda x: str(x).split('-')[0])\n",
    "# 并入到用药数据\n",
    "df_drug_vatin_popu = pd.merge(df_drug_vatin_popu,df_drug_start_time,on='患者编号',how='left')\n",
    "# 并入人口学特征\n",
    "df_drug_vatin_popu = pd.merge(df_drug_vatin_popu,df_popu,on='患者编号',how='left')\n",
    "# 计算年龄\n",
    "df_drug_vatin_popu['年龄'] = df_drug_vatin_popu.apply(lambda x:  np.nan if pd.isnull(x['出生日期']) else\n",
    "                                                                        float(x['初次用药年'])-float(x['出生日期']) ,axis=1)"
   ]
  },
  {
   "cell_type": "code",
   "execution_count": 725,
   "metadata": {},
   "outputs": [
    {
     "data": {
      "text/plain": [
       "Index(['data_source', '患者编号', '药物通用名称', '医嘱开始时间', '医嘱停止时间', '药物规格', '药物剂量',\n",
       "       '药物剂量单位名称', '频率名称', '开药总数量', '开药总数量单位名称', '药物剂型', '用药时长', '医嘱开始日期',\n",
       "       '日剂量', '开药总剂量', 'resuvatin_brand', '瑞舒伐他汀', '阿托伐他汀', '匹伐他汀', '氟伐他汀',\n",
       "       '氨氯地平阿托伐他汀', '辛伐他汀', '洛伐他汀', '冠心病', '高脂血症', '冠心病_高脂血症', '初次用药年', '性别',\n",
       "       '出生日期', '年龄'],\n",
       "      dtype='object')"
      ]
     },
     "execution_count": 725,
     "metadata": {},
     "output_type": "execute_result"
    }
   ],
   "source": [
    "df_drug_vatin_popu.columns"
   ]
  },
  {
   "cell_type": "code",
   "execution_count": 726,
   "metadata": {},
   "outputs": [
    {
     "data": {
      "text/html": [
       "<div>\n",
       "<style scoped>\n",
       "    .dataframe tbody tr th:only-of-type {\n",
       "        vertical-align: middle;\n",
       "    }\n",
       "\n",
       "    .dataframe tbody tr th {\n",
       "        vertical-align: top;\n",
       "    }\n",
       "\n",
       "    .dataframe thead th {\n",
       "        text-align: right;\n",
       "    }\n",
       "</style>\n",
       "<table border=\"1\" class=\"dataframe\">\n",
       "  <thead>\n",
       "    <tr style=\"text-align: right;\">\n",
       "      <th></th>\n",
       "      <th>data_source</th>\n",
       "      <th>患者编号</th>\n",
       "      <th>药物通用名称</th>\n",
       "      <th>医嘱开始时间</th>\n",
       "      <th>医嘱停止时间</th>\n",
       "      <th>药物规格</th>\n",
       "      <th>药物剂量</th>\n",
       "      <th>药物剂量单位名称</th>\n",
       "      <th>频率名称</th>\n",
       "      <th>开药总数量</th>\n",
       "      <th>...</th>\n",
       "      <th>氨氯地平阿托伐他汀</th>\n",
       "      <th>辛伐他汀</th>\n",
       "      <th>洛伐他汀</th>\n",
       "      <th>冠心病</th>\n",
       "      <th>高脂血症</th>\n",
       "      <th>冠心病_高脂血症</th>\n",
       "      <th>初次用药年</th>\n",
       "      <th>性别</th>\n",
       "      <th>出生日期</th>\n",
       "      <th>年龄</th>\n",
       "    </tr>\n",
       "  </thead>\n",
       "  <tbody>\n",
       "    <tr>\n",
       "      <th>0</th>\n",
       "      <td>世纪坛医院</td>\n",
       "      <td>0020640c4052f1dae97fcf39be390e1b</td>\n",
       "      <td>瑞舒伐他汀钙片(10mg/片(ZX))</td>\n",
       "      <td>2019-04-04 15:35:28</td>\n",
       "      <td>2019-04-09 07:42:00</td>\n",
       "      <td>10mg*28片(ZX)</td>\n",
       "      <td>10.0</td>\n",
       "      <td>NaN</td>\n",
       "      <td>1.0</td>\n",
       "      <td>NaN</td>\n",
       "      <td>...</td>\n",
       "      <td>0</td>\n",
       "      <td>0</td>\n",
       "      <td>0</td>\n",
       "      <td>1</td>\n",
       "      <td>1</td>\n",
       "      <td>1</td>\n",
       "      <td>2019</td>\n",
       "      <td>0</td>\n",
       "      <td>1952</td>\n",
       "      <td>67.0</td>\n",
       "    </tr>\n",
       "    <tr>\n",
       "      <th>1</th>\n",
       "      <td>世纪坛医院</td>\n",
       "      <td>0020640c4052f1dae97fcf39be390e1b</td>\n",
       "      <td>瑞舒伐他汀钙片(10mg/片(ZX))</td>\n",
       "      <td>2019-04-16 00:00:00</td>\n",
       "      <td>2019-05-13 00:00:00</td>\n",
       "      <td>瑞舒伐他汀钙片(10mg/片(ZX))10mg*28片(ZX)</td>\n",
       "      <td>20.0</td>\n",
       "      <td>NaN</td>\n",
       "      <td>1.0</td>\n",
       "      <td>NaN</td>\n",
       "      <td>...</td>\n",
       "      <td>0</td>\n",
       "      <td>0</td>\n",
       "      <td>0</td>\n",
       "      <td>1</td>\n",
       "      <td>1</td>\n",
       "      <td>1</td>\n",
       "      <td>2019</td>\n",
       "      <td>0</td>\n",
       "      <td>1952</td>\n",
       "      <td>67.0</td>\n",
       "    </tr>\n",
       "  </tbody>\n",
       "</table>\n",
       "<p>2 rows × 31 columns</p>\n",
       "</div>"
      ],
      "text/plain": [
       "  data_source                              患者编号               药物通用名称  \\\n",
       "0       世纪坛医院  0020640c4052f1dae97fcf39be390e1b  瑞舒伐他汀钙片(10mg/片(ZX))   \n",
       "1       世纪坛医院  0020640c4052f1dae97fcf39be390e1b  瑞舒伐他汀钙片(10mg/片(ZX))   \n",
       "\n",
       "                医嘱开始时间               医嘱停止时间                             药物规格  \\\n",
       "0  2019-04-04 15:35:28  2019-04-09 07:42:00                     10mg*28片(ZX)   \n",
       "1  2019-04-16 00:00:00  2019-05-13 00:00:00  瑞舒伐他汀钙片(10mg/片(ZX))10mg*28片(ZX)   \n",
       "\n",
       "   药物剂量 药物剂量单位名称  频率名称  开药总数量  ... 氨氯地平阿托伐他汀 辛伐他汀  洛伐他汀 冠心病  高脂血症  冠心病_高脂血症  \\\n",
       "0  10.0      NaN   1.0    NaN  ...         0    0     0   1     1         1   \n",
       "1  20.0      NaN   1.0    NaN  ...         0    0     0   1     1         1   \n",
       "\n",
       "  初次用药年  性别  出生日期    年龄  \n",
       "0  2019   0  1952  67.0  \n",
       "1  2019   0  1952  67.0  \n",
       "\n",
       "[2 rows x 31 columns]"
      ]
     },
     "execution_count": 726,
     "metadata": {},
     "output_type": "execute_result"
    }
   ],
   "source": [
    "df_drug_vatin_popu.head(2)"
   ]
  },
  {
   "cell_type": "code",
   "execution_count": 727,
   "metadata": {},
   "outputs": [],
   "source": [
    "df_drug_vatin_popu.to_csv(project_path+'/data/processed_data/政策性/df_3.5.4_并入人口学特征.csv')"
   ]
  },
  {
   "cell_type": "markdown",
   "metadata": {},
   "source": [
    "## 个人史既往史"
   ]
  },
  {
   "cell_type": "markdown",
   "metadata": {},
   "source": [
    "### 人民医院--既往史"
   ]
  },
  {
   "cell_type": "code",
   "execution_count": 230,
   "metadata": {
    "collapsed": true
   },
   "outputs": [
    {
     "ename": "KeyboardInterrupt",
     "evalue": "",
     "output_type": "error",
     "traceback": [
      "\u001b[1;31m---------------------------------------------------------------------------\u001b[0m",
      "\u001b[1;31mKeyboardInterrupt\u001b[0m                         Traceback (most recent call last)",
      "\u001b[1;32m<ipython-input-230-8b6ba822392f>\u001b[0m in \u001b[0;36m<module>\u001b[1;34m\u001b[0m\n\u001b[1;32m----> 1\u001b[1;33m \u001b[0mdf_history_1\u001b[0m \u001b[1;33m=\u001b[0m \u001b[0mpd\u001b[0m\u001b[1;33m.\u001b[0m\u001b[0mread_excel\u001b[0m\u001b[1;33m(\u001b[0m\u001b[1;34mr'./data/raw_data/人民医院/5-病史（1诉5史）.xlsx'\u001b[0m\u001b[1;33m)\u001b[0m\u001b[1;33m\u001b[0m\u001b[1;33m\u001b[0m\u001b[0m\n\u001b[0m",
      "\u001b[1;32mD:\\Anaconda3\\lib\\site-packages\\pandas\\util\\_decorators.py\u001b[0m in \u001b[0;36mwrapper\u001b[1;34m(*args, **kwargs)\u001b[0m\n\u001b[0;32m    206\u001b[0m                 \u001b[1;32melse\u001b[0m\u001b[1;33m:\u001b[0m\u001b[1;33m\u001b[0m\u001b[1;33m\u001b[0m\u001b[0m\n\u001b[0;32m    207\u001b[0m                     \u001b[0mkwargs\u001b[0m\u001b[1;33m[\u001b[0m\u001b[0mnew_arg_name\u001b[0m\u001b[1;33m]\u001b[0m \u001b[1;33m=\u001b[0m \u001b[0mnew_arg_value\u001b[0m\u001b[1;33m\u001b[0m\u001b[1;33m\u001b[0m\u001b[0m\n\u001b[1;32m--> 208\u001b[1;33m             \u001b[1;32mreturn\u001b[0m \u001b[0mfunc\u001b[0m\u001b[1;33m(\u001b[0m\u001b[1;33m*\u001b[0m\u001b[0margs\u001b[0m\u001b[1;33m,\u001b[0m \u001b[1;33m**\u001b[0m\u001b[0mkwargs\u001b[0m\u001b[1;33m)\u001b[0m\u001b[1;33m\u001b[0m\u001b[1;33m\u001b[0m\u001b[0m\n\u001b[0m\u001b[0;32m    209\u001b[0m \u001b[1;33m\u001b[0m\u001b[0m\n\u001b[0;32m    210\u001b[0m         \u001b[1;32mreturn\u001b[0m \u001b[0mwrapper\u001b[0m\u001b[1;33m\u001b[0m\u001b[1;33m\u001b[0m\u001b[0m\n",
      "\u001b[1;32mD:\\Anaconda3\\lib\\site-packages\\pandas\\io\\excel\\_base.py\u001b[0m in \u001b[0;36mread_excel\u001b[1;34m(io, sheet_name, header, names, index_col, usecols, squeeze, dtype, engine, converters, true_values, false_values, skiprows, nrows, na_values, keep_default_na, verbose, parse_dates, date_parser, thousands, comment, skip_footer, skipfooter, convert_float, mangle_dupe_cols, **kwds)\u001b[0m\n\u001b[0;32m    308\u001b[0m \u001b[1;33m\u001b[0m\u001b[0m\n\u001b[0;32m    309\u001b[0m     \u001b[1;32mif\u001b[0m \u001b[1;32mnot\u001b[0m \u001b[0misinstance\u001b[0m\u001b[1;33m(\u001b[0m\u001b[0mio\u001b[0m\u001b[1;33m,\u001b[0m \u001b[0mExcelFile\u001b[0m\u001b[1;33m)\u001b[0m\u001b[1;33m:\u001b[0m\u001b[1;33m\u001b[0m\u001b[1;33m\u001b[0m\u001b[0m\n\u001b[1;32m--> 310\u001b[1;33m         \u001b[0mio\u001b[0m \u001b[1;33m=\u001b[0m \u001b[0mExcelFile\u001b[0m\u001b[1;33m(\u001b[0m\u001b[0mio\u001b[0m\u001b[1;33m,\u001b[0m \u001b[0mengine\u001b[0m\u001b[1;33m=\u001b[0m\u001b[0mengine\u001b[0m\u001b[1;33m)\u001b[0m\u001b[1;33m\u001b[0m\u001b[1;33m\u001b[0m\u001b[0m\n\u001b[0m\u001b[0;32m    311\u001b[0m     \u001b[1;32melif\u001b[0m \u001b[0mengine\u001b[0m \u001b[1;32mand\u001b[0m \u001b[0mengine\u001b[0m \u001b[1;33m!=\u001b[0m \u001b[0mio\u001b[0m\u001b[1;33m.\u001b[0m\u001b[0mengine\u001b[0m\u001b[1;33m:\u001b[0m\u001b[1;33m\u001b[0m\u001b[1;33m\u001b[0m\u001b[0m\n\u001b[0;32m    312\u001b[0m         raise ValueError(\n",
      "\u001b[1;32mD:\\Anaconda3\\lib\\site-packages\\pandas\\io\\excel\\_base.py\u001b[0m in \u001b[0;36m__init__\u001b[1;34m(self, io, engine)\u001b[0m\n\u001b[0;32m    817\u001b[0m         \u001b[0mself\u001b[0m\u001b[1;33m.\u001b[0m\u001b[0m_io\u001b[0m \u001b[1;33m=\u001b[0m \u001b[0m_stringify_path\u001b[0m\u001b[1;33m(\u001b[0m\u001b[0mio\u001b[0m\u001b[1;33m)\u001b[0m\u001b[1;33m\u001b[0m\u001b[1;33m\u001b[0m\u001b[0m\n\u001b[0;32m    818\u001b[0m \u001b[1;33m\u001b[0m\u001b[0m\n\u001b[1;32m--> 819\u001b[1;33m         \u001b[0mself\u001b[0m\u001b[1;33m.\u001b[0m\u001b[0m_reader\u001b[0m \u001b[1;33m=\u001b[0m \u001b[0mself\u001b[0m\u001b[1;33m.\u001b[0m\u001b[0m_engines\u001b[0m\u001b[1;33m[\u001b[0m\u001b[0mengine\u001b[0m\u001b[1;33m]\u001b[0m\u001b[1;33m(\u001b[0m\u001b[0mself\u001b[0m\u001b[1;33m.\u001b[0m\u001b[0m_io\u001b[0m\u001b[1;33m)\u001b[0m\u001b[1;33m\u001b[0m\u001b[1;33m\u001b[0m\u001b[0m\n\u001b[0m\u001b[0;32m    820\u001b[0m \u001b[1;33m\u001b[0m\u001b[0m\n\u001b[0;32m    821\u001b[0m     \u001b[1;32mdef\u001b[0m \u001b[0m__fspath__\u001b[0m\u001b[1;33m(\u001b[0m\u001b[0mself\u001b[0m\u001b[1;33m)\u001b[0m\u001b[1;33m:\u001b[0m\u001b[1;33m\u001b[0m\u001b[1;33m\u001b[0m\u001b[0m\n",
      "\u001b[1;32mD:\\Anaconda3\\lib\\site-packages\\pandas\\io\\excel\\_xlrd.py\u001b[0m in \u001b[0;36m__init__\u001b[1;34m(self, filepath_or_buffer)\u001b[0m\n\u001b[0;32m     19\u001b[0m         \u001b[0merr_msg\u001b[0m \u001b[1;33m=\u001b[0m \u001b[1;34m\"Install xlrd >= 1.0.0 for Excel support\"\u001b[0m\u001b[1;33m\u001b[0m\u001b[1;33m\u001b[0m\u001b[0m\n\u001b[0;32m     20\u001b[0m         \u001b[0mimport_optional_dependency\u001b[0m\u001b[1;33m(\u001b[0m\u001b[1;34m\"xlrd\"\u001b[0m\u001b[1;33m,\u001b[0m \u001b[0mextra\u001b[0m\u001b[1;33m=\u001b[0m\u001b[0merr_msg\u001b[0m\u001b[1;33m)\u001b[0m\u001b[1;33m\u001b[0m\u001b[1;33m\u001b[0m\u001b[0m\n\u001b[1;32m---> 21\u001b[1;33m         \u001b[0msuper\u001b[0m\u001b[1;33m(\u001b[0m\u001b[1;33m)\u001b[0m\u001b[1;33m.\u001b[0m\u001b[0m__init__\u001b[0m\u001b[1;33m(\u001b[0m\u001b[0mfilepath_or_buffer\u001b[0m\u001b[1;33m)\u001b[0m\u001b[1;33m\u001b[0m\u001b[1;33m\u001b[0m\u001b[0m\n\u001b[0m\u001b[0;32m     22\u001b[0m \u001b[1;33m\u001b[0m\u001b[0m\n\u001b[0;32m     23\u001b[0m     \u001b[1;33m@\u001b[0m\u001b[0mproperty\u001b[0m\u001b[1;33m\u001b[0m\u001b[1;33m\u001b[0m\u001b[0m\n",
      "\u001b[1;32mD:\\Anaconda3\\lib\\site-packages\\pandas\\io\\excel\\_base.py\u001b[0m in \u001b[0;36m__init__\u001b[1;34m(self, filepath_or_buffer)\u001b[0m\n\u001b[0;32m    357\u001b[0m             \u001b[0mself\u001b[0m\u001b[1;33m.\u001b[0m\u001b[0mbook\u001b[0m \u001b[1;33m=\u001b[0m \u001b[0mself\u001b[0m\u001b[1;33m.\u001b[0m\u001b[0mload_workbook\u001b[0m\u001b[1;33m(\u001b[0m\u001b[0mfilepath_or_buffer\u001b[0m\u001b[1;33m)\u001b[0m\u001b[1;33m\u001b[0m\u001b[1;33m\u001b[0m\u001b[0m\n\u001b[0;32m    358\u001b[0m         \u001b[1;32melif\u001b[0m \u001b[0misinstance\u001b[0m\u001b[1;33m(\u001b[0m\u001b[0mfilepath_or_buffer\u001b[0m\u001b[1;33m,\u001b[0m \u001b[0mstr\u001b[0m\u001b[1;33m)\u001b[0m\u001b[1;33m:\u001b[0m\u001b[1;33m\u001b[0m\u001b[1;33m\u001b[0m\u001b[0m\n\u001b[1;32m--> 359\u001b[1;33m             \u001b[0mself\u001b[0m\u001b[1;33m.\u001b[0m\u001b[0mbook\u001b[0m \u001b[1;33m=\u001b[0m \u001b[0mself\u001b[0m\u001b[1;33m.\u001b[0m\u001b[0mload_workbook\u001b[0m\u001b[1;33m(\u001b[0m\u001b[0mfilepath_or_buffer\u001b[0m\u001b[1;33m)\u001b[0m\u001b[1;33m\u001b[0m\u001b[1;33m\u001b[0m\u001b[0m\n\u001b[0m\u001b[0;32m    360\u001b[0m         \u001b[1;32melse\u001b[0m\u001b[1;33m:\u001b[0m\u001b[1;33m\u001b[0m\u001b[1;33m\u001b[0m\u001b[0m\n\u001b[0;32m    361\u001b[0m             raise ValueError(\n",
      "\u001b[1;32mD:\\Anaconda3\\lib\\site-packages\\pandas\\io\\excel\\_xlrd.py\u001b[0m in \u001b[0;36mload_workbook\u001b[1;34m(self, filepath_or_buffer)\u001b[0m\n\u001b[0;32m     34\u001b[0m             \u001b[1;32mreturn\u001b[0m \u001b[0mopen_workbook\u001b[0m\u001b[1;33m(\u001b[0m\u001b[0mfile_contents\u001b[0m\u001b[1;33m=\u001b[0m\u001b[0mdata\u001b[0m\u001b[1;33m)\u001b[0m\u001b[1;33m\u001b[0m\u001b[1;33m\u001b[0m\u001b[0m\n\u001b[0;32m     35\u001b[0m         \u001b[1;32melse\u001b[0m\u001b[1;33m:\u001b[0m\u001b[1;33m\u001b[0m\u001b[1;33m\u001b[0m\u001b[0m\n\u001b[1;32m---> 36\u001b[1;33m             \u001b[1;32mreturn\u001b[0m \u001b[0mopen_workbook\u001b[0m\u001b[1;33m(\u001b[0m\u001b[0mfilepath_or_buffer\u001b[0m\u001b[1;33m)\u001b[0m\u001b[1;33m\u001b[0m\u001b[1;33m\u001b[0m\u001b[0m\n\u001b[0m\u001b[0;32m     37\u001b[0m \u001b[1;33m\u001b[0m\u001b[0m\n\u001b[0;32m     38\u001b[0m     \u001b[1;33m@\u001b[0m\u001b[0mproperty\u001b[0m\u001b[1;33m\u001b[0m\u001b[1;33m\u001b[0m\u001b[0m\n",
      "\u001b[1;32mD:\\Anaconda3\\lib\\site-packages\\xlrd\\__init__.py\u001b[0m in \u001b[0;36mopen_workbook\u001b[1;34m(filename, logfile, verbosity, use_mmap, file_contents, encoding_override, formatting_info, on_demand, ragged_rows)\u001b[0m\n\u001b[0;32m    136\u001b[0m                 \u001b[0mformatting_info\u001b[0m\u001b[1;33m=\u001b[0m\u001b[0mformatting_info\u001b[0m\u001b[1;33m,\u001b[0m\u001b[1;33m\u001b[0m\u001b[1;33m\u001b[0m\u001b[0m\n\u001b[0;32m    137\u001b[0m                 \u001b[0mon_demand\u001b[0m\u001b[1;33m=\u001b[0m\u001b[0mon_demand\u001b[0m\u001b[1;33m,\u001b[0m\u001b[1;33m\u001b[0m\u001b[1;33m\u001b[0m\u001b[0m\n\u001b[1;32m--> 138\u001b[1;33m                 \u001b[0mragged_rows\u001b[0m\u001b[1;33m=\u001b[0m\u001b[0mragged_rows\u001b[0m\u001b[1;33m,\u001b[0m\u001b[1;33m\u001b[0m\u001b[1;33m\u001b[0m\u001b[0m\n\u001b[0m\u001b[0;32m    139\u001b[0m             )\n\u001b[0;32m    140\u001b[0m             \u001b[1;32mreturn\u001b[0m \u001b[0mbk\u001b[0m\u001b[1;33m\u001b[0m\u001b[1;33m\u001b[0m\u001b[0m\n",
      "\u001b[1;32mD:\\Anaconda3\\lib\\site-packages\\xlrd\\xlsx.py\u001b[0m in \u001b[0;36mopen_workbook_2007_xml\u001b[1;34m(zf, component_names, logfile, verbosity, use_mmap, formatting_info, on_demand, ragged_rows)\u001b[0m\n\u001b[0;32m    839\u001b[0m         \u001b[0mx12sheet\u001b[0m \u001b[1;33m=\u001b[0m \u001b[0mX12Sheet\u001b[0m\u001b[1;33m(\u001b[0m\u001b[0msheet\u001b[0m\u001b[1;33m,\u001b[0m \u001b[0mlogfile\u001b[0m\u001b[1;33m,\u001b[0m \u001b[0mverbosity\u001b[0m\u001b[1;33m)\u001b[0m\u001b[1;33m\u001b[0m\u001b[1;33m\u001b[0m\u001b[0m\n\u001b[0;32m    840\u001b[0m         \u001b[0mheading\u001b[0m \u001b[1;33m=\u001b[0m \u001b[1;34m\"Sheet %r (sheetx=%d) from %r\"\u001b[0m \u001b[1;33m%\u001b[0m \u001b[1;33m(\u001b[0m\u001b[0msheet\u001b[0m\u001b[1;33m.\u001b[0m\u001b[0mname\u001b[0m\u001b[1;33m,\u001b[0m \u001b[0msheetx\u001b[0m\u001b[1;33m,\u001b[0m \u001b[0mfname\u001b[0m\u001b[1;33m)\u001b[0m\u001b[1;33m\u001b[0m\u001b[1;33m\u001b[0m\u001b[0m\n\u001b[1;32m--> 841\u001b[1;33m         \u001b[0mx12sheet\u001b[0m\u001b[1;33m.\u001b[0m\u001b[0mprocess_stream\u001b[0m\u001b[1;33m(\u001b[0m\u001b[0mzflo\u001b[0m\u001b[1;33m,\u001b[0m \u001b[0mheading\u001b[0m\u001b[1;33m)\u001b[0m\u001b[1;33m\u001b[0m\u001b[1;33m\u001b[0m\u001b[0m\n\u001b[0m\u001b[0;32m    842\u001b[0m         \u001b[1;32mdel\u001b[0m \u001b[0mzflo\u001b[0m\u001b[1;33m\u001b[0m\u001b[1;33m\u001b[0m\u001b[0m\n\u001b[0;32m    843\u001b[0m \u001b[1;33m\u001b[0m\u001b[0m\n",
      "\u001b[1;32mD:\\Anaconda3\\lib\\site-packages\\xlrd\\xlsx.py\u001b[0m in \u001b[0;36mown_process_stream\u001b[1;34m(self, stream, heading)\u001b[0m\n\u001b[0;32m    546\u001b[0m         \u001b[0mrow_tag\u001b[0m \u001b[1;33m=\u001b[0m \u001b[0mU_SSML12\u001b[0m \u001b[1;33m+\u001b[0m \u001b[1;34m\"row\"\u001b[0m\u001b[1;33m\u001b[0m\u001b[1;33m\u001b[0m\u001b[0m\n\u001b[0;32m    547\u001b[0m         \u001b[0mself_do_row\u001b[0m \u001b[1;33m=\u001b[0m \u001b[0mself\u001b[0m\u001b[1;33m.\u001b[0m\u001b[0mdo_row\u001b[0m\u001b[1;33m\u001b[0m\u001b[1;33m\u001b[0m\u001b[0m\n\u001b[1;32m--> 548\u001b[1;33m         \u001b[1;32mfor\u001b[0m \u001b[0mevent\u001b[0m\u001b[1;33m,\u001b[0m \u001b[0melem\u001b[0m \u001b[1;32min\u001b[0m \u001b[0mET\u001b[0m\u001b[1;33m.\u001b[0m\u001b[0miterparse\u001b[0m\u001b[1;33m(\u001b[0m\u001b[0mstream\u001b[0m\u001b[1;33m)\u001b[0m\u001b[1;33m:\u001b[0m\u001b[1;33m\u001b[0m\u001b[1;33m\u001b[0m\u001b[0m\n\u001b[0m\u001b[0;32m    549\u001b[0m             \u001b[1;32mif\u001b[0m \u001b[0melem\u001b[0m\u001b[1;33m.\u001b[0m\u001b[0mtag\u001b[0m \u001b[1;33m==\u001b[0m \u001b[0mrow_tag\u001b[0m\u001b[1;33m:\u001b[0m\u001b[1;33m\u001b[0m\u001b[1;33m\u001b[0m\u001b[0m\n\u001b[0;32m    550\u001b[0m                 \u001b[0mself_do_row\u001b[0m\u001b[1;33m(\u001b[0m\u001b[0melem\u001b[0m\u001b[1;33m)\u001b[0m\u001b[1;33m\u001b[0m\u001b[1;33m\u001b[0m\u001b[0m\n",
      "\u001b[1;32mD:\\Anaconda3\\lib\\xml\\etree\\ElementTree.py\u001b[0m in \u001b[0;36miterator\u001b[1;34m()\u001b[0m\n\u001b[0;32m   1221\u001b[0m                 \u001b[1;32myield\u001b[0m \u001b[1;32mfrom\u001b[0m \u001b[0mpullparser\u001b[0m\u001b[1;33m.\u001b[0m\u001b[0mread_events\u001b[0m\u001b[1;33m(\u001b[0m\u001b[1;33m)\u001b[0m\u001b[1;33m\u001b[0m\u001b[1;33m\u001b[0m\u001b[0m\n\u001b[0;32m   1222\u001b[0m                 \u001b[1;31m# load event buffer\u001b[0m\u001b[1;33m\u001b[0m\u001b[1;33m\u001b[0m\u001b[1;33m\u001b[0m\u001b[0m\n\u001b[1;32m-> 1223\u001b[1;33m                 \u001b[0mdata\u001b[0m \u001b[1;33m=\u001b[0m \u001b[0msource\u001b[0m\u001b[1;33m.\u001b[0m\u001b[0mread\u001b[0m\u001b[1;33m(\u001b[0m\u001b[1;36m16\u001b[0m \u001b[1;33m*\u001b[0m \u001b[1;36m1024\u001b[0m\u001b[1;33m)\u001b[0m\u001b[1;33m\u001b[0m\u001b[1;33m\u001b[0m\u001b[0m\n\u001b[0m\u001b[0;32m   1224\u001b[0m                 \u001b[1;32mif\u001b[0m \u001b[1;32mnot\u001b[0m \u001b[0mdata\u001b[0m\u001b[1;33m:\u001b[0m\u001b[1;33m\u001b[0m\u001b[1;33m\u001b[0m\u001b[0m\n\u001b[0;32m   1225\u001b[0m                     \u001b[1;32mbreak\u001b[0m\u001b[1;33m\u001b[0m\u001b[1;33m\u001b[0m\u001b[0m\n",
      "\u001b[1;32mD:\\Anaconda3\\lib\\zipfile.py\u001b[0m in \u001b[0;36mread\u001b[1;34m(self, n)\u001b[0m\n\u001b[0;32m    870\u001b[0m         \u001b[0mself\u001b[0m\u001b[1;33m.\u001b[0m\u001b[0m_offset\u001b[0m \u001b[1;33m=\u001b[0m \u001b[1;36m0\u001b[0m\u001b[1;33m\u001b[0m\u001b[1;33m\u001b[0m\u001b[0m\n\u001b[0;32m    871\u001b[0m         \u001b[1;32mwhile\u001b[0m \u001b[0mn\u001b[0m \u001b[1;33m>\u001b[0m \u001b[1;36m0\u001b[0m \u001b[1;32mand\u001b[0m \u001b[1;32mnot\u001b[0m \u001b[0mself\u001b[0m\u001b[1;33m.\u001b[0m\u001b[0m_eof\u001b[0m\u001b[1;33m:\u001b[0m\u001b[1;33m\u001b[0m\u001b[1;33m\u001b[0m\u001b[0m\n\u001b[1;32m--> 872\u001b[1;33m             \u001b[0mdata\u001b[0m \u001b[1;33m=\u001b[0m \u001b[0mself\u001b[0m\u001b[1;33m.\u001b[0m\u001b[0m_read1\u001b[0m\u001b[1;33m(\u001b[0m\u001b[0mn\u001b[0m\u001b[1;33m)\u001b[0m\u001b[1;33m\u001b[0m\u001b[1;33m\u001b[0m\u001b[0m\n\u001b[0m\u001b[0;32m    873\u001b[0m             \u001b[1;32mif\u001b[0m \u001b[0mn\u001b[0m \u001b[1;33m<\u001b[0m \u001b[0mlen\u001b[0m\u001b[1;33m(\u001b[0m\u001b[0mdata\u001b[0m\u001b[1;33m)\u001b[0m\u001b[1;33m:\u001b[0m\u001b[1;33m\u001b[0m\u001b[1;33m\u001b[0m\u001b[0m\n\u001b[0;32m    874\u001b[0m                 \u001b[0mself\u001b[0m\u001b[1;33m.\u001b[0m\u001b[0m_readbuffer\u001b[0m \u001b[1;33m=\u001b[0m \u001b[0mdata\u001b[0m\u001b[1;33m\u001b[0m\u001b[1;33m\u001b[0m\u001b[0m\n",
      "\u001b[1;32mD:\\Anaconda3\\lib\\zipfile.py\u001b[0m in \u001b[0;36m_read1\u001b[1;34m(self, n)\u001b[0m\n\u001b[0;32m    946\u001b[0m         \u001b[1;32melif\u001b[0m \u001b[0mself\u001b[0m\u001b[1;33m.\u001b[0m\u001b[0m_compress_type\u001b[0m \u001b[1;33m==\u001b[0m \u001b[0mZIP_DEFLATED\u001b[0m\u001b[1;33m:\u001b[0m\u001b[1;33m\u001b[0m\u001b[1;33m\u001b[0m\u001b[0m\n\u001b[0;32m    947\u001b[0m             \u001b[0mn\u001b[0m \u001b[1;33m=\u001b[0m \u001b[0mmax\u001b[0m\u001b[1;33m(\u001b[0m\u001b[0mn\u001b[0m\u001b[1;33m,\u001b[0m \u001b[0mself\u001b[0m\u001b[1;33m.\u001b[0m\u001b[0mMIN_READ_SIZE\u001b[0m\u001b[1;33m)\u001b[0m\u001b[1;33m\u001b[0m\u001b[1;33m\u001b[0m\u001b[0m\n\u001b[1;32m--> 948\u001b[1;33m             \u001b[0mdata\u001b[0m \u001b[1;33m=\u001b[0m \u001b[0mself\u001b[0m\u001b[1;33m.\u001b[0m\u001b[0m_decompressor\u001b[0m\u001b[1;33m.\u001b[0m\u001b[0mdecompress\u001b[0m\u001b[1;33m(\u001b[0m\u001b[0mdata\u001b[0m\u001b[1;33m,\u001b[0m \u001b[0mn\u001b[0m\u001b[1;33m)\u001b[0m\u001b[1;33m\u001b[0m\u001b[1;33m\u001b[0m\u001b[0m\n\u001b[0m\u001b[0;32m    949\u001b[0m             self._eof = (self._decompressor.eof or\n\u001b[0;32m    950\u001b[0m                          \u001b[0mself\u001b[0m\u001b[1;33m.\u001b[0m\u001b[0m_compress_left\u001b[0m \u001b[1;33m<=\u001b[0m \u001b[1;36m0\u001b[0m \u001b[1;32mand\u001b[0m\u001b[1;33m\u001b[0m\u001b[1;33m\u001b[0m\u001b[0m\n",
      "\u001b[1;31mKeyboardInterrupt\u001b[0m: "
     ]
    }
   ],
   "source": [
    "df_history_1 = pd.read_excel(r'./data/raw_data/人民医院/5-病史（1诉5史）.xlsx')"
   ]
  },
  {
   "cell_type": "code",
   "execution_count": 167,
   "metadata": {},
   "outputs": [],
   "source": [
    "# 删除重复值\n",
    "df_history_1 = df_history_1.drop_duplicates(['患者编号','主诉'],keep='first')[['患者编号','主诉']]\n",
    "# 删除空值\n",
    "df_history_1 = df_history_1[df_history_1.主诉.notnull()]"
   ]
  },
  {
   "cell_type": "code",
   "execution_count": 168,
   "metadata": {},
   "outputs": [
    {
     "data": {
      "text/plain": [
       "(83658, 2)"
      ]
     },
     "execution_count": 168,
     "metadata": {},
     "output_type": "execute_result"
    }
   ],
   "source": [
    "df_history_1.shape"
   ]
  },
  {
   "cell_type": "code",
   "execution_count": 169,
   "metadata": {},
   "outputs": [
    {
     "data": {
      "text/html": [
       "<div>\n",
       "<style scoped>\n",
       "    .dataframe tbody tr th:only-of-type {\n",
       "        vertical-align: middle;\n",
       "    }\n",
       "\n",
       "    .dataframe tbody tr th {\n",
       "        vertical-align: top;\n",
       "    }\n",
       "\n",
       "    .dataframe thead th {\n",
       "        text-align: right;\n",
       "    }\n",
       "</style>\n",
       "<table border=\"1\" class=\"dataframe\">\n",
       "  <thead>\n",
       "    <tr style=\"text-align: right;\">\n",
       "      <th></th>\n",
       "      <th>患者编号</th>\n",
       "      <th>主诉</th>\n",
       "    </tr>\n",
       "  </thead>\n",
       "  <tbody>\n",
       "    <tr>\n",
       "      <th>0</th>\n",
       "      <td>pat_0d9297a346707bce01f0b4637484efe9</td>\n",
       "      <td>高血压平时在积水潭医院诊疗</td>\n",
       "    </tr>\n",
       "  </tbody>\n",
       "</table>\n",
       "</div>"
      ],
      "text/plain": [
       "                                   患者编号             主诉\n",
       "0  pat_0d9297a346707bce01f0b4637484efe9  高血压平时在积水潭医院诊疗"
      ]
     },
     "execution_count": 169,
     "metadata": {},
     "output_type": "execute_result"
    }
   ],
   "source": [
    "df_history_1.head(1)"
   ]
  },
  {
   "cell_type": "code",
   "execution_count": 170,
   "metadata": {},
   "outputs": [],
   "source": [
    "df_history_1['吸烟史']=df_history_1.主诉.apply(lambda x: 0 if pd.isnull(x) else\n",
    "                                                      1 if re.match('.*[^无未否戒]*烟',x) else 0)\n",
    "df_history_1['饮酒史']=df_history_1.主诉.apply(lambda x: 0 if pd.isnull(x) else\n",
    "                                                      1 if re.match('.*[^无未否戒]*酒[^精]',x) else 0)"
   ]
  },
  {
   "cell_type": "code",
   "execution_count": 171,
   "metadata": {},
   "outputs": [],
   "source": [
    "# groupby\n",
    "df_history_1_smoke=df_history_1.groupby(['患者编号'])['吸烟史'].sum().to_frame().reset_index()\n",
    "df_history_1_smoke['吸烟史']=df_history_1_smoke.吸烟史.apply(lambda x: np.nan if pd.isnull(x) else \n",
    "                                                                    1 if x>=1 else 0)\n",
    "df_history_1_drink=df_history_1.groupby(['患者编号'])['饮酒史'].sum().to_frame().reset_index()\n",
    "df_history_1_drink['饮酒史']=df_history_1_drink.饮酒史.apply(lambda x: np.nan if pd.isnull(x) else \n",
    "                                                                    1 if x>=1 else 0)"
   ]
  },
  {
   "cell_type": "code",
   "execution_count": 172,
   "metadata": {},
   "outputs": [],
   "source": [
    "# smoke+drink\n",
    "df_history_1=pd.merge(df_history_1_smoke,df_history_1_drink,on='患者编号',how='inner')"
   ]
  },
  {
   "cell_type": "code",
   "execution_count": 173,
   "metadata": {},
   "outputs": [
    {
     "data": {
      "text/plain": [
       "(36630, 3)"
      ]
     },
     "execution_count": 173,
     "metadata": {},
     "output_type": "execute_result"
    }
   ],
   "source": [
    "df_history_1.shape"
   ]
  },
  {
   "cell_type": "code",
   "execution_count": 174,
   "metadata": {},
   "outputs": [],
   "source": [
    "df_history_1.to_csv(project_path+'/data/processed_data/df_3.5.1_人民医院_既往史.csv')"
   ]
  },
  {
   "cell_type": "code",
   "execution_count": 728,
   "metadata": {},
   "outputs": [],
   "source": [
    "df_history_1=pd.read_csv(project_path+'/data/processed_data/df_3.5.1_人民医院_既往史.csv')\n",
    "if 'Unnamed: 0' in df_history_1.columns:\n",
    "    del df_history_1['Unnamed: 0']"
   ]
  },
  {
   "cell_type": "code",
   "execution_count": 729,
   "metadata": {},
   "outputs": [
    {
     "data": {
      "text/plain": [
       "Index(['患者编号', '吸烟史', '饮酒史'], dtype='object')"
      ]
     },
     "execution_count": 729,
     "metadata": {},
     "output_type": "execute_result"
    }
   ],
   "source": [
    "df_history_1.columns"
   ]
  },
  {
   "cell_type": "markdown",
   "metadata": {},
   "source": [
    "### 提取高血压糖尿病"
   ]
  },
  {
   "cell_type": "code",
   "execution_count": 730,
   "metadata": {},
   "outputs": [],
   "source": [
    "# 提取高血压\n",
    "df_diagnose_EH = df_diagnose[df_diagnose.诊断名称.str.contains('高血压')].drop_duplicates(['患者编号'],keep='first')[['患者编号']]\n",
    "df_diagnose_EH['高血压'] = 1\n",
    "# 提取糖尿病\n",
    "df_diagnose_DM = df_diagnose[df_diagnose.诊断名称.str.contains('糖尿病')].drop_duplicates(['患者编号'],keep='first')[['患者编号']]\n",
    "df_diagnose_DM['糖尿病'] = 1"
   ]
  },
  {
   "cell_type": "code",
   "execution_count": 731,
   "metadata": {},
   "outputs": [
    {
     "name": "stdout",
     "output_type": "stream",
     "text": [
      "(7277, 2)\n",
      "(2662, 2)\n"
     ]
    }
   ],
   "source": [
    "print(df_diagnose_EH.shape)\n",
    "print(df_diagnose_DM.shape)"
   ]
  },
  {
   "cell_type": "code",
   "execution_count": 732,
   "metadata": {},
   "outputs": [
    {
     "data": {
      "text/html": [
       "<div>\n",
       "<style scoped>\n",
       "    .dataframe tbody tr th:only-of-type {\n",
       "        vertical-align: middle;\n",
       "    }\n",
       "\n",
       "    .dataframe tbody tr th {\n",
       "        vertical-align: top;\n",
       "    }\n",
       "\n",
       "    .dataframe thead th {\n",
       "        text-align: right;\n",
       "    }\n",
       "</style>\n",
       "<table border=\"1\" class=\"dataframe\">\n",
       "  <thead>\n",
       "    <tr style=\"text-align: right;\">\n",
       "      <th></th>\n",
       "      <th>患者编号</th>\n",
       "      <th>高血压</th>\n",
       "    </tr>\n",
       "  </thead>\n",
       "  <tbody>\n",
       "    <tr>\n",
       "      <th>491</th>\n",
       "      <td>pat_026a30f807b837014dd9f700c0b93913</td>\n",
       "      <td>1</td>\n",
       "    </tr>\n",
       "  </tbody>\n",
       "</table>\n",
       "</div>"
      ],
      "text/plain": [
       "                                     患者编号  高血压\n",
       "491  pat_026a30f807b837014dd9f700c0b93913    1"
      ]
     },
     "execution_count": 732,
     "metadata": {},
     "output_type": "execute_result"
    }
   ],
   "source": [
    "df_diagnose_EH.head(1)"
   ]
  },
  {
   "cell_type": "markdown",
   "metadata": {},
   "source": [
    "### 并入个人史既往史"
   ]
  },
  {
   "cell_type": "code",
   "execution_count": 733,
   "metadata": {},
   "outputs": [],
   "source": [
    "# 并入个人史\n",
    "df_drug_vatin_popu = pd.merge(df_drug_vatin_popu,df_history_1,on='患者编号',how='left')\n",
    "# 并入高血压\n",
    "df_drug_vatin_popu = pd.merge(df_drug_vatin_popu,df_diagnose_EH,on='患者编号',how='left')\n",
    "# 并入糖尿病\n",
    "df_drug_vatin_popu = pd.merge(df_drug_vatin_popu,df_diagnose_DM,on='患者编号',how='left')"
   ]
  },
  {
   "cell_type": "code",
   "execution_count": 734,
   "metadata": {},
   "outputs": [],
   "source": [
    "df_drug_vatin_popu['吸烟史']=df_drug_vatin_popu.吸烟史.fillna(0)\n",
    "df_drug_vatin_popu['饮酒史']=df_drug_vatin_popu.饮酒史.fillna(0)\n",
    "df_drug_vatin_popu['高血压']=df_drug_vatin_popu.高血压.fillna(0)\n",
    "df_drug_vatin_popu['糖尿病']=df_drug_vatin_popu.糖尿病.fillna(0)"
   ]
  },
  {
   "cell_type": "code",
   "execution_count": 735,
   "metadata": {},
   "outputs": [
    {
     "data": {
      "text/html": [
       "<div>\n",
       "<style scoped>\n",
       "    .dataframe tbody tr th:only-of-type {\n",
       "        vertical-align: middle;\n",
       "    }\n",
       "\n",
       "    .dataframe tbody tr th {\n",
       "        vertical-align: top;\n",
       "    }\n",
       "\n",
       "    .dataframe thead th {\n",
       "        text-align: right;\n",
       "    }\n",
       "</style>\n",
       "<table border=\"1\" class=\"dataframe\">\n",
       "  <thead>\n",
       "    <tr style=\"text-align: right;\">\n",
       "      <th></th>\n",
       "      <th>data_source</th>\n",
       "      <th>患者编号</th>\n",
       "      <th>药物通用名称</th>\n",
       "      <th>医嘱开始时间</th>\n",
       "      <th>医嘱停止时间</th>\n",
       "      <th>药物规格</th>\n",
       "      <th>药物剂量</th>\n",
       "      <th>药物剂量单位名称</th>\n",
       "      <th>频率名称</th>\n",
       "      <th>开药总数量</th>\n",
       "      <th>...</th>\n",
       "      <th>高脂血症</th>\n",
       "      <th>冠心病_高脂血症</th>\n",
       "      <th>初次用药年</th>\n",
       "      <th>性别</th>\n",
       "      <th>出生日期</th>\n",
       "      <th>年龄</th>\n",
       "      <th>吸烟史</th>\n",
       "      <th>饮酒史</th>\n",
       "      <th>高血压</th>\n",
       "      <th>糖尿病</th>\n",
       "    </tr>\n",
       "  </thead>\n",
       "  <tbody>\n",
       "    <tr>\n",
       "      <th>0</th>\n",
       "      <td>世纪坛医院</td>\n",
       "      <td>0020640c4052f1dae97fcf39be390e1b</td>\n",
       "      <td>瑞舒伐他汀钙片(10mg/片(ZX))</td>\n",
       "      <td>2019-04-04 15:35:28</td>\n",
       "      <td>2019-04-09 07:42:00</td>\n",
       "      <td>10mg*28片(ZX)</td>\n",
       "      <td>10.0</td>\n",
       "      <td>NaN</td>\n",
       "      <td>1.0</td>\n",
       "      <td>NaN</td>\n",
       "      <td>...</td>\n",
       "      <td>1</td>\n",
       "      <td>1</td>\n",
       "      <td>2019</td>\n",
       "      <td>0</td>\n",
       "      <td>1952</td>\n",
       "      <td>67.0</td>\n",
       "      <td>0.0</td>\n",
       "      <td>0.0</td>\n",
       "      <td>1.0</td>\n",
       "      <td>0.0</td>\n",
       "    </tr>\n",
       "  </tbody>\n",
       "</table>\n",
       "<p>1 rows × 35 columns</p>\n",
       "</div>"
      ],
      "text/plain": [
       "  data_source                              患者编号               药物通用名称  \\\n",
       "0       世纪坛医院  0020640c4052f1dae97fcf39be390e1b  瑞舒伐他汀钙片(10mg/片(ZX))   \n",
       "\n",
       "                医嘱开始时间               医嘱停止时间          药物规格  药物剂量 药物剂量单位名称  \\\n",
       "0  2019-04-04 15:35:28  2019-04-09 07:42:00  10mg*28片(ZX)  10.0      NaN   \n",
       "\n",
       "   频率名称  开药总数量  ... 高脂血症 冠心病_高脂血症  初次用药年 性别  出生日期    年龄  吸烟史  饮酒史  高血压  糖尿病  \n",
       "0   1.0    NaN  ...    1        1   2019  0  1952  67.0  0.0  0.0  1.0  0.0  \n",
       "\n",
       "[1 rows x 35 columns]"
      ]
     },
     "execution_count": 735,
     "metadata": {},
     "output_type": "execute_result"
    }
   ],
   "source": [
    "df_drug_vatin_popu.head(1)"
   ]
  },
  {
   "cell_type": "code",
   "execution_count": 736,
   "metadata": {},
   "outputs": [],
   "source": [
    "df_drug_vatin_popu.to_csv(project_path+'/data/processed_data/政策性/df_3.6.3_并入个人史既往史.csv')"
   ]
  },
  {
   "cell_type": "markdown",
   "metadata": {},
   "source": [
    "## 计算换药率"
   ]
  },
  {
   "cell_type": "code",
   "execution_count": 737,
   "metadata": {},
   "outputs": [
    {
     "data": {
      "text/plain": [
       "'\\n2018.03.23-2019.03.22政策前\\n2019.03.23-2020.03.22政策后\\n    分组group：\\n    换药率：未换药、换药一次、换药两次\\n    初始治疗选择\\n'"
      ]
     },
     "execution_count": 737,
     "metadata": {},
     "output_type": "execute_result"
    }
   ],
   "source": [
    "'''\n",
    "2018.03.23-2019.03.22政策前\n",
    "2019.03.23-2020.03.22政策后\n",
    "    分组group：\n",
    "    换药率：未换药、换药一次、换药两次\n",
    "    初始治疗选择\n",
    "'''"
   ]
  },
  {
   "cell_type": "code",
   "execution_count": 738,
   "metadata": {},
   "outputs": [],
   "source": [
    "df_drug_vatin_policy = df_drug_vatin_popu.copy().reset_index(drop=True)"
   ]
  },
  {
   "cell_type": "code",
   "execution_count": 739,
   "metadata": {},
   "outputs": [
    {
     "data": {
      "text/plain": [
       "(65898, 35)"
      ]
     },
     "execution_count": 739,
     "metadata": {},
     "output_type": "execute_result"
    }
   ],
   "source": [
    "df_drug_vatin_policy.shape"
   ]
  },
  {
   "cell_type": "markdown",
   "metadata": {},
   "source": [
    "### 限定政策前后时间范围"
   ]
  },
  {
   "cell_type": "code",
   "execution_count": 740,
   "metadata": {},
   "outputs": [],
   "source": [
    "df_drug_vatin_policy = df_drug_vatin_policy[(pd.to_datetime(df_drug_vatin_policy['医嘱开始时间'])<=pd.to_datetime('2020-03-23')) &\n",
    "                                           (pd.to_datetime(df_drug_vatin_policy['医嘱开始时间'])>=pd.to_datetime('2018-03-23')) ]"
   ]
  },
  {
   "cell_type": "code",
   "execution_count": 741,
   "metadata": {},
   "outputs": [
    {
     "data": {
      "text/plain": [
       "(58301, 35)"
      ]
     },
     "execution_count": 741,
     "metadata": {},
     "output_type": "execute_result"
    }
   ],
   "source": [
    "df_drug_vatin_policy.shape"
   ]
  },
  {
   "cell_type": "markdown",
   "metadata": {},
   "source": [
    "### 患者分组"
   ]
  },
  {
   "cell_type": "code",
   "execution_count": 742,
   "metadata": {},
   "outputs": [
    {
     "data": {
      "text/plain": [
       "'\\n患者分为三组：①用药疗程在政策执行之前；②用药疗程跨越政策前后；③用药疗程在政策实施之后\\n'"
      ]
     },
     "execution_count": 742,
     "metadata": {},
     "output_type": "execute_result"
    }
   ],
   "source": [
    "'''\n",
    "患者分为三组：①用药疗程在政策执行之前；②用药疗程跨越政策前后；③用药疗程在政策实施之后\n",
    "'''"
   ]
  },
  {
   "cell_type": "code",
   "execution_count": 743,
   "metadata": {},
   "outputs": [
    {
     "data": {
      "text/plain": [
       "Index(['data_source', '患者编号', '药物通用名称', '医嘱开始时间', '医嘱停止时间', '药物规格', '药物剂量',\n",
       "       '药物剂量单位名称', '频率名称', '开药总数量', '开药总数量单位名称', '药物剂型', '用药时长', '医嘱开始日期',\n",
       "       '日剂量', '开药总剂量', 'resuvatin_brand', '瑞舒伐他汀', '阿托伐他汀', '匹伐他汀', '氟伐他汀',\n",
       "       '氨氯地平阿托伐他汀', '辛伐他汀', '洛伐他汀', '冠心病', '高脂血症', '冠心病_高脂血症', '初次用药年', '性别',\n",
       "       '出生日期', '年龄', '吸烟史', '饮酒史', '高血压', '糖尿病'],\n",
       "      dtype='object')"
      ]
     },
     "execution_count": 743,
     "metadata": {},
     "output_type": "execute_result"
    }
   ],
   "source": [
    "df_drug_vatin_policy.columns"
   ]
  },
  {
   "cell_type": "code",
   "execution_count": 744,
   "metadata": {},
   "outputs": [],
   "source": [
    "# 提取首次用药时间和末次用药时间\n",
    "df_drug_vatin_policy=df_drug_vatin_policy.sort_values(['患者编号','医嘱开始时间'],ascending=True).reset_index(drop=True)\n",
    "df_drug_first_time=df_drug_vatin_policy.drop_duplicates(['患者编号'],keep='first')[['患者编号','医嘱开始时间']].rename(columns={'医嘱开始时间':'首次用药时间'})\n",
    "df_drug_last_time=df_drug_vatin_policy.drop_duplicates(['患者编号'],keep='last')[['患者编号','医嘱开始时间']].rename(columns={'医嘱开始时间':'末次用药时间'})\n",
    "# 提取日期\n",
    "df_drug_first_time['首次用药时间']=df_drug_first_time['首次用药时间'].apply(lambda x: str(x).split(' ')[0])\n",
    "df_drug_last_time['末次用药时间']=df_drug_last_time['末次用药时间'].apply(lambda x: str(x).split(' ')[0])"
   ]
  },
  {
   "cell_type": "code",
   "execution_count": 745,
   "metadata": {},
   "outputs": [],
   "source": [
    "# 并入首次用药时间和末次用药时间\n",
    "df_drug_vatin_policy=pd.merge(df_drug_vatin_policy,df_drug_first_time,on='患者编号',how='left')\n",
    "df_drug_vatin_policy=pd.merge(df_drug_vatin_policy,df_drug_last_time,on='患者编号',how='left')"
   ]
  },
  {
   "cell_type": "code",
   "execution_count": 746,
   "metadata": {},
   "outputs": [
    {
     "data": {
      "text/plain": [
       "Index(['data_source', '患者编号', '药物通用名称', '医嘱开始时间', '医嘱停止时间', '药物规格', '药物剂量',\n",
       "       '药物剂量单位名称', '频率名称', '开药总数量', '开药总数量单位名称', '药物剂型', '用药时长', '医嘱开始日期',\n",
       "       '日剂量', '开药总剂量', 'resuvatin_brand', '瑞舒伐他汀', '阿托伐他汀', '匹伐他汀', '氟伐他汀',\n",
       "       '氨氯地平阿托伐他汀', '辛伐他汀', '洛伐他汀', '冠心病', '高脂血症', '冠心病_高脂血症', '初次用药年', '性别',\n",
       "       '出生日期', '年龄', '吸烟史', '饮酒史', '高血压', '糖尿病', '首次用药时间', '末次用药时间'],\n",
       "      dtype='object')"
      ]
     },
     "execution_count": 746,
     "metadata": {},
     "output_type": "execute_result"
    }
   ],
   "source": [
    "df_drug_vatin_policy.columns"
   ]
  },
  {
   "cell_type": "code",
   "execution_count": 747,
   "metadata": {},
   "outputs": [],
   "source": [
    "# 分组\n",
    "df_drug_vatin_policy['group']=df_drug_vatin_policy.apply(lambda x: 1 if (pd.to_datetime(x['首次用药时间'])<=pd.to_datetime('2019-03-22')) & (pd.to_datetime(x['末次用药时间'])<=pd.to_datetime('2019-03-22')) else\n",
    "                                                        2 if (pd.to_datetime(x['首次用药时间'])<=pd.to_datetime('2019-03-22')) & (pd.to_datetime(x['末次用药时间'])>=pd.to_datetime('2019-03-23')) else\n",
    "                                                        3 if (pd.to_datetime(x['首次用药时间'])>=pd.to_datetime('2019-03-23')) & (pd.to_datetime(x['末次用药时间'])>=pd.to_datetime('2019-03-23')) else 4, axis=1)"
   ]
  },
  {
   "cell_type": "code",
   "execution_count": 748,
   "metadata": {},
   "outputs": [
    {
     "data": {
      "text/plain": [
       "2    47065\n",
       "1     6888\n",
       "3     4348\n",
       "Name: group, dtype: int64"
      ]
     },
     "execution_count": 748,
     "metadata": {},
     "output_type": "execute_result"
    }
   ],
   "source": [
    "df_drug_vatin_policy.group.value_counts()"
   ]
  },
  {
   "cell_type": "code",
   "execution_count": 749,
   "metadata": {},
   "outputs": [],
   "source": [
    "df_drug_vatin_policy.to_csv(project_path+'/data/processed_data/政策性/df_3.7.2_患者分组.csv')"
   ]
  },
  {
   "cell_type": "markdown",
   "metadata": {},
   "source": [
    "### 划分政策前后观察期"
   ]
  },
  {
   "cell_type": "code",
   "execution_count": 863,
   "metadata": {},
   "outputs": [
    {
     "data": {
      "text/plain": [
       "Index(['data_source', '患者编号', '药物通用名称', '医嘱开始时间', '医嘱停止时间', '药物规格', '药物剂量',\n",
       "       '药物剂量单位名称', '频率名称', '开药总数量', '开药总数量单位名称', '药物剂型', '用药时长', '医嘱开始日期',\n",
       "       '日剂量', '开药总剂量', 'resuvatin_brand', '瑞舒伐他汀', '阿托伐他汀', '匹伐他汀', '氟伐他汀',\n",
       "       '氨氯地平阿托伐他汀', '辛伐他汀', '洛伐他汀', '冠心病', '高脂血症', '冠心病_高脂血症', '初次用药年', '性别',\n",
       "       '出生日期', '年龄', '吸烟史', '饮酒史', '高血压', '糖尿病', '首次用药时间', '末次用药时间', 'group'],\n",
       "      dtype='object')"
      ]
     },
     "execution_count": 863,
     "metadata": {},
     "output_type": "execute_result"
    }
   ],
   "source": [
    "df_drug_vatin_policy.columns"
   ]
  },
  {
   "cell_type": "code",
   "execution_count": 864,
   "metadata": {},
   "outputs": [],
   "source": [
    "# 政策前1年观察期和政策后1年观察期\n",
    "df_drug_vatin_before=df_drug_vatin_policy[(pd.to_datetime(df_drug_vatin_policy['医嘱开始日期'])<=pd.to_datetime('2019-03-22')) &\n",
    "                                                 (pd.to_datetime(df_drug_vatin_policy['医嘱开始日期'])>=pd.to_datetime('2018-03-23'))]\n",
    "df_drug_vatin_after=df_drug_vatin_policy[(pd.to_datetime(df_drug_vatin_policy['医嘱开始日期'])<=pd.to_datetime('2020-03-22')) &\n",
    "                                                 (pd.to_datetime(df_drug_vatin_policy['医嘱开始日期'])>=pd.to_datetime('2019-03-23'))]"
   ]
  },
  {
   "cell_type": "code",
   "execution_count": 865,
   "metadata": {},
   "outputs": [
    {
     "name": "stdout",
     "output_type": "stream",
     "text": [
      "(32058, 38)\n",
      "(26243, 38)\n"
     ]
    }
   ],
   "source": [
    "print(df_drug_vatin_before.shape)\n",
    "print(df_drug_vatin_after.shape)"
   ]
  },
  {
   "cell_type": "code",
   "execution_count": 866,
   "metadata": {},
   "outputs": [
    {
     "name": "stdout",
     "output_type": "stream",
     "text": [
      "2    25170\n",
      "1     6888\n",
      "Name: group, dtype: int64\n",
      "2    21895\n",
      "3     4348\n",
      "Name: group, dtype: int64\n"
     ]
    }
   ],
   "source": [
    "print(df_drug_vatin_before.group.value_counts())\n",
    "print(df_drug_vatin_after.group.value_counts())"
   ]
  },
  {
   "cell_type": "code",
   "execution_count": 867,
   "metadata": {},
   "outputs": [],
   "source": [
    "df_drug_vatin_before.to_csv(project_path+'/data/processed_data/政策性/df_3.7.3.1_政策前_他汀数据.csv')\n",
    "df_drug_vatin_after.to_csv(project_path+'/data/processed_data/政策性/df_3.7.3.2_政策后_他汀数据.csv')"
   ]
  },
  {
   "cell_type": "markdown",
   "metadata": {},
   "source": [
    "### 换药次数"
   ]
  },
  {
   "cell_type": "code",
   "execution_count": 868,
   "metadata": {},
   "outputs": [
    {
     "data": {
      "text/plain": [
       "Index(['data_source', '患者编号', '药物通用名称', '医嘱开始时间', '医嘱停止时间', '药物规格', '药物剂量',\n",
       "       '药物剂量单位名称', '频率名称', '开药总数量', '开药总数量单位名称', '药物剂型', '用药时长', '医嘱开始日期',\n",
       "       '日剂量', '开药总剂量', 'resuvatin_brand', '瑞舒伐他汀', '阿托伐他汀', '匹伐他汀', '氟伐他汀',\n",
       "       '氨氯地平阿托伐他汀', '辛伐他汀', '洛伐他汀', '冠心病', '高脂血症', '冠心病_高脂血症', '初次用药年', '性别',\n",
       "       '出生日期', '年龄', '吸烟史', '饮酒史', '高血压', '糖尿病', '首次用药时间', '末次用药时间', 'group'],\n",
       "      dtype='object')"
      ]
     },
     "execution_count": 868,
     "metadata": {},
     "output_type": "execute_result"
    }
   ],
   "source": [
    "df_drug_vatin_before.columns"
   ]
  },
  {
   "cell_type": "markdown",
   "metadata": {},
   "source": [
    "#### 政策前"
   ]
  },
  {
   "cell_type": "code",
   "execution_count": 869,
   "metadata": {},
   "outputs": [],
   "source": [
    "# 计算换药次数\n",
    "temp_list=[]\n",
    "for i in df_drug_vatin_before.患者编号.unique():\n",
    "    temp=df_drug_vatin_before[df_drug_vatin_before['患者编号']==i]\n",
    "    temp=temp.sort_values(['医嘱开始时间'],ascending=True).reset_index(drop=True)\n",
    "    # 统计换药次数\n",
    "    count=0\n",
    "    brand=temp.loc[0,'resuvatin_brand']\n",
    "    for j in range(1,temp.shape[0]):\n",
    "        temp_brand=temp.loc[j,'resuvatin_brand']\n",
    "        if temp_brand == brand:\n",
    "            continue\n",
    "        else:\n",
    "            count+=1\n",
    "            brand=temp_brand\n",
    "    temp['换药次数']=count\n",
    "    temp_list.append(temp)\n",
    "df_drug_vatin_before=pd.concat(temp_list,axis=0).reset_index(drop=True)\n",
    "del temp_list"
   ]
  },
  {
   "cell_type": "code",
   "execution_count": 870,
   "metadata": {},
   "outputs": [
    {
     "data": {
      "text/plain": [
       "(32058, 39)"
      ]
     },
     "execution_count": 870,
     "metadata": {},
     "output_type": "execute_result"
    }
   ],
   "source": [
    "df_drug_vatin_before.shape"
   ]
  },
  {
   "cell_type": "code",
   "execution_count": 871,
   "metadata": {},
   "outputs": [
    {
     "data": {
      "text/plain": [
       "0     24184\n",
       "1      5382\n",
       "2      1718\n",
       "3       349\n",
       "4       189\n",
       "5        74\n",
       "18       42\n",
       "8        28\n",
       "6        28\n",
       "23       25\n",
       "7        23\n",
       "14       16\n",
       "Name: 换药次数, dtype: int64"
      ]
     },
     "execution_count": 871,
     "metadata": {},
     "output_type": "execute_result"
    }
   ],
   "source": [
    "df_drug_vatin_before['换药次数'].value_counts()"
   ]
  },
  {
   "cell_type": "code",
   "execution_count": 872,
   "metadata": {},
   "outputs": [],
   "source": [
    "df_drug_vatin_before.to_csv(project_path+'/data/processed_data/政策性/df_3.7.4.1_政策前_换药次数.csv')"
   ]
  },
  {
   "cell_type": "markdown",
   "metadata": {},
   "source": [
    "#### 政策后"
   ]
  },
  {
   "cell_type": "code",
   "execution_count": 873,
   "metadata": {},
   "outputs": [],
   "source": [
    "# 计算换药次数\n",
    "temp_list=[]\n",
    "for i in df_drug_vatin_after.患者编号.unique():\n",
    "    temp=df_drug_vatin_after[df_drug_vatin_after['患者编号']==i]\n",
    "    temp=temp.sort_values(['医嘱开始时间'],ascending=True).reset_index(drop=True)\n",
    "    # 统计换药次数\n",
    "    count=0\n",
    "    brand=temp.loc[0,'resuvatin_brand']\n",
    "    for j in range(1,temp.shape[0]):\n",
    "        temp_brand=temp.loc[j,'resuvatin_brand']\n",
    "        if temp_brand == brand:\n",
    "            continue\n",
    "        else:\n",
    "            count+=1\n",
    "            brand=temp_brand\n",
    "    temp['换药次数']=count\n",
    "    temp_list.append(temp)\n",
    "df_drug_vatin_after=pd.concat(temp_list,axis=0).reset_index(drop=True)\n",
    "del temp_list"
   ]
  },
  {
   "cell_type": "code",
   "execution_count": 874,
   "metadata": {},
   "outputs": [
    {
     "data": {
      "text/plain": [
       "(26243, 39)"
      ]
     },
     "execution_count": 874,
     "metadata": {},
     "output_type": "execute_result"
    }
   ],
   "source": [
    "df_drug_vatin_after.shape"
   ]
  },
  {
   "cell_type": "code",
   "execution_count": 875,
   "metadata": {},
   "outputs": [
    {
     "data": {
      "text/plain": [
       "0     18034\n",
       "1      5414\n",
       "2      1944\n",
       "3       475\n",
       "4       164\n",
       "8        58\n",
       "6        51\n",
       "5        44\n",
       "22       23\n",
       "13       18\n",
       "10       18\n",
       "Name: 换药次数, dtype: int64"
      ]
     },
     "execution_count": 875,
     "metadata": {},
     "output_type": "execute_result"
    }
   ],
   "source": [
    "df_drug_vatin_after['换药次数'].value_counts()"
   ]
  },
  {
   "cell_type": "code",
   "execution_count": 876,
   "metadata": {},
   "outputs": [],
   "source": [
    "df_drug_vatin_after.to_csv(project_path+'/data/processed_data/政策性/df_3.7.4.2_政策后_换药次数.csv')"
   ]
  },
  {
   "cell_type": "markdown",
   "metadata": {},
   "source": [
    "### 初始用药选择"
   ]
  },
  {
   "cell_type": "code",
   "execution_count": 877,
   "metadata": {},
   "outputs": [],
   "source": [
    "# 政策前\n",
    "df_drug_first_brand_before=df_drug_vatin_before.sort_values(['患者编号','医嘱开始时间'],ascending=True).drop_duplicates(['患者编号'],keep='first')\n",
    "df_drug_first_brand_before=df_drug_first_brand_before[['患者编号','resuvatin_brand']].rename(columns={'resuvatin_brand':'初始用药选择'})\n",
    "# 并入初始用药选择\n",
    "df_drug_vatin_before = pd.merge(df_drug_vatin_before,df_drug_first_brand_before,on='患者编号',how='left')"
   ]
  },
  {
   "cell_type": "code",
   "execution_count": 878,
   "metadata": {},
   "outputs": [],
   "source": [
    "# 政策后\n",
    "df_drug_first_brand_after=df_drug_vatin_after.sort_values(['患者编号','医嘱开始时间'],ascending=True).drop_duplicates(['患者编号'],keep='first')\n",
    "df_drug_first_brand_after=df_drug_first_brand_after[['患者编号','resuvatin_brand']].rename(columns={'resuvatin_brand':'初始用药选择'})\n",
    "# 并入初始用药选择\n",
    "df_drug_vatin_after = pd.merge(df_drug_vatin_after,df_drug_first_brand_after,on='患者编号',how='left')"
   ]
  },
  {
   "cell_type": "code",
   "execution_count": 879,
   "metadata": {},
   "outputs": [
    {
     "data": {
      "text/plain": [
       "Index(['data_source', '患者编号', '药物通用名称', '医嘱开始时间', '医嘱停止时间', '药物规格', '药物剂量',\n",
       "       '药物剂量单位名称', '频率名称', '开药总数量', '开药总数量单位名称', '药物剂型', '用药时长', '医嘱开始日期',\n",
       "       '日剂量', '开药总剂量', 'resuvatin_brand', '瑞舒伐他汀', '阿托伐他汀', '匹伐他汀', '氟伐他汀',\n",
       "       '氨氯地平阿托伐他汀', '辛伐他汀', '洛伐他汀', '冠心病', '高脂血症', '冠心病_高脂血症', '初次用药年', '性别',\n",
       "       '出生日期', '年龄', '吸烟史', '饮酒史', '高血压', '糖尿病', '首次用药时间', '末次用药时间', 'group',\n",
       "       '换药次数', '初始用药选择'],\n",
       "      dtype='object')"
      ]
     },
     "execution_count": 879,
     "metadata": {},
     "output_type": "execute_result"
    }
   ],
   "source": [
    "df_drug_vatin_after.columns"
   ]
  },
  {
   "cell_type": "code",
   "execution_count": 880,
   "metadata": {},
   "outputs": [
    {
     "name": "stdout",
     "output_type": "stream",
     "text": [
      "(32058, 40)\n",
      "(26243, 40)\n"
     ]
    }
   ],
   "source": [
    "print(df_drug_vatin_before.shape)\n",
    "print(df_drug_vatin_after.shape)"
   ]
  },
  {
   "cell_type": "code",
   "execution_count": 881,
   "metadata": {},
   "outputs": [],
   "source": [
    "df_drug_vatin_before.to_csv(project_path+'/data/processed_data/政策性/df_3.7.5.1_政策前_初始用药选择.csv')\n",
    "df_drug_vatin_after.to_csv(project_path+'/data/processed_data/政策性/df_3.7.5.2_政策后_初始用药选择.csv')"
   ]
  },
  {
   "cell_type": "code",
   "execution_count": 882,
   "metadata": {},
   "outputs": [],
   "source": [
    "df_drug_vatin_before=pd.read_csv(project_path+'/data/processed_data/政策性/df_3.7.5.1_政策前_初始用药选择.csv')\n",
    "if 'Unnamed: 0' in df_drug_vatin_before.columns:\n",
    "    del df_drug_vatin_before['Unnamed: 0']"
   ]
  },
  {
   "cell_type": "code",
   "execution_count": 883,
   "metadata": {},
   "outputs": [],
   "source": [
    "df_drug_vatin_after=pd.read_csv(project_path+'/data/processed_data/政策性/df_3.7.5.2_政策后_初始用药选择.csv')\n",
    "if 'Unnamed: 0' in df_drug_vatin_after.columns:\n",
    "    del df_drug_vatin_after['Unnamed: 0']"
   ]
  },
  {
   "cell_type": "code",
   "execution_count": 884,
   "metadata": {},
   "outputs": [
    {
     "data": {
      "text/plain": [
       "Index(['data_source', '患者编号', '药物通用名称', '医嘱开始时间', '医嘱停止时间', '药物规格', '药物剂量',\n",
       "       '药物剂量单位名称', '频率名称', '开药总数量', '开药总数量单位名称', '药物剂型', '用药时长', '医嘱开始日期',\n",
       "       '日剂量', '开药总剂量', 'resuvatin_brand', '瑞舒伐他汀', '阿托伐他汀', '匹伐他汀', '氟伐他汀',\n",
       "       '氨氯地平阿托伐他汀', '辛伐他汀', '洛伐他汀', '冠心病', '高脂血症', '冠心病_高脂血症', '初次用药年', '性别',\n",
       "       '出生日期', '年龄', '吸烟史', '饮酒史', '高血压', '糖尿病', '首次用药时间', '末次用药时间', 'group',\n",
       "       '换药次数', '初始用药选择'],\n",
       "      dtype='object')"
      ]
     },
     "execution_count": 884,
     "metadata": {},
     "output_type": "execute_result"
    }
   ],
   "source": [
    "df_drug_vatin_before.columns"
   ]
  },
  {
   "cell_type": "code",
   "execution_count": 885,
   "metadata": {},
   "outputs": [
    {
     "data": {
      "text/plain": [
       "Index(['data_source', '患者编号', '药物通用名称', '医嘱开始时间', '医嘱停止时间', '药物规格', '药物剂量',\n",
       "       '药物剂量单位名称', '频率名称', '开药总数量', '开药总数量单位名称', '药物剂型', '用药时长', '医嘱开始日期',\n",
       "       '日剂量', '开药总剂量', 'resuvatin_brand', '瑞舒伐他汀', '阿托伐他汀', '匹伐他汀', '氟伐他汀',\n",
       "       '氨氯地平阿托伐他汀', '辛伐他汀', '洛伐他汀', '冠心病', '高脂血症', '冠心病_高脂血症', '初次用药年', '性别',\n",
       "       '出生日期', '年龄', '吸烟史', '饮酒史', '高血压', '糖尿病', '首次用药时间', '末次用药时间', 'group',\n",
       "       '换药次数', '初始用药选择'],\n",
       "      dtype='object')"
      ]
     },
     "execution_count": 885,
     "metadata": {},
     "output_type": "execute_result"
    }
   ],
   "source": [
    "df_drug_vatin_after.columns"
   ]
  },
  {
   "cell_type": "markdown",
   "metadata": {},
   "source": [
    "### 第二种用药选择"
   ]
  },
  {
   "cell_type": "markdown",
   "metadata": {},
   "source": [
    "#### 政策前"
   ]
  },
  {
   "cell_type": "code",
   "execution_count": 886,
   "metadata": {},
   "outputs": [],
   "source": [
    "# 计算换药次数\n",
    "temp_list=[]\n",
    "for i in df_drug_vatin_before.患者编号.unique():\n",
    "    temp=df_drug_vatin_before[df_drug_vatin_before['患者编号']==i]\n",
    "    temp=temp.sort_values(['医嘱开始时间'],ascending=True).reset_index(drop=True)\n",
    "    count=temp.loc[0,'换药次数']  # 换药次数\n",
    "    brand=temp.loc[0,'初始用药选择']\n",
    "    if count<1:\n",
    "        temp['第二种药物选择']=np.nan\n",
    "    else:\n",
    "        for j in range(1,temp.shape[0]):\n",
    "            temp_brand=temp.loc[j,'resuvatin_brand']\n",
    "            if temp_brand == brand:\n",
    "                continue\n",
    "            else:\n",
    "                brand=temp_brand\n",
    "                break\n",
    "        temp['第二种药物选择']=brand\n",
    "    temp_list.append(temp)\n",
    "df_drug_vatin_before=pd.concat(temp_list,axis=0).reset_index(drop=True)\n",
    "del temp_list"
   ]
  },
  {
   "cell_type": "code",
   "execution_count": 887,
   "metadata": {},
   "outputs": [
    {
     "data": {
      "text/plain": [
       "(32058, 41)"
      ]
     },
     "execution_count": 887,
     "metadata": {},
     "output_type": "execute_result"
    }
   ],
   "source": [
    "df_drug_vatin_before.shape"
   ]
  },
  {
   "cell_type": "code",
   "execution_count": 888,
   "metadata": {},
   "outputs": [],
   "source": [
    "df_drug_vatin_before.to_csv(project_path+'/data/processed_data/政策性/df_3.7.6.1_政策前_第二种用药选择.csv')"
   ]
  },
  {
   "cell_type": "markdown",
   "metadata": {},
   "source": [
    "#### 政策后"
   ]
  },
  {
   "cell_type": "code",
   "execution_count": 889,
   "metadata": {},
   "outputs": [],
   "source": [
    "# 计算换药次数\n",
    "temp_list=[]\n",
    "for i in df_drug_vatin_after.患者编号.unique():\n",
    "    temp=df_drug_vatin_after[df_drug_vatin_after['患者编号']==i]\n",
    "    temp=temp.sort_values(['医嘱开始时间'],ascending=True).reset_index(drop=True)\n",
    "    count=temp.loc[0,'换药次数']  # 换药次数\n",
    "    brand=temp.loc[0,'初始用药选择']\n",
    "    if count<1:\n",
    "        temp['第二种药物选择']=np.nan\n",
    "    else:\n",
    "        for j in range(1,temp.shape[0]):\n",
    "            temp_brand=temp.loc[j,'resuvatin_brand']\n",
    "            if temp_brand == brand:\n",
    "                continue\n",
    "            else:\n",
    "                brand=temp_brand\n",
    "                break\n",
    "        temp['第二种药物选择']=brand\n",
    "    temp_list.append(temp)\n",
    "df_drug_vatin_after=pd.concat(temp_list,axis=0).reset_index(drop=True)\n",
    "del temp_list"
   ]
  },
  {
   "cell_type": "code",
   "execution_count": 890,
   "metadata": {},
   "outputs": [
    {
     "data": {
      "text/plain": [
       "(26243, 41)"
      ]
     },
     "execution_count": 890,
     "metadata": {},
     "output_type": "execute_result"
    }
   ],
   "source": [
    "df_drug_vatin_after.shape"
   ]
  },
  {
   "cell_type": "code",
   "execution_count": 891,
   "metadata": {},
   "outputs": [],
   "source": [
    "df_drug_vatin_after.to_csv(project_path+'/data/processed_data/政策性/df_3.7.6.2_政策后_第二种用药选择.csv')"
   ]
  },
  {
   "cell_type": "markdown",
   "metadata": {},
   "source": [
    "### 第三种用药选择"
   ]
  },
  {
   "cell_type": "markdown",
   "metadata": {},
   "source": [
    "#### 政策前"
   ]
  },
  {
   "cell_type": "code",
   "execution_count": 892,
   "metadata": {},
   "outputs": [
    {
     "data": {
      "text/plain": [
       "Index(['data_source', '患者编号', '药物通用名称', '医嘱开始时间', '医嘱停止时间', '药物规格', '药物剂量',\n",
       "       '药物剂量单位名称', '频率名称', '开药总数量', '开药总数量单位名称', '药物剂型', '用药时长', '医嘱开始日期',\n",
       "       '日剂量', '开药总剂量', 'resuvatin_brand', '瑞舒伐他汀', '阿托伐他汀', '匹伐他汀', '氟伐他汀',\n",
       "       '氨氯地平阿托伐他汀', '辛伐他汀', '洛伐他汀', '冠心病', '高脂血症', '冠心病_高脂血症', '初次用药年', '性别',\n",
       "       '出生日期', '年龄', '吸烟史', '饮酒史', '高血压', '糖尿病', '首次用药时间', '末次用药时间', 'group',\n",
       "       '换药次数', '初始用药选择', '第二种药物选择'],\n",
       "      dtype='object')"
      ]
     },
     "execution_count": 892,
     "metadata": {},
     "output_type": "execute_result"
    }
   ],
   "source": [
    "df_drug_vatin_before.columns"
   ]
  },
  {
   "cell_type": "code",
   "execution_count": 893,
   "metadata": {},
   "outputs": [],
   "source": [
    "temp_list=[]\n",
    "for i in df_drug_vatin_before.患者编号.unique():\n",
    "    temp=df_drug_vatin_before[df_drug_vatin_before['患者编号']==i]\n",
    "    temp=temp.sort_values(['医嘱开始时间'],ascending=True).reset_index(drop=True)\n",
    "    count=temp.loc[0,'换药次数']  # 换药次数\n",
    "    first_brand=temp.loc[0,'初始用药选择']\n",
    "    second_brand=temp.loc[0,'第二种药物选择']\n",
    "    third_brand=np.nan\n",
    "    if count>=2:\n",
    "        index=temp['resuvatin_brand'].to_list().index(second_brand)\n",
    "        for j in range(index+1,temp.shape[0]):\n",
    "            temp_brand=temp.loc[j,'resuvatin_brand']\n",
    "            if temp_brand == second_brand:\n",
    "                continue\n",
    "            else:\n",
    "                third_brand=temp_brand\n",
    "                break\n",
    "    temp['第三种药物选择']=third_brand\n",
    "    temp_list.append(temp)"
   ]
  },
  {
   "cell_type": "code",
   "execution_count": 894,
   "metadata": {},
   "outputs": [],
   "source": [
    "df_drug_vatin_before=pd.concat(temp_list,axis=0).reset_index(drop=True)\n",
    "del temp_list"
   ]
  },
  {
   "cell_type": "code",
   "execution_count": 895,
   "metadata": {},
   "outputs": [
    {
     "data": {
      "text/plain": [
       "(32058, 42)"
      ]
     },
     "execution_count": 895,
     "metadata": {},
     "output_type": "execute_result"
    }
   ],
   "source": [
    "df_drug_vatin_before.shape"
   ]
  },
  {
   "cell_type": "code",
   "execution_count": 896,
   "metadata": {},
   "outputs": [],
   "source": [
    "df_drug_vatin_before.to_csv(project_path+'/data/processed_data/政策性/df_3.7.7.1_政策前_第三种用药选择.csv')"
   ]
  },
  {
   "cell_type": "markdown",
   "metadata": {},
   "source": [
    "#### 政策后"
   ]
  },
  {
   "cell_type": "code",
   "execution_count": 897,
   "metadata": {},
   "outputs": [
    {
     "data": {
      "text/plain": [
       "Index(['data_source', '患者编号', '药物通用名称', '医嘱开始时间', '医嘱停止时间', '药物规格', '药物剂量',\n",
       "       '药物剂量单位名称', '频率名称', '开药总数量', '开药总数量单位名称', '药物剂型', '用药时长', '医嘱开始日期',\n",
       "       '日剂量', '开药总剂量', 'resuvatin_brand', '瑞舒伐他汀', '阿托伐他汀', '匹伐他汀', '氟伐他汀',\n",
       "       '氨氯地平阿托伐他汀', '辛伐他汀', '洛伐他汀', '冠心病', '高脂血症', '冠心病_高脂血症', '初次用药年', '性别',\n",
       "       '出生日期', '年龄', '吸烟史', '饮酒史', '高血压', '糖尿病', '首次用药时间', '末次用药时间', 'group',\n",
       "       '换药次数', '初始用药选择', '第二种药物选择'],\n",
       "      dtype='object')"
      ]
     },
     "execution_count": 897,
     "metadata": {},
     "output_type": "execute_result"
    }
   ],
   "source": [
    "df_drug_vatin_after.columns"
   ]
  },
  {
   "cell_type": "code",
   "execution_count": 898,
   "metadata": {},
   "outputs": [],
   "source": [
    "temp_list=[]\n",
    "for i in df_drug_vatin_after.患者编号.unique():\n",
    "    temp=df_drug_vatin_after[df_drug_vatin_after['患者编号']==i]\n",
    "    temp=temp.sort_values(['医嘱开始时间'],ascending=True).reset_index(drop=True)\n",
    "    count=temp.loc[0,'换药次数']  # 换药次数\n",
    "    first_brand=temp.loc[0,'初始用药选择']\n",
    "    second_brand=temp.loc[0,'第二种药物选择']\n",
    "    third_brand=np.nan\n",
    "    if count>=2:\n",
    "        index=temp['resuvatin_brand'].to_list().index(second_brand)\n",
    "        for j in range(index+1,temp.shape[0]):\n",
    "            temp_brand=temp.loc[j,'resuvatin_brand']\n",
    "            if temp_brand == second_brand:\n",
    "                continue\n",
    "            else:\n",
    "                third_brand=temp_brand\n",
    "                break\n",
    "    temp['第三种药物选择']=third_brand\n",
    "    temp_list.append(temp)"
   ]
  },
  {
   "cell_type": "code",
   "execution_count": 899,
   "metadata": {},
   "outputs": [],
   "source": [
    "df_drug_vatin_after=pd.concat(temp_list,axis=0).reset_index(drop=True)\n",
    "del temp_list"
   ]
  },
  {
   "cell_type": "code",
   "execution_count": 900,
   "metadata": {},
   "outputs": [
    {
     "data": {
      "text/plain": [
       "(26243, 42)"
      ]
     },
     "execution_count": 900,
     "metadata": {},
     "output_type": "execute_result"
    }
   ],
   "source": [
    "df_drug_vatin_after.shape"
   ]
  },
  {
   "cell_type": "code",
   "execution_count": 901,
   "metadata": {},
   "outputs": [],
   "source": [
    "df_drug_vatin_after.to_csv(project_path+'/data/processed_data/政策性/df_3.7.7.2_政策后_第三种用药选择.csv')"
   ]
  },
  {
   "cell_type": "markdown",
   "metadata": {},
   "source": [
    "### 换药标签"
   ]
  },
  {
   "cell_type": "markdown",
   "metadata": {},
   "source": [
    "#### 政策前"
   ]
  },
  {
   "cell_type": "code",
   "execution_count": 902,
   "metadata": {},
   "outputs": [
    {
     "data": {
      "text/plain": [
       "(32058, 42)"
      ]
     },
     "execution_count": 902,
     "metadata": {},
     "output_type": "execute_result"
    }
   ],
   "source": [
    "df_drug_vatin_before.shape"
   ]
  },
  {
   "cell_type": "code",
   "execution_count": 903,
   "metadata": {},
   "outputs": [
    {
     "data": {
      "text/plain": [
       "Index(['data_source', '患者编号', '药物通用名称', '医嘱开始时间', '医嘱停止时间', '药物规格', '药物剂量',\n",
       "       '药物剂量单位名称', '频率名称', '开药总数量', '开药总数量单位名称', '药物剂型', '用药时长', '医嘱开始日期',\n",
       "       '日剂量', '开药总剂量', 'resuvatin_brand', '瑞舒伐他汀', '阿托伐他汀', '匹伐他汀', '氟伐他汀',\n",
       "       '氨氯地平阿托伐他汀', '辛伐他汀', '洛伐他汀', '冠心病', '高脂血症', '冠心病_高脂血症', '初次用药年', '性别',\n",
       "       '出生日期', '年龄', '吸烟史', '饮酒史', '高血压', '糖尿病', '首次用药时间', '末次用药时间', 'group',\n",
       "       '换药次数', '初始用药选择', '第二种药物选择', '第三种药物选择'],\n",
       "      dtype='object')"
      ]
     },
     "execution_count": 903,
     "metadata": {},
     "output_type": "execute_result"
    }
   ],
   "source": [
    "df_drug_vatin_before.columns"
   ]
  },
  {
   "cell_type": "code",
   "execution_count": 904,
   "metadata": {},
   "outputs": [],
   "source": [
    "# 换药一次：京新、可定、其他汀\n",
    "df_drug_vatin_before['可定_京新']=df_drug_vatin_before.apply(lambda x: 1 if (x['换药次数']==1) & (x['初始用药选择']=='可定') & (x['第二种药物选择']=='京新')\n",
    "                                                         else 0,axis=1)\n",
    "df_drug_vatin_before['京新_可定']=df_drug_vatin_before.apply(lambda x: 1 if (x['换药次数']==1) & (x['初始用药选择']=='京新') & (x['第二种药物选择']=='可定')\n",
    "                                                         else 0,axis=1)\n",
    "df_drug_vatin_before['可定_其他汀']=df_drug_vatin_before.apply(lambda x: 1 if (x['换药次数']==1) & (x['初始用药选择']=='可定') & (x['第二种药物选择']=='其他汀')\n",
    "                                                         else 0,axis=1)\n",
    "df_drug_vatin_before['其他汀_可定']=df_drug_vatin_before.apply(lambda x: 1 if (x['换药次数']==1) & (x['初始用药选择']=='其他汀') & (x['第二种药物选择']=='可定')\n",
    "                                                         else 0,axis=1)\n",
    "df_drug_vatin_before['京新_其他汀']=df_drug_vatin_before.apply(lambda x: 1 if (x['换药次数']==1) & (x['初始用药选择']=='京新') & (x['第二种药物选择']=='其他汀')\n",
    "                                                         else 0,axis=1)\n",
    "df_drug_vatin_before['其他汀_京新']=df_drug_vatin_before.apply(lambda x: 1 if (x['换药次数']==1) & (x['初始用药选择']=='其他汀') & (x['第二种药物选择']=='京新')\n",
    "                                                         else 0,axis=1)\n",
    "# 换药2次：京新_可定_京新，可定_京新_可定\n",
    "df_drug_vatin_before['可定_京新_可定']=df_drug_vatin_before.apply(lambda x: 1 if (x['换药次数']==2) & (x['初始用药选择']=='可定') & (x['第二种药物选择']=='京新') & (x['第三种药物选择']=='可定')\n",
    "                                                         else 0,axis=1)\n",
    "df_drug_vatin_before['京新_可定_京新']=df_drug_vatin_before.apply(lambda x: 1 if (x['换药次数']==2) & (x['初始用药选择']=='京新') & (x['第二种药物选择']=='可定') & (x['第三种药物选择']=='京新')\n",
    "                                                         else 0,axis=1)"
   ]
  },
  {
   "cell_type": "code",
   "execution_count": 905,
   "metadata": {},
   "outputs": [
    {
     "data": {
      "text/plain": [
       "0    29435\n",
       "1     2623\n",
       "Name: 可定_其他汀, dtype: int64"
      ]
     },
     "execution_count": 905,
     "metadata": {},
     "output_type": "execute_result"
    }
   ],
   "source": [
    "df_drug_vatin_before['可定_其他汀'].value_counts()"
   ]
  },
  {
   "cell_type": "code",
   "execution_count": 906,
   "metadata": {},
   "outputs": [
    {
     "data": {
      "text/plain": [
       "(32058, 50)"
      ]
     },
     "execution_count": 906,
     "metadata": {},
     "output_type": "execute_result"
    }
   ],
   "source": [
    "df_drug_vatin_before.shape"
   ]
  },
  {
   "cell_type": "code",
   "execution_count": 907,
   "metadata": {},
   "outputs": [],
   "source": [
    "df_drug_vatin_before.to_csv(project_path+'/data/processed_data/政策性/df_3.7.8.1_政策前_换药标签.csv')"
   ]
  },
  {
   "cell_type": "markdown",
   "metadata": {},
   "source": [
    "#### 政策后"
   ]
  },
  {
   "cell_type": "code",
   "execution_count": 908,
   "metadata": {},
   "outputs": [],
   "source": [
    "# 换药一次：京新、可定、其他汀\n",
    "df_drug_vatin_after['可定_京新']=df_drug_vatin_after.apply(lambda x: 1 if (x['换药次数']==1) & (x['初始用药选择']=='可定') & (x['第二种药物选择']=='京新')\n",
    "                                                         else 0,axis=1)\n",
    "df_drug_vatin_after['京新_可定']=df_drug_vatin_after.apply(lambda x: 1 if (x['换药次数']==1) & (x['初始用药选择']=='京新') & (x['第二种药物选择']=='可定')\n",
    "                                                         else 0,axis=1)\n",
    "df_drug_vatin_after['可定_其他汀']=df_drug_vatin_after.apply(lambda x: 1 if (x['换药次数']==1) & (x['初始用药选择']=='可定') & (x['第二种药物选择']=='其他汀')\n",
    "                                                         else 0,axis=1)\n",
    "df_drug_vatin_after['其他汀_可定']=df_drug_vatin_after.apply(lambda x: 1 if (x['换药次数']==1) & (x['初始用药选择']=='其他汀') & (x['第二种药物选择']=='可定')\n",
    "                                                         else 0,axis=1)\n",
    "df_drug_vatin_after['京新_其他汀']=df_drug_vatin_after.apply(lambda x: 1 if (x['换药次数']==1) & (x['初始用药选择']=='京新') & (x['第二种药物选择']=='其他汀')\n",
    "                                                         else 0,axis=1)\n",
    "df_drug_vatin_after['其他汀_京新']=df_drug_vatin_after.apply(lambda x: 1 if (x['换药次数']==1) & (x['初始用药选择']=='其他汀') & (x['第二种药物选择']=='京新')\n",
    "                                                         else 0,axis=1)\n",
    "# 换药2次：京新_可定_京新，可定_京新_可定\n",
    "df_drug_vatin_after['可定_京新_可定']=df_drug_vatin_after.apply(lambda x: 1 if (x['换药次数']==2) & (x['初始用药选择']=='可定') & (x['第二种药物选择']=='京新') & (x['第三种药物选择']=='可定')\n",
    "                                                         else 0,axis=1)\n",
    "df_drug_vatin_after['京新_可定_京新']=df_drug_vatin_after.apply(lambda x: 1 if (x['换药次数']==2) & (x['初始用药选择']=='京新') & (x['第二种药物选择']=='可定') & (x['第三种药物选择']=='京新')\n",
    "                                                         else 0,axis=1)"
   ]
  },
  {
   "cell_type": "code",
   "execution_count": 909,
   "metadata": {},
   "outputs": [
    {
     "data": {
      "text/plain": [
       "0    24815\n",
       "1     1428\n",
       "Name: 可定_京新, dtype: int64"
      ]
     },
     "execution_count": 909,
     "metadata": {},
     "output_type": "execute_result"
    }
   ],
   "source": [
    "df_drug_vatin_after['可定_京新'].value_counts()"
   ]
  },
  {
   "cell_type": "code",
   "execution_count": 910,
   "metadata": {},
   "outputs": [
    {
     "data": {
      "text/plain": [
       "(26243, 50)"
      ]
     },
     "execution_count": 910,
     "metadata": {},
     "output_type": "execute_result"
    }
   ],
   "source": [
    "df_drug_vatin_after.shape"
   ]
  },
  {
   "cell_type": "code",
   "execution_count": 911,
   "metadata": {},
   "outputs": [],
   "source": [
    "df_drug_vatin_after.to_csv(project_path+'/data/processed_data/政策性/df_3.7.8.2_政策后_换药标签.csv')"
   ]
  },
  {
   "cell_type": "markdown",
   "metadata": {},
   "source": [
    "### 取第一条数据"
   ]
  },
  {
   "cell_type": "code",
   "execution_count": 912,
   "metadata": {},
   "outputs": [],
   "source": [
    "# 政策前\n",
    "df_drug_vatin_before_first=df_drug_vatin_before.sort_values(['患者编号','医嘱开始时间'],ascending=True).drop_duplicates(['患者编号'],keep='first').reset_index(drop=True)"
   ]
  },
  {
   "cell_type": "code",
   "execution_count": 913,
   "metadata": {},
   "outputs": [
    {
     "data": {
      "text/plain": [
       "(7018, 50)"
      ]
     },
     "execution_count": 913,
     "metadata": {},
     "output_type": "execute_result"
    }
   ],
   "source": [
    "df_drug_vatin_before_first.shape"
   ]
  },
  {
   "cell_type": "code",
   "execution_count": 914,
   "metadata": {},
   "outputs": [],
   "source": [
    "# 政策后\n",
    "df_drug_vatin_after_first=df_drug_vatin_after.sort_values(['患者编号','医嘱开始时间'],ascending=True).drop_duplicates(['患者编号'],keep='first').reset_index(drop=True)"
   ]
  },
  {
   "cell_type": "code",
   "execution_count": 915,
   "metadata": {},
   "outputs": [
    {
     "data": {
      "text/plain": [
       "(5856, 50)"
      ]
     },
     "execution_count": 915,
     "metadata": {},
     "output_type": "execute_result"
    }
   ],
   "source": [
    "df_drug_vatin_after_first.shape"
   ]
  },
  {
   "cell_type": "code",
   "execution_count": 916,
   "metadata": {},
   "outputs": [],
   "source": [
    "df_drug_vatin_before_first.to_csv(project_path+'/data/processed_data/政策性/df_3.7.9.1_政策前_第一条换药标签.csv')\n",
    "df_drug_vatin_after_first.to_csv(project_path+'/data/processed_data/政策性/df_3.7.9.2_政策后_第一条换药标签.csv')"
   ]
  },
  {
   "cell_type": "markdown",
   "metadata": {},
   "source": [
    "## 医保类型"
   ]
  },
  {
   "cell_type": "markdown",
   "metadata": {},
   "source": [
    "### 人民医院"
   ]
  },
  {
   "cell_type": "code",
   "execution_count": 242,
   "metadata": {},
   "outputs": [],
   "source": [
    "# 人民医院--检验数据\n",
    "df_insurance_1 = pd.read_excel(r'./data/raw_data/人民医院/6-医疗付费方式.xlsx')"
   ]
  },
  {
   "cell_type": "code",
   "execution_count": 245,
   "metadata": {
    "scrolled": true
   },
   "outputs": [
    {
     "data": {
      "text/plain": [
       "Index(['患者编号', '当前就诊次数/命中就诊总次数', '医疗付费方式'], dtype='object')"
      ]
     },
     "execution_count": 245,
     "metadata": {},
     "output_type": "execute_result"
    }
   ],
   "source": [
    "df_insurance_1.columns"
   ]
  },
  {
   "cell_type": "code",
   "execution_count": 246,
   "metadata": {},
   "outputs": [],
   "source": [
    "df_insurance_1=df_insurance_1[['患者编号', '医疗付费方式']].rename(columns={'医疗付费方式':'医保类型'})"
   ]
  },
  {
   "cell_type": "code",
   "execution_count": 247,
   "metadata": {},
   "outputs": [
    {
     "data": {
      "text/html": [
       "<div>\n",
       "<style scoped>\n",
       "    .dataframe tbody tr th:only-of-type {\n",
       "        vertical-align: middle;\n",
       "    }\n",
       "\n",
       "    .dataframe tbody tr th {\n",
       "        vertical-align: top;\n",
       "    }\n",
       "\n",
       "    .dataframe thead th {\n",
       "        text-align: right;\n",
       "    }\n",
       "</style>\n",
       "<table border=\"1\" class=\"dataframe\">\n",
       "  <thead>\n",
       "    <tr style=\"text-align: right;\">\n",
       "      <th></th>\n",
       "      <th>患者编号</th>\n",
       "      <th>医保类型</th>\n",
       "    </tr>\n",
       "  </thead>\n",
       "  <tbody>\n",
       "    <tr>\n",
       "      <th>0</th>\n",
       "      <td>pat_0d9297a346707bce01f0b4637484efe9</td>\n",
       "      <td>全自费</td>\n",
       "    </tr>\n",
       "    <tr>\n",
       "      <th>1</th>\n",
       "      <td>pat_0ebd83a8c3990a103016a650f84616f8</td>\n",
       "      <td>商业医疗保险</td>\n",
       "    </tr>\n",
       "    <tr>\n",
       "      <th>2</th>\n",
       "      <td>pat_13da443c402ad02c9e9de0c5c0751eda</td>\n",
       "      <td>商业医疗保险</td>\n",
       "    </tr>\n",
       "    <tr>\n",
       "      <th>3</th>\n",
       "      <td>pat_13da443c402ad02c9e9de0c5c0751eda</td>\n",
       "      <td>商业医疗保险</td>\n",
       "    </tr>\n",
       "    <tr>\n",
       "      <th>4</th>\n",
       "      <td>pat_13da443c402ad02c9e9de0c5c0751eda</td>\n",
       "      <td>商业医疗保险</td>\n",
       "    </tr>\n",
       "  </tbody>\n",
       "</table>\n",
       "</div>"
      ],
      "text/plain": [
       "                                   患者编号    医保类型\n",
       "0  pat_0d9297a346707bce01f0b4637484efe9     全自费\n",
       "1  pat_0ebd83a8c3990a103016a650f84616f8  商业医疗保险\n",
       "2  pat_13da443c402ad02c9e9de0c5c0751eda  商业医疗保险\n",
       "3  pat_13da443c402ad02c9e9de0c5c0751eda  商业医疗保险\n",
       "4  pat_13da443c402ad02c9e9de0c5c0751eda  商业医疗保险"
      ]
     },
     "execution_count": 247,
     "metadata": {},
     "output_type": "execute_result"
    }
   ],
   "source": [
    "df_insurance_1.head()"
   ]
  },
  {
   "cell_type": "markdown",
   "metadata": {},
   "source": [
    "### 世纪坛医院"
   ]
  },
  {
   "cell_type": "code",
   "execution_count": 243,
   "metadata": {},
   "outputs": [],
   "source": [
    "# 世纪坛医院--检验数据\n",
    "df_insurance_2 = pd.read_excel(r'./data/raw_data/首都医科大学附属北京世纪坛医院—阿托他汀临床疗效及安全性评价的真实世界研究-住院+门诊-2018.3.23-2020.3.xlsx',\n",
    "                           sheet_name='病历')\n",
    "df_insurance_2 = df_insurance_2.dropna(how='all',axis=1)"
   ]
  },
  {
   "cell_type": "code",
   "execution_count": 244,
   "metadata": {},
   "outputs": [
    {
     "data": {
      "text/plain": [
       "Index(['Unnamed: 0', 'Unnamed: 1', 'patient_SN', '性别', '出生日期', '年龄', '民族',\n",
       "       '就诊次数（住院）', '就诊时间（门诊）', '就诊科室（门诊）', '就诊类型', '入院(就诊)时间', '既往是否有疾病史',\n",
       "       '历史总门诊就诊次数', '历史总急诊就诊次数', '历史总住院就诊次数', '初步诊断（首次病程）', '医保类型', '入院（就诊）科室',\n",
       "       '住院天数'],\n",
       "      dtype='object')"
      ]
     },
     "execution_count": 244,
     "metadata": {},
     "output_type": "execute_result"
    }
   ],
   "source": [
    "df_insurance_2.columns"
   ]
  },
  {
   "cell_type": "code",
   "execution_count": null,
   "metadata": {},
   "outputs": [],
   "source": [
    "df_insurance_2=df_insurance_2[['patient_SN','医保类型', '入院（就诊）科室']]\n",
    "# 置空噪声数据\n",
    "df_insurance_2['医保类型']=df_insurance_2['医保类型'].apply(lambda x: np.nan if '科' in x else x)\n",
    "df_insurance_2['入院（就诊）科室']=df_insurance_2['入院（就诊）科室'].apply(lambda x: np.nan if '科' in x else x)"
   ]
  },
  {
   "cell_type": "code",
   "execution_count": 255,
   "metadata": {},
   "outputs": [],
   "source": [
    "# 将入院（就诊）科室为空的数据填充为同行的医保类型\n",
    "df_insurance_2['入院（就诊）科室']=df_insurance_2.apply(lambda x: x['医保类型'] if pd.isnull(x['入院（就诊）科室']) else x['入院（就诊）科室'],axis=1)"
   ]
  },
  {
   "cell_type": "code",
   "execution_count": 261,
   "metadata": {},
   "outputs": [],
   "source": [
    "df_insurance_2.columns=['患者编号','就诊科室','医保类型']\n",
    "df_insurance_2=df_insurance_2[['患者编号','医保类型']]"
   ]
  },
  {
   "cell_type": "code",
   "execution_count": 262,
   "metadata": {},
   "outputs": [
    {
     "data": {
      "text/plain": [
       "Index(['患者编号', '医保类型'], dtype='object')"
      ]
     },
     "execution_count": 262,
     "metadata": {},
     "output_type": "execute_result"
    }
   ],
   "source": [
    "df_insurance_2.columns"
   ]
  },
  {
   "cell_type": "code",
   "execution_count": 256,
   "metadata": {},
   "outputs": [],
   "source": [
    "df_insurance_2.to_csv(project_path+'/data/processed_data/依从性/df_temp_医保类型_世纪坛.csv')"
   ]
  },
  {
   "cell_type": "markdown",
   "metadata": {},
   "source": [
    "### 合并医保类型"
   ]
  },
  {
   "cell_type": "code",
   "execution_count": 290,
   "metadata": {},
   "outputs": [],
   "source": [
    "df_insurance=pd.concat([df_insurance_1,df_insurance_2],axis=0)\n",
    "# 删除重复\n",
    "df_insurance=df_insurance.drop_duplicates(['患者编号', '医保类型'],keep='first')\n",
    "# 删除其他医保类型\n",
    "df_insurance=df_insurance[~ df_insurance['医保类型'].str.contains('其他')]"
   ]
  },
  {
   "cell_type": "code",
   "execution_count": 291,
   "metadata": {},
   "outputs": [],
   "source": [
    "# 合并同一人的多种医保类型\n",
    "temp_list=[]\n",
    "for i in df_insurance.患者编号.unique():\n",
    "    temp=df_insurance[df_insurance['患者编号']==i].reset_index(drop=True)\n",
    "    if temp.shape[0]>1:\n",
    "        temp=temp.loc[:0,]\n",
    "        temp.loc[0,'医保类型']=';'.join(temp['医保类型'].to_list())\n",
    "    temp_list.append(temp)"
   ]
  },
  {
   "cell_type": "code",
   "execution_count": 292,
   "metadata": {},
   "outputs": [],
   "source": [
    "df_insurance=pd.concat(temp_list,axis=0).reset_index(drop=True)\n",
    "del temp_list"
   ]
  },
  {
   "cell_type": "code",
   "execution_count": 293,
   "metadata": {},
   "outputs": [
    {
     "data": {
      "text/html": [
       "<div>\n",
       "<style scoped>\n",
       "    .dataframe tbody tr th:only-of-type {\n",
       "        vertical-align: middle;\n",
       "    }\n",
       "\n",
       "    .dataframe tbody tr th {\n",
       "        vertical-align: top;\n",
       "    }\n",
       "\n",
       "    .dataframe thead th {\n",
       "        text-align: right;\n",
       "    }\n",
       "</style>\n",
       "<table border=\"1\" class=\"dataframe\">\n",
       "  <thead>\n",
       "    <tr style=\"text-align: right;\">\n",
       "      <th></th>\n",
       "      <th>患者编号</th>\n",
       "      <th>医保类型</th>\n",
       "    </tr>\n",
       "  </thead>\n",
       "  <tbody>\n",
       "    <tr>\n",
       "      <th>0</th>\n",
       "      <td>pat_0d9297a346707bce01f0b4637484efe9</td>\n",
       "      <td>全自费</td>\n",
       "    </tr>\n",
       "    <tr>\n",
       "      <th>1</th>\n",
       "      <td>pat_0ebd83a8c3990a103016a650f84616f8</td>\n",
       "      <td>商业医疗保险</td>\n",
       "    </tr>\n",
       "    <tr>\n",
       "      <th>2</th>\n",
       "      <td>pat_13da443c402ad02c9e9de0c5c0751eda</td>\n",
       "      <td>商业医疗保险</td>\n",
       "    </tr>\n",
       "    <tr>\n",
       "      <th>3</th>\n",
       "      <td>pat_2c40bef1b35d17984b1d393c6be55688</td>\n",
       "      <td>全自费</td>\n",
       "    </tr>\n",
       "    <tr>\n",
       "      <th>4</th>\n",
       "      <td>pat_0f6bf632666460422c4923f591ede61f</td>\n",
       "      <td>全自费</td>\n",
       "    </tr>\n",
       "    <tr>\n",
       "      <th>...</th>\n",
       "      <td>...</td>\n",
       "      <td>...</td>\n",
       "    </tr>\n",
       "    <tr>\n",
       "      <th>60719</th>\n",
       "      <td>ffe25ffb99f78a2d9ac99af9b6450cca</td>\n",
       "      <td>城镇职工基本医疗保险</td>\n",
       "    </tr>\n",
       "    <tr>\n",
       "      <th>60720</th>\n",
       "      <td>ffe2c486261b6f2a033b31e6db20d2c6</td>\n",
       "      <td>全公费</td>\n",
       "    </tr>\n",
       "    <tr>\n",
       "      <th>60721</th>\n",
       "      <td>ffe72aa2d2eb81cb9e8da3cc10103578</td>\n",
       "      <td>城镇职工基本医疗保险</td>\n",
       "    </tr>\n",
       "    <tr>\n",
       "      <th>60722</th>\n",
       "      <td>fff5ec2c3a7757680d84c1f7d45b065f</td>\n",
       "      <td>全自费</td>\n",
       "    </tr>\n",
       "    <tr>\n",
       "      <th>60723</th>\n",
       "      <td>fffe3137c55f2e4afc2452fa52fac08f</td>\n",
       "      <td>城镇职工基本医疗保险</td>\n",
       "    </tr>\n",
       "  </tbody>\n",
       "</table>\n",
       "<p>60724 rows × 2 columns</p>\n",
       "</div>"
      ],
      "text/plain": [
       "                                       患者编号        医保类型\n",
       "0      pat_0d9297a346707bce01f0b4637484efe9         全自费\n",
       "1      pat_0ebd83a8c3990a103016a650f84616f8      商业医疗保险\n",
       "2      pat_13da443c402ad02c9e9de0c5c0751eda      商业医疗保险\n",
       "3      pat_2c40bef1b35d17984b1d393c6be55688         全自费\n",
       "4      pat_0f6bf632666460422c4923f591ede61f         全自费\n",
       "...                                     ...         ...\n",
       "60719      ffe25ffb99f78a2d9ac99af9b6450cca  城镇职工基本医疗保险\n",
       "60720      ffe2c486261b6f2a033b31e6db20d2c6         全公费\n",
       "60721      ffe72aa2d2eb81cb9e8da3cc10103578  城镇职工基本医疗保险\n",
       "60722      fff5ec2c3a7757680d84c1f7d45b065f         全自费\n",
       "60723      fffe3137c55f2e4afc2452fa52fac08f  城镇职工基本医疗保险\n",
       "\n",
       "[60724 rows x 2 columns]"
      ]
     },
     "execution_count": 293,
     "metadata": {},
     "output_type": "execute_result"
    }
   ],
   "source": [
    "df_insurance"
   ]
  },
  {
   "cell_type": "code",
   "execution_count": 294,
   "metadata": {},
   "outputs": [
    {
     "data": {
      "text/plain": [
       "71939fa186293b70658710ba8dcfdbc7        1\n",
       "pat_7e072e7fcfc30bf5a6ee6423eb328442    1\n",
       "f462e1be4f390322dda38c96bf68e22d        1\n",
       "pat_a6c6a922da266a9beb4a18b21a13d436    1\n",
       "pat_a4446be86e5b7fd63a6f456fe22311f3    1\n",
       "                                       ..\n",
       "897117b04de66d4442e9e87d412bf55d        1\n",
       "35a65894d5917bea251724284b590e3b        1\n",
       "pat_cd508afce99f29a08c9e17dec942b102    1\n",
       "pat_b163cadd8c03b256fc985511d1ba8237    1\n",
       "pat_ccf06e11a32001e902146a267900858b    1\n",
       "Name: 患者编号, Length: 60724, dtype: int64"
      ]
     },
     "execution_count": 294,
     "metadata": {},
     "output_type": "execute_result"
    }
   ],
   "source": [
    "df_insurance.患者编号.value_counts()"
   ]
  },
  {
   "cell_type": "markdown",
   "metadata": {},
   "source": [
    "### 并入医保类型"
   ]
  },
  {
   "cell_type": "code",
   "execution_count": 407,
   "metadata": {},
   "outputs": [],
   "source": [
    "# 政策前观察期\n",
    "df_drug_resuvatin_keep_before=pd.merge(df_drug_resuvatin_keep_before,df_insurance,on='患者编号',how='left')\n",
    "#政策后观察期\n",
    "df_drug_resuvatin_keep_after=pd.merge(df_drug_resuvatin_keep_after,df_insurance,on='患者编号',how='left')"
   ]
  },
  {
   "cell_type": "code",
   "execution_count": 408,
   "metadata": {},
   "outputs": [],
   "source": [
    "df_drug_resuvatin_keep_before.to_csv(project_path+'/data/processed_data/依从性/df_3.7.4_政策前_并入医保类型.csv')\n",
    "df_drug_resuvatin_keep_after.to_csv(project_path+'/data/processed_data/依从性/df_3.7.4_政策后_并入医保类型.csv')"
   ]
  },
  {
   "cell_type": "code",
   "execution_count": null,
   "metadata": {},
   "outputs": [],
   "source": []
  }
 ],
 "metadata": {
  "kernelspec": {
   "display_name": "Python 3",
   "language": "python",
   "name": "python3"
  },
  "language_info": {
   "codemirror_mode": {
    "name": "ipython",
    "version": 3
   },
   "file_extension": ".py",
   "mimetype": "text/x-python",
   "name": "python",
   "nbconvert_exporter": "python",
   "pygments_lexer": "ipython3",
   "version": "3.6.8"
  },
  "toc": {
   "base_numbering": 1,
   "nav_menu": {},
   "number_sections": true,
   "sideBar": true,
   "skip_h1_title": false,
   "title_cell": "Table of Contents",
   "title_sidebar": "Contents",
   "toc_cell": false,
   "toc_position": {
    "height": "calc(100% - 180px)",
    "left": "10px",
    "top": "150px",
    "width": "460.8px"
   },
   "toc_section_display": true,
   "toc_window_display": true
  },
  "varInspector": {
   "cols": {
    "lenName": 16,
    "lenType": 16,
    "lenVar": 40
   },
   "kernels_config": {
    "python": {
     "delete_cmd_postfix": "",
     "delete_cmd_prefix": "del ",
     "library": "var_list.py",
     "varRefreshCmd": "print(var_dic_list())"
    },
    "r": {
     "delete_cmd_postfix": ") ",
     "delete_cmd_prefix": "rm(",
     "library": "var_list.r",
     "varRefreshCmd": "cat(var_dic_list()) "
    }
   },
   "types_to_exclude": [
    "module",
    "function",
    "builtin_function_or_method",
    "instance",
    "_Feature"
   ],
   "window_display": false
  }
 },
 "nbformat": 4,
 "nbformat_minor": 2
}
