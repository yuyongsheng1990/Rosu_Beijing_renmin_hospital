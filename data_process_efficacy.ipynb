{
 "cells": [
  {
   "cell_type": "code",
   "execution_count": 1,
   "metadata": {},
   "outputs": [
    {
     "data": {
      "text/plain": [
       "'\\n2022/04/02 17:27\\n北大人民医院--瑞舒伐他汀vatin：疗效数据处理\\n'"
      ]
     },
     "execution_count": 1,
     "metadata": {},
     "output_type": "execute_result"
    }
   ],
   "source": [
    "'''\n",
    "2022/04/02 17:27\n",
    "北大人民医院--瑞舒伐他汀vatin：疗效数据处理\n",
    "'''"
   ]
  },
  {
   "cell_type": "markdown",
   "metadata": {},
   "source": [
    "# 疗效数据预处理"
   ]
  },
  {
   "cell_type": "markdown",
   "metadata": {},
   "source": [
    "## 导入程序包"
   ]
  },
  {
   "cell_type": "code",
   "execution_count": 2,
   "metadata": {},
   "outputs": [
    {
     "name": "stdout",
     "output_type": "stream",
     "text": [
      "D:\\PycharmProjects\\Rosu_Beijing_renmin_hospital\n"
     ]
    }
   ],
   "source": [
    "# 导入程序包\n",
    "import pymysql as MySQLDB\n",
    "import pandas as pd\n",
    "import numpy as np\n",
    "import datetime\n",
    "\n",
    "import math\n",
    "import re\n",
    "import sys\n",
    "import os\n",
    "project_path = os.getcwd()\n",
    "print(project_path)"
   ]
  },
  {
   "cell_type": "markdown",
   "metadata": {},
   "source": [
    "## 导入预定义函数"
   ]
  },
  {
   "cell_type": "code",
   "execution_count": 2,
   "metadata": {},
   "outputs": [],
   "source": [
    "# 判断是否为float类型\n",
    "def judge_float(x):\n",
    "    try:\n",
    "        a=float(x)\n",
    "        return a\n",
    "    except :\n",
    "        return np.NaN"
   ]
  },
  {
   "cell_type": "code",
   "execution_count": 3,
   "metadata": {},
   "outputs": [],
   "source": [
    "# 过滤文字\n",
    "import numpy as np\n",
    "def filter_string(df,feature):\n",
    "    # 过滤文字!!!!!!!!!!!!!!!!!!!!!!!!!!!\n",
    "    df=df[df[feature].str.contains('\\d')]\n",
    "    return df"
   ]
  },
  {
   "cell_type": "code",
   "execution_count": 4,
   "metadata": {},
   "outputs": [],
   "source": [
    "# 过滤特殊字符\n",
    "def filter_spec_character(x):\n",
    "    if pd.isnull(x):\n",
    "        return np.nan\n",
    "    else:\n",
    "        x = re.sub('<|>|＞|＜|\\+|\\/|-|cm|kg','',str(x))\n",
    "        return x"
   ]
  },
  {
   "cell_type": "code",
   "execution_count": 5,
   "metadata": {},
   "outputs": [],
   "source": [
    "# 过滤异常大值\n",
    "def filter_huge_value(df,feature,median_value=1):\n",
    "    # 过滤异常大值!!!!!!!!!!!!!!!!!!!!!!!!!!\n",
    "    if not median_value:\n",
    "        median_value=df[feature].median()\n",
    "    df[feature]=df[feature].apply(lambda x: np.nan if x<0 else x if float(x) <= 100 * median_value else np.nan)\n",
    "    df=df[df[feature].notnull()]\n",
    "    return df"
   ]
  },
  {
   "cell_type": "markdown",
   "metadata": {},
   "source": [
    "# 读取raw_data"
   ]
  },
  {
   "cell_type": "markdown",
   "metadata": {},
   "source": [
    "## 用药数据预处理"
   ]
  },
  {
   "cell_type": "code",
   "execution_count": 113,
   "metadata": {},
   "outputs": [
    {
     "data": {
      "text/plain": [
       "'\\n统计患者京新、可定、其他品牌他汀、其他降脂药的首末次处方时间、用药天数、用药剂量\\n注意先不需要分冠心病，首先落脚点是在高脂血症，即只要使用了他汀类药物的患者都纳入，当明确诊断为冠心病时则直接归为极高危人群，在后面的分层分析中考虑\\n'"
      ]
     },
     "execution_count": 113,
     "metadata": {},
     "output_type": "execute_result"
    }
   ],
   "source": [
    "'''\n",
    "统计患者京新、可定、其他品牌他汀、其他降脂药的首末次处方时间、用药天数、用药剂量\n",
    "注意先不需要分冠心病，首先落脚点是在高脂血症，即只要使用了他汀类药物的患者都纳入，当明确诊断为冠心病时则直接归为极高危人群，在后面的分层分析中考虑\n",
    "'''"
   ]
  },
  {
   "cell_type": "markdown",
   "metadata": {},
   "source": [
    "### 人民医院"
   ]
  },
  {
   "cell_type": "code",
   "execution_count": 114,
   "metadata": {},
   "outputs": [],
   "source": [
    "# 人民医院用药\n",
    "df_drug_order_1 = pd.read_excel(r'./data/raw_data/人民医院/4-药物医嘱.xlsx')"
   ]
  },
  {
   "cell_type": "code",
   "execution_count": 115,
   "metadata": {},
   "outputs": [],
   "source": [
    "# 删除重复用药\n",
    "df_drug_order_1 = df_drug_order_1.drop_duplicates(df_drug_order_1.columns,keep='first')\n",
    "# 删除开药总数量为负的，退药记录\n",
    "df_drug_order_1 = df_drug_order_1[df_drug_order_1['开药总数量']>=0]"
   ]
  },
  {
   "cell_type": "code",
   "execution_count": 116,
   "metadata": {},
   "outputs": [],
   "source": [
    "# 人民医院--他汀用药\n",
    "df_drug_vatin_1 = df_drug_order_1[df_drug_order_1.药物通用名称.str.contains('他汀')]"
   ]
  },
  {
   "cell_type": "code",
   "execution_count": 117,
   "metadata": {},
   "outputs": [
    {
     "name": "stdout",
     "output_type": "stream",
     "text": [
      "(422162, 22)\n",
      "(251698, 22)\n"
     ]
    }
   ],
   "source": [
    "print(df_drug_order_1.shape)\n",
    "print(df_drug_vatin_1.shape)"
   ]
  },
  {
   "cell_type": "code",
   "execution_count": 118,
   "metadata": {},
   "outputs": [
    {
     "data": {
      "text/plain": [
       "Index(['患者编号', '当前就诊次数/命中就诊总次数', '长期或临时', '药物编码', '药物商品名', '药物通用名称', '批准文号',\n",
       "       '医嘱开始时间', '医嘱停止时间', 'ATC分类码', 'ATC分类名称', 'DDD值', '药物规格', '药物剂量',\n",
       "       '药物剂量单位名称', '频率名称', '用药途径名称', '开药总数量', '开药总数量单位名称', '药物剂型', '下嘱科室名称',\n",
       "       '数据来源'],\n",
       "      dtype='object')"
      ]
     },
     "execution_count": 118,
     "metadata": {},
     "output_type": "execute_result"
    }
   ],
   "source": [
    "df_drug_vatin_1.columns"
   ]
  },
  {
   "cell_type": "code",
   "execution_count": 119,
   "metadata": {},
   "outputs": [],
   "source": [
    "# 提取有效字段\n",
    "df_drug_vatin_1 = df_drug_vatin_1[['患者编号', '药物编码', '药物通用名称','医嘱开始时间', '医嘱停止时间', '药物规格', '药物剂量',\n",
    "       '药物剂量单位名称', '频率名称', '开药总数量', '开药总数量单位名称', '药物剂型']]"
   ]
  },
  {
   "cell_type": "code",
   "execution_count": 120,
   "metadata": {},
   "outputs": [
    {
     "data": {
      "text/plain": [
       "(251698, 11)"
      ]
     },
     "execution_count": 120,
     "metadata": {},
     "output_type": "execute_result"
    }
   ],
   "source": [
    "df_drug_vatin_1.shape"
   ]
  },
  {
   "cell_type": "code",
   "execution_count": 121,
   "metadata": {},
   "outputs": [
    {
     "data": {
      "text/html": [
       "<div>\n",
       "<style scoped>\n",
       "    .dataframe tbody tr th:only-of-type {\n",
       "        vertical-align: middle;\n",
       "    }\n",
       "\n",
       "    .dataframe tbody tr th {\n",
       "        vertical-align: top;\n",
       "    }\n",
       "\n",
       "    .dataframe thead th {\n",
       "        text-align: right;\n",
       "    }\n",
       "</style>\n",
       "<table border=\"1\" class=\"dataframe\">\n",
       "  <thead>\n",
       "    <tr style=\"text-align: right;\">\n",
       "      <th></th>\n",
       "      <th>患者编号</th>\n",
       "      <th>药物通用名称</th>\n",
       "      <th>医嘱开始时间</th>\n",
       "      <th>医嘱停止时间</th>\n",
       "      <th>药物规格</th>\n",
       "      <th>药物剂量</th>\n",
       "      <th>药物剂量单位名称</th>\n",
       "      <th>频率名称</th>\n",
       "      <th>开药总数量</th>\n",
       "      <th>开药总数量单位名称</th>\n",
       "      <th>药物剂型</th>\n",
       "    </tr>\n",
       "  </thead>\n",
       "  <tbody>\n",
       "    <tr>\n",
       "      <th>0</th>\n",
       "      <td>pat_0d9297a346707bce01f0b4637484efe9</td>\n",
       "      <td>瑞舒伐他汀钙</td>\n",
       "      <td>2019-12-31 07:54:51</td>\n",
       "      <td>NaN</td>\n",
       "      <td>旧  10mgx28片/盒</td>\n",
       "      <td>1.0</td>\n",
       "      <td>片</td>\n",
       "      <td>QD(8am)</td>\n",
       "      <td>1.0</td>\n",
       "      <td>盒</td>\n",
       "      <td>片剂</td>\n",
       "    </tr>\n",
       "    <tr>\n",
       "      <th>1</th>\n",
       "      <td>pat_0ebd83a8c3990a103016a650f84616f8</td>\n",
       "      <td>瑞舒伐他汀钙</td>\n",
       "      <td>2018-03-11 11:23:20</td>\n",
       "      <td>NaN</td>\n",
       "      <td>可定 10mg x7片/盒</td>\n",
       "      <td>10.0</td>\n",
       "      <td>mg</td>\n",
       "      <td>QD(8am)</td>\n",
       "      <td>5.0</td>\n",
       "      <td>盒</td>\n",
       "      <td>片剂</td>\n",
       "    </tr>\n",
       "    <tr>\n",
       "      <th>2</th>\n",
       "      <td>pat_13da443c402ad02c9e9de0c5c0751eda</td>\n",
       "      <td>阿托伐他汀钙</td>\n",
       "      <td>2018-01-08 16:29:39</td>\n",
       "      <td>NaN</td>\n",
       "      <td>旧  10mgx7片/盒</td>\n",
       "      <td>10.0</td>\n",
       "      <td>mg</td>\n",
       "      <td>QD(8am)</td>\n",
       "      <td>5.0</td>\n",
       "      <td>盒</td>\n",
       "      <td>片剂</td>\n",
       "    </tr>\n",
       "    <tr>\n",
       "      <th>3</th>\n",
       "      <td>pat_13da443c402ad02c9e9de0c5c0751eda</td>\n",
       "      <td>阿托伐他汀钙</td>\n",
       "      <td>2018-03-22 15:00:58</td>\n",
       "      <td>NaN</td>\n",
       "      <td>旧  10mgx7片/盒</td>\n",
       "      <td>10.0</td>\n",
       "      <td>mg</td>\n",
       "      <td>QD(8am)</td>\n",
       "      <td>5.0</td>\n",
       "      <td>盒</td>\n",
       "      <td>片剂</td>\n",
       "    </tr>\n",
       "    <tr>\n",
       "      <th>4</th>\n",
       "      <td>pat_13da443c402ad02c9e9de0c5c0751eda</td>\n",
       "      <td>阿托伐他汀钙</td>\n",
       "      <td>2018-06-26 14:08:42</td>\n",
       "      <td>NaN</td>\n",
       "      <td>旧  10mgx7片/盒</td>\n",
       "      <td>10.0</td>\n",
       "      <td>mg</td>\n",
       "      <td>QD(8am)</td>\n",
       "      <td>5.0</td>\n",
       "      <td>盒</td>\n",
       "      <td>片剂</td>\n",
       "    </tr>\n",
       "  </tbody>\n",
       "</table>\n",
       "</div>"
      ],
      "text/plain": [
       "                                   患者编号  药物通用名称               医嘱开始时间 医嘱停止时间  \\\n",
       "0  pat_0d9297a346707bce01f0b4637484efe9  瑞舒伐他汀钙  2019-12-31 07:54:51    NaN   \n",
       "1  pat_0ebd83a8c3990a103016a650f84616f8  瑞舒伐他汀钙  2018-03-11 11:23:20    NaN   \n",
       "2  pat_13da443c402ad02c9e9de0c5c0751eda  阿托伐他汀钙  2018-01-08 16:29:39    NaN   \n",
       "3  pat_13da443c402ad02c9e9de0c5c0751eda  阿托伐他汀钙  2018-03-22 15:00:58    NaN   \n",
       "4  pat_13da443c402ad02c9e9de0c5c0751eda  阿托伐他汀钙  2018-06-26 14:08:42    NaN   \n",
       "\n",
       "            药物规格  药物剂量 药物剂量单位名称     频率名称  开药总数量 开药总数量单位名称 药物剂型  \n",
       "0  旧  10mgx28片/盒   1.0        片  QD(8am)    1.0         盒   片剂  \n",
       "1  可定 10mg x7片/盒  10.0       mg  QD(8am)    5.0         盒   片剂  \n",
       "2   旧  10mgx7片/盒  10.0       mg  QD(8am)    5.0         盒   片剂  \n",
       "3   旧  10mgx7片/盒  10.0       mg  QD(8am)    5.0         盒   片剂  \n",
       "4   旧  10mgx7片/盒  10.0       mg  QD(8am)    5.0         盒   片剂  "
      ]
     },
     "execution_count": 121,
     "metadata": {},
     "output_type": "execute_result"
    }
   ],
   "source": [
    "df_drug_vatin_1.head()"
   ]
  },
  {
   "cell_type": "code",
   "execution_count": 122,
   "metadata": {},
   "outputs": [],
   "source": [
    "df_drug_vatin_1.to_csv(project_path+'/data/pre_processed_raw_data/df_2.3.1_人民_drug_vatin.csv')"
   ]
  },
  {
   "cell_type": "markdown",
   "metadata": {},
   "source": [
    "### 世纪坛医院"
   ]
  },
  {
   "cell_type": "code",
   "execution_count": 123,
   "metadata": {},
   "outputs": [
    {
     "ename": "KeyboardInterrupt",
     "evalue": "",
     "output_type": "error",
     "traceback": [
      "\u001b[1;31m---------------------------------------------------------------------------\u001b[0m",
      "\u001b[1;31mKeyboardInterrupt\u001b[0m                         Traceback (most recent call last)",
      "\u001b[1;32m<ipython-input-123-47f4b581eb93>\u001b[0m in \u001b[0;36m<module>\u001b[1;34m\u001b[0m\n\u001b[0;32m      1\u001b[0m \u001b[1;31m# 世纪坛用药\u001b[0m\u001b[1;33m\u001b[0m\u001b[1;33m\u001b[0m\u001b[1;33m\u001b[0m\u001b[0m\n\u001b[0;32m      2\u001b[0m df_drug_order_2 = pd.read_excel(r'./data/raw_data/首都医科大学附属北京世纪坛医院—阿托他汀临床疗效及安全性评价的真实世界研究-住院+门诊-2018.3.23-2020.3.xlsx',\n\u001b[1;32m----> 3\u001b[1;33m                            sheet_name='用药')\n\u001b[0m",
      "\u001b[1;32mD:\\Anaconda3\\lib\\site-packages\\pandas\\util\\_decorators.py\u001b[0m in \u001b[0;36mwrapper\u001b[1;34m(*args, **kwargs)\u001b[0m\n\u001b[0;32m    294\u001b[0m                 )\n\u001b[0;32m    295\u001b[0m                 \u001b[0mwarnings\u001b[0m\u001b[1;33m.\u001b[0m\u001b[0mwarn\u001b[0m\u001b[1;33m(\u001b[0m\u001b[0mmsg\u001b[0m\u001b[1;33m,\u001b[0m \u001b[0mFutureWarning\u001b[0m\u001b[1;33m,\u001b[0m \u001b[0mstacklevel\u001b[0m\u001b[1;33m=\u001b[0m\u001b[0mstacklevel\u001b[0m\u001b[1;33m)\u001b[0m\u001b[1;33m\u001b[0m\u001b[1;33m\u001b[0m\u001b[0m\n\u001b[1;32m--> 296\u001b[1;33m             \u001b[1;32mreturn\u001b[0m \u001b[0mfunc\u001b[0m\u001b[1;33m(\u001b[0m\u001b[1;33m*\u001b[0m\u001b[0margs\u001b[0m\u001b[1;33m,\u001b[0m \u001b[1;33m**\u001b[0m\u001b[0mkwargs\u001b[0m\u001b[1;33m)\u001b[0m\u001b[1;33m\u001b[0m\u001b[1;33m\u001b[0m\u001b[0m\n\u001b[0m\u001b[0;32m    297\u001b[0m \u001b[1;33m\u001b[0m\u001b[0m\n\u001b[0;32m    298\u001b[0m         \u001b[1;32mreturn\u001b[0m \u001b[0mwrapper\u001b[0m\u001b[1;33m\u001b[0m\u001b[1;33m\u001b[0m\u001b[0m\n",
      "\u001b[1;32mD:\\Anaconda3\\lib\\site-packages\\pandas\\io\\excel\\_base.py\u001b[0m in \u001b[0;36mread_excel\u001b[1;34m(io, sheet_name, header, names, index_col, usecols, squeeze, dtype, engine, converters, true_values, false_values, skiprows, nrows, na_values, keep_default_na, na_filter, verbose, parse_dates, date_parser, thousands, comment, skipfooter, convert_float, mangle_dupe_cols)\u001b[0m\n\u001b[0;32m    302\u001b[0m \u001b[1;33m\u001b[0m\u001b[0m\n\u001b[0;32m    303\u001b[0m     \u001b[1;32mif\u001b[0m \u001b[1;32mnot\u001b[0m \u001b[0misinstance\u001b[0m\u001b[1;33m(\u001b[0m\u001b[0mio\u001b[0m\u001b[1;33m,\u001b[0m \u001b[0mExcelFile\u001b[0m\u001b[1;33m)\u001b[0m\u001b[1;33m:\u001b[0m\u001b[1;33m\u001b[0m\u001b[1;33m\u001b[0m\u001b[0m\n\u001b[1;32m--> 304\u001b[1;33m         \u001b[0mio\u001b[0m \u001b[1;33m=\u001b[0m \u001b[0mExcelFile\u001b[0m\u001b[1;33m(\u001b[0m\u001b[0mio\u001b[0m\u001b[1;33m,\u001b[0m \u001b[0mengine\u001b[0m\u001b[1;33m=\u001b[0m\u001b[0mengine\u001b[0m\u001b[1;33m)\u001b[0m\u001b[1;33m\u001b[0m\u001b[1;33m\u001b[0m\u001b[0m\n\u001b[0m\u001b[0;32m    305\u001b[0m     \u001b[1;32melif\u001b[0m \u001b[0mengine\u001b[0m \u001b[1;32mand\u001b[0m \u001b[0mengine\u001b[0m \u001b[1;33m!=\u001b[0m \u001b[0mio\u001b[0m\u001b[1;33m.\u001b[0m\u001b[0mengine\u001b[0m\u001b[1;33m:\u001b[0m\u001b[1;33m\u001b[0m\u001b[1;33m\u001b[0m\u001b[0m\n\u001b[0;32m    306\u001b[0m         raise ValueError(\n",
      "\u001b[1;32mD:\\Anaconda3\\lib\\site-packages\\pandas\\io\\excel\\_base.py\u001b[0m in \u001b[0;36m__init__\u001b[1;34m(self, path_or_buffer, engine)\u001b[0m\n\u001b[0;32m    865\u001b[0m         \u001b[0mself\u001b[0m\u001b[1;33m.\u001b[0m\u001b[0m_io\u001b[0m \u001b[1;33m=\u001b[0m \u001b[0mstringify_path\u001b[0m\u001b[1;33m(\u001b[0m\u001b[0mpath_or_buffer\u001b[0m\u001b[1;33m)\u001b[0m\u001b[1;33m\u001b[0m\u001b[1;33m\u001b[0m\u001b[0m\n\u001b[0;32m    866\u001b[0m \u001b[1;33m\u001b[0m\u001b[0m\n\u001b[1;32m--> 867\u001b[1;33m         \u001b[0mself\u001b[0m\u001b[1;33m.\u001b[0m\u001b[0m_reader\u001b[0m \u001b[1;33m=\u001b[0m \u001b[0mself\u001b[0m\u001b[1;33m.\u001b[0m\u001b[0m_engines\u001b[0m\u001b[1;33m[\u001b[0m\u001b[0mengine\u001b[0m\u001b[1;33m]\u001b[0m\u001b[1;33m(\u001b[0m\u001b[0mself\u001b[0m\u001b[1;33m.\u001b[0m\u001b[0m_io\u001b[0m\u001b[1;33m)\u001b[0m\u001b[1;33m\u001b[0m\u001b[1;33m\u001b[0m\u001b[0m\n\u001b[0m\u001b[0;32m    868\u001b[0m \u001b[1;33m\u001b[0m\u001b[0m\n\u001b[0;32m    869\u001b[0m     \u001b[1;32mdef\u001b[0m \u001b[0m__fspath__\u001b[0m\u001b[1;33m(\u001b[0m\u001b[0mself\u001b[0m\u001b[1;33m)\u001b[0m\u001b[1;33m:\u001b[0m\u001b[1;33m\u001b[0m\u001b[1;33m\u001b[0m\u001b[0m\n",
      "\u001b[1;32mD:\\Anaconda3\\lib\\site-packages\\pandas\\io\\excel\\_xlrd.py\u001b[0m in \u001b[0;36m__init__\u001b[1;34m(self, filepath_or_buffer)\u001b[0m\n\u001b[0;32m     20\u001b[0m         \u001b[0merr_msg\u001b[0m \u001b[1;33m=\u001b[0m \u001b[1;34m\"Install xlrd >= 1.0.0 for Excel support\"\u001b[0m\u001b[1;33m\u001b[0m\u001b[1;33m\u001b[0m\u001b[0m\n\u001b[0;32m     21\u001b[0m         \u001b[0mimport_optional_dependency\u001b[0m\u001b[1;33m(\u001b[0m\u001b[1;34m\"xlrd\"\u001b[0m\u001b[1;33m,\u001b[0m \u001b[0mextra\u001b[0m\u001b[1;33m=\u001b[0m\u001b[0merr_msg\u001b[0m\u001b[1;33m)\u001b[0m\u001b[1;33m\u001b[0m\u001b[1;33m\u001b[0m\u001b[0m\n\u001b[1;32m---> 22\u001b[1;33m         \u001b[0msuper\u001b[0m\u001b[1;33m(\u001b[0m\u001b[1;33m)\u001b[0m\u001b[1;33m.\u001b[0m\u001b[0m__init__\u001b[0m\u001b[1;33m(\u001b[0m\u001b[0mfilepath_or_buffer\u001b[0m\u001b[1;33m)\u001b[0m\u001b[1;33m\u001b[0m\u001b[1;33m\u001b[0m\u001b[0m\n\u001b[0m\u001b[0;32m     23\u001b[0m \u001b[1;33m\u001b[0m\u001b[0m\n\u001b[0;32m     24\u001b[0m     \u001b[1;33m@\u001b[0m\u001b[0mproperty\u001b[0m\u001b[1;33m\u001b[0m\u001b[1;33m\u001b[0m\u001b[0m\n",
      "\u001b[1;32mD:\\Anaconda3\\lib\\site-packages\\pandas\\io\\excel\\_base.py\u001b[0m in \u001b[0;36m__init__\u001b[1;34m(self, filepath_or_buffer)\u001b[0m\n\u001b[0;32m    351\u001b[0m             \u001b[0mself\u001b[0m\u001b[1;33m.\u001b[0m\u001b[0mbook\u001b[0m \u001b[1;33m=\u001b[0m \u001b[0mself\u001b[0m\u001b[1;33m.\u001b[0m\u001b[0mload_workbook\u001b[0m\u001b[1;33m(\u001b[0m\u001b[0mfilepath_or_buffer\u001b[0m\u001b[1;33m)\u001b[0m\u001b[1;33m\u001b[0m\u001b[1;33m\u001b[0m\u001b[0m\n\u001b[0;32m    352\u001b[0m         \u001b[1;32melif\u001b[0m \u001b[0misinstance\u001b[0m\u001b[1;33m(\u001b[0m\u001b[0mfilepath_or_buffer\u001b[0m\u001b[1;33m,\u001b[0m \u001b[0mstr\u001b[0m\u001b[1;33m)\u001b[0m\u001b[1;33m:\u001b[0m\u001b[1;33m\u001b[0m\u001b[1;33m\u001b[0m\u001b[0m\n\u001b[1;32m--> 353\u001b[1;33m             \u001b[0mself\u001b[0m\u001b[1;33m.\u001b[0m\u001b[0mbook\u001b[0m \u001b[1;33m=\u001b[0m \u001b[0mself\u001b[0m\u001b[1;33m.\u001b[0m\u001b[0mload_workbook\u001b[0m\u001b[1;33m(\u001b[0m\u001b[0mfilepath_or_buffer\u001b[0m\u001b[1;33m)\u001b[0m\u001b[1;33m\u001b[0m\u001b[1;33m\u001b[0m\u001b[0m\n\u001b[0m\u001b[0;32m    354\u001b[0m         \u001b[1;32melif\u001b[0m \u001b[0misinstance\u001b[0m\u001b[1;33m(\u001b[0m\u001b[0mfilepath_or_buffer\u001b[0m\u001b[1;33m,\u001b[0m \u001b[0mbytes\u001b[0m\u001b[1;33m)\u001b[0m\u001b[1;33m:\u001b[0m\u001b[1;33m\u001b[0m\u001b[1;33m\u001b[0m\u001b[0m\n\u001b[0;32m    355\u001b[0m             \u001b[0mself\u001b[0m\u001b[1;33m.\u001b[0m\u001b[0mbook\u001b[0m \u001b[1;33m=\u001b[0m \u001b[0mself\u001b[0m\u001b[1;33m.\u001b[0m\u001b[0mload_workbook\u001b[0m\u001b[1;33m(\u001b[0m\u001b[0mBytesIO\u001b[0m\u001b[1;33m(\u001b[0m\u001b[0mfilepath_or_buffer\u001b[0m\u001b[1;33m)\u001b[0m\u001b[1;33m)\u001b[0m\u001b[1;33m\u001b[0m\u001b[1;33m\u001b[0m\u001b[0m\n",
      "\u001b[1;32mD:\\Anaconda3\\lib\\site-packages\\pandas\\io\\excel\\_xlrd.py\u001b[0m in \u001b[0;36mload_workbook\u001b[1;34m(self, filepath_or_buffer)\u001b[0m\n\u001b[0;32m     35\u001b[0m             \u001b[1;32mreturn\u001b[0m \u001b[0mopen_workbook\u001b[0m\u001b[1;33m(\u001b[0m\u001b[0mfile_contents\u001b[0m\u001b[1;33m=\u001b[0m\u001b[0mdata\u001b[0m\u001b[1;33m)\u001b[0m\u001b[1;33m\u001b[0m\u001b[1;33m\u001b[0m\u001b[0m\n\u001b[0;32m     36\u001b[0m         \u001b[1;32melse\u001b[0m\u001b[1;33m:\u001b[0m\u001b[1;33m\u001b[0m\u001b[1;33m\u001b[0m\u001b[0m\n\u001b[1;32m---> 37\u001b[1;33m             \u001b[1;32mreturn\u001b[0m \u001b[0mopen_workbook\u001b[0m\u001b[1;33m(\u001b[0m\u001b[0mfilepath_or_buffer\u001b[0m\u001b[1;33m)\u001b[0m\u001b[1;33m\u001b[0m\u001b[1;33m\u001b[0m\u001b[0m\n\u001b[0m\u001b[0;32m     38\u001b[0m \u001b[1;33m\u001b[0m\u001b[0m\n\u001b[0;32m     39\u001b[0m     \u001b[1;33m@\u001b[0m\u001b[0mproperty\u001b[0m\u001b[1;33m\u001b[0m\u001b[1;33m\u001b[0m\u001b[0m\n",
      "\u001b[1;32mD:\\Anaconda3\\lib\\site-packages\\xlrd\\__init__.py\u001b[0m in \u001b[0;36mopen_workbook\u001b[1;34m(filename, logfile, verbosity, use_mmap, file_contents, encoding_override, formatting_info, on_demand, ragged_rows)\u001b[0m\n\u001b[0;32m    136\u001b[0m                 \u001b[0mformatting_info\u001b[0m\u001b[1;33m=\u001b[0m\u001b[0mformatting_info\u001b[0m\u001b[1;33m,\u001b[0m\u001b[1;33m\u001b[0m\u001b[1;33m\u001b[0m\u001b[0m\n\u001b[0;32m    137\u001b[0m                 \u001b[0mon_demand\u001b[0m\u001b[1;33m=\u001b[0m\u001b[0mon_demand\u001b[0m\u001b[1;33m,\u001b[0m\u001b[1;33m\u001b[0m\u001b[1;33m\u001b[0m\u001b[0m\n\u001b[1;32m--> 138\u001b[1;33m                 \u001b[0mragged_rows\u001b[0m\u001b[1;33m=\u001b[0m\u001b[0mragged_rows\u001b[0m\u001b[1;33m,\u001b[0m\u001b[1;33m\u001b[0m\u001b[1;33m\u001b[0m\u001b[0m\n\u001b[0m\u001b[0;32m    139\u001b[0m             )\n\u001b[0;32m    140\u001b[0m             \u001b[1;32mreturn\u001b[0m \u001b[0mbk\u001b[0m\u001b[1;33m\u001b[0m\u001b[1;33m\u001b[0m\u001b[0m\n",
      "\u001b[1;32mD:\\Anaconda3\\lib\\site-packages\\xlrd\\xlsx.py\u001b[0m in \u001b[0;36mopen_workbook_2007_xml\u001b[1;34m(zf, component_names, logfile, verbosity, use_mmap, formatting_info, on_demand, ragged_rows)\u001b[0m\n\u001b[0;32m    839\u001b[0m         \u001b[0mx12sheet\u001b[0m \u001b[1;33m=\u001b[0m \u001b[0mX12Sheet\u001b[0m\u001b[1;33m(\u001b[0m\u001b[0msheet\u001b[0m\u001b[1;33m,\u001b[0m \u001b[0mlogfile\u001b[0m\u001b[1;33m,\u001b[0m \u001b[0mverbosity\u001b[0m\u001b[1;33m)\u001b[0m\u001b[1;33m\u001b[0m\u001b[1;33m\u001b[0m\u001b[0m\n\u001b[0;32m    840\u001b[0m         \u001b[0mheading\u001b[0m \u001b[1;33m=\u001b[0m \u001b[1;34m\"Sheet %r (sheetx=%d) from %r\"\u001b[0m \u001b[1;33m%\u001b[0m \u001b[1;33m(\u001b[0m\u001b[0msheet\u001b[0m\u001b[1;33m.\u001b[0m\u001b[0mname\u001b[0m\u001b[1;33m,\u001b[0m \u001b[0msheetx\u001b[0m\u001b[1;33m,\u001b[0m \u001b[0mfname\u001b[0m\u001b[1;33m)\u001b[0m\u001b[1;33m\u001b[0m\u001b[1;33m\u001b[0m\u001b[0m\n\u001b[1;32m--> 841\u001b[1;33m         \u001b[0mx12sheet\u001b[0m\u001b[1;33m.\u001b[0m\u001b[0mprocess_stream\u001b[0m\u001b[1;33m(\u001b[0m\u001b[0mzflo\u001b[0m\u001b[1;33m,\u001b[0m \u001b[0mheading\u001b[0m\u001b[1;33m)\u001b[0m\u001b[1;33m\u001b[0m\u001b[1;33m\u001b[0m\u001b[0m\n\u001b[0m\u001b[0;32m    842\u001b[0m         \u001b[1;32mdel\u001b[0m \u001b[0mzflo\u001b[0m\u001b[1;33m\u001b[0m\u001b[1;33m\u001b[0m\u001b[0m\n\u001b[0;32m    843\u001b[0m \u001b[1;33m\u001b[0m\u001b[0m\n",
      "\u001b[1;32mD:\\Anaconda3\\lib\\site-packages\\xlrd\\xlsx.py\u001b[0m in \u001b[0;36mown_process_stream\u001b[1;34m(self, stream, heading)\u001b[0m\n\u001b[0;32m    546\u001b[0m         \u001b[0mrow_tag\u001b[0m \u001b[1;33m=\u001b[0m \u001b[0mU_SSML12\u001b[0m \u001b[1;33m+\u001b[0m \u001b[1;34m\"row\"\u001b[0m\u001b[1;33m\u001b[0m\u001b[1;33m\u001b[0m\u001b[0m\n\u001b[0;32m    547\u001b[0m         \u001b[0mself_do_row\u001b[0m \u001b[1;33m=\u001b[0m \u001b[0mself\u001b[0m\u001b[1;33m.\u001b[0m\u001b[0mdo_row\u001b[0m\u001b[1;33m\u001b[0m\u001b[1;33m\u001b[0m\u001b[0m\n\u001b[1;32m--> 548\u001b[1;33m         \u001b[1;32mfor\u001b[0m \u001b[0mevent\u001b[0m\u001b[1;33m,\u001b[0m \u001b[0melem\u001b[0m \u001b[1;32min\u001b[0m \u001b[0mET\u001b[0m\u001b[1;33m.\u001b[0m\u001b[0miterparse\u001b[0m\u001b[1;33m(\u001b[0m\u001b[0mstream\u001b[0m\u001b[1;33m)\u001b[0m\u001b[1;33m:\u001b[0m\u001b[1;33m\u001b[0m\u001b[1;33m\u001b[0m\u001b[0m\n\u001b[0m\u001b[0;32m    549\u001b[0m             \u001b[1;32mif\u001b[0m \u001b[0melem\u001b[0m\u001b[1;33m.\u001b[0m\u001b[0mtag\u001b[0m \u001b[1;33m==\u001b[0m \u001b[0mrow_tag\u001b[0m\u001b[1;33m:\u001b[0m\u001b[1;33m\u001b[0m\u001b[1;33m\u001b[0m\u001b[0m\n\u001b[0;32m    550\u001b[0m                 \u001b[0mself_do_row\u001b[0m\u001b[1;33m(\u001b[0m\u001b[0melem\u001b[0m\u001b[1;33m)\u001b[0m\u001b[1;33m\u001b[0m\u001b[1;33m\u001b[0m\u001b[0m\n",
      "\u001b[1;32mD:\\Anaconda3\\lib\\xml\\etree\\ElementTree.py\u001b[0m in \u001b[0;36miterator\u001b[1;34m()\u001b[0m\n\u001b[0;32m   1221\u001b[0m                 \u001b[1;32myield\u001b[0m \u001b[1;32mfrom\u001b[0m \u001b[0mpullparser\u001b[0m\u001b[1;33m.\u001b[0m\u001b[0mread_events\u001b[0m\u001b[1;33m(\u001b[0m\u001b[1;33m)\u001b[0m\u001b[1;33m\u001b[0m\u001b[1;33m\u001b[0m\u001b[0m\n\u001b[0;32m   1222\u001b[0m                 \u001b[1;31m# load event buffer\u001b[0m\u001b[1;33m\u001b[0m\u001b[1;33m\u001b[0m\u001b[1;33m\u001b[0m\u001b[0m\n\u001b[1;32m-> 1223\u001b[1;33m                 \u001b[0mdata\u001b[0m \u001b[1;33m=\u001b[0m \u001b[0msource\u001b[0m\u001b[1;33m.\u001b[0m\u001b[0mread\u001b[0m\u001b[1;33m(\u001b[0m\u001b[1;36m16\u001b[0m \u001b[1;33m*\u001b[0m \u001b[1;36m1024\u001b[0m\u001b[1;33m)\u001b[0m\u001b[1;33m\u001b[0m\u001b[1;33m\u001b[0m\u001b[0m\n\u001b[0m\u001b[0;32m   1224\u001b[0m                 \u001b[1;32mif\u001b[0m \u001b[1;32mnot\u001b[0m \u001b[0mdata\u001b[0m\u001b[1;33m:\u001b[0m\u001b[1;33m\u001b[0m\u001b[1;33m\u001b[0m\u001b[0m\n\u001b[0;32m   1225\u001b[0m                     \u001b[1;32mbreak\u001b[0m\u001b[1;33m\u001b[0m\u001b[1;33m\u001b[0m\u001b[0m\n",
      "\u001b[1;32mD:\\Anaconda3\\lib\\zipfile.py\u001b[0m in \u001b[0;36mread\u001b[1;34m(self, n)\u001b[0m\n\u001b[0;32m    870\u001b[0m         \u001b[0mself\u001b[0m\u001b[1;33m.\u001b[0m\u001b[0m_offset\u001b[0m \u001b[1;33m=\u001b[0m \u001b[1;36m0\u001b[0m\u001b[1;33m\u001b[0m\u001b[1;33m\u001b[0m\u001b[0m\n\u001b[0;32m    871\u001b[0m         \u001b[1;32mwhile\u001b[0m \u001b[0mn\u001b[0m \u001b[1;33m>\u001b[0m \u001b[1;36m0\u001b[0m \u001b[1;32mand\u001b[0m \u001b[1;32mnot\u001b[0m \u001b[0mself\u001b[0m\u001b[1;33m.\u001b[0m\u001b[0m_eof\u001b[0m\u001b[1;33m:\u001b[0m\u001b[1;33m\u001b[0m\u001b[1;33m\u001b[0m\u001b[0m\n\u001b[1;32m--> 872\u001b[1;33m             \u001b[0mdata\u001b[0m \u001b[1;33m=\u001b[0m \u001b[0mself\u001b[0m\u001b[1;33m.\u001b[0m\u001b[0m_read1\u001b[0m\u001b[1;33m(\u001b[0m\u001b[0mn\u001b[0m\u001b[1;33m)\u001b[0m\u001b[1;33m\u001b[0m\u001b[1;33m\u001b[0m\u001b[0m\n\u001b[0m\u001b[0;32m    873\u001b[0m             \u001b[1;32mif\u001b[0m \u001b[0mn\u001b[0m \u001b[1;33m<\u001b[0m \u001b[0mlen\u001b[0m\u001b[1;33m(\u001b[0m\u001b[0mdata\u001b[0m\u001b[1;33m)\u001b[0m\u001b[1;33m:\u001b[0m\u001b[1;33m\u001b[0m\u001b[1;33m\u001b[0m\u001b[0m\n\u001b[0;32m    874\u001b[0m                 \u001b[0mself\u001b[0m\u001b[1;33m.\u001b[0m\u001b[0m_readbuffer\u001b[0m \u001b[1;33m=\u001b[0m \u001b[0mdata\u001b[0m\u001b[1;33m\u001b[0m\u001b[1;33m\u001b[0m\u001b[0m\n",
      "\u001b[1;32mD:\\Anaconda3\\lib\\zipfile.py\u001b[0m in \u001b[0;36m_read1\u001b[1;34m(self, n)\u001b[0m\n\u001b[0;32m    938\u001b[0m             \u001b[0mdata\u001b[0m \u001b[1;33m=\u001b[0m \u001b[0mself\u001b[0m\u001b[1;33m.\u001b[0m\u001b[0m_decompressor\u001b[0m\u001b[1;33m.\u001b[0m\u001b[0munconsumed_tail\u001b[0m\u001b[1;33m\u001b[0m\u001b[1;33m\u001b[0m\u001b[0m\n\u001b[0;32m    939\u001b[0m             \u001b[1;32mif\u001b[0m \u001b[0mn\u001b[0m \u001b[1;33m>\u001b[0m \u001b[0mlen\u001b[0m\u001b[1;33m(\u001b[0m\u001b[0mdata\u001b[0m\u001b[1;33m)\u001b[0m\u001b[1;33m:\u001b[0m\u001b[1;33m\u001b[0m\u001b[1;33m\u001b[0m\u001b[0m\n\u001b[1;32m--> 940\u001b[1;33m                 \u001b[0mdata\u001b[0m \u001b[1;33m+=\u001b[0m \u001b[0mself\u001b[0m\u001b[1;33m.\u001b[0m\u001b[0m_read2\u001b[0m\u001b[1;33m(\u001b[0m\u001b[0mn\u001b[0m \u001b[1;33m-\u001b[0m \u001b[0mlen\u001b[0m\u001b[1;33m(\u001b[0m\u001b[0mdata\u001b[0m\u001b[1;33m)\u001b[0m\u001b[1;33m)\u001b[0m\u001b[1;33m\u001b[0m\u001b[1;33m\u001b[0m\u001b[0m\n\u001b[0m\u001b[0;32m    941\u001b[0m         \u001b[1;32melse\u001b[0m\u001b[1;33m:\u001b[0m\u001b[1;33m\u001b[0m\u001b[1;33m\u001b[0m\u001b[0m\n\u001b[0;32m    942\u001b[0m             \u001b[0mdata\u001b[0m \u001b[1;33m=\u001b[0m \u001b[0mself\u001b[0m\u001b[1;33m.\u001b[0m\u001b[0m_read2\u001b[0m\u001b[1;33m(\u001b[0m\u001b[0mn\u001b[0m\u001b[1;33m)\u001b[0m\u001b[1;33m\u001b[0m\u001b[1;33m\u001b[0m\u001b[0m\n",
      "\u001b[1;32mD:\\Anaconda3\\lib\\zipfile.py\u001b[0m in \u001b[0;36m_read2\u001b[1;34m(self, n)\u001b[0m\n\u001b[0;32m    970\u001b[0m         \u001b[0mn\u001b[0m \u001b[1;33m=\u001b[0m \u001b[0mmin\u001b[0m\u001b[1;33m(\u001b[0m\u001b[0mn\u001b[0m\u001b[1;33m,\u001b[0m \u001b[0mself\u001b[0m\u001b[1;33m.\u001b[0m\u001b[0m_compress_left\u001b[0m\u001b[1;33m)\u001b[0m\u001b[1;33m\u001b[0m\u001b[1;33m\u001b[0m\u001b[0m\n\u001b[0;32m    971\u001b[0m \u001b[1;33m\u001b[0m\u001b[0m\n\u001b[1;32m--> 972\u001b[1;33m         \u001b[0mdata\u001b[0m \u001b[1;33m=\u001b[0m \u001b[0mself\u001b[0m\u001b[1;33m.\u001b[0m\u001b[0m_fileobj\u001b[0m\u001b[1;33m.\u001b[0m\u001b[0mread\u001b[0m\u001b[1;33m(\u001b[0m\u001b[0mn\u001b[0m\u001b[1;33m)\u001b[0m\u001b[1;33m\u001b[0m\u001b[1;33m\u001b[0m\u001b[0m\n\u001b[0m\u001b[0;32m    973\u001b[0m         \u001b[0mself\u001b[0m\u001b[1;33m.\u001b[0m\u001b[0m_compress_left\u001b[0m \u001b[1;33m-=\u001b[0m \u001b[0mlen\u001b[0m\u001b[1;33m(\u001b[0m\u001b[0mdata\u001b[0m\u001b[1;33m)\u001b[0m\u001b[1;33m\u001b[0m\u001b[1;33m\u001b[0m\u001b[0m\n\u001b[0;32m    974\u001b[0m         \u001b[1;32mif\u001b[0m \u001b[1;32mnot\u001b[0m \u001b[0mdata\u001b[0m\u001b[1;33m:\u001b[0m\u001b[1;33m\u001b[0m\u001b[1;33m\u001b[0m\u001b[0m\n",
      "\u001b[1;32mD:\\Anaconda3\\lib\\zipfile.py\u001b[0m in \u001b[0;36mread\u001b[1;34m(self, n)\u001b[0m\n\u001b[0;32m    727\u001b[0m                         \"Close the writing handle before trying to read.\")\n\u001b[0;32m    728\u001b[0m             \u001b[0mself\u001b[0m\u001b[1;33m.\u001b[0m\u001b[0m_file\u001b[0m\u001b[1;33m.\u001b[0m\u001b[0mseek\u001b[0m\u001b[1;33m(\u001b[0m\u001b[0mself\u001b[0m\u001b[1;33m.\u001b[0m\u001b[0m_pos\u001b[0m\u001b[1;33m)\u001b[0m\u001b[1;33m\u001b[0m\u001b[1;33m\u001b[0m\u001b[0m\n\u001b[1;32m--> 729\u001b[1;33m             \u001b[0mdata\u001b[0m \u001b[1;33m=\u001b[0m \u001b[0mself\u001b[0m\u001b[1;33m.\u001b[0m\u001b[0m_file\u001b[0m\u001b[1;33m.\u001b[0m\u001b[0mread\u001b[0m\u001b[1;33m(\u001b[0m\u001b[0mn\u001b[0m\u001b[1;33m)\u001b[0m\u001b[1;33m\u001b[0m\u001b[1;33m\u001b[0m\u001b[0m\n\u001b[0m\u001b[0;32m    730\u001b[0m             \u001b[0mself\u001b[0m\u001b[1;33m.\u001b[0m\u001b[0m_pos\u001b[0m \u001b[1;33m=\u001b[0m \u001b[0mself\u001b[0m\u001b[1;33m.\u001b[0m\u001b[0m_file\u001b[0m\u001b[1;33m.\u001b[0m\u001b[0mtell\u001b[0m\u001b[1;33m(\u001b[0m\u001b[1;33m)\u001b[0m\u001b[1;33m\u001b[0m\u001b[1;33m\u001b[0m\u001b[0m\n\u001b[0;32m    731\u001b[0m             \u001b[1;32mreturn\u001b[0m \u001b[0mdata\u001b[0m\u001b[1;33m\u001b[0m\u001b[1;33m\u001b[0m\u001b[0m\n",
      "\u001b[1;31mKeyboardInterrupt\u001b[0m: "
     ]
    }
   ],
   "source": [
    "# 世纪坛用药\n",
    "df_drug_order_2 = pd.read_excel(r'./data/raw_data/首都医科大学附属北京世纪坛医院—阿托他汀临床疗效及安全性评价的真实世界研究-住院+门诊-2018.3.23-2020.3.xlsx',\n",
    "                           sheet_name='用药')"
   ]
  },
  {
   "cell_type": "code",
   "execution_count": null,
   "metadata": {},
   "outputs": [],
   "source": [
    "# 世纪坛医院-他汀用药\n",
    "df_drug_order_2 = df_drug_order_2[df_drug_order_2['药品名称'].notnull()]\n",
    "# 删除重复\n",
    "df_drug_order_2 = df_drug_order_2.drop_duplicates(df_drug_order_2.columns,keep='first')\n",
    "# 他汀类药物\n",
    "df_drug_vatin_2 = df_drug_order_2[df_drug_order_2.药品名称.str.contains('他汀|可定')]"
   ]
  },
  {
   "cell_type": "code",
   "execution_count": null,
   "metadata": {},
   "outputs": [],
   "source": [
    "print(df_drug_order_2.shape)\n",
    "print(df_drug_vatin_2.shape)"
   ]
  },
  {
   "cell_type": "code",
   "execution_count": null,
   "metadata": {},
   "outputs": [],
   "source": [
    "df_drug_vatin_2.columns"
   ]
  },
  {
   "cell_type": "code",
   "execution_count": null,
   "metadata": {},
   "outputs": [],
   "source": [
    "# 提取有效字段\n",
    "df_drug_vatin_2 = df_drug_vatin_2[['patient_SN', '就诊时间（门诊）','给药开始时间', '给药停止时间', '用药时长',\n",
    "                '用药频率', '单次剂量','药品类别', '用药（商品名称）', '药物规格', '药品医嘱内容', '药品名称']]"
   ]
  },
  {
   "cell_type": "code",
   "execution_count": null,
   "metadata": {},
   "outputs": [],
   "source": [
    "# 世纪坛医院的用药频率和药品类别部分数据混乱\n",
    "# 就诊时间（门诊）-补充-给药开始时间缺失值\n",
    "df_drug_vatin_2=df_drug_vatin_2.reset_index(drop=True)\n",
    "for i in range(df_drug_vatin_2.shape[0]):\n",
    "    x =  df_drug_vatin_2.loc[i,'药品类别']\n",
    "    if re.match('.*?次', x):\n",
    "        df_drug_vatin_2.loc[i,'用药频率'] = x\n",
    "    t = df_drug_vatin_2.loc[i,'就诊时间（门诊）']\n",
    "    if pd.notnull(t):\n",
    "        df_drug_vatin_2.loc[i,'给药开始时间'] = t"
   ]
  },
  {
   "cell_type": "code",
   "execution_count": null,
   "metadata": {},
   "outputs": [],
   "source": [
    "df_drug_vatin_2.columns"
   ]
  },
  {
   "cell_type": "code",
   "execution_count": null,
   "metadata": {},
   "outputs": [],
   "source": [
    "# 有效字段排序\n",
    "df_drug_vatin_2 = df_drug_vatin_2[['patient_SN', '药品名称', '给药开始时间', '给药停止时间', '用药时长', '药物规格', '单次剂量', '用药频率']]\n",
    "# 修改列名\n",
    "df_drug_vatin_2.columns = ['患者编号', '药物通用名称','医嘱开始时间', '医嘱停止时间', '用药时长', '药物规格', '药物剂量', '频率名称']"
   ]
  },
  {
   "cell_type": "code",
   "execution_count": null,
   "metadata": {},
   "outputs": [],
   "source": [
    "# 删除医嘱开始时间为空的数据\n",
    "df_drug_vatin_2 = df_drug_vatin_2[df_drug_vatin_2.医嘱开始时间.notnull()]"
   ]
  },
  {
   "cell_type": "code",
   "execution_count": null,
   "metadata": {},
   "outputs": [],
   "source": [
    "df_drug_vatin_2.shape"
   ]
  },
  {
   "cell_type": "code",
   "execution_count": null,
   "metadata": {},
   "outputs": [],
   "source": [
    "df_drug_vatin_2.head()"
   ]
  },
  {
   "cell_type": "code",
   "execution_count": null,
   "metadata": {},
   "outputs": [],
   "source": [
    "df_drug_vatin_2.to_csv(project_path+'/data/pre_processed_raw_data/df_2.3.2_世纪坛_drug_vatin.csv')"
   ]
  },
  {
   "cell_type": "markdown",
   "metadata": {},
   "source": [
    "### 合并用药数据"
   ]
  },
  {
   "cell_type": "code",
   "execution_count": null,
   "metadata": {},
   "outputs": [],
   "source": [
    "# 添加数据来源\n",
    "df_drug_vatin_1.insert(0,'data_source','人民医院')\n",
    "df_drug_vatin_2.insert(0,'data_source','世纪坛医院')"
   ]
  },
  {
   "cell_type": "code",
   "execution_count": null,
   "metadata": {},
   "outputs": [],
   "source": [
    "# 合并人民医院和世纪坛医院的他汀类用药\n",
    "df_drug_vatin = pd.concat([df_drug_vatin_1, df_drug_vatin_2],axis=0).reset_index(drop=True)"
   ]
  },
  {
   "cell_type": "code",
   "execution_count": null,
   "metadata": {},
   "outputs": [],
   "source": [
    "df_drug_vatin.shape"
   ]
  },
  {
   "cell_type": "code",
   "execution_count": null,
   "metadata": {},
   "outputs": [],
   "source": [
    "df_drug_vatin.data_source.value_counts()"
   ]
  },
  {
   "cell_type": "code",
   "execution_count": null,
   "metadata": {},
   "outputs": [],
   "source": [
    "df_drug_vatin.head()"
   ]
  },
  {
   "cell_type": "code",
   "execution_count": null,
   "metadata": {},
   "outputs": [],
   "source": [
    "df_drug_vatin.to_csv(project_path+'/data/pre_processed_raw_data/df_2.3.3_他汀用药.csv')"
   ]
  },
  {
   "cell_type": "code",
   "execution_count": 72,
   "metadata": {},
   "outputs": [],
   "source": [
    "df_drug_vatin=pd.read_csv(project_path+'/data/pre_processed_raw_data/df_2.3.3_他汀用药.csv')\n",
    "if 'Unnamed: 0' in df_drug_vatin.columns:\n",
    "    del df_drug_vatin['Unnamed: 0']"
   ]
  },
  {
   "cell_type": "code",
   "execution_count": 73,
   "metadata": {},
   "outputs": [
    {
     "data": {
      "text/plain": [
       "Index(['data_source', '患者编号', '药物通用名称', '医嘱开始时间', '医嘱停止时间', '药物规格', '药物剂量',\n",
       "       '药物剂量单位名称', '频率名称', '开药总数量', '开药总数量单位名称', '药物剂型', '用药时长'],\n",
       "      dtype='object')"
      ]
     },
     "execution_count": 73,
     "metadata": {},
     "output_type": "execute_result"
    }
   ],
   "source": [
    "df_drug_vatin.columns"
   ]
  },
  {
   "cell_type": "markdown",
   "metadata": {},
   "source": [
    "### 提取瑞舒伐他汀"
   ]
  },
  {
   "cell_type": "code",
   "execution_count": null,
   "metadata": {},
   "outputs": [],
   "source": [
    "# 提取瑞舒伐他汀\n",
    "df_drug_resuvatin = df_drug_vatin[df_drug_vatin.药物通用名称.str.contains('瑞舒|可定')]"
   ]
  },
  {
   "cell_type": "code",
   "execution_count": null,
   "metadata": {},
   "outputs": [],
   "source": [
    "df_drug_resuvatin.columns"
   ]
  },
  {
   "cell_type": "code",
   "execution_count": null,
   "metadata": {},
   "outputs": [],
   "source": [
    "# 用药时长和药物规格部分数据混乱\n",
    "df_drug_resuvatin = df_drug_resuvatin.reset_index(drop=True)\n",
    "# 药物规格drug specifications\n",
    "for i in range(df_drug_resuvatin.shape[0]):\n",
    "    s = df_drug_resuvatin.loc[i,'用药时长']\n",
    "    if re.match('.*?[盒片]', str(s)):\n",
    "        df_drug_resuvatin.loc[i,'药物规格'] = df_drug_resuvatin.loc[i,'药物规格'] + s"
   ]
  },
  {
   "cell_type": "code",
   "execution_count": null,
   "metadata": {},
   "outputs": [],
   "source": [
    "df_drug_resuvatin.shape"
   ]
  },
  {
   "cell_type": "code",
   "execution_count": null,
   "metadata": {},
   "outputs": [],
   "source": [
    "# 删除重复\n",
    "df_drug_resuvatin = df_drug_resuvatin.drop_duplicates(df_drug_resuvatin.columns,keep='first')"
   ]
  },
  {
   "cell_type": "code",
   "execution_count": null,
   "metadata": {},
   "outputs": [],
   "source": [
    "df_drug_resuvatin.shape"
   ]
  },
  {
   "cell_type": "code",
   "execution_count": null,
   "metadata": {},
   "outputs": [],
   "source": [
    "df_drug_resuvatin.to_csv(project_path + '/data/processed_data/df_2.3.4_瑞舒伐他汀用药.csv')"
   ]
  },
  {
   "cell_type": "code",
   "execution_count": null,
   "metadata": {},
   "outputs": [],
   "source": [
    "# 其它他汀药物\n",
    "df_drug_vatin_other = df_drug_vatin[~ df_drug_vatin.药物通用名称.str.contains('瑞舒|可定')]\n",
    "# 删除重复数据\n",
    "df_drug_vatin_other = df_drug_vatin_other.drop_duplicates(df_drug_vatin_other.columns, keep='first')"
   ]
  },
  {
   "cell_type": "code",
   "execution_count": null,
   "metadata": {},
   "outputs": [],
   "source": [
    "df_drug_vatin_other.shape"
   ]
  },
  {
   "cell_type": "code",
   "execution_count": null,
   "metadata": {},
   "outputs": [],
   "source": [
    "df_drug_vatin_other.to_csv(project_path + '/data/processed_data/df_2.3.4_其它他汀用药.csv')"
   ]
  },
  {
   "cell_type": "code",
   "execution_count": null,
   "metadata": {},
   "outputs": [],
   "source": [
    "df_drug_vatin_other.head(1)"
   ]
  },
  {
   "cell_type": "markdown",
   "metadata": {},
   "source": [
    "### 打标签：京新、可定"
   ]
  },
  {
   "cell_type": "code",
   "execution_count": null,
   "metadata": {},
   "outputs": [],
   "source": [
    "'''\n",
    "进口瑞舒伐他汀钙（可定）药物编码为203238，包括3个规格：10mg/片、可定10mg/片、可定10mg×7片/盒。\n",
    "国产瑞舒伐他汀钙（京新）药物编码为204979，包括4个规格：10mg×28片/盒、京新10mg×28片/盒、旧 10mg×28片/盒、京新10mg/片。\n",
    "'''"
   ]
  },
  {
   "cell_type": "code",
   "execution_count": null,
   "metadata": {},
   "outputs": [],
   "source": [
    "df_drug_resuvatin.药物规格.value_counts()"
   ]
  },
  {
   "cell_type": "code",
   "execution_count": null,
   "metadata": {},
   "outputs": [],
   "source": [
    "df_drug_resuvatin.head(1)"
   ]
  },
  {
   "cell_type": "code",
   "execution_count": null,
   "metadata": {},
   "outputs": [],
   "source": [
    "df_drug_resuvatin = df_drug_resuvatin.reset_index(drop=True)\n",
    "for i in range(df_drug_resuvatin.shape[0]):\n",
    "    s = df_drug_resuvatin.loc[i,'药物规格']\n",
    "    if re.match('京新', s):\n",
    "        df_drug_resuvatin.loc[i,'resuvatin_brand'] = '京新'\n",
    "    elif re.match('可定', s):\n",
    "        df_drug_resuvatin.loc[i,'resuvatin_brand'] = '可定'\n",
    "    elif re.match('.*?28片', s):\n",
    "        df_drug_resuvatin.loc[i,'resuvatin_brand'] = '京新'\n",
    "    elif re.match('.*?7片', s):\n",
    "        df_drug_resuvatin.loc[i,'resuvatin_brand'] = '可定'\n",
    "    elif re.match('10毫克 /片',s):\n",
    "        df_drug_resuvatin.loc[i,'resuvatin_brand'] = '可定'"
   ]
  },
  {
   "cell_type": "code",
   "execution_count": null,
   "metadata": {},
   "outputs": [],
   "source": [
    "df_drug_resuvatin.shape"
   ]
  },
  {
   "cell_type": "code",
   "execution_count": null,
   "metadata": {},
   "outputs": [],
   "source": [
    "df_drug_resuvatin.to_csv(project_path+'/data/processed_data/df_2.3.5_打厂商标签.csv')"
   ]
  },
  {
   "cell_type": "code",
   "execution_count": 283,
   "metadata": {},
   "outputs": [],
   "source": [
    "df_drug_resuvatin=pd.read_csv(project_path+'/data/processed_data/df_2.3.5_打厂商标签.csv')\n",
    "if 'Unnamed: 0' in df_drug_resuvatin.columns:\n",
    "    del df_drug_resuvatin['Unnamed: 0']"
   ]
  },
  {
   "cell_type": "markdown",
   "metadata": {},
   "source": [
    "### 计算日剂量"
   ]
  },
  {
   "cell_type": "markdown",
   "metadata": {},
   "source": [
    "#### 转换频率"
   ]
  },
  {
   "cell_type": "code",
   "execution_count": 284,
   "metadata": {},
   "outputs": [
    {
     "data": {
      "text/plain": [
       "array(['QD(8am)', '1/晚(10PM)', 'QN每晚 (8pm)', 'BID(8-4)', 'ONCE',\n",
       "       'TID(8-12-4)', 'Q12H (8-8)', 'QD1(8am)', 'QOD5 （8pm）', 'QOD(8am)',\n",
       "       'QD3(12N)', 'QD6(4pm)', 'QOD1(12N)', 'BID1 (8-4)口服', '必要时',\n",
       "       'QD4 (5pm)', '05 每晚一次', '01 每日一次', '03 每日三次', '02 每日两次'],\n",
       "      dtype=object)"
      ]
     },
     "execution_count": 284,
     "metadata": {},
     "output_type": "execute_result"
    }
   ],
   "source": [
    "df_drug_resuvatin.频率名称.unique()"
   ]
  },
  {
   "cell_type": "code",
   "execution_count": 285,
   "metadata": {},
   "outputs": [],
   "source": [
    "# 清洗频次\n",
    "half=['QOD5 （8pm）','QOD(8am)','QOD1(12N)',]\n",
    "one=['QD(8am)','1/晚(10PM)', 'QN每晚 (8pm)','QD1(8am)','ONCE','01 每日一次','QD3(12N)', 'QD6(4pm)','QD4 (5pm)']\n",
    "two=['BID(8-4)','Q12H (8-8)','02 每日两次','BID1 (8-4)口服',]\n",
    "three=['TID(8-12-4)','03 每日三次',]\n",
    "\n",
    "df_drug_resuvatin['频率名称']=df_drug_resuvatin['频率名称'].apply(lambda x: 0.5 if x in half else\n",
    "                                                                          1 if x in one else\n",
    "                                                                          2 if x in two else\n",
    "                                                                          3 if x in three else np.nan)"
   ]
  },
  {
   "cell_type": "code",
   "execution_count": 286,
   "metadata": {},
   "outputs": [
    {
     "data": {
      "text/plain": [
       "1.0    56541\n",
       "2.0      891\n",
       "3.0       39\n",
       "0.5       26\n",
       "Name: 频率名称, dtype: int64"
      ]
     },
     "execution_count": 286,
     "metadata": {},
     "output_type": "execute_result"
    }
   ],
   "source": [
    "df_drug_resuvatin.频率名称.value_counts()"
   ]
  },
  {
   "cell_type": "code",
   "execution_count": 287,
   "metadata": {},
   "outputs": [],
   "source": [
    "# 删除频率为空的用药\n",
    "df_drug_resuvatin = df_drug_resuvatin[df_drug_resuvatin.频率名称.notnull()]"
   ]
  },
  {
   "cell_type": "code",
   "execution_count": 288,
   "metadata": {},
   "outputs": [
    {
     "data": {
      "text/plain": [
       "(57497, 14)"
      ]
     },
     "execution_count": 288,
     "metadata": {},
     "output_type": "execute_result"
    }
   ],
   "source": [
    "df_drug_resuvatin.shape"
   ]
  },
  {
   "cell_type": "markdown",
   "metadata": {},
   "source": [
    "#### 单次剂量处理"
   ]
  },
  {
   "cell_type": "code",
   "execution_count": null,
   "metadata": {},
   "outputs": [],
   "source": [
    "'''\n",
    "与开药剂量相同的单次剂量: 关于28片的单次剂量修正.xlsx\n",
    "'''"
   ]
  },
  {
   "cell_type": "code",
   "execution_count": 290,
   "metadata": {},
   "outputs": [],
   "source": [
    "df_dosage_modify= pd.read_excel(project_path+'/data/raw_data/关于28片的单次剂量修正.xlsx')"
   ]
  },
  {
   "cell_type": "code",
   "execution_count": 291,
   "metadata": {},
   "outputs": [
    {
     "data": {
      "text/html": [
       "<div>\n",
       "<style scoped>\n",
       "    .dataframe tbody tr th:only-of-type {\n",
       "        vertical-align: middle;\n",
       "    }\n",
       "\n",
       "    .dataframe tbody tr th {\n",
       "        vertical-align: top;\n",
       "    }\n",
       "\n",
       "    .dataframe thead th {\n",
       "        text-align: right;\n",
       "    }\n",
       "</style>\n",
       "<table border=\"1\" class=\"dataframe\">\n",
       "  <thead>\n",
       "    <tr style=\"text-align: right;\">\n",
       "      <th></th>\n",
       "      <th>患者编号</th>\n",
       "      <th>单次剂量</th>\n",
       "    </tr>\n",
       "  </thead>\n",
       "  <tbody>\n",
       "    <tr>\n",
       "      <th>0</th>\n",
       "      <td>pat_0c3ca7d7ae58a06efa759f9b79c72fd8</td>\n",
       "      <td>10mg</td>\n",
       "    </tr>\n",
       "    <tr>\n",
       "      <th>1</th>\n",
       "      <td>pat_0e7deb0c603dc9c2efc3f37bcd07a05b</td>\n",
       "      <td>10mg</td>\n",
       "    </tr>\n",
       "    <tr>\n",
       "      <th>2</th>\n",
       "      <td>pat_1be546098ec4c6d8b317712f6b14f519</td>\n",
       "      <td>20mg</td>\n",
       "    </tr>\n",
       "    <tr>\n",
       "      <th>3</th>\n",
       "      <td>pat_2eb269335e17d1b8f473dfb566ad5170</td>\n",
       "      <td>10mg</td>\n",
       "    </tr>\n",
       "    <tr>\n",
       "      <th>4</th>\n",
       "      <td>pat_39aab159adbbf11fe0871cf55cecf4dd</td>\n",
       "      <td>10mg</td>\n",
       "    </tr>\n",
       "  </tbody>\n",
       "</table>\n",
       "</div>"
      ],
      "text/plain": [
       "                                   患者编号  单次剂量\n",
       "0  pat_0c3ca7d7ae58a06efa759f9b79c72fd8  10mg\n",
       "1  pat_0e7deb0c603dc9c2efc3f37bcd07a05b  10mg\n",
       "2  pat_1be546098ec4c6d8b317712f6b14f519  20mg\n",
       "3  pat_2eb269335e17d1b8f473dfb566ad5170  10mg\n",
       "4  pat_39aab159adbbf11fe0871cf55cecf4dd  10mg"
      ]
     },
     "execution_count": 291,
     "metadata": {},
     "output_type": "execute_result"
    }
   ],
   "source": [
    "df_dosage_modify.head()"
   ]
  },
  {
   "cell_type": "code",
   "execution_count": null,
   "metadata": {},
   "outputs": [],
   "source": []
  },
  {
   "cell_type": "code",
   "execution_count": null,
   "metadata": {},
   "outputs": [],
   "source": [
    "df_drug_resuvatin.药物剂量单位名称.value_counts()"
   ]
  },
  {
   "cell_type": "code",
   "execution_count": null,
   "metadata": {},
   "outputs": [],
   "source": [
    "# 片--10mg；盒--280mg\n",
    "df_drug_resuvatin= df_drug_resuvatin.reset_index(drop=True)\n",
    "for i in range(df_drug_resuvatin.shape[0]):\n",
    "    u = df_drug_resuvatin.loc[i,'药物剂量单位名称']\n",
    "    # 将数值为1的剂量统一换成10mg\n",
    "    if df_drug_resuvatin.loc[i,'药物剂量']== 1:\n",
    "        df_drug_resuvatin.loc[i,'药物剂量']=10\n",
    "    elif df_drug_resuvatin.loc[i,'药物剂量']==14:\n",
    "        df_drug_resuvatin.loc[i,'药物剂量']=10\n",
    "    elif df_drug_resuvatin.loc[i,'药物剂量']== 28:\n",
    "        df_drug_resuvatin.loc[i,'药物剂量']=10\n",
    "    elif pd.isnull(u):\n",
    "        continue\n",
    "    elif re.match('片',u):\n",
    "        df_drug_resuvatin.loc[i,'药物剂量']= df_drug_resuvatin.loc[i,'药物剂量']*10"
   ]
  },
  {
   "cell_type": "code",
   "execution_count": null,
   "metadata": {},
   "outputs": [],
   "source": [
    "# 将超过50mg的单次剂量重置为10mg\n",
    "df_drug_resuvatin['药物剂量'] = df_drug_resuvatin['药物剂量'].apply(lambda x: 10 if x>50 else x)"
   ]
  },
  {
   "cell_type": "code",
   "execution_count": null,
   "metadata": {},
   "outputs": [],
   "source": [
    "df_drug_resuvatin.shape"
   ]
  },
  {
   "cell_type": "code",
   "execution_count": null,
   "metadata": {},
   "outputs": [],
   "source": [
    "df_drug_resuvatin.药物剂量.value_counts()"
   ]
  },
  {
   "cell_type": "code",
   "execution_count": null,
   "metadata": {},
   "outputs": [],
   "source": [
    "df_drug_resuvatin.to_csv(project_path+'/data/processed_data/df_2.3.6.2_单次剂量处理.csv')"
   ]
  },
  {
   "cell_type": "markdown",
   "metadata": {},
   "source": [
    "#### 计算日剂量"
   ]
  },
  {
   "cell_type": "code",
   "execution_count": 249,
   "metadata": {},
   "outputs": [],
   "source": [
    "df_drug_resuvatin['日剂量']=df_drug_resuvatin['药物剂量'].astype('float') * df_drug_resuvatin['频率名称'].astype('float')"
   ]
  },
  {
   "cell_type": "code",
   "execution_count": null,
   "metadata": {},
   "outputs": [],
   "source": [
    "# 限定瑞舒伐他汀最大日剂量，将超过50mg的日剂量重置为单次剂量\n",
    "df_drug_resuvatin = df_drug_resuvatin.reset_index(drop=True)\n",
    "for i in range(df_drug_resuvatin.shape[0]):\n",
    "    if df_drug_resuvatin.loc[i,'日剂量'] > 50:\n",
    "        df_drug_resuvatin.loc[i,'日剂量']=df_drug_resuvatin.loc[i,'药物剂量']"
   ]
  },
  {
   "cell_type": "code",
   "execution_count": null,
   "metadata": {},
   "outputs": [],
   "source": [
    "df_drug_resuvatin['日剂量'].value_counts()"
   ]
  },
  {
   "cell_type": "code",
   "execution_count": null,
   "metadata": {},
   "outputs": [],
   "source": [
    "df_drug_resuvatin.shape"
   ]
  },
  {
   "cell_type": "code",
   "execution_count": null,
   "metadata": {},
   "outputs": [],
   "source": [
    "df_drug_resuvatin.head(1)"
   ]
  },
  {
   "cell_type": "code",
   "execution_count": null,
   "metadata": {},
   "outputs": [],
   "source": [
    "df_drug_resuvatin.to_csv(project_path+'/data/processed_data/df_2.3.6.3_计算日计量.csv')"
   ]
  },
  {
   "cell_type": "markdown",
   "metadata": {},
   "source": [
    "### 删除重复用药"
   ]
  },
  {
   "cell_type": "code",
   "execution_count": 7,
   "metadata": {},
   "outputs": [
    {
     "data": {
      "text/plain": [
       "'\\n重复数据、多次开药，取最后一次开药记录\\n注意，别删掉不同brand的用药，后面需要纳排\\n'"
      ]
     },
     "execution_count": 7,
     "metadata": {},
     "output_type": "execute_result"
    }
   ],
   "source": [
    "'''\n",
    "重复数据、多次开药，取最后一次开药记录\n",
    "注意，别删掉不同brand的用药，后面需要纳排\n",
    "'''"
   ]
  },
  {
   "cell_type": "code",
   "execution_count": 12,
   "metadata": {},
   "outputs": [
    {
     "name": "stderr",
     "output_type": "stream",
     "text": [
      "D:\\Anaconda3\\lib\\site-packages\\IPython\\core\\interactiveshell.py:3049: DtypeWarning: Columns (13) have mixed types. Specify dtype option on import or set low_memory=False.\n",
      "  interactivity=interactivity, compiler=compiler, result=result)\n"
     ]
    }
   ],
   "source": [
    "df_drug_resuvatin=pd.read_csv(project_path+'/data/processed_data/df_2.3.6.3_计算日计量.csv')\n",
    "if 'Unnamed: 0' in df_drug_resuvatin.columns:\n",
    "    del df_drug_resuvatin['Unnamed: 0']"
   ]
  },
  {
   "cell_type": "code",
   "execution_count": 13,
   "metadata": {},
   "outputs": [
    {
     "data": {
      "text/plain": [
       "(57497, 15)"
      ]
     },
     "execution_count": 13,
     "metadata": {},
     "output_type": "execute_result"
    }
   ],
   "source": [
    "df_drug_resuvatin.shape"
   ]
  },
  {
   "cell_type": "code",
   "execution_count": 14,
   "metadata": {},
   "outputs": [
    {
     "data": {
      "text/plain": [
       "Index(['data_source', '患者编号', '药物通用名称', '医嘱开始时间', '医嘱停止时间', '药物规格', '药物剂量',\n",
       "       '药物剂量单位名称', '频率名称', '开药总数量', '开药总数量单位名称', '药物剂型', '用药时长',\n",
       "       'resuvatin_brand', '日剂量'],\n",
       "      dtype='object')"
      ]
     },
     "execution_count": 14,
     "metadata": {},
     "output_type": "execute_result"
    }
   ],
   "source": [
    "df_drug_resuvatin.columns"
   ]
  },
  {
   "cell_type": "code",
   "execution_count": 15,
   "metadata": {},
   "outputs": [],
   "source": [
    "# 同一天多次用药记录，取最后一次;\n",
    "df_drug_resuvatin['医嘱开始日期'] = df_drug_resuvatin.医嘱开始时间.apply(lambda x: str(x).split(' ')[0])\n",
    "df_drug_resuvatin = df_drug_resuvatin.sort_values(['患者编号','医嘱开始时间'],ascending=True)\n",
    "df_drug_resuvatin = df_drug_resuvatin.drop_duplicates(subset=['患者编号','resuvatin_brand','医嘱开始日期'],keep='last')"
   ]
  },
  {
   "cell_type": "code",
   "execution_count": 16,
   "metadata": {},
   "outputs": [
    {
     "data": {
      "text/plain": [
       "(57301, 16)"
      ]
     },
     "execution_count": 16,
     "metadata": {},
     "output_type": "execute_result"
    }
   ],
   "source": [
    "df_drug_resuvatin.shape"
   ]
  },
  {
   "cell_type": "code",
   "execution_count": 13,
   "metadata": {},
   "outputs": [],
   "source": [
    "df_drug_resuvatin.to_csv(project_path+'/data/processed_data/df_2.1.7_删除用药重复记录.csv')"
   ]
  },
  {
   "cell_type": "markdown",
   "metadata": {},
   "source": [
    "### 计算用药时长和开药总剂量"
   ]
  },
  {
   "cell_type": "code",
   "execution_count": 18,
   "metadata": {},
   "outputs": [
    {
     "data": {
      "text/plain": [
       "'\\n人民医院：开药总剂量=开药总数量*盒数\\n世纪坛医院：开药总剂量=日剂量*用药时长\\n'"
      ]
     },
     "execution_count": 18,
     "metadata": {},
     "output_type": "execute_result"
    }
   ],
   "source": [
    "'''\n",
    "人民医院：用药时长 = 开药总剂量/日剂量；医嘱结束时间 = 医嘱开始时间 + 用药时长\n",
    "世纪坛医院：用药时长 = 用药停止时间-用药开始时间 + 1\n",
    "'''\n",
    "'''\n",
    "人民医院：开药总剂量=开药总数量*盒数\n",
    "世纪坛医院：开药总剂量=日剂量*用药时长\n",
    "'''"
   ]
  },
  {
   "cell_type": "markdown",
   "metadata": {},
   "source": [
    "#### 计算世纪坛--用药时长"
   ]
  },
  {
   "cell_type": "code",
   "execution_count": 19,
   "metadata": {},
   "outputs": [
    {
     "data": {
      "text/plain": [
       "Index(['data_source', '患者编号', '药物通用名称', '医嘱开始时间', '医嘱停止时间', '药物规格', '药物剂量',\n",
       "       '药物剂量单位名称', '频率名称', '开药总数量', '开药总数量单位名称', '药物剂型', '用药时长',\n",
       "       'resuvatin_brand', '日剂量', '医嘱开始日期'],\n",
       "      dtype='object')"
      ]
     },
     "execution_count": 19,
     "metadata": {},
     "output_type": "execute_result"
    }
   ],
   "source": [
    "df_drug_resuvatin.columns"
   ]
  },
  {
   "cell_type": "code",
   "execution_count": 20,
   "metadata": {},
   "outputs": [
    {
     "data": {
      "text/plain": [
       "(57301, 16)"
      ]
     },
     "execution_count": 20,
     "metadata": {},
     "output_type": "execute_result"
    }
   ],
   "source": [
    "df_drug_resuvatin.shape"
   ]
  },
  {
   "cell_type": "code",
   "execution_count": 34,
   "metadata": {},
   "outputs": [],
   "source": [
    "# 对于世纪坛医院用药结束时间为空的数据，将下一次开药时间作为其上一次结束时间。\n",
    "temp_list=[]\n",
    "for i in df_drug_resuvatin.患者编号.unique():\n",
    "    temp = df_drug_resuvatin[df_drug_resuvatin['患者编号']==i]\n",
    "    temp = temp.sort_values(by=['医嘱开始时间'],ascending=True).reset_index(drop=True)\n",
    "    hospital = temp.loc[0,'data_source']\n",
    "    if re.match('世纪坛医院',hospital) and (temp.shape[0]>1):\n",
    "        for j in range(temp.shape[0]):\n",
    "            # 医嘱结束时间为空\n",
    "            if pd.isnull(temp.loc[j,'医嘱停止时间']) and (j+1<temp.shape[0]):\n",
    "                # 提取下一次用药记录\n",
    "                temp_end = temp[temp['医嘱开始日期'] > temp.loc[j,'医嘱开始日期']].reset_index(drop=True)\n",
    "                if temp_end.shape[0]>0:\n",
    "                    temp.loc[j,'医嘱停止时间'] = temp_end.loc[0,'医嘱开始时间']\n",
    "    temp_list.append(temp)"
   ]
  },
  {
   "cell_type": "code",
   "execution_count": 36,
   "metadata": {},
   "outputs": [],
   "source": [
    "df_drug_resuvatin=pd.concat(temp_list,axis=0)\n",
    "del temp_list"
   ]
  },
  {
   "cell_type": "code",
   "execution_count": 37,
   "metadata": {},
   "outputs": [
    {
     "data": {
      "text/plain": [
       "(57301, 16)"
      ]
     },
     "execution_count": 37,
     "metadata": {},
     "output_type": "execute_result"
    }
   ],
   "source": [
    "df_drug_resuvatin.shape"
   ]
  },
  {
   "cell_type": "code",
   "execution_count": 38,
   "metadata": {},
   "outputs": [],
   "source": [
    "df_drug_resuvatin.to_csv(project_path+'/data/processed_data/df_temp_补充用药结束时间.csv')"
   ]
  },
  {
   "cell_type": "code",
   "execution_count": 39,
   "metadata": {},
   "outputs": [],
   "source": [
    "# 用药时长=医嘱结束时间-医嘱开始时间+1\n",
    "df_drug_resuvatin['用药时长']=np.nan\n",
    "df_drug_resuvatin = df_drug_resuvatin.reset_index(drop=True)\n",
    "for i in range(df_drug_resuvatin.shape[0]):\n",
    "    # 根据医嘱时间计算\n",
    "    drug_start_time = df_drug_resuvatin.loc[i,'医嘱开始时间']\n",
    "    drug_end_time = df_drug_resuvatin.loc[i,'医嘱停止时间']\n",
    "    hospital= df_drug_resuvatin.loc[i,'data_source']\n",
    "    if re.match('世纪坛医院', hospital):\n",
    "        df_drug_resuvatin.loc[i,'用药时长'] = (pd.to_datetime(drug_end_time)-pd.to_datetime(drug_start_time)).days + 1\n",
    "#     # 根据开药剂量计算\n",
    "#     prescription_sum = df_drug_resuvatin.loc[i,'开药总剂量']\n",
    "#     dosage = df_drug_resuvatin.loc[i,'日剂量']\n",
    "#     if pd.isnull(prescription_sum):\n",
    "#         prescription_time = np.nan\n",
    "#     else:\n",
    "#         prescription_time = math.ceil(prescription_sum / dosage) # 向上取整\n",
    "#     df_drug_resuvatin.loc[i,'用药时长']= max(-1,drug_time,prescription_time)"
   ]
  },
  {
   "cell_type": "code",
   "execution_count": 40,
   "metadata": {},
   "outputs": [
    {
     "data": {
      "text/plain": [
       "(57301, 16)"
      ]
     },
     "execution_count": 40,
     "metadata": {},
     "output_type": "execute_result"
    }
   ],
   "source": [
    "df_drug_resuvatin.shape"
   ]
  },
  {
   "cell_type": "code",
   "execution_count": 41,
   "metadata": {},
   "outputs": [],
   "source": [
    "df_drug_resuvatin.to_csv(project_path+'/data/processed_data/df_2.1.8.1_计算世纪坛_用药时长.csv')"
   ]
  },
  {
   "cell_type": "markdown",
   "metadata": {},
   "source": [
    "#### 计算开药总剂量"
   ]
  },
  {
   "cell_type": "code",
   "execution_count": 42,
   "metadata": {},
   "outputs": [],
   "source": [
    "# 盒--280mg；片--10mg\n",
    "df_drug_resuvatin = df_drug_resuvatin.reset_index(drop=True)\n",
    "for i in range(df_drug_resuvatin.shape[0]):\n",
    "    prescription_u = df_drug_resuvatin.loc[i,'开药总数量单位名称']\n",
    "    # 世纪坛医院：日剂量*用药时长\n",
    "    if pd.isnull(prescription_u):\n",
    "        df_drug_resuvatin.loc[i,'开药总剂量']= df_drug_resuvatin.loc[i,'用药时长'] * df_drug_resuvatin.loc[i,'日剂量']\n",
    "    # 人民医院: 开药总剂量\n",
    "    elif re.match('盒', prescription_u):\n",
    "        # 京新一盒280mg；可定一盒70mg\n",
    "        brand = df_drug_resuvatin.loc[i,'resuvatin_brand']\n",
    "        if re.match('京新', brand):\n",
    "            df_drug_resuvatin.loc[i,'开药总剂量']= df_drug_resuvatin.loc[i,'开药总数量']*280\n",
    "        else:\n",
    "            df_drug_resuvatin.loc[i,'开药总剂量']= df_drug_resuvatin.loc[i,'开药总数量']*70\n",
    "    elif re.match('片', prescription_u):\n",
    "        df_drug_resuvatin.loc[i,'开药总剂量']= df_drug_resuvatin.loc[i,'开药总数量']*10"
   ]
  },
  {
   "cell_type": "code",
   "execution_count": 43,
   "metadata": {},
   "outputs": [],
   "source": [
    "# 删除数值为0的开药总剂量\n",
    "df_drug_resuvatin = df_drug_resuvatin[df_drug_resuvatin['开药总剂量']>0]"
   ]
  },
  {
   "cell_type": "code",
   "execution_count": 44,
   "metadata": {},
   "outputs": [
    {
     "data": {
      "text/plain": [
       "(54471, 17)"
      ]
     },
     "execution_count": 44,
     "metadata": {},
     "output_type": "execute_result"
    }
   ],
   "source": [
    "df_drug_resuvatin.shape"
   ]
  },
  {
   "cell_type": "code",
   "execution_count": 47,
   "metadata": {},
   "outputs": [
    {
     "ename": "PermissionError",
     "evalue": "[Errno 13] Permission denied: 'D:\\\\PycharmProjects\\\\Rosu_Beijing_renmin_hospital/data/processed_data/df_2.1.8.2计算开药总剂量.csv'",
     "output_type": "error",
     "traceback": [
      "\u001b[1;31m---------------------------------------------------------------------------\u001b[0m",
      "\u001b[1;31mPermissionError\u001b[0m                           Traceback (most recent call last)",
      "\u001b[1;32m<ipython-input-47-a085f78a24af>\u001b[0m in \u001b[0;36m<module>\u001b[1;34m\u001b[0m\n\u001b[1;32m----> 1\u001b[1;33m \u001b[0mdf_drug_resuvatin\u001b[0m\u001b[1;33m.\u001b[0m\u001b[0mto_csv\u001b[0m\u001b[1;33m(\u001b[0m\u001b[0mproject_path\u001b[0m\u001b[1;33m+\u001b[0m\u001b[1;34m'/data/processed_data/df_2.1.8.2计算开药总剂量.csv'\u001b[0m\u001b[1;33m)\u001b[0m\u001b[1;33m\u001b[0m\u001b[1;33m\u001b[0m\u001b[0m\n\u001b[0m",
      "\u001b[1;32mD:\\Anaconda3\\lib\\site-packages\\pandas\\core\\generic.py\u001b[0m in \u001b[0;36mto_csv\u001b[1;34m(self, path_or_buf, sep, na_rep, float_format, columns, header, index, index_label, mode, encoding, compression, quoting, quotechar, line_terminator, chunksize, date_format, doublequote, escapechar, decimal)\u001b[0m\n\u001b[0;32m   3226\u001b[0m             \u001b[0mdecimal\u001b[0m\u001b[1;33m=\u001b[0m\u001b[0mdecimal\u001b[0m\u001b[1;33m,\u001b[0m\u001b[1;33m\u001b[0m\u001b[1;33m\u001b[0m\u001b[0m\n\u001b[0;32m   3227\u001b[0m         )\n\u001b[1;32m-> 3228\u001b[1;33m         \u001b[0mformatter\u001b[0m\u001b[1;33m.\u001b[0m\u001b[0msave\u001b[0m\u001b[1;33m(\u001b[0m\u001b[1;33m)\u001b[0m\u001b[1;33m\u001b[0m\u001b[1;33m\u001b[0m\u001b[0m\n\u001b[0m\u001b[0;32m   3229\u001b[0m \u001b[1;33m\u001b[0m\u001b[0m\n\u001b[0;32m   3230\u001b[0m         \u001b[1;32mif\u001b[0m \u001b[0mpath_or_buf\u001b[0m \u001b[1;32mis\u001b[0m \u001b[1;32mNone\u001b[0m\u001b[1;33m:\u001b[0m\u001b[1;33m\u001b[0m\u001b[1;33m\u001b[0m\u001b[0m\n",
      "\u001b[1;32mD:\\Anaconda3\\lib\\site-packages\\pandas\\io\\formats\\csvs.py\u001b[0m in \u001b[0;36msave\u001b[1;34m(self)\u001b[0m\n\u001b[0;32m    181\u001b[0m                 \u001b[0mself\u001b[0m\u001b[1;33m.\u001b[0m\u001b[0mmode\u001b[0m\u001b[1;33m,\u001b[0m\u001b[1;33m\u001b[0m\u001b[1;33m\u001b[0m\u001b[0m\n\u001b[0;32m    182\u001b[0m                 \u001b[0mencoding\u001b[0m\u001b[1;33m=\u001b[0m\u001b[0mself\u001b[0m\u001b[1;33m.\u001b[0m\u001b[0mencoding\u001b[0m\u001b[1;33m,\u001b[0m\u001b[1;33m\u001b[0m\u001b[1;33m\u001b[0m\u001b[0m\n\u001b[1;32m--> 183\u001b[1;33m                 \u001b[0mcompression\u001b[0m\u001b[1;33m=\u001b[0m\u001b[0mself\u001b[0m\u001b[1;33m.\u001b[0m\u001b[0mcompression\u001b[0m\u001b[1;33m,\u001b[0m\u001b[1;33m\u001b[0m\u001b[1;33m\u001b[0m\u001b[0m\n\u001b[0m\u001b[0;32m    184\u001b[0m             )\n\u001b[0;32m    185\u001b[0m             \u001b[0mclose\u001b[0m \u001b[1;33m=\u001b[0m \u001b[1;32mTrue\u001b[0m\u001b[1;33m\u001b[0m\u001b[1;33m\u001b[0m\u001b[0m\n",
      "\u001b[1;32mD:\\Anaconda3\\lib\\site-packages\\pandas\\io\\common.py\u001b[0m in \u001b[0;36m_get_handle\u001b[1;34m(path_or_buf, mode, encoding, compression, memory_map, is_text)\u001b[0m\n\u001b[0;32m    397\u001b[0m         \u001b[1;32mif\u001b[0m \u001b[0mencoding\u001b[0m\u001b[1;33m:\u001b[0m\u001b[1;33m\u001b[0m\u001b[1;33m\u001b[0m\u001b[0m\n\u001b[0;32m    398\u001b[0m             \u001b[1;31m# Encoding\u001b[0m\u001b[1;33m\u001b[0m\u001b[1;33m\u001b[0m\u001b[1;33m\u001b[0m\u001b[0m\n\u001b[1;32m--> 399\u001b[1;33m             \u001b[0mf\u001b[0m \u001b[1;33m=\u001b[0m \u001b[0mopen\u001b[0m\u001b[1;33m(\u001b[0m\u001b[0mpath_or_buf\u001b[0m\u001b[1;33m,\u001b[0m \u001b[0mmode\u001b[0m\u001b[1;33m,\u001b[0m \u001b[0mencoding\u001b[0m\u001b[1;33m=\u001b[0m\u001b[0mencoding\u001b[0m\u001b[1;33m,\u001b[0m \u001b[0mnewline\u001b[0m\u001b[1;33m=\u001b[0m\u001b[1;34m\"\"\u001b[0m\u001b[1;33m)\u001b[0m\u001b[1;33m\u001b[0m\u001b[1;33m\u001b[0m\u001b[0m\n\u001b[0m\u001b[0;32m    400\u001b[0m         \u001b[1;32melif\u001b[0m \u001b[0mis_text\u001b[0m\u001b[1;33m:\u001b[0m\u001b[1;33m\u001b[0m\u001b[1;33m\u001b[0m\u001b[0m\n\u001b[0;32m    401\u001b[0m             \u001b[1;31m# No explicit encoding\u001b[0m\u001b[1;33m\u001b[0m\u001b[1;33m\u001b[0m\u001b[1;33m\u001b[0m\u001b[0m\n",
      "\u001b[1;31mPermissionError\u001b[0m: [Errno 13] Permission denied: 'D:\\\\PycharmProjects\\\\Rosu_Beijing_renmin_hospital/data/processed_data/df_2.1.8.2计算开药总剂量.csv'"
     ]
    }
   ],
   "source": [
    "df_drug_resuvatin.to_csv(project_path+'/data/processed_data/df_2.1.8.2计算开药总剂量.csv')"
   ]
  },
  {
   "cell_type": "markdown",
   "metadata": {},
   "source": [
    "#### 计算人民医院医嘱结束时间"
   ]
  },
  {
   "cell_type": "code",
   "execution_count": 49,
   "metadata": {},
   "outputs": [
    {
     "data": {
      "text/plain": [
       "'\\n人民：医嘱停止时间 = 医嘱开始时间 + 用药时长\\n'"
      ]
     },
     "execution_count": 49,
     "metadata": {},
     "output_type": "execute_result"
    }
   ],
   "source": [
    "'''\n",
    "人民：医嘱停止时间 = 医嘱开始时间 + 用药时长\n",
    "'''"
   ]
  },
  {
   "cell_type": "code",
   "execution_count": 50,
   "metadata": {},
   "outputs": [],
   "source": [
    "df_drug_resuvatin = df_drug_resuvatin.reset_index(drop=True)\n",
    "for i in range(df_drug_resuvatin.shape[0]):\n",
    "    # 计算人民医院：用药时长\n",
    "    if df_drug_resuvatin.loc[i,'data_source'] == '人民医院':\n",
    "        d = round(df_drug_resuvatin.loc[i,'开药总剂量']/df_drug_resuvatin.loc[i,'日剂量'],0)\n",
    "        df_drug_resuvatin.loc[i,'用药时长']= d\n",
    "        df_drug_resuvatin.loc[i,'医嘱停止时间'] = pd.to_datetime(df_drug_resuvatin.loc[i,'医嘱开始时间']) + datetime.timedelta(days=d)"
   ]
  },
  {
   "cell_type": "code",
   "execution_count": 51,
   "metadata": {},
   "outputs": [
    {
     "data": {
      "text/plain": [
       "(54471, 17)"
      ]
     },
     "execution_count": 51,
     "metadata": {},
     "output_type": "execute_result"
    }
   ],
   "source": [
    "df_drug_resuvatin.shape"
   ]
  },
  {
   "cell_type": "code",
   "execution_count": 52,
   "metadata": {},
   "outputs": [],
   "source": [
    "df_drug_resuvatin.to_csv(project_path+'/data/processed_data/df_2.1.8.3_计算人民医院_医嘱结束时间.csv')"
   ]
  },
  {
   "cell_type": "markdown",
   "metadata": {},
   "source": [
    "## 诊断数据预处理"
   ]
  },
  {
   "cell_type": "markdown",
   "metadata": {},
   "source": [
    "### 人民医院"
   ]
  },
  {
   "cell_type": "code",
   "execution_count": 8,
   "metadata": {
    "code_folding": []
   },
   "outputs": [],
   "source": [
    "# 人民医院--诊断数据\n",
    "df_diagnose_1 = pd.read_excel(r'./data/raw_data/人民医院/3-诊断.xlsx')\n",
    "df_diagnose_supplement = pd.read_excel(r'./data/raw_data/人民医院/诊断-补.xlsx')\n",
    "\n",
    "df_diagnose_1 = pd.concat([df_diagnose_1, df_diagnose_supplement],axis=0).drop_duplicates(subset=df_diagnose_1.columns, keep='first')"
   ]
  },
  {
   "cell_type": "code",
   "execution_count": 9,
   "metadata": {},
   "outputs": [
    {
     "data": {
      "text/plain": [
       "(1005384, 8)"
      ]
     },
     "execution_count": 9,
     "metadata": {},
     "output_type": "execute_result"
    }
   ],
   "source": [
    "df_diagnose_1.shape"
   ]
  },
  {
   "cell_type": "code",
   "execution_count": 10,
   "metadata": {},
   "outputs": [
    {
     "data": {
      "text/plain": [
       "Index(['患者编号', '当前就诊次数/命中就诊总次数', '诊断编码', '诊断名称', '诊断日期', '是否主要诊断', '诊断类别名称',\n",
       "       '数据来源'],\n",
       "      dtype='object')"
      ]
     },
     "execution_count": 10,
     "metadata": {},
     "output_type": "execute_result"
    }
   ],
   "source": [
    "df_diagnose_1.columns"
   ]
  },
  {
   "cell_type": "code",
   "execution_count": 11,
   "metadata": {},
   "outputs": [],
   "source": [
    "# 提取有效字段\n",
    "df_diagnose_1 = df_diagnose_1[['患者编号', '诊断名称', '诊断日期', '是否主要诊断', '诊断类别名称']]\n",
    "# 删除重复数据\n",
    "df_diagnose_1 = df_diagnose_1.drop_duplicates(df_diagnose_1.columns, keep='first')"
   ]
  },
  {
   "cell_type": "code",
   "execution_count": 14,
   "metadata": {},
   "outputs": [],
   "source": [
    "# 患者限定\n",
    "df_diagnose_1 = df_diagnose_1[df_diagnose_1.患者编号.isin(df_drug_resuvatin.患者编号.unique())]"
   ]
  },
  {
   "cell_type": "code",
   "execution_count": 15,
   "metadata": {},
   "outputs": [
    {
     "data": {
      "text/plain": [
       "(231391, 5)"
      ]
     },
     "execution_count": 15,
     "metadata": {},
     "output_type": "execute_result"
    }
   ],
   "source": [
    "df_diagnose_1.shape"
   ]
  },
  {
   "cell_type": "code",
   "execution_count": 16,
   "metadata": {},
   "outputs": [
    {
     "data": {
      "text/html": [
       "<div>\n",
       "<style scoped>\n",
       "    .dataframe tbody tr th:only-of-type {\n",
       "        vertical-align: middle;\n",
       "    }\n",
       "\n",
       "    .dataframe tbody tr th {\n",
       "        vertical-align: top;\n",
       "    }\n",
       "\n",
       "    .dataframe thead th {\n",
       "        text-align: right;\n",
       "    }\n",
       "</style>\n",
       "<table border=\"1\" class=\"dataframe\">\n",
       "  <thead>\n",
       "    <tr style=\"text-align: right;\">\n",
       "      <th></th>\n",
       "      <th>患者编号</th>\n",
       "      <th>诊断名称</th>\n",
       "      <th>诊断日期</th>\n",
       "      <th>是否主要诊断</th>\n",
       "      <th>诊断类别名称</th>\n",
       "    </tr>\n",
       "  </thead>\n",
       "  <tbody>\n",
       "    <tr>\n",
       "      <th>0</th>\n",
       "      <td>pat_0d9297a346707bce01f0b4637484efe9</td>\n",
       "      <td>高胆固醇血症</td>\n",
       "      <td>2019-12-31 07:54:05</td>\n",
       "      <td>否</td>\n",
       "      <td>门诊诊断</td>\n",
       "    </tr>\n",
       "    <tr>\n",
       "      <th>1</th>\n",
       "      <td>pat_0ebd83a8c3990a103016a650f84616f8</td>\n",
       "      <td>高胆固醇血症</td>\n",
       "      <td>2018-03-11 11:06:21</td>\n",
       "      <td>否</td>\n",
       "      <td>门诊诊断</td>\n",
       "    </tr>\n",
       "    <tr>\n",
       "      <th>121</th>\n",
       "      <td>pat_05eab24ef6eb4e0827cd26e1553a0f64</td>\n",
       "      <td>动脉粥样硬化并高脂血症</td>\n",
       "      <td>2018-02-06 13:20:56</td>\n",
       "      <td>是</td>\n",
       "      <td>门诊诊断</td>\n",
       "    </tr>\n",
       "    <tr>\n",
       "      <th>294</th>\n",
       "      <td>pat_04dfcad1038b64914a0cb3dbe835ae57</td>\n",
       "      <td>冠心病</td>\n",
       "      <td>2018-07-20 15:48:42</td>\n",
       "      <td>否</td>\n",
       "      <td>门诊诊断</td>\n",
       "    </tr>\n",
       "    <tr>\n",
       "      <th>295</th>\n",
       "      <td>pat_04dfcad1038b64914a0cb3dbe835ae57</td>\n",
       "      <td>高脂血症</td>\n",
       "      <td>2018-07-20 15:48:01</td>\n",
       "      <td>否</td>\n",
       "      <td>门诊诊断</td>\n",
       "    </tr>\n",
       "  </tbody>\n",
       "</table>\n",
       "</div>"
      ],
      "text/plain": [
       "                                     患者编号         诊断名称                 诊断日期  \\\n",
       "0    pat_0d9297a346707bce01f0b4637484efe9       高胆固醇血症  2019-12-31 07:54:05   \n",
       "1    pat_0ebd83a8c3990a103016a650f84616f8       高胆固醇血症  2018-03-11 11:06:21   \n",
       "121  pat_05eab24ef6eb4e0827cd26e1553a0f64  动脉粥样硬化并高脂血症  2018-02-06 13:20:56   \n",
       "294  pat_04dfcad1038b64914a0cb3dbe835ae57          冠心病  2018-07-20 15:48:42   \n",
       "295  pat_04dfcad1038b64914a0cb3dbe835ae57         高脂血症  2018-07-20 15:48:01   \n",
       "\n",
       "    是否主要诊断 诊断类别名称  \n",
       "0        否   门诊诊断  \n",
       "1        否   门诊诊断  \n",
       "121      是   门诊诊断  \n",
       "294      否   门诊诊断  \n",
       "295      否   门诊诊断  "
      ]
     },
     "execution_count": 16,
     "metadata": {},
     "output_type": "execute_result"
    }
   ],
   "source": [
    "df_diagnose_1.head()"
   ]
  },
  {
   "cell_type": "code",
   "execution_count": null,
   "metadata": {},
   "outputs": [],
   "source": [
    "df_diagnose_1.to_csv(project_path+'/data/pre_processed_raw_data/df_2.4.1_人民医院_诊断.csv')"
   ]
  },
  {
   "cell_type": "markdown",
   "metadata": {},
   "source": [
    "### 世纪坛医院"
   ]
  },
  {
   "cell_type": "code",
   "execution_count": 17,
   "metadata": {},
   "outputs": [],
   "source": [
    "# 世纪坛医院--诊断数据\n",
    "df_diagnose_2 = pd.read_excel(r'./data/raw_data/首都医科大学附属北京世纪坛医院—阿托他汀临床疗效及安全性评价的真实世界研究-住院+门诊-2018.3.23-2020.3.xlsx',\n",
    "                              sheet_name='诊断')"
   ]
  },
  {
   "cell_type": "code",
   "execution_count": 18,
   "metadata": {},
   "outputs": [
    {
     "data": {
      "text/plain": [
       "(617655, 8)"
      ]
     },
     "execution_count": 18,
     "metadata": {},
     "output_type": "execute_result"
    }
   ],
   "source": [
    "df_diagnose_2.shape"
   ]
  },
  {
   "cell_type": "code",
   "execution_count": 19,
   "metadata": {},
   "outputs": [
    {
     "data": {
      "text/plain": [
       "Index(['Unnamed: 0', 'Unnamed: 1', 'patient_SN', '就诊次数（住院）', '就诊时间（门诊）',\n",
       "       '就诊科室（门诊）', 'ICD10编码', 'ICD10名称'],\n",
       "      dtype='object')"
      ]
     },
     "execution_count": 19,
     "metadata": {},
     "output_type": "execute_result"
    }
   ],
   "source": [
    "df_diagnose_2.columns"
   ]
  },
  {
   "cell_type": "code",
   "execution_count": 20,
   "metadata": {},
   "outputs": [],
   "source": [
    "# 提取有效字段\n",
    "df_diagnose_2 = df_diagnose_2[['patient_SN','ICD10名称','就诊时间（门诊）']]\n",
    "# 删除重复数据\n",
    "df_diagnose_2 = df_diagnose_2.drop_duplicates(df_diagnose_2.columns, keep='first')"
   ]
  },
  {
   "cell_type": "code",
   "execution_count": 23,
   "metadata": {},
   "outputs": [
    {
     "data": {
      "text/plain": [
       "('患者编号', '诊断名称', '诊断日期', '是否主要诊断', '诊断类别名称')"
      ]
     },
     "execution_count": 23,
     "metadata": {},
     "output_type": "execute_result"
    }
   ],
   "source": [
    "'患者编号', '诊断名称', '诊断日期', '是否主要诊断', '诊断类别名称'"
   ]
  },
  {
   "cell_type": "code",
   "execution_count": 24,
   "metadata": {},
   "outputs": [],
   "source": [
    "df_diagnose_2.columns = ['患者编号', '诊断名称', '诊断日期']"
   ]
  },
  {
   "cell_type": "code",
   "execution_count": 25,
   "metadata": {},
   "outputs": [],
   "source": [
    "# 患者限定\n",
    "df_diagnose_2 = df_diagnose_2[df_diagnose_2.患者编号.isin(df_drug_resuvatin.患者编号.unique())]"
   ]
  },
  {
   "cell_type": "code",
   "execution_count": 26,
   "metadata": {},
   "outputs": [
    {
     "data": {
      "text/html": [
       "<div>\n",
       "<style scoped>\n",
       "    .dataframe tbody tr th:only-of-type {\n",
       "        vertical-align: middle;\n",
       "    }\n",
       "\n",
       "    .dataframe tbody tr th {\n",
       "        vertical-align: top;\n",
       "    }\n",
       "\n",
       "    .dataframe thead th {\n",
       "        text-align: right;\n",
       "    }\n",
       "</style>\n",
       "<table border=\"1\" class=\"dataframe\">\n",
       "  <thead>\n",
       "    <tr style=\"text-align: right;\">\n",
       "      <th></th>\n",
       "      <th>患者编号</th>\n",
       "      <th>诊断名称</th>\n",
       "      <th>诊断日期</th>\n",
       "    </tr>\n",
       "  </thead>\n",
       "  <tbody>\n",
       "    <tr>\n",
       "      <th>234</th>\n",
       "      <td>0020640c4052f1dae97fcf39be390e1b</td>\n",
       "      <td>I25.105</td>\n",
       "      <td>NaT</td>\n",
       "    </tr>\n",
       "  </tbody>\n",
       "</table>\n",
       "</div>"
      ],
      "text/plain": [
       "                                 患者编号     诊断名称 诊断日期\n",
       "234  0020640c4052f1dae97fcf39be390e1b  I25.105  NaT"
      ]
     },
     "execution_count": 26,
     "metadata": {},
     "output_type": "execute_result"
    }
   ],
   "source": [
    "df_diagnose_2.head(1)"
   ]
  },
  {
   "cell_type": "code",
   "execution_count": null,
   "metadata": {},
   "outputs": [],
   "source": [
    "df_diagnose_2.to_csv(project_path+'/data/pre_processed_raw_data/df_2.4.2_世纪坛_诊断.csv')"
   ]
  },
  {
   "cell_type": "markdown",
   "metadata": {},
   "source": [
    "### 合并疾病诊断"
   ]
  },
  {
   "cell_type": "code",
   "execution_count": 27,
   "metadata": {},
   "outputs": [],
   "source": [
    "# 合并人民医院和世纪坛医院的疾病诊断\n",
    "df_diagnose = pd.concat([df_diagnose_1, df_diagnose_2],axis=0).reset_index(drop=True)"
   ]
  },
  {
   "cell_type": "code",
   "execution_count": 28,
   "metadata": {},
   "outputs": [],
   "source": [
    "# 患者限定\n",
    "df_diagnose = df_diagnose[df_diagnose.患者编号.isin(df_drug_resuvatin.患者编号.unique())]"
   ]
  },
  {
   "cell_type": "code",
   "execution_count": 29,
   "metadata": {},
   "outputs": [
    {
     "data": {
      "text/plain": [
       "(303522, 5)"
      ]
     },
     "execution_count": 29,
     "metadata": {},
     "output_type": "execute_result"
    }
   ],
   "source": [
    "df_diagnose.shape"
   ]
  },
  {
   "cell_type": "code",
   "execution_count": 30,
   "metadata": {},
   "outputs": [
    {
     "data": {
      "text/html": [
       "<div>\n",
       "<style scoped>\n",
       "    .dataframe tbody tr th:only-of-type {\n",
       "        vertical-align: middle;\n",
       "    }\n",
       "\n",
       "    .dataframe tbody tr th {\n",
       "        vertical-align: top;\n",
       "    }\n",
       "\n",
       "    .dataframe thead th {\n",
       "        text-align: right;\n",
       "    }\n",
       "</style>\n",
       "<table border=\"1\" class=\"dataframe\">\n",
       "  <thead>\n",
       "    <tr style=\"text-align: right;\">\n",
       "      <th></th>\n",
       "      <th>患者编号</th>\n",
       "      <th>诊断名称</th>\n",
       "      <th>诊断日期</th>\n",
       "      <th>是否主要诊断</th>\n",
       "      <th>诊断类别名称</th>\n",
       "    </tr>\n",
       "  </thead>\n",
       "  <tbody>\n",
       "    <tr>\n",
       "      <th>0</th>\n",
       "      <td>pat_0d9297a346707bce01f0b4637484efe9</td>\n",
       "      <td>高胆固醇血症</td>\n",
       "      <td>2019-12-31 07:54:05</td>\n",
       "      <td>否</td>\n",
       "      <td>门诊诊断</td>\n",
       "    </tr>\n",
       "    <tr>\n",
       "      <th>1</th>\n",
       "      <td>pat_0ebd83a8c3990a103016a650f84616f8</td>\n",
       "      <td>高胆固醇血症</td>\n",
       "      <td>2018-03-11 11:06:21</td>\n",
       "      <td>否</td>\n",
       "      <td>门诊诊断</td>\n",
       "    </tr>\n",
       "    <tr>\n",
       "      <th>2</th>\n",
       "      <td>pat_05eab24ef6eb4e0827cd26e1553a0f64</td>\n",
       "      <td>动脉粥样硬化并高脂血症</td>\n",
       "      <td>2018-02-06 13:20:56</td>\n",
       "      <td>是</td>\n",
       "      <td>门诊诊断</td>\n",
       "    </tr>\n",
       "    <tr>\n",
       "      <th>3</th>\n",
       "      <td>pat_04dfcad1038b64914a0cb3dbe835ae57</td>\n",
       "      <td>冠心病</td>\n",
       "      <td>2018-07-20 15:48:42</td>\n",
       "      <td>否</td>\n",
       "      <td>门诊诊断</td>\n",
       "    </tr>\n",
       "    <tr>\n",
       "      <th>4</th>\n",
       "      <td>pat_04dfcad1038b64914a0cb3dbe835ae57</td>\n",
       "      <td>高脂血症</td>\n",
       "      <td>2018-07-20 15:48:01</td>\n",
       "      <td>否</td>\n",
       "      <td>门诊诊断</td>\n",
       "    </tr>\n",
       "  </tbody>\n",
       "</table>\n",
       "</div>"
      ],
      "text/plain": [
       "                                   患者编号         诊断名称                 诊断日期  \\\n",
       "0  pat_0d9297a346707bce01f0b4637484efe9       高胆固醇血症  2019-12-31 07:54:05   \n",
       "1  pat_0ebd83a8c3990a103016a650f84616f8       高胆固醇血症  2018-03-11 11:06:21   \n",
       "2  pat_05eab24ef6eb4e0827cd26e1553a0f64  动脉粥样硬化并高脂血症  2018-02-06 13:20:56   \n",
       "3  pat_04dfcad1038b64914a0cb3dbe835ae57          冠心病  2018-07-20 15:48:42   \n",
       "4  pat_04dfcad1038b64914a0cb3dbe835ae57         高脂血症  2018-07-20 15:48:01   \n",
       "\n",
       "  是否主要诊断 诊断类别名称  \n",
       "0      否   门诊诊断  \n",
       "1      否   门诊诊断  \n",
       "2      是   门诊诊断  \n",
       "3      否   门诊诊断  \n",
       "4      否   门诊诊断  "
      ]
     },
     "execution_count": 30,
     "metadata": {},
     "output_type": "execute_result"
    }
   ],
   "source": [
    "df_diagnose.head()"
   ]
  },
  {
   "cell_type": "code",
   "execution_count": 31,
   "metadata": {},
   "outputs": [],
   "source": [
    "df_diagnose.to_csv(project_path+'/data/pre_processed_raw_data/df_2.4.3_诊断.csv')"
   ]
  },
  {
   "cell_type": "code",
   "execution_count": 6,
   "metadata": {},
   "outputs": [
    {
     "name": "stderr",
     "output_type": "stream",
     "text": [
      "D:\\Anaconda3\\lib\\site-packages\\IPython\\core\\interactiveshell.py:3049: DtypeWarning: Columns (4,5) have mixed types. Specify dtype option on import or set low_memory=False.\n",
      "  interactivity=interactivity, compiler=compiler, result=result)\n"
     ]
    }
   ],
   "source": [
    "df_diagnose=pd.read_csv(project_path+'/data/pre_processed_raw_data/df_2.4.3_诊断.csv')\n",
    "if 'Unnamed: 0' in df_diagnose.columns:\n",
    "    del df_diagnose['Unnamed: 0']"
   ]
  },
  {
   "cell_type": "markdown",
   "metadata": {},
   "source": [
    "## 检验数据预处理"
   ]
  },
  {
   "cell_type": "markdown",
   "metadata": {},
   "source": [
    "### 人民医院"
   ]
  },
  {
   "cell_type": "code",
   "execution_count": 32,
   "metadata": {},
   "outputs": [],
   "source": [
    "# 人民医院--检验数据\n",
    "df_check_1 = pd.read_excel(r'./data/raw_data/人民医院/检验.xlsx',\n",
    "                          header=1)"
   ]
  },
  {
   "cell_type": "code",
   "execution_count": 33,
   "metadata": {},
   "outputs": [
    {
     "data": {
      "text/plain": [
       "(359081, 15)"
      ]
     },
     "execution_count": 33,
     "metadata": {},
     "output_type": "execute_result"
    }
   ],
   "source": [
    "df_check_1.shape"
   ]
  },
  {
   "cell_type": "code",
   "execution_count": 34,
   "metadata": {},
   "outputs": [
    {
     "data": {
      "text/plain": [
       "Index(['Unnamed: 0', 'Unnamed: 1', 'Unnamed: 2', 'Unnamed: 3', 'Unnamed: 4',\n",
       "       'Unnamed: 5', 'Unnamed: 6', 'Unnamed: 7', 'Unnamed: 8', '检验子项结果正常标志',\n",
       "       '检验子项中文名', '检验子项英文名', '检验子项结果', '检验子项结果数值', '检验子项单位'],\n",
       "      dtype='object')"
      ]
     },
     "execution_count": 34,
     "metadata": {},
     "output_type": "execute_result"
    }
   ],
   "source": [
    "df_check_1.columns"
   ]
  },
  {
   "cell_type": "code",
   "execution_count": 35,
   "metadata": {},
   "outputs": [],
   "source": [
    "df_check_1.columns = ['患者编号', '当前就诊次数/命中就诊总次数', '检验单号', '检验项目名称', '采集时间', '采集时间_date',\n",
    "       '采集时间_time', '标本名称', '标本类型', '检验子项结果正常标志', '检验子项中文名', '检验子项英文名',\n",
    "       '检验子项结果', '检验子项结果数值', '检验子项单位']"
   ]
  },
  {
   "cell_type": "code",
   "execution_count": 36,
   "metadata": {},
   "outputs": [],
   "source": [
    "# 提取有效字段\n",
    "df_check_1 = df_check_1[['患者编号', '采集时间', '采集时间_date','采集时间_time', '检验子项结果正常标志', '检验子项英文名',\n",
    "                         '检验子项结果','检验子项结果数值', '检验子项单位']]\n",
    "# 修改列名\n",
    "df_check_1 = df_check_1.rename(columns={'采集时间':'检验时间',\n",
    "                                       '采集时间_date':'检验时间_date',\n",
    "                                       '采集时间_time':'检验时间_time'})"
   ]
  },
  {
   "cell_type": "code",
   "execution_count": 37,
   "metadata": {},
   "outputs": [],
   "source": [
    "# 修改项名\n",
    "df_check_1['检验子项英文名'] = df_check_1['检验子项英文名'].apply(lambda x: 'BUN' if re.match('尿素氮',str(x)) else\n",
    "                                                                       'Urea' if re.match('尿素',str(x)) else\n",
    "                                                                       'Glu' if re.match('血糖',str(x)) else\n",
    "                                                                       'TBIL' if re.match('总胆红素',str(x)) else\n",
    "                                                                       'TG' if re.match('甘油三酯',str(x)) else\n",
    "                                                                       'CK' if re.match('肌酸激酶',str(x)) else x)"
   ]
  },
  {
   "cell_type": "code",
   "execution_count": 38,
   "metadata": {},
   "outputs": [
    {
     "data": {
      "text/html": [
       "<div>\n",
       "<style scoped>\n",
       "    .dataframe tbody tr th:only-of-type {\n",
       "        vertical-align: middle;\n",
       "    }\n",
       "\n",
       "    .dataframe tbody tr th {\n",
       "        vertical-align: top;\n",
       "    }\n",
       "\n",
       "    .dataframe thead th {\n",
       "        text-align: right;\n",
       "    }\n",
       "</style>\n",
       "<table border=\"1\" class=\"dataframe\">\n",
       "  <thead>\n",
       "    <tr style=\"text-align: right;\">\n",
       "      <th></th>\n",
       "      <th>患者编号</th>\n",
       "      <th>检验时间</th>\n",
       "      <th>检验时间_date</th>\n",
       "      <th>检验时间_time</th>\n",
       "      <th>检验子项结果正常标志</th>\n",
       "      <th>检验子项英文名</th>\n",
       "      <th>检验子项结果</th>\n",
       "      <th>检验子项结果数值</th>\n",
       "      <th>检验子项单位</th>\n",
       "    </tr>\n",
       "  </thead>\n",
       "  <tbody>\n",
       "    <tr>\n",
       "      <th>0</th>\n",
       "      <td>pat_13da443c402ad02c9e9de0c5c0751eda</td>\n",
       "      <td>2018-04-06 07:11:20</td>\n",
       "      <td>2018-04-06</td>\n",
       "      <td>07:11:20</td>\n",
       "      <td>正常</td>\n",
       "      <td>Urea</td>\n",
       "      <td>4.96</td>\n",
       "      <td>4.96</td>\n",
       "      <td>mmol/L</td>\n",
       "    </tr>\n",
       "  </tbody>\n",
       "</table>\n",
       "</div>"
      ],
      "text/plain": [
       "                                   患者编号                 检验时间  检验时间_date  \\\n",
       "0  pat_13da443c402ad02c9e9de0c5c0751eda  2018-04-06 07:11:20 2018-04-06   \n",
       "\n",
       "  检验时间_time 检验子项结果正常标志 检验子项英文名 检验子项结果  检验子项结果数值  检验子项单位  \n",
       "0  07:11:20         正常    Urea   4.96      4.96  mmol/L  "
      ]
     },
     "execution_count": 38,
     "metadata": {},
     "output_type": "execute_result"
    }
   ],
   "source": [
    "df_check_1.head(1)"
   ]
  },
  {
   "cell_type": "code",
   "execution_count": 39,
   "metadata": {},
   "outputs": [],
   "source": [
    "# 删除重复数据\n",
    "df_check_1 = df_check_1.drop_duplicates(df_check_1.columns, keep='first')\n",
    "# 删除缺失值\n",
    "df_check_1 = df_check_1[df_check_1.检验时间_date.notnull()]\n",
    "df_check_1 = df_check_1[df_check_1['检验子项结果数值'].notnull() & df_check_1.检验子项英文名.notnull()]"
   ]
  },
  {
   "cell_type": "code",
   "execution_count": 40,
   "metadata": {},
   "outputs": [
    {
     "data": {
      "text/plain": [
       "(352521, 9)"
      ]
     },
     "execution_count": 40,
     "metadata": {},
     "output_type": "execute_result"
    }
   ],
   "source": [
    "df_check_1.shape"
   ]
  },
  {
   "cell_type": "code",
   "execution_count": 41,
   "metadata": {},
   "outputs": [],
   "source": [
    "#删除只有一次的检验\n",
    "df_check_1_count = df_check_1['患者编号'].value_counts().reset_index()\n",
    "df_check_1_count = df_check_1_count[df_check_1_count['患者编号']>1]\n",
    "# 提取剩余的检验\n",
    "df_check_1 = df_check_1[df_check_1.患者编号.isin(df_check_1_count['index'].unique())]"
   ]
  },
  {
   "cell_type": "code",
   "execution_count": 42,
   "metadata": {},
   "outputs": [
    {
     "data": {
      "text/plain": [
       "(352317, 9)"
      ]
     },
     "execution_count": 42,
     "metadata": {},
     "output_type": "execute_result"
    }
   ],
   "source": [
    "df_check_1.shape"
   ]
  },
  {
   "cell_type": "code",
   "execution_count": 43,
   "metadata": {},
   "outputs": [],
   "source": [
    "# 限定患者\n",
    "df_check_1 = df_check_1[df_check_1.患者编号.isin(df_drug_resuvatin.患者编号.unique())]"
   ]
  },
  {
   "cell_type": "code",
   "execution_count": 44,
   "metadata": {},
   "outputs": [
    {
     "data": {
      "text/plain": [
       "(82296, 9)"
      ]
     },
     "execution_count": 44,
     "metadata": {},
     "output_type": "execute_result"
    }
   ],
   "source": [
    "df_check_1.shape"
   ]
  },
  {
   "cell_type": "code",
   "execution_count": 45,
   "metadata": {},
   "outputs": [
    {
     "data": {
      "text/html": [
       "<div>\n",
       "<style scoped>\n",
       "    .dataframe tbody tr th:only-of-type {\n",
       "        vertical-align: middle;\n",
       "    }\n",
       "\n",
       "    .dataframe tbody tr th {\n",
       "        vertical-align: top;\n",
       "    }\n",
       "\n",
       "    .dataframe thead th {\n",
       "        text-align: right;\n",
       "    }\n",
       "</style>\n",
       "<table border=\"1\" class=\"dataframe\">\n",
       "  <thead>\n",
       "    <tr style=\"text-align: right;\">\n",
       "      <th></th>\n",
       "      <th>患者编号</th>\n",
       "      <th>检验时间</th>\n",
       "      <th>检验时间_date</th>\n",
       "      <th>检验时间_time</th>\n",
       "      <th>检验子项结果正常标志</th>\n",
       "      <th>检验子项英文名</th>\n",
       "      <th>检验子项结果</th>\n",
       "      <th>检验子项结果数值</th>\n",
       "      <th>检验子项单位</th>\n",
       "    </tr>\n",
       "  </thead>\n",
       "  <tbody>\n",
       "    <tr>\n",
       "      <th>261</th>\n",
       "      <td>pat_2bb0dfeccae4278dbf399d6428a2573d</td>\n",
       "      <td>2018-08-16 08:55:23</td>\n",
       "      <td>2018-08-16</td>\n",
       "      <td>08:55:23</td>\n",
       "      <td>正常</td>\n",
       "      <td>AST</td>\n",
       "      <td>29</td>\n",
       "      <td>29.00</td>\n",
       "      <td>U/L</td>\n",
       "    </tr>\n",
       "    <tr>\n",
       "      <th>262</th>\n",
       "      <td>pat_2bb0dfeccae4278dbf399d6428a2573d</td>\n",
       "      <td>2018-08-16 08:55:23</td>\n",
       "      <td>2018-08-16</td>\n",
       "      <td>08:55:23</td>\n",
       "      <td>正常</td>\n",
       "      <td>CK</td>\n",
       "      <td>67</td>\n",
       "      <td>67.00</td>\n",
       "      <td>U/L</td>\n",
       "    </tr>\n",
       "    <tr>\n",
       "      <th>263</th>\n",
       "      <td>pat_2bb0dfeccae4278dbf399d6428a2573d</td>\n",
       "      <td>2018-08-16 08:55:23</td>\n",
       "      <td>2018-08-16</td>\n",
       "      <td>08:55:23</td>\n",
       "      <td>正常</td>\n",
       "      <td>LDL-C</td>\n",
       "      <td>2.42</td>\n",
       "      <td>2.42</td>\n",
       "      <td>mmol/L</td>\n",
       "    </tr>\n",
       "    <tr>\n",
       "      <th>264</th>\n",
       "      <td>pat_2bb0dfeccae4278dbf399d6428a2573d</td>\n",
       "      <td>2018-08-16 08:55:23</td>\n",
       "      <td>2018-08-16</td>\n",
       "      <td>08:55:23</td>\n",
       "      <td>正常</td>\n",
       "      <td>ALT</td>\n",
       "      <td>28</td>\n",
       "      <td>28.00</td>\n",
       "      <td>U/L</td>\n",
       "    </tr>\n",
       "    <tr>\n",
       "      <th>265</th>\n",
       "      <td>pat_2bb0dfeccae4278dbf399d6428a2573d</td>\n",
       "      <td>2018-08-16 08:55:23</td>\n",
       "      <td>2018-08-16</td>\n",
       "      <td>08:55:23</td>\n",
       "      <td>正常</td>\n",
       "      <td>Urea</td>\n",
       "      <td>5.34</td>\n",
       "      <td>5.34</td>\n",
       "      <td>mmol/L</td>\n",
       "    </tr>\n",
       "  </tbody>\n",
       "</table>\n",
       "</div>"
      ],
      "text/plain": [
       "                                     患者编号                 检验时间  检验时间_date  \\\n",
       "261  pat_2bb0dfeccae4278dbf399d6428a2573d  2018-08-16 08:55:23 2018-08-16   \n",
       "262  pat_2bb0dfeccae4278dbf399d6428a2573d  2018-08-16 08:55:23 2018-08-16   \n",
       "263  pat_2bb0dfeccae4278dbf399d6428a2573d  2018-08-16 08:55:23 2018-08-16   \n",
       "264  pat_2bb0dfeccae4278dbf399d6428a2573d  2018-08-16 08:55:23 2018-08-16   \n",
       "265  pat_2bb0dfeccae4278dbf399d6428a2573d  2018-08-16 08:55:23 2018-08-16   \n",
       "\n",
       "    检验时间_time 检验子项结果正常标志 检验子项英文名 检验子项结果  检验子项结果数值  检验子项单位  \n",
       "261  08:55:23         正常     AST     29     29.00     U/L  \n",
       "262  08:55:23         正常      CK     67     67.00     U/L  \n",
       "263  08:55:23         正常   LDL-C   2.42      2.42  mmol/L  \n",
       "264  08:55:23         正常     ALT     28     28.00     U/L  \n",
       "265  08:55:23         正常    Urea   5.34      5.34  mmol/L  "
      ]
     },
     "execution_count": 45,
     "metadata": {},
     "output_type": "execute_result"
    }
   ],
   "source": [
    "df_check_1.head()"
   ]
  },
  {
   "cell_type": "code",
   "execution_count": 46,
   "metadata": {},
   "outputs": [],
   "source": [
    "# 判断是否为float类型\n",
    "def judge_float(x):\n",
    "    try:\n",
    "        a=float(x)\n",
    "        return a\n",
    "    except :\n",
    "        return np.NaN"
   ]
  },
  {
   "cell_type": "code",
   "execution_count": 47,
   "metadata": {},
   "outputs": [],
   "source": [
    "# 转置表头\n",
    "df_check_1 = df_check_1.reset_index(drop=True)\n",
    "df_check_1_T = pd.DataFrame()\n",
    "count = 0\n",
    "for i in df_check_1.患者编号.unique():\n",
    "    count += 1\n",
    "    # 同一个病人ID的相同检验项\n",
    "    temp = df_check_1[df_check_1['患者编号']== i].sort_values(['检验时间'],ascending=True)\n",
    "    temp = temp.drop_duplicates(subset=['患者编号','检验时间_date','检验子项英文名'],keep='last').reset_index(drop=True)\n",
    "    ## 检验项转置为表头\n",
    "    if temp.shape[0]>0:\n",
    "        temp['检验子项结果']=temp['检验子项结果'].apply(judge_float)\n",
    "        temp= temp.pivot_table('检验子项结果', ['患者编号','检验时间_date'], '检验子项英文名').reset_index()\n",
    "        df_check_1_T = pd.concat([df_check_1_T,temp],axis=0)"
   ]
  },
  {
   "cell_type": "code",
   "execution_count": 48,
   "metadata": {},
   "outputs": [
    {
     "data": {
      "text/plain": [
       "(9890, 16)"
      ]
     },
     "execution_count": 48,
     "metadata": {},
     "output_type": "execute_result"
    }
   ],
   "source": [
    "df_check_1_T.shape"
   ]
  },
  {
   "cell_type": "code",
   "execution_count": 49,
   "metadata": {},
   "outputs": [
    {
     "data": {
      "text/html": [
       "<div>\n",
       "<style scoped>\n",
       "    .dataframe tbody tr th:only-of-type {\n",
       "        vertical-align: middle;\n",
       "    }\n",
       "\n",
       "    .dataframe tbody tr th {\n",
       "        vertical-align: top;\n",
       "    }\n",
       "\n",
       "    .dataframe thead th {\n",
       "        text-align: right;\n",
       "    }\n",
       "</style>\n",
       "<table border=\"1\" class=\"dataframe\">\n",
       "  <thead>\n",
       "    <tr style=\"text-align: right;\">\n",
       "      <th></th>\n",
       "      <th>患者编号</th>\n",
       "      <th>检验时间_date</th>\n",
       "      <th>ALT</th>\n",
       "      <th>AST</th>\n",
       "      <th>CHO</th>\n",
       "      <th>CK</th>\n",
       "      <th>HDL-C</th>\n",
       "      <th>LDL-C</th>\n",
       "      <th>TBIL</th>\n",
       "      <th>TG</th>\n",
       "      <th>Urea</th>\n",
       "      <th>apo-A1</th>\n",
       "      <th>apo-B</th>\n",
       "      <th>CK-MB</th>\n",
       "      <th>BUN</th>\n",
       "      <th>Glu</th>\n",
       "    </tr>\n",
       "  </thead>\n",
       "  <tbody>\n",
       "    <tr>\n",
       "      <th>0</th>\n",
       "      <td>pat_2bb0dfeccae4278dbf399d6428a2573d</td>\n",
       "      <td>2018-08-16</td>\n",
       "      <td>28.0</td>\n",
       "      <td>29.0</td>\n",
       "      <td>3.87</td>\n",
       "      <td>67.0</td>\n",
       "      <td>1.10</td>\n",
       "      <td>2.42</td>\n",
       "      <td>8.5</td>\n",
       "      <td>2.89</td>\n",
       "      <td>5.34</td>\n",
       "      <td>119.5</td>\n",
       "      <td>86.4</td>\n",
       "      <td>NaN</td>\n",
       "      <td>NaN</td>\n",
       "      <td>NaN</td>\n",
       "    </tr>\n",
       "    <tr>\n",
       "      <th>1</th>\n",
       "      <td>pat_2bb0dfeccae4278dbf399d6428a2573d</td>\n",
       "      <td>2019-04-10</td>\n",
       "      <td>17.0</td>\n",
       "      <td>16.0</td>\n",
       "      <td>2.82</td>\n",
       "      <td>72.0</td>\n",
       "      <td>0.95</td>\n",
       "      <td>1.43</td>\n",
       "      <td>6.4</td>\n",
       "      <td>1.78</td>\n",
       "      <td>6.21</td>\n",
       "      <td>112.9</td>\n",
       "      <td>60.7</td>\n",
       "      <td>NaN</td>\n",
       "      <td>NaN</td>\n",
       "      <td>NaN</td>\n",
       "    </tr>\n",
       "    <tr>\n",
       "      <th>2</th>\n",
       "      <td>pat_2bb0dfeccae4278dbf399d6428a2573d</td>\n",
       "      <td>2019-11-06</td>\n",
       "      <td>15.0</td>\n",
       "      <td>14.0</td>\n",
       "      <td>3.19</td>\n",
       "      <td>57.0</td>\n",
       "      <td>1.06</td>\n",
       "      <td>1.78</td>\n",
       "      <td>8.8</td>\n",
       "      <td>2.56</td>\n",
       "      <td>4.32</td>\n",
       "      <td>117.5</td>\n",
       "      <td>66.8</td>\n",
       "      <td>NaN</td>\n",
       "      <td>NaN</td>\n",
       "      <td>NaN</td>\n",
       "    </tr>\n",
       "    <tr>\n",
       "      <th>0</th>\n",
       "      <td>pat_043aba443d80d048105d8903d2034364</td>\n",
       "      <td>2018-06-05</td>\n",
       "      <td>30.0</td>\n",
       "      <td>29.0</td>\n",
       "      <td>4.78</td>\n",
       "      <td>114.0</td>\n",
       "      <td>1.30</td>\n",
       "      <td>3.28</td>\n",
       "      <td>14.8</td>\n",
       "      <td>1.48</td>\n",
       "      <td>6.67</td>\n",
       "      <td>NaN</td>\n",
       "      <td>NaN</td>\n",
       "      <td>NaN</td>\n",
       "      <td>NaN</td>\n",
       "      <td>NaN</td>\n",
       "    </tr>\n",
       "    <tr>\n",
       "      <th>0</th>\n",
       "      <td>pat_272f3f5730bfc5a361c461b4fde1dbb8</td>\n",
       "      <td>2018-08-15</td>\n",
       "      <td>16.0</td>\n",
       "      <td>24.0</td>\n",
       "      <td>4.25</td>\n",
       "      <td>133.0</td>\n",
       "      <td>1.24</td>\n",
       "      <td>2.22</td>\n",
       "      <td>11.8</td>\n",
       "      <td>1.15</td>\n",
       "      <td>8.29</td>\n",
       "      <td>125.7</td>\n",
       "      <td>79.2</td>\n",
       "      <td>NaN</td>\n",
       "      <td>NaN</td>\n",
       "      <td>NaN</td>\n",
       "    </tr>\n",
       "  </tbody>\n",
       "</table>\n",
       "</div>"
      ],
      "text/plain": [
       "                                   患者编号  检验时间_date   ALT   AST   CHO     CK  \\\n",
       "0  pat_2bb0dfeccae4278dbf399d6428a2573d 2018-08-16  28.0  29.0  3.87   67.0   \n",
       "1  pat_2bb0dfeccae4278dbf399d6428a2573d 2019-04-10  17.0  16.0  2.82   72.0   \n",
       "2  pat_2bb0dfeccae4278dbf399d6428a2573d 2019-11-06  15.0  14.0  3.19   57.0   \n",
       "0  pat_043aba443d80d048105d8903d2034364 2018-06-05  30.0  29.0  4.78  114.0   \n",
       "0  pat_272f3f5730bfc5a361c461b4fde1dbb8 2018-08-15  16.0  24.0  4.25  133.0   \n",
       "\n",
       "   HDL-C  LDL-C  TBIL    TG  Urea  apo-A1  apo-B  CK-MB  BUN  Glu  \n",
       "0   1.10   2.42   8.5  2.89  5.34   119.5   86.4    NaN  NaN  NaN  \n",
       "1   0.95   1.43   6.4  1.78  6.21   112.9   60.7    NaN  NaN  NaN  \n",
       "2   1.06   1.78   8.8  2.56  4.32   117.5   66.8    NaN  NaN  NaN  \n",
       "0   1.30   3.28  14.8  1.48  6.67     NaN    NaN    NaN  NaN  NaN  \n",
       "0   1.24   2.22  11.8  1.15  8.29   125.7   79.2    NaN  NaN  NaN  "
      ]
     },
     "execution_count": 49,
     "metadata": {},
     "output_type": "execute_result"
    }
   ],
   "source": [
    "df_check_1_T.head()"
   ]
  },
  {
   "cell_type": "code",
   "execution_count": null,
   "metadata": {},
   "outputs": [],
   "source": [
    "df_check_1_T.to_csv(project_path+'/data/pre_processed_raw_data/df_2.5.1_人民_检验.csv')"
   ]
  },
  {
   "cell_type": "code",
   "execution_count": 7,
   "metadata": {},
   "outputs": [],
   "source": [
    "df_check_1_T=pd.read_csv(project_path+'/data/pre_processed_raw_data/df_2.5.1_人民_检验.csv')\n",
    "if 'Unnamed: 0' in df_check_1_T.columns:\n",
    "    del df_check_1_T['Unnamed: 0']"
   ]
  },
  {
   "cell_type": "markdown",
   "metadata": {},
   "source": [
    "### 世纪坛医院"
   ]
  },
  {
   "cell_type": "code",
   "execution_count": 50,
   "metadata": {},
   "outputs": [],
   "source": [
    "# 世纪坛医院--检验数据\n",
    "df_check_2 = pd.read_excel(r'./data/raw_data/首都医科大学附属北京世纪坛医院—阿托他汀临床疗效及安全性评价的真实世界研究-住院+门诊-2018.3.23-2020.3.xlsx',\n",
    "                           sheet_name='检验')\n",
    "df_check_2 = df_check_2[:-2]\n",
    "df_check_2 = df_check_2.dropna(how='all',axis=1)"
   ]
  },
  {
   "cell_type": "code",
   "execution_count": 51,
   "metadata": {},
   "outputs": [
    {
     "data": {
      "text/plain": [
       "(36126, 45)"
      ]
     },
     "execution_count": 51,
     "metadata": {},
     "output_type": "execute_result"
    }
   ],
   "source": [
    "df_check_2.shape"
   ]
  },
  {
   "cell_type": "code",
   "execution_count": 52,
   "metadata": {},
   "outputs": [
    {
     "data": {
      "text/plain": [
       "Index(['Unnamed: 0', 'Unnamed: 1', 'patient_SN', '就诊次数（住院）', '就诊时间（门诊）',\n",
       "       '就诊科室（门诊）', '检验时间', '总胆固醇(TC)-静脉血', '天门冬氨酸氨基转移酶(AST)-静脉血',\n",
       "       '丙氨酸氨基转移酶(ALT)-静脉血', '总胆红素(TBIL)-静脉血', '肌酐(Crea)-静脉血', '甘油三酯(TG)-静脉血',\n",
       "       '尿素(Urea)-静脉血(空腹)', '尿素(Urea)-静脉血(空腹)-定性', '尿素(Urea)-静脉血',\n",
       "       '肌酸激酶(CK)-静脉血(空腹)', '肌酸激酶(CK)-静脉血', '肌酸激酶(CK)-静脉血-定性', '葡萄糖(Glu)-末梢血',\n",
       "       '葡萄糖(Glu)-静脉血(2小时)', '甘油三酯(TG)-静脉血(空腹)', '甘油三酯(TG)-静脉血(空腹)-定性',\n",
       "       '甘油三酯(TG)-静脉血-定性', '总胆固醇(TC)-静脉血(空腹)', '总胆固醇(TC)-静脉血(空腹)-定性',\n",
       "       '载脂蛋白B(apoB)-静脉血(空腹)', '载脂蛋白AI(apoAI)-静脉血(空腹)',\n",
       "       '载脂蛋白B(apoB)-静脉血(空腹)-定性', '高密度脂蛋白胆固醇(HDL-C)-静脉血(空腹)',\n",
       "       '低密度脂蛋白胆固醇(LDL-C)-静脉血(空腹)', '低密度脂蛋白胆固醇(LDL-C)-静脉血',\n",
       "       '高密度脂蛋白胆固醇(HDL-C)-静脉血', '载脂蛋白AI(apoAI)-静脉血', '载脂蛋白B(apoB)-静脉血',\n",
       "       '脂蛋白a(LPa)-静脉血', '脂蛋白a(LPa)-静脉血-定性', '尿蛋白定性-24小时尿液-定性', '微量总蛋白-24小时尿液',\n",
       "       '总蛋白(TP)-尿液-定性', '总蛋白(TP)-尿液', '微量白蛋白(mAlb)-尿液', '葡萄糖(Glu)-尿液-定性',\n",
       "       '肌酸激酶(CK)-静脉血(空腹)-定性', 'Unnamed: 67'],\n",
       "      dtype='object')"
      ]
     },
     "execution_count": 52,
     "metadata": {},
     "output_type": "execute_result"
    }
   ],
   "source": [
    "df_check_2.columns"
   ]
  },
  {
   "cell_type": "code",
   "execution_count": 53,
   "metadata": {},
   "outputs": [],
   "source": [
    "# 删除无效列\n",
    "df_check_2 = df_check_2.drop(['Unnamed: 0', 'Unnamed: 1', 'Unnamed: 67','就诊次数（住院）',\n",
    "                              '就诊时间（门诊）', '就诊科室（门诊）'],axis=1)\n",
    "# 删除定性列\n",
    "q_list = [i for i in df_check_2.columns if '定性' in i]\n",
    "df_check_2 = df_check_2.drop(q_list,axis=1)\n",
    "# 修改列名\n",
    "df_check_2 = df_check_2.rename(columns={'patient_SN':'患者编号',\n",
    "                                       '检验时间':'检验时间_date'})\n",
    "df_check_2['检验时间_date'] = df_check_2['检验时间_date'].apply(lambda x: str(x).split(' ')[0])"
   ]
  },
  {
   "cell_type": "code",
   "execution_count": 54,
   "metadata": {},
   "outputs": [],
   "source": [
    "# 删除重复列\n",
    "df_check_2 = df_check_2.drop_duplicates(df_check_2.columns, keep='first')\n",
    "# 删除只有一次的检验\n",
    "df_check_2_count = df_check_2['患者编号'].value_counts().reset_index()\n",
    "df_check_2_count = df_check_2_count[df_check_2_count['患者编号']>1]\n",
    "# 提取剩余的检验\n",
    "df_check_2 = df_check_2[df_check_2.患者编号.isin(df_check_2_count['index'].unique())]"
   ]
  },
  {
   "cell_type": "code",
   "execution_count": 55,
   "metadata": {},
   "outputs": [
    {
     "data": {
      "text/plain": [
       "(32715, 28)"
      ]
     },
     "execution_count": 55,
     "metadata": {},
     "output_type": "execute_result"
    }
   ],
   "source": [
    "df_check_2.shape"
   ]
  },
  {
   "cell_type": "code",
   "execution_count": 56,
   "metadata": {},
   "outputs": [
    {
     "data": {
      "text/html": [
       "<div>\n",
       "<style scoped>\n",
       "    .dataframe tbody tr th:only-of-type {\n",
       "        vertical-align: middle;\n",
       "    }\n",
       "\n",
       "    .dataframe tbody tr th {\n",
       "        vertical-align: top;\n",
       "    }\n",
       "\n",
       "    .dataframe thead th {\n",
       "        text-align: right;\n",
       "    }\n",
       "</style>\n",
       "<table border=\"1\" class=\"dataframe\">\n",
       "  <thead>\n",
       "    <tr style=\"text-align: right;\">\n",
       "      <th></th>\n",
       "      <th>患者编号</th>\n",
       "      <th>检验时间_date</th>\n",
       "      <th>总胆固醇(TC)-静脉血</th>\n",
       "      <th>天门冬氨酸氨基转移酶(AST)-静脉血</th>\n",
       "      <th>丙氨酸氨基转移酶(ALT)-静脉血</th>\n",
       "      <th>总胆红素(TBIL)-静脉血</th>\n",
       "      <th>肌酐(Crea)-静脉血</th>\n",
       "      <th>甘油三酯(TG)-静脉血</th>\n",
       "      <th>尿素(Urea)-静脉血(空腹)</th>\n",
       "      <th>尿素(Urea)-静脉血</th>\n",
       "      <th>...</th>\n",
       "      <th>高密度脂蛋白胆固醇(HDL-C)-静脉血(空腹)</th>\n",
       "      <th>低密度脂蛋白胆固醇(LDL-C)-静脉血(空腹)</th>\n",
       "      <th>低密度脂蛋白胆固醇(LDL-C)-静脉血</th>\n",
       "      <th>高密度脂蛋白胆固醇(HDL-C)-静脉血</th>\n",
       "      <th>载脂蛋白AI(apoAI)-静脉血</th>\n",
       "      <th>载脂蛋白B(apoB)-静脉血</th>\n",
       "      <th>脂蛋白a(LPa)-静脉血</th>\n",
       "      <th>微量总蛋白-24小时尿液</th>\n",
       "      <th>总蛋白(TP)-尿液</th>\n",
       "      <th>微量白蛋白(mAlb)-尿液</th>\n",
       "    </tr>\n",
       "  </thead>\n",
       "  <tbody>\n",
       "    <tr>\n",
       "      <th>2</th>\n",
       "      <td>0006b9e1f7ff71744d8162c0c71b2a95</td>\n",
       "      <td>2018-03-18</td>\n",
       "      <td>NaN</td>\n",
       "      <td>NaN</td>\n",
       "      <td>NaN</td>\n",
       "      <td>NaN</td>\n",
       "      <td>NaN</td>\n",
       "      <td>NaN</td>\n",
       "      <td>NaN</td>\n",
       "      <td>NaN</td>\n",
       "      <td>...</td>\n",
       "      <td>NaN</td>\n",
       "      <td>NaN</td>\n",
       "      <td>NaN</td>\n",
       "      <td>NaN</td>\n",
       "      <td>NaN</td>\n",
       "      <td>NaN</td>\n",
       "      <td>NaN</td>\n",
       "      <td>NaN</td>\n",
       "      <td>NaN</td>\n",
       "      <td>NaN</td>\n",
       "    </tr>\n",
       "    <tr>\n",
       "      <th>3</th>\n",
       "      <td>0006b9e1f7ff71744d8162c0c71b2a95</td>\n",
       "      <td>2018-03-18</td>\n",
       "      <td>NaN</td>\n",
       "      <td>NaN</td>\n",
       "      <td>NaN</td>\n",
       "      <td>NaN</td>\n",
       "      <td>NaN</td>\n",
       "      <td>NaN</td>\n",
       "      <td>13.41</td>\n",
       "      <td>NaN</td>\n",
       "      <td>...</td>\n",
       "      <td>1.17</td>\n",
       "      <td>1.55</td>\n",
       "      <td>NaN</td>\n",
       "      <td>NaN</td>\n",
       "      <td>NaN</td>\n",
       "      <td>NaN</td>\n",
       "      <td>NaN</td>\n",
       "      <td>NaN</td>\n",
       "      <td>NaN</td>\n",
       "      <td>NaN</td>\n",
       "    </tr>\n",
       "    <tr>\n",
       "      <th>4</th>\n",
       "      <td>0006b9e1f7ff71744d8162c0c71b2a95</td>\n",
       "      <td>2018-03-22</td>\n",
       "      <td>NaN</td>\n",
       "      <td>NaN</td>\n",
       "      <td>NaN</td>\n",
       "      <td>NaN</td>\n",
       "      <td>NaN</td>\n",
       "      <td>NaN</td>\n",
       "      <td>11.04</td>\n",
       "      <td>NaN</td>\n",
       "      <td>...</td>\n",
       "      <td>NaN</td>\n",
       "      <td>NaN</td>\n",
       "      <td>NaN</td>\n",
       "      <td>NaN</td>\n",
       "      <td>NaN</td>\n",
       "      <td>NaN</td>\n",
       "      <td>NaN</td>\n",
       "      <td>NaN</td>\n",
       "      <td>NaN</td>\n",
       "      <td>NaN</td>\n",
       "    </tr>\n",
       "    <tr>\n",
       "      <th>5</th>\n",
       "      <td>0006b9e1f7ff71744d8162c0c71b2a95</td>\n",
       "      <td>2018-03-27</td>\n",
       "      <td>NaN</td>\n",
       "      <td>NaN</td>\n",
       "      <td>NaN</td>\n",
       "      <td>NaN</td>\n",
       "      <td>NaN</td>\n",
       "      <td>NaN</td>\n",
       "      <td>9.29</td>\n",
       "      <td>NaN</td>\n",
       "      <td>...</td>\n",
       "      <td>NaN</td>\n",
       "      <td>NaN</td>\n",
       "      <td>NaN</td>\n",
       "      <td>NaN</td>\n",
       "      <td>NaN</td>\n",
       "      <td>NaN</td>\n",
       "      <td>NaN</td>\n",
       "      <td>NaN</td>\n",
       "      <td>NaN</td>\n",
       "      <td>NaN</td>\n",
       "    </tr>\n",
       "    <tr>\n",
       "      <th>6</th>\n",
       "      <td>0006b9e1f7ff71744d8162c0c71b2a95</td>\n",
       "      <td>2018-03-29</td>\n",
       "      <td>NaN</td>\n",
       "      <td>NaN</td>\n",
       "      <td>NaN</td>\n",
       "      <td>NaN</td>\n",
       "      <td>NaN</td>\n",
       "      <td>NaN</td>\n",
       "      <td>NaN</td>\n",
       "      <td>NaN</td>\n",
       "      <td>...</td>\n",
       "      <td>NaN</td>\n",
       "      <td>NaN</td>\n",
       "      <td>NaN</td>\n",
       "      <td>NaN</td>\n",
       "      <td>NaN</td>\n",
       "      <td>NaN</td>\n",
       "      <td>NaN</td>\n",
       "      <td>NaN</td>\n",
       "      <td>NaN</td>\n",
       "      <td>NaN</td>\n",
       "    </tr>\n",
       "  </tbody>\n",
       "</table>\n",
       "<p>5 rows × 28 columns</p>\n",
       "</div>"
      ],
      "text/plain": [
       "                               患者编号   检验时间_date 总胆固醇(TC)-静脉血  \\\n",
       "2  0006b9e1f7ff71744d8162c0c71b2a95  2018-03-18          NaN   \n",
       "3  0006b9e1f7ff71744d8162c0c71b2a95  2018-03-18          NaN   \n",
       "4  0006b9e1f7ff71744d8162c0c71b2a95  2018-03-22          NaN   \n",
       "5  0006b9e1f7ff71744d8162c0c71b2a95  2018-03-27          NaN   \n",
       "6  0006b9e1f7ff71744d8162c0c71b2a95  2018-03-29          NaN   \n",
       "\n",
       "  天门冬氨酸氨基转移酶(AST)-静脉血 丙氨酸氨基转移酶(ALT)-静脉血 总胆红素(TBIL)-静脉血 肌酐(Crea)-静脉血  \\\n",
       "2                 NaN               NaN            NaN          NaN   \n",
       "3                 NaN               NaN            NaN          NaN   \n",
       "4                 NaN               NaN            NaN          NaN   \n",
       "5                 NaN               NaN            NaN          NaN   \n",
       "6                 NaN               NaN            NaN          NaN   \n",
       "\n",
       "  甘油三酯(TG)-静脉血 尿素(Urea)-静脉血(空腹) 尿素(Urea)-静脉血  ... 高密度脂蛋白胆固醇(HDL-C)-静脉血(空腹)  \\\n",
       "2          NaN              NaN          NaN  ...                      NaN   \n",
       "3          NaN            13.41          NaN  ...                     1.17   \n",
       "4          NaN            11.04          NaN  ...                      NaN   \n",
       "5          NaN             9.29          NaN  ...                      NaN   \n",
       "6          NaN              NaN          NaN  ...                      NaN   \n",
       "\n",
       "  低密度脂蛋白胆固醇(LDL-C)-静脉血(空腹) 低密度脂蛋白胆固醇(LDL-C)-静脉血 高密度脂蛋白胆固醇(HDL-C)-静脉血  \\\n",
       "2                      NaN                  NaN                  NaN   \n",
       "3                     1.55                  NaN                  NaN   \n",
       "4                      NaN                  NaN                  NaN   \n",
       "5                      NaN                  NaN                  NaN   \n",
       "6                      NaN                  NaN                  NaN   \n",
       "\n",
       "  载脂蛋白AI(apoAI)-静脉血 载脂蛋白B(apoB)-静脉血 脂蛋白a(LPa)-静脉血 微量总蛋白-24小时尿液 总蛋白(TP)-尿液  \\\n",
       "2               NaN             NaN           NaN          NaN        NaN   \n",
       "3               NaN             NaN           NaN          NaN        NaN   \n",
       "4               NaN             NaN           NaN          NaN        NaN   \n",
       "5               NaN             NaN           NaN          NaN        NaN   \n",
       "6               NaN             NaN           NaN          NaN        NaN   \n",
       "\n",
       "  微量白蛋白(mAlb)-尿液  \n",
       "2            NaN  \n",
       "3            NaN  \n",
       "4            NaN  \n",
       "5            NaN  \n",
       "6            NaN  \n",
       "\n",
       "[5 rows x 28 columns]"
      ]
     },
     "execution_count": 56,
     "metadata": {},
     "output_type": "execute_result"
    }
   ],
   "source": [
    "df_check_2.head()"
   ]
  },
  {
   "cell_type": "code",
   "execution_count": null,
   "metadata": {},
   "outputs": [],
   "source": [
    "df_check_2.to_csv(project_path+'/data/pre_processed_raw_data/df_2.5.2_世纪坛_检验.csv')"
   ]
  },
  {
   "cell_type": "code",
   "execution_count": 8,
   "metadata": {},
   "outputs": [],
   "source": [
    "df_check_2=pd.read_csv(project_path+'/data/pre_processed_raw_data/df_2.5.2_世纪坛_检验.csv')\n",
    "if 'Unnamed: 0' in df_check_2.columns:\n",
    "    del df_check_2['Unnamed: 0']"
   ]
  },
  {
   "cell_type": "markdown",
   "metadata": {},
   "source": [
    "# 数据处理"
   ]
  },
  {
   "cell_type": "code",
   "execution_count": 292,
   "metadata": {},
   "outputs": [
    {
     "data": {
      "text/plain": [
       "'\\n人口统计学特征、现病史和既往病史、药物使用情况、临床症状／体征、实验室检查和功能检查、患者治疗满意度\\n'"
      ]
     },
     "execution_count": 292,
     "metadata": {},
     "output_type": "execute_result"
    }
   ],
   "source": [
    "'''\n",
    "人口统计学特征、现病史和既往病史、药物使用情况、临床症状／体征、实验室检查和功能检查、患者治疗满意度\n",
    "'''"
   ]
  },
  {
   "cell_type": "code",
   "execution_count": 293,
   "metadata": {},
   "outputs": [],
   "source": [
    "df_drug_resuvatin = pd.read_csv(project_path+'/data/processed_data/df_2.1.8.3_计算人民医院_医嘱结束时间.csv')\n",
    "if 'Unnamed: 0' in df_drug_resuvatin.columns:\n",
    "    del df_drug_resuvatin['Unnamed: 0']"
   ]
  },
  {
   "cell_type": "code",
   "execution_count": 294,
   "metadata": {},
   "outputs": [
    {
     "data": {
      "text/plain": [
       "(54471, 17)"
      ]
     },
     "execution_count": 294,
     "metadata": {},
     "output_type": "execute_result"
    }
   ],
   "source": [
    "df_drug_resuvatin.shape"
   ]
  },
  {
   "cell_type": "markdown",
   "metadata": {},
   "source": [
    "## 纳入高血脂、冠心病患者"
   ]
  },
  {
   "cell_type": "code",
   "execution_count": 295,
   "metadata": {},
   "outputs": [
    {
     "data": {
      "text/html": [
       "<div>\n",
       "<style scoped>\n",
       "    .dataframe tbody tr th:only-of-type {\n",
       "        vertical-align: middle;\n",
       "    }\n",
       "\n",
       "    .dataframe tbody tr th {\n",
       "        vertical-align: top;\n",
       "    }\n",
       "\n",
       "    .dataframe thead th {\n",
       "        text-align: right;\n",
       "    }\n",
       "</style>\n",
       "<table border=\"1\" class=\"dataframe\">\n",
       "  <thead>\n",
       "    <tr style=\"text-align: right;\">\n",
       "      <th></th>\n",
       "      <th>data_source</th>\n",
       "      <th>患者编号</th>\n",
       "      <th>药物通用名称</th>\n",
       "      <th>医嘱开始时间</th>\n",
       "      <th>医嘱停止时间</th>\n",
       "      <th>药物规格</th>\n",
       "      <th>药物剂量</th>\n",
       "      <th>药物剂量单位名称</th>\n",
       "      <th>频率名称</th>\n",
       "      <th>开药总数量</th>\n",
       "      <th>开药总数量单位名称</th>\n",
       "      <th>药物剂型</th>\n",
       "      <th>用药时长</th>\n",
       "      <th>resuvatin_brand</th>\n",
       "      <th>日剂量</th>\n",
       "      <th>医嘱开始日期</th>\n",
       "      <th>开药总剂量</th>\n",
       "    </tr>\n",
       "  </thead>\n",
       "  <tbody>\n",
       "    <tr>\n",
       "      <th>0</th>\n",
       "      <td>世纪坛医院</td>\n",
       "      <td>0020640c4052f1dae97fcf39be390e1b</td>\n",
       "      <td>瑞舒伐他汀钙片(10mg/片(ZX))</td>\n",
       "      <td>2019-04-04 15:35:28</td>\n",
       "      <td>2019-04-09 07:42:00</td>\n",
       "      <td>10mg*28片(ZX)</td>\n",
       "      <td>10.0</td>\n",
       "      <td>NaN</td>\n",
       "      <td>1.0</td>\n",
       "      <td>NaN</td>\n",
       "      <td>NaN</td>\n",
       "      <td>NaN</td>\n",
       "      <td>5.0</td>\n",
       "      <td>京新</td>\n",
       "      <td>10.0</td>\n",
       "      <td>2019-04-04</td>\n",
       "      <td>50.0</td>\n",
       "    </tr>\n",
       "  </tbody>\n",
       "</table>\n",
       "</div>"
      ],
      "text/plain": [
       "  data_source                              患者编号               药物通用名称  \\\n",
       "0       世纪坛医院  0020640c4052f1dae97fcf39be390e1b  瑞舒伐他汀钙片(10mg/片(ZX))   \n",
       "\n",
       "                医嘱开始时间               医嘱停止时间          药物规格  药物剂量 药物剂量单位名称  \\\n",
       "0  2019-04-04 15:35:28  2019-04-09 07:42:00  10mg*28片(ZX)  10.0      NaN   \n",
       "\n",
       "   频率名称  开药总数量 开药总数量单位名称 药物剂型  用药时长 resuvatin_brand   日剂量      医嘱开始日期  开药总剂量  \n",
       "0   1.0    NaN       NaN  NaN   5.0              京新  10.0  2019-04-04   50.0  "
      ]
     },
     "execution_count": 295,
     "metadata": {},
     "output_type": "execute_result"
    }
   ],
   "source": [
    "df_drug_resuvatin.head(1)"
   ]
  },
  {
   "cell_type": "code",
   "execution_count": 296,
   "metadata": {},
   "outputs": [],
   "source": [
    "# 高脂血症、冠心病\n",
    "df_diagnose_disease = df_diagnose[df_diagnose['诊断名称'].str.contains('高脂血症|冠心病|冠状动脉粥样硬化性心脏病')]\n",
    "# 删除重复诊断\n",
    "df_diagnose_disease = df_diagnose_disease.drop_duplicates(['患者编号','诊断名称'],keep='first')"
   ]
  },
  {
   "cell_type": "code",
   "execution_count": 297,
   "metadata": {},
   "outputs": [
    {
     "name": "stdout",
     "output_type": "stream",
     "text": [
      "(18322, 5)\n",
      "9598\n"
     ]
    }
   ],
   "source": [
    "print(df_diagnose_disease.shape)\n",
    "print(df_diagnose_disease.患者编号.nunique())"
   ]
  },
  {
   "cell_type": "code",
   "execution_count": 298,
   "metadata": {},
   "outputs": [
    {
     "data": {
      "text/html": [
       "<div>\n",
       "<style scoped>\n",
       "    .dataframe tbody tr th:only-of-type {\n",
       "        vertical-align: middle;\n",
       "    }\n",
       "\n",
       "    .dataframe tbody tr th {\n",
       "        vertical-align: top;\n",
       "    }\n",
       "\n",
       "    .dataframe thead th {\n",
       "        text-align: right;\n",
       "    }\n",
       "</style>\n",
       "<table border=\"1\" class=\"dataframe\">\n",
       "  <thead>\n",
       "    <tr style=\"text-align: right;\">\n",
       "      <th></th>\n",
       "      <th>患者编号</th>\n",
       "      <th>诊断名称</th>\n",
       "      <th>诊断日期</th>\n",
       "      <th>是否主要诊断</th>\n",
       "      <th>诊断类别名称</th>\n",
       "    </tr>\n",
       "  </thead>\n",
       "  <tbody>\n",
       "    <tr>\n",
       "      <th>2</th>\n",
       "      <td>pat_05eab24ef6eb4e0827cd26e1553a0f64</td>\n",
       "      <td>动脉粥样硬化并高脂血症</td>\n",
       "      <td>2018-02-06 13:20:56</td>\n",
       "      <td>是</td>\n",
       "      <td>门诊诊断</td>\n",
       "    </tr>\n",
       "  </tbody>\n",
       "</table>\n",
       "</div>"
      ],
      "text/plain": [
       "                                   患者编号         诊断名称                 诊断日期  \\\n",
       "2  pat_05eab24ef6eb4e0827cd26e1553a0f64  动脉粥样硬化并高脂血症  2018-02-06 13:20:56   \n",
       "\n",
       "  是否主要诊断 诊断类别名称  \n",
       "2      是   门诊诊断  "
      ]
     },
     "execution_count": 298,
     "metadata": {},
     "output_type": "execute_result"
    }
   ],
   "source": [
    "df_diagnose_disease.head(1)"
   ]
  },
  {
   "cell_type": "code",
   "execution_count": 299,
   "metadata": {},
   "outputs": [],
   "source": [
    "df_diagnose_disease.to_csv(project_path+'/data/processed_data/df_temp_冠心病和高脂血病诊断.csv')"
   ]
  },
  {
   "cell_type": "code",
   "execution_count": 300,
   "metadata": {},
   "outputs": [],
   "source": [
    "# # 合并同一患者的不同诊断\n",
    "# df_diagnose_disease = df_diagnose_disease.reset_index(drop=True)\n",
    "# temp_list = []\n",
    "# for i in df_diagnose_disease.患者编号.unique():\n",
    "#     temp = df_diagnose_disease[df_diagnose_disease['患者编号']==i][['患者编号','诊断名称']]\n",
    "#     if temp.shape[0]>1:\n",
    "#         temp=temp.reset_index(drop=True)\n",
    "#         temp_1=pd.DataFrame(data={'患者编号':[temp.loc[0,'患者编号']],\n",
    "#                              '诊断名称':[';'.join(temp['诊断名称'])]})\n",
    "#         temp_list.append(temp)\n",
    "#     else:\n",
    "#         temp_list.append(temp)\n",
    "# df_diagnose_disease=pd.concat(temp_list,axis=0)\n",
    "# del temp_list"
   ]
  },
  {
   "cell_type": "code",
   "execution_count": 301,
   "metadata": {},
   "outputs": [
    {
     "data": {
      "text/plain": [
       "(54471, 17)"
      ]
     },
     "execution_count": 301,
     "metadata": {},
     "output_type": "execute_result"
    }
   ],
   "source": [
    "df_drug_resuvatin.shape"
   ]
  },
  {
   "cell_type": "code",
   "execution_count": 302,
   "metadata": {},
   "outputs": [],
   "source": [
    "# 纳入高脂血症、冠心病\n",
    "df_drug_resuvatin_disease = df_drug_resuvatin[df_drug_resuvatin.患者编号.isin(df_diagnose_disease.患者编号.unique())]\n",
    "# 删除重复数据\n",
    "df_drug_resuvatin_disease = df_drug_resuvatin_disease.drop_duplicates(df_drug_resuvatin_disease.columns,keep='first')"
   ]
  },
  {
   "cell_type": "code",
   "execution_count": 303,
   "metadata": {},
   "outputs": [
    {
     "name": "stdout",
     "output_type": "stream",
     "text": [
      "(51776, 17)\n",
      "9598\n"
     ]
    }
   ],
   "source": [
    "print(df_drug_resuvatin_disease.shape)\n",
    "print(df_drug_resuvatin_disease.患者编号.nunique())"
   ]
  },
  {
   "cell_type": "code",
   "execution_count": 304,
   "metadata": {},
   "outputs": [
    {
     "data": {
      "text/html": [
       "<div>\n",
       "<style scoped>\n",
       "    .dataframe tbody tr th:only-of-type {\n",
       "        vertical-align: middle;\n",
       "    }\n",
       "\n",
       "    .dataframe tbody tr th {\n",
       "        vertical-align: top;\n",
       "    }\n",
       "\n",
       "    .dataframe thead th {\n",
       "        text-align: right;\n",
       "    }\n",
       "</style>\n",
       "<table border=\"1\" class=\"dataframe\">\n",
       "  <thead>\n",
       "    <tr style=\"text-align: right;\">\n",
       "      <th></th>\n",
       "      <th>data_source</th>\n",
       "      <th>患者编号</th>\n",
       "      <th>药物通用名称</th>\n",
       "      <th>医嘱开始时间</th>\n",
       "      <th>医嘱停止时间</th>\n",
       "      <th>药物规格</th>\n",
       "      <th>药物剂量</th>\n",
       "      <th>药物剂量单位名称</th>\n",
       "      <th>频率名称</th>\n",
       "      <th>开药总数量</th>\n",
       "      <th>开药总数量单位名称</th>\n",
       "      <th>药物剂型</th>\n",
       "      <th>用药时长</th>\n",
       "      <th>resuvatin_brand</th>\n",
       "      <th>日剂量</th>\n",
       "      <th>医嘱开始日期</th>\n",
       "      <th>开药总剂量</th>\n",
       "    </tr>\n",
       "  </thead>\n",
       "  <tbody>\n",
       "    <tr>\n",
       "      <th>0</th>\n",
       "      <td>世纪坛医院</td>\n",
       "      <td>0020640c4052f1dae97fcf39be390e1b</td>\n",
       "      <td>瑞舒伐他汀钙片(10mg/片(ZX))</td>\n",
       "      <td>2019-04-04 15:35:28</td>\n",
       "      <td>2019-04-09 07:42:00</td>\n",
       "      <td>10mg*28片(ZX)</td>\n",
       "      <td>10.0</td>\n",
       "      <td>NaN</td>\n",
       "      <td>1.0</td>\n",
       "      <td>NaN</td>\n",
       "      <td>NaN</td>\n",
       "      <td>NaN</td>\n",
       "      <td>5.0</td>\n",
       "      <td>京新</td>\n",
       "      <td>10.0</td>\n",
       "      <td>2019-04-04</td>\n",
       "      <td>50.0</td>\n",
       "    </tr>\n",
       "  </tbody>\n",
       "</table>\n",
       "</div>"
      ],
      "text/plain": [
       "  data_source                              患者编号               药物通用名称  \\\n",
       "0       世纪坛医院  0020640c4052f1dae97fcf39be390e1b  瑞舒伐他汀钙片(10mg/片(ZX))   \n",
       "\n",
       "                医嘱开始时间               医嘱停止时间          药物规格  药物剂量 药物剂量单位名称  \\\n",
       "0  2019-04-04 15:35:28  2019-04-09 07:42:00  10mg*28片(ZX)  10.0      NaN   \n",
       "\n",
       "   频率名称  开药总数量 开药总数量单位名称 药物剂型  用药时长 resuvatin_brand   日剂量      医嘱开始日期  开药总剂量  \n",
       "0   1.0    NaN       NaN  NaN   5.0              京新  10.0  2019-04-04   50.0  "
      ]
     },
     "execution_count": 304,
     "metadata": {},
     "output_type": "execute_result"
    }
   ],
   "source": [
    "df_drug_resuvatin_disease.head(1)"
   ]
  },
  {
   "cell_type": "markdown",
   "metadata": {},
   "source": [
    "### 冠心病标签"
   ]
  },
  {
   "cell_type": "code",
   "execution_count": 305,
   "metadata": {},
   "outputs": [],
   "source": [
    "# 提取冠心病\n",
    "df_disease_CHD = df_diagnose_disease[df_diagnose_disease.诊断名称.str.contains('冠心病|冠状动脉粥样硬化性心脏病')]\n",
    "df_drug_resuvatin_disease = pd.merge(df_drug_resuvatin_disease, df_disease_CHD[['患者编号','诊断名称']], how='left', on='患者编号')"
   ]
  },
  {
   "cell_type": "code",
   "execution_count": 306,
   "metadata": {},
   "outputs": [],
   "source": [
    "# 打冠心病标签\n",
    "df_drug_resuvatin_disease = df_drug_resuvatin_disease.rename(columns={'诊断名称':'冠心病'})\n",
    "df_drug_resuvatin_disease['冠心病'] = df_drug_resuvatin_disease['冠心病'].apply(lambda x: 0 if pd.isnull(x) else 1)\n",
    "# 删除相同诊断造成的重复\n",
    "df_drug_resuvatin_disease =df_drug_resuvatin_disease.drop_duplicates(df_drug_resuvatin_disease.columns,keep='first')"
   ]
  },
  {
   "cell_type": "code",
   "execution_count": 307,
   "metadata": {},
   "outputs": [
    {
     "data": {
      "text/plain": [
       "1    32904\n",
       "0    18872\n",
       "Name: 冠心病, dtype: int64"
      ]
     },
     "execution_count": 307,
     "metadata": {},
     "output_type": "execute_result"
    }
   ],
   "source": [
    "df_drug_resuvatin_disease.冠心病.value_counts()"
   ]
  },
  {
   "cell_type": "code",
   "execution_count": 308,
   "metadata": {},
   "outputs": [
    {
     "data": {
      "text/html": [
       "<div>\n",
       "<style scoped>\n",
       "    .dataframe tbody tr th:only-of-type {\n",
       "        vertical-align: middle;\n",
       "    }\n",
       "\n",
       "    .dataframe tbody tr th {\n",
       "        vertical-align: top;\n",
       "    }\n",
       "\n",
       "    .dataframe thead th {\n",
       "        text-align: right;\n",
       "    }\n",
       "</style>\n",
       "<table border=\"1\" class=\"dataframe\">\n",
       "  <thead>\n",
       "    <tr style=\"text-align: right;\">\n",
       "      <th></th>\n",
       "      <th>data_source</th>\n",
       "      <th>患者编号</th>\n",
       "      <th>药物通用名称</th>\n",
       "      <th>医嘱开始时间</th>\n",
       "      <th>医嘱停止时间</th>\n",
       "      <th>药物规格</th>\n",
       "      <th>药物剂量</th>\n",
       "      <th>药物剂量单位名称</th>\n",
       "      <th>频率名称</th>\n",
       "      <th>开药总数量</th>\n",
       "      <th>开药总数量单位名称</th>\n",
       "      <th>药物剂型</th>\n",
       "      <th>用药时长</th>\n",
       "      <th>resuvatin_brand</th>\n",
       "      <th>日剂量</th>\n",
       "      <th>医嘱开始日期</th>\n",
       "      <th>开药总剂量</th>\n",
       "      <th>冠心病</th>\n",
       "    </tr>\n",
       "  </thead>\n",
       "  <tbody>\n",
       "    <tr>\n",
       "      <th>0</th>\n",
       "      <td>世纪坛医院</td>\n",
       "      <td>0020640c4052f1dae97fcf39be390e1b</td>\n",
       "      <td>瑞舒伐他汀钙片(10mg/片(ZX))</td>\n",
       "      <td>2019-04-04 15:35:28</td>\n",
       "      <td>2019-04-09 07:42:00</td>\n",
       "      <td>10mg*28片(ZX)</td>\n",
       "      <td>10.0</td>\n",
       "      <td>NaN</td>\n",
       "      <td>1.0</td>\n",
       "      <td>NaN</td>\n",
       "      <td>NaN</td>\n",
       "      <td>NaN</td>\n",
       "      <td>5.0</td>\n",
       "      <td>京新</td>\n",
       "      <td>10.0</td>\n",
       "      <td>2019-04-04</td>\n",
       "      <td>50.0</td>\n",
       "      <td>1</td>\n",
       "    </tr>\n",
       "  </tbody>\n",
       "</table>\n",
       "</div>"
      ],
      "text/plain": [
       "  data_source                              患者编号               药物通用名称  \\\n",
       "0       世纪坛医院  0020640c4052f1dae97fcf39be390e1b  瑞舒伐他汀钙片(10mg/片(ZX))   \n",
       "\n",
       "                医嘱开始时间               医嘱停止时间          药物规格  药物剂量 药物剂量单位名称  \\\n",
       "0  2019-04-04 15:35:28  2019-04-09 07:42:00  10mg*28片(ZX)  10.0      NaN   \n",
       "\n",
       "   频率名称  开药总数量 开药总数量单位名称 药物剂型  用药时长 resuvatin_brand   日剂量      医嘱开始日期  开药总剂量  \\\n",
       "0   1.0    NaN       NaN  NaN   5.0              京新  10.0  2019-04-04   50.0   \n",
       "\n",
       "   冠心病  \n",
       "0    1  "
      ]
     },
     "execution_count": 308,
     "metadata": {},
     "output_type": "execute_result"
    }
   ],
   "source": [
    "df_drug_resuvatin_disease.head(1)"
   ]
  },
  {
   "cell_type": "markdown",
   "metadata": {},
   "source": [
    "### 高脂血病标签"
   ]
  },
  {
   "cell_type": "code",
   "execution_count": 309,
   "metadata": {},
   "outputs": [],
   "source": [
    "# 打高脂血症标签\n",
    "df_disease_HLP = df_diagnose_disease[df_diagnose_disease.诊断名称.str.contains('高脂血症')]\n",
    "df_drug_resuvatin_disease = pd.merge(df_drug_resuvatin_disease, df_disease_HLP[['患者编号','诊断名称']], how='left', on='患者编号') "
   ]
  },
  {
   "cell_type": "code",
   "execution_count": 310,
   "metadata": {},
   "outputs": [],
   "source": [
    "df_drug_resuvatin_disease = df_drug_resuvatin_disease.rename(columns={'诊断名称':'高脂血症'})\n",
    "df_drug_resuvatin_disease['高脂血症'] = df_drug_resuvatin_disease['高脂血症'].apply(lambda x: 0 if pd.isnull(x) else 1)\n",
    "# 删除相同诊断造成的重复\n",
    "df_drug_resuvatin_disease =df_drug_resuvatin_disease.drop_duplicates(df_drug_resuvatin_disease.columns,keep='first')"
   ]
  },
  {
   "cell_type": "code",
   "execution_count": 311,
   "metadata": {},
   "outputs": [
    {
     "data": {
      "text/plain": [
       "1    50585\n",
       "0     1191\n",
       "Name: 高脂血症, dtype: int64"
      ]
     },
     "execution_count": 311,
     "metadata": {},
     "output_type": "execute_result"
    }
   ],
   "source": [
    "df_drug_resuvatin_disease.高脂血症.value_counts()"
   ]
  },
  {
   "cell_type": "code",
   "execution_count": 312,
   "metadata": {},
   "outputs": [
    {
     "data": {
      "text/html": [
       "<div>\n",
       "<style scoped>\n",
       "    .dataframe tbody tr th:only-of-type {\n",
       "        vertical-align: middle;\n",
       "    }\n",
       "\n",
       "    .dataframe tbody tr th {\n",
       "        vertical-align: top;\n",
       "    }\n",
       "\n",
       "    .dataframe thead th {\n",
       "        text-align: right;\n",
       "    }\n",
       "</style>\n",
       "<table border=\"1\" class=\"dataframe\">\n",
       "  <thead>\n",
       "    <tr style=\"text-align: right;\">\n",
       "      <th></th>\n",
       "      <th>data_source</th>\n",
       "      <th>患者编号</th>\n",
       "      <th>药物通用名称</th>\n",
       "      <th>医嘱开始时间</th>\n",
       "      <th>医嘱停止时间</th>\n",
       "      <th>药物规格</th>\n",
       "      <th>药物剂量</th>\n",
       "      <th>药物剂量单位名称</th>\n",
       "      <th>频率名称</th>\n",
       "      <th>开药总数量</th>\n",
       "      <th>开药总数量单位名称</th>\n",
       "      <th>药物剂型</th>\n",
       "      <th>用药时长</th>\n",
       "      <th>resuvatin_brand</th>\n",
       "      <th>日剂量</th>\n",
       "      <th>医嘱开始日期</th>\n",
       "      <th>开药总剂量</th>\n",
       "      <th>冠心病</th>\n",
       "      <th>高脂血症</th>\n",
       "    </tr>\n",
       "  </thead>\n",
       "  <tbody>\n",
       "    <tr>\n",
       "      <th>0</th>\n",
       "      <td>世纪坛医院</td>\n",
       "      <td>0020640c4052f1dae97fcf39be390e1b</td>\n",
       "      <td>瑞舒伐他汀钙片(10mg/片(ZX))</td>\n",
       "      <td>2019-04-04 15:35:28</td>\n",
       "      <td>2019-04-09 07:42:00</td>\n",
       "      <td>10mg*28片(ZX)</td>\n",
       "      <td>10.0</td>\n",
       "      <td>NaN</td>\n",
       "      <td>1.0</td>\n",
       "      <td>NaN</td>\n",
       "      <td>NaN</td>\n",
       "      <td>NaN</td>\n",
       "      <td>5.0</td>\n",
       "      <td>京新</td>\n",
       "      <td>10.0</td>\n",
       "      <td>2019-04-04</td>\n",
       "      <td>50.0</td>\n",
       "      <td>1</td>\n",
       "      <td>1</td>\n",
       "    </tr>\n",
       "  </tbody>\n",
       "</table>\n",
       "</div>"
      ],
      "text/plain": [
       "  data_source                              患者编号               药物通用名称  \\\n",
       "0       世纪坛医院  0020640c4052f1dae97fcf39be390e1b  瑞舒伐他汀钙片(10mg/片(ZX))   \n",
       "\n",
       "                医嘱开始时间               医嘱停止时间          药物规格  药物剂量 药物剂量单位名称  \\\n",
       "0  2019-04-04 15:35:28  2019-04-09 07:42:00  10mg*28片(ZX)  10.0      NaN   \n",
       "\n",
       "   频率名称  开药总数量 开药总数量单位名称 药物剂型  用药时长 resuvatin_brand   日剂量      医嘱开始日期  开药总剂量  \\\n",
       "0   1.0    NaN       NaN  NaN   5.0              京新  10.0  2019-04-04   50.0   \n",
       "\n",
       "   冠心病  高脂血症  \n",
       "0    1     1  "
      ]
     },
     "execution_count": 312,
     "metadata": {},
     "output_type": "execute_result"
    }
   ],
   "source": [
    "df_drug_resuvatin_disease.head(1)"
   ]
  },
  {
   "cell_type": "markdown",
   "metadata": {},
   "source": [
    "### 冠心病&高脂血病-标签"
   ]
  },
  {
   "cell_type": "code",
   "execution_count": 313,
   "metadata": {},
   "outputs": [],
   "source": [
    "# 同时发生冠心病和高血脂病\n",
    "df_drug_resuvatin_disease['冠心病_高脂血症']=df_drug_resuvatin_disease.apply(lambda x: 1 if (x['冠心病']==1) & (x['高脂血症']==1) \n",
    "                                                                      else 0,axis=1)"
   ]
  },
  {
   "cell_type": "code",
   "execution_count": 314,
   "metadata": {},
   "outputs": [
    {
     "data": {
      "text/plain": [
       "(51776, 20)"
      ]
     },
     "execution_count": 314,
     "metadata": {},
     "output_type": "execute_result"
    }
   ],
   "source": [
    "df_drug_resuvatin_disease.shape"
   ]
  },
  {
   "cell_type": "code",
   "execution_count": 315,
   "metadata": {},
   "outputs": [],
   "source": [
    "df_drug_resuvatin_disease.to_csv(project_path+'/data/processed_data/df_3.1.3_打冠心病和高脂血病标签.csv')"
   ]
  },
  {
   "cell_type": "markdown",
   "metadata": {},
   "source": [
    "## 排除癌症患者"
   ]
  },
  {
   "cell_type": "code",
   "execution_count": 316,
   "metadata": {},
   "outputs": [],
   "source": [
    "# 癌症患者\n",
    "df_diagnose_cancer = df_diagnose[df_diagnose['诊断名称'].str.contains('癌|恶性肿瘤')]\n",
    "# 排除癌症患者\n",
    "df_drug_resuvatin_cancer = df_drug_resuvatin_disease[~ df_drug_resuvatin_disease.患者编号.isin(df_diagnose_cancer.患者编号.unique())]"
   ]
  },
  {
   "cell_type": "code",
   "execution_count": 317,
   "metadata": {},
   "outputs": [
    {
     "data": {
      "text/plain": [
       "(51151, 20)"
      ]
     },
     "execution_count": 317,
     "metadata": {},
     "output_type": "execute_result"
    }
   ],
   "source": [
    "df_drug_resuvatin_cancer.shape"
   ]
  },
  {
   "cell_type": "code",
   "execution_count": 318,
   "metadata": {},
   "outputs": [],
   "source": [
    "df_drug_resuvatin_cancer.to_csv(project_path+'/data/processed_data/df_3.2_排除癌症患者.csv')"
   ]
  },
  {
   "cell_type": "code",
   "execution_count": 74,
   "metadata": {},
   "outputs": [],
   "source": [
    "df_drug_resuvatin_cancer=pd.read_csv(project_path+'/data/processed_data/df_3.2_排除癌症患者.csv')\n",
    "if 'Unnamed: 0' in df_drug_resuvatin_cancer.columns:\n",
    "    del df_drug_resuvatin_cancer['Unnamed: 0']"
   ]
  },
  {
   "cell_type": "markdown",
   "metadata": {},
   "source": [
    "## 用药数据纳排"
   ]
  },
  {
   "cell_type": "code",
   "execution_count": 75,
   "metadata": {},
   "outputs": [
    {
     "data": {
      "text/plain": [
       "'\\n基线期：未处方过他汀类药物\\n研究期：仅京新、可定，未换药\\n平均日剂量：5-20mg\\n药物持有率：>=50%\\n'"
      ]
     },
     "execution_count": 75,
     "metadata": {},
     "output_type": "execute_result"
    }
   ],
   "source": [
    "'''\n",
    "基线期：未处方过他汀类药物\n",
    "研究期：仅京新、可定，未换药\n",
    "平均日剂量：5-20mg\n",
    "药物持有率：>=50%\n",
    "'''"
   ]
  },
  {
   "cell_type": "markdown",
   "metadata": {},
   "source": [
    "### 基线期-研究期未换药"
   ]
  },
  {
   "cell_type": "code",
   "execution_count": 76,
   "metadata": {},
   "outputs": [
    {
     "data": {
      "text/plain": [
       "'\\n基线期(前3月)：未处方过他汀类药物\\n研究期(1.5-4.5月)：仅京新、可定，未换药\\n'"
      ]
     },
     "execution_count": 76,
     "metadata": {},
     "output_type": "execute_result"
    }
   ],
   "source": [
    "'''\n",
    "基线期(前3月)：未处方过他汀类药物\n",
    "研究期(1.5-4.5月)：仅京新、可定，未换药\n",
    "'''"
   ]
  },
  {
   "cell_type": "code",
   "execution_count": 77,
   "metadata": {},
   "outputs": [],
   "source": [
    "df_drug_vatin_other=pd.read_csv(project_path + '/data/processed_data/df_2.3.4_其它他汀用药.csv')\n",
    "if 'Unnamed: 0' in df_drug_vatin_other.columns:\n",
    "    del df_drug_vatin_other['Unnamed: 0']"
   ]
  },
  {
   "cell_type": "code",
   "execution_count": 78,
   "metadata": {},
   "outputs": [
    {
     "data": {
      "text/plain": [
       "(275612, 13)"
      ]
     },
     "execution_count": 78,
     "metadata": {},
     "output_type": "execute_result"
    }
   ],
   "source": [
    "df_drug_vatin_other.shape"
   ]
  },
  {
   "cell_type": "code",
   "execution_count": 79,
   "metadata": {},
   "outputs": [
    {
     "data": {
      "text/plain": [
       "Index(['data_source', '患者编号', '药物通用名称', '医嘱开始时间', '医嘱停止时间', '药物规格', '药物剂量',\n",
       "       '药物剂量单位名称', '频率名称', '开药总数量', '开药总数量单位名称', '药物剂型', '用药时长'],\n",
       "      dtype='object')"
      ]
     },
     "execution_count": 79,
     "metadata": {},
     "output_type": "execute_result"
    }
   ],
   "source": [
    "df_drug_vatin_other.columns"
   ]
  },
  {
   "cell_type": "code",
   "execution_count": 80,
   "metadata": {},
   "outputs": [
    {
     "data": {
      "text/plain": [
       "9498"
      ]
     },
     "execution_count": 80,
     "metadata": {},
     "output_type": "execute_result"
    }
   ],
   "source": [
    "df_drug_resuvatin_cancer.患者编号.nunique()"
   ]
  },
  {
   "cell_type": "code",
   "execution_count": 87,
   "metadata": {
    "scrolled": true
   },
   "outputs": [
    {
     "name": "stdout",
     "output_type": "stream",
     "text": [
      "1\n",
      "2\n",
      "3\n",
      "4\n",
      "5\n",
      "6\n",
      "7\n",
      "8\n",
      "9\n",
      "10\n",
      "11\n",
      "12\n",
      "13\n",
      "14\n",
      "15\n",
      "16\n",
      "17\n",
      "18\n",
      "19\n",
      "20\n",
      "21\n",
      "22\n",
      "23\n",
      "24\n",
      "25\n",
      "26\n",
      "27\n",
      "28\n",
      "29\n",
      "30\n",
      "31\n",
      "32\n",
      "33\n",
      "34\n",
      "35\n",
      "36\n",
      "37\n",
      "38\n",
      "39\n",
      "40\n",
      "41\n",
      "42\n",
      "43\n",
      "44\n",
      "45\n",
      "46\n",
      "47\n",
      "48\n",
      "49\n",
      "50\n",
      "51\n",
      "52\n",
      "53\n",
      "54\n",
      "55\n",
      "56\n",
      "57\n",
      "58\n",
      "59\n",
      "60\n",
      "61\n",
      "62\n",
      "63\n",
      "64\n",
      "65\n",
      "66\n",
      "67\n",
      "68\n",
      "69\n",
      "70\n",
      "71\n",
      "72\n",
      "73\n",
      "74\n",
      "75\n",
      "76\n",
      "77\n",
      "78\n",
      "79\n",
      "80\n",
      "81\n",
      "82\n",
      "83\n",
      "84\n",
      "85\n",
      "86\n",
      "87\n",
      "88\n",
      "89\n",
      "90\n",
      "91\n",
      "92\n",
      "93\n",
      "94\n",
      "95\n",
      "96\n",
      "97\n",
      "98\n",
      "99\n",
      "100\n",
      "101\n",
      "102\n",
      "103\n",
      "104\n",
      "105\n",
      "106\n",
      "107\n",
      "108\n",
      "109\n",
      "110\n",
      "111\n",
      "112\n",
      "113\n",
      "114\n",
      "115\n",
      "116\n",
      "117\n",
      "118\n",
      "119\n",
      "120\n",
      "121\n",
      "122\n",
      "123\n",
      "124\n",
      "125\n",
      "126\n",
      "127\n",
      "128\n",
      "129\n",
      "130\n",
      "131\n",
      "132\n",
      "133\n",
      "134\n",
      "135\n",
      "136\n",
      "137\n",
      "138\n",
      "139\n",
      "140\n",
      "141\n",
      "142\n",
      "143\n",
      "144\n",
      "145\n",
      "146\n",
      "147\n",
      "148\n",
      "149\n",
      "150\n",
      "151\n",
      "152\n",
      "153\n",
      "154\n",
      "155\n",
      "156\n",
      "157\n",
      "158\n",
      "159\n",
      "160\n",
      "161\n",
      "162\n",
      "163\n",
      "164\n",
      "165\n",
      "166\n",
      "167\n",
      "168\n",
      "169\n",
      "170\n",
      "171\n",
      "172\n",
      "173\n",
      "174\n",
      "175\n",
      "176\n",
      "177\n",
      "178\n",
      "179\n",
      "180\n",
      "181\n",
      "182\n",
      "183\n",
      "184\n",
      "185\n",
      "186\n",
      "187\n",
      "188\n",
      "189\n",
      "190\n",
      "191\n",
      "192\n",
      "193\n",
      "194\n",
      "195\n",
      "196\n",
      "197\n",
      "198\n",
      "199\n",
      "200\n",
      "201\n",
      "202\n",
      "203\n",
      "204\n",
      "205\n",
      "206\n",
      "207\n",
      "208\n",
      "209\n",
      "210\n",
      "211\n",
      "212\n",
      "213\n",
      "214\n",
      "215\n",
      "216\n",
      "217\n",
      "218\n",
      "219\n",
      "220\n",
      "221\n",
      "222\n",
      "223\n",
      "224\n",
      "225\n",
      "226\n",
      "227\n",
      "228\n",
      "229\n",
      "230\n",
      "231\n",
      "232\n",
      "233\n",
      "234\n",
      "235\n",
      "236\n",
      "237\n",
      "238\n",
      "239\n",
      "240\n",
      "241\n",
      "242\n",
      "243\n",
      "244\n",
      "245\n",
      "246\n",
      "247\n",
      "248\n",
      "249\n",
      "250\n",
      "251\n",
      "252\n",
      "253\n",
      "254\n",
      "255\n",
      "256\n",
      "257\n",
      "258\n",
      "259\n",
      "260\n",
      "261\n",
      "262\n",
      "263\n",
      "264\n",
      "265\n",
      "266\n",
      "267\n",
      "268\n",
      "269\n",
      "270\n",
      "271\n",
      "272\n",
      "273\n",
      "274\n",
      "275\n",
      "276\n",
      "277\n",
      "278\n",
      "279\n",
      "280\n",
      "281\n",
      "282\n",
      "283\n",
      "284\n",
      "285\n",
      "286\n",
      "287\n",
      "288\n",
      "289\n",
      "290\n",
      "291\n",
      "292\n",
      "293\n",
      "294\n",
      "295\n",
      "296\n",
      "297\n",
      "298\n",
      "299\n",
      "300\n",
      "301\n",
      "302\n",
      "303\n",
      "304\n",
      "305\n",
      "306\n",
      "307\n",
      "308\n",
      "309\n",
      "310\n",
      "311\n",
      "312\n",
      "313\n",
      "314\n",
      "315\n",
      "316\n",
      "317\n",
      "318\n",
      "319\n",
      "320\n",
      "321\n",
      "322\n",
      "323\n",
      "324\n",
      "325\n",
      "326\n",
      "327\n",
      "328\n",
      "329\n",
      "330\n",
      "331\n",
      "332\n",
      "333\n",
      "334\n",
      "335\n",
      "336\n",
      "337\n",
      "338\n",
      "339\n",
      "340\n",
      "341\n",
      "342\n",
      "343\n",
      "344\n",
      "345\n",
      "346\n",
      "347\n",
      "348\n",
      "349\n",
      "350\n",
      "351\n",
      "352\n",
      "353\n",
      "354\n",
      "355\n",
      "356\n",
      "357\n",
      "358\n",
      "359\n",
      "360\n",
      "361\n",
      "362\n",
      "363\n",
      "364\n",
      "365\n",
      "366\n",
      "367\n",
      "368\n",
      "369\n",
      "370\n",
      "371\n",
      "372\n",
      "373\n",
      "374\n",
      "375\n",
      "376\n",
      "377\n",
      "378\n",
      "379\n",
      "380\n",
      "381\n",
      "382\n",
      "383\n",
      "384\n",
      "385\n",
      "386\n",
      "387\n",
      "388\n",
      "389\n",
      "390\n",
      "391\n",
      "392\n",
      "393\n",
      "394\n",
      "395\n",
      "396\n",
      "397\n",
      "398\n",
      "399\n",
      "400\n",
      "401\n",
      "402\n",
      "403\n",
      "404\n",
      "405\n",
      "406\n",
      "407\n",
      "408\n",
      "409\n",
      "410\n",
      "411\n",
      "412\n",
      "413\n",
      "414\n",
      "415\n",
      "416\n",
      "417\n",
      "418\n",
      "419\n",
      "420\n",
      "421\n",
      "422\n",
      "423\n",
      "424\n",
      "425\n",
      "426\n",
      "427\n",
      "428\n",
      "429\n",
      "430\n",
      "431\n",
      "432\n",
      "433\n",
      "434\n",
      "435\n",
      "436\n",
      "437\n",
      "438\n",
      "439\n",
      "440\n",
      "441\n",
      "442\n",
      "443\n",
      "444\n",
      "445\n",
      "446\n",
      "447\n",
      "448\n",
      "449\n",
      "450\n",
      "451\n",
      "452\n",
      "453\n",
      "454\n",
      "455\n",
      "456\n",
      "457\n",
      "458\n",
      "459\n",
      "460\n",
      "461\n",
      "462\n",
      "463\n",
      "464\n",
      "465\n",
      "466\n",
      "467\n",
      "468\n",
      "469\n",
      "470\n",
      "471\n",
      "472\n",
      "473\n",
      "474\n",
      "475\n",
      "476\n",
      "477\n",
      "478\n",
      "479\n",
      "480\n",
      "481\n",
      "482\n",
      "483\n",
      "484\n",
      "485\n",
      "486\n",
      "487\n",
      "488\n",
      "489\n",
      "490\n",
      "491\n",
      "492\n",
      "493\n",
      "494\n",
      "495\n",
      "496\n",
      "497\n",
      "498\n",
      "499\n",
      "500\n",
      "501\n",
      "502\n",
      "503\n",
      "504\n",
      "505\n",
      "506\n",
      "507\n",
      "508\n",
      "509\n",
      "510\n",
      "511\n",
      "512\n",
      "513\n",
      "514\n",
      "515\n",
      "516\n",
      "517\n",
      "518\n",
      "519\n",
      "520\n",
      "521\n",
      "522\n",
      "523\n",
      "524\n",
      "525\n",
      "526\n",
      "527\n",
      "528\n",
      "529\n",
      "530\n",
      "531\n",
      "532\n",
      "533\n",
      "534\n",
      "535\n",
      "536\n",
      "537\n",
      "538\n",
      "539\n",
      "540\n",
      "541\n",
      "542\n",
      "543\n",
      "544\n",
      "545\n",
      "546\n",
      "547\n",
      "548\n",
      "549\n",
      "550\n",
      "551\n",
      "552\n",
      "553\n",
      "554\n",
      "555\n",
      "556\n",
      "557\n",
      "558\n",
      "559\n",
      "560\n",
      "561\n",
      "562\n",
      "563\n",
      "564\n",
      "565\n",
      "566\n",
      "567\n",
      "568\n",
      "569\n",
      "570\n",
      "571\n",
      "572\n",
      "573\n",
      "574\n",
      "575\n",
      "576\n",
      "577\n",
      "578\n",
      "579\n",
      "580\n",
      "581\n",
      "582\n",
      "583\n",
      "584\n",
      "585\n",
      "586\n",
      "587\n",
      "588\n",
      "589\n",
      "590\n",
      "591\n",
      "592\n",
      "593\n",
      "594\n",
      "595\n",
      "596\n",
      "597\n",
      "598\n",
      "599\n",
      "600\n",
      "601\n",
      "602\n",
      "603\n",
      "604\n",
      "605\n",
      "606\n",
      "607\n",
      "608\n",
      "609\n",
      "610\n",
      "611\n",
      "612\n",
      "613\n",
      "614\n",
      "615\n",
      "616\n",
      "617\n",
      "618\n",
      "619\n",
      "620\n",
      "621\n",
      "622\n",
      "623\n",
      "624\n",
      "625\n",
      "626\n",
      "627\n",
      "628\n",
      "629\n",
      "630\n",
      "631\n",
      "632\n",
      "633\n",
      "634\n",
      "635\n",
      "636\n",
      "637\n",
      "638\n",
      "639\n",
      "640\n",
      "641\n",
      "642\n",
      "643\n",
      "644\n",
      "645\n",
      "646\n",
      "647\n",
      "648\n",
      "649\n",
      "650\n",
      "651\n",
      "652\n",
      "653\n",
      "654\n",
      "655\n",
      "656\n",
      "657\n",
      "658\n",
      "659\n",
      "660\n",
      "661\n",
      "662\n",
      "663\n",
      "664\n",
      "665\n",
      "666\n",
      "667\n",
      "668\n",
      "669\n",
      "670\n",
      "671\n",
      "672\n",
      "673\n",
      "674\n",
      "675\n",
      "676\n",
      "677\n",
      "678\n",
      "679\n",
      "680\n",
      "681\n",
      "682\n",
      "683\n",
      "684\n",
      "685\n",
      "686\n",
      "687\n",
      "688\n",
      "689\n",
      "690\n",
      "691\n",
      "692\n",
      "693\n",
      "694\n",
      "695\n",
      "696\n",
      "697\n",
      "698\n",
      "699\n",
      "700\n",
      "701\n",
      "702\n",
      "703\n",
      "704\n",
      "705\n",
      "706\n",
      "707\n",
      "708\n",
      "709\n",
      "710\n",
      "711\n",
      "712\n",
      "713\n",
      "714\n",
      "715\n",
      "716\n",
      "717\n",
      "718\n",
      "719\n",
      "720\n",
      "721\n",
      "722\n",
      "723\n",
      "724\n",
      "725\n",
      "726\n",
      "727\n",
      "728\n",
      "729\n",
      "730\n",
      "731\n",
      "732\n",
      "733\n",
      "734\n",
      "735\n",
      "736\n",
      "737\n",
      "738\n",
      "739\n",
      "740\n",
      "741\n",
      "742\n",
      "743\n",
      "744\n",
      "745\n",
      "746\n",
      "747\n",
      "748\n",
      "749\n",
      "750\n",
      "751\n",
      "752\n",
      "753\n",
      "754\n",
      "755\n",
      "756\n",
      "757\n",
      "758\n",
      "759\n",
      "760\n",
      "761\n",
      "762\n",
      "763\n",
      "764\n",
      "765\n",
      "766\n",
      "767\n",
      "768\n",
      "769\n",
      "770\n",
      "771\n",
      "772\n",
      "773\n",
      "774\n",
      "775\n",
      "776\n",
      "777\n",
      "778\n",
      "779\n",
      "780\n",
      "781\n",
      "782\n",
      "783\n",
      "784\n",
      "785\n",
      "786\n",
      "787\n",
      "788\n",
      "789\n",
      "790\n",
      "791\n",
      "792\n",
      "793\n",
      "794\n",
      "795\n",
      "796\n",
      "797\n",
      "798\n",
      "799\n",
      "800\n",
      "801\n",
      "802\n",
      "803\n",
      "804\n",
      "805\n",
      "806\n",
      "807\n",
      "808\n",
      "809\n",
      "810\n",
      "811\n",
      "812\n",
      "813\n",
      "814\n",
      "815\n",
      "816\n",
      "817\n",
      "818\n",
      "819\n",
      "820\n",
      "821\n",
      "822\n",
      "823\n",
      "824\n",
      "825\n",
      "826\n",
      "827\n",
      "828\n",
      "829\n",
      "830\n",
      "831\n",
      "832\n",
      "833\n",
      "834\n",
      "835\n",
      "836\n",
      "837\n",
      "838\n",
      "839\n",
      "840\n",
      "841\n",
      "842\n",
      "843\n",
      "844\n",
      "845\n",
      "846\n",
      "847\n",
      "848\n",
      "849\n",
      "850\n",
      "851\n",
      "852\n",
      "853\n",
      "854\n",
      "855\n",
      "856\n",
      "857\n",
      "858\n",
      "859\n",
      "860\n",
      "861\n",
      "862\n",
      "863\n",
      "864\n",
      "865\n",
      "866\n",
      "867\n",
      "868\n",
      "869\n",
      "870\n",
      "871\n",
      "872\n",
      "873\n",
      "874\n",
      "875\n",
      "876\n",
      "877\n",
      "878\n",
      "879\n",
      "880\n",
      "881\n",
      "882\n",
      "883\n",
      "884\n",
      "885\n",
      "886\n",
      "887\n",
      "888\n",
      "889\n",
      "890\n",
      "891\n",
      "892\n",
      "893\n",
      "894\n",
      "895\n",
      "896\n",
      "897\n",
      "898\n",
      "899\n",
      "900\n",
      "901\n",
      "902\n",
      "903\n",
      "904\n",
      "905\n",
      "906\n",
      "907\n",
      "908\n",
      "909\n",
      "910\n",
      "911\n",
      "912\n",
      "913\n",
      "914\n",
      "915\n",
      "916\n",
      "917\n",
      "918\n",
      "919\n",
      "920\n",
      "921\n",
      "922\n",
      "923\n",
      "924\n",
      "925\n",
      "926\n",
      "927\n",
      "928\n",
      "929\n",
      "930\n",
      "931\n",
      "932\n",
      "933\n",
      "934\n",
      "935\n",
      "936\n",
      "937\n",
      "938\n",
      "939\n",
      "940\n",
      "941\n",
      "942\n",
      "943\n",
      "944\n",
      "945\n",
      "946\n",
      "947\n",
      "948\n",
      "949\n",
      "950\n",
      "951\n",
      "952\n",
      "953\n",
      "954\n",
      "955\n",
      "956\n",
      "957\n",
      "958\n",
      "959\n",
      "960\n",
      "961\n",
      "962\n",
      "963\n",
      "964\n",
      "965\n",
      "966\n",
      "967\n",
      "968\n",
      "969\n",
      "970\n",
      "971\n",
      "972\n",
      "973\n",
      "974\n",
      "975\n",
      "976\n",
      "977\n",
      "978\n",
      "979\n",
      "980\n",
      "981\n",
      "982\n",
      "983\n",
      "984\n",
      "985\n",
      "986\n",
      "987\n",
      "988\n",
      "989\n",
      "990\n",
      "991\n",
      "992\n",
      "993\n",
      "994\n",
      "995\n",
      "996\n",
      "997\n",
      "998\n",
      "999\n",
      "1000\n",
      "1001\n",
      "1002\n",
      "1003\n",
      "1004\n",
      "1005\n",
      "1006\n",
      "1007\n",
      "1008\n",
      "1009\n",
      "1010\n",
      "1011\n",
      "1012\n",
      "1013\n",
      "1014\n",
      "1015\n",
      "1016\n",
      "1017\n",
      "1018\n",
      "1019\n",
      "1020\n",
      "1021\n",
      "1022\n",
      "1023\n",
      "1024\n",
      "1025\n",
      "1026\n",
      "1027\n",
      "1028\n",
      "1029\n",
      "1030\n",
      "1031\n",
      "1032\n",
      "1033\n",
      "1034\n",
      "1035\n",
      "1036\n",
      "1037\n",
      "1038\n",
      "1039\n",
      "1040\n",
      "1041\n",
      "1042\n",
      "1043\n",
      "1044\n",
      "1045\n",
      "1046\n",
      "1047\n",
      "1048\n",
      "1049\n",
      "1050\n",
      "1051\n",
      "1052\n",
      "1053\n",
      "1054\n",
      "1055\n",
      "1056\n",
      "1057\n",
      "1058\n",
      "1059\n",
      "1060\n",
      "1061\n",
      "1062\n",
      "1063\n",
      "1064\n",
      "1065\n",
      "1066\n",
      "1067\n",
      "1068\n",
      "1069\n",
      "1070\n",
      "1071\n",
      "1072\n",
      "1073\n",
      "1074\n",
      "1075\n",
      "1076\n",
      "1077\n",
      "1078\n",
      "1079\n",
      "1080\n",
      "1081\n",
      "1082\n",
      "1083\n",
      "1084\n",
      "1085\n",
      "1086\n",
      "1087\n",
      "1088\n",
      "1089\n",
      "1090\n",
      "1091\n",
      "1092\n",
      "1093\n",
      "1094\n",
      "1095\n",
      "1096\n",
      "1097\n",
      "1098\n",
      "1099\n",
      "1100\n",
      "1101\n",
      "1102\n",
      "1103\n",
      "1104\n",
      "1105\n",
      "1106\n",
      "1107\n",
      "1108\n",
      "1109\n",
      "1110\n",
      "1111\n",
      "1112\n",
      "1113\n",
      "1114\n",
      "1115\n",
      "1116\n",
      "1117\n",
      "1118\n",
      "1119\n",
      "1120\n",
      "1121\n",
      "1122\n",
      "1123\n",
      "1124\n",
      "1125\n",
      "1126\n",
      "1127\n",
      "1128\n",
      "1129\n",
      "1130\n",
      "1131\n",
      "1132\n",
      "1133\n",
      "1134\n",
      "1135\n",
      "1136\n",
      "1137\n",
      "1138\n",
      "1139\n",
      "1140\n",
      "1141\n",
      "1142\n",
      "1143\n",
      "1144\n",
      "1145\n",
      "1146\n",
      "1147\n",
      "1148\n",
      "1149\n",
      "1150\n",
      "1151\n",
      "1152\n",
      "1153\n",
      "1154\n",
      "1155\n",
      "1156\n",
      "1157\n",
      "1158\n",
      "1159\n",
      "1160\n",
      "1161\n",
      "1162\n",
      "1163\n",
      "1164\n",
      "1165\n",
      "1166\n",
      "1167\n",
      "1168\n",
      "1169\n",
      "1170\n",
      "1171\n",
      "1172\n",
      "1173\n",
      "1174\n",
      "1175\n",
      "1176\n",
      "1177\n",
      "1178\n",
      "1179\n",
      "1180\n",
      "1181\n",
      "1182\n",
      "1183\n",
      "1184\n",
      "1185\n",
      "1186\n",
      "1187\n",
      "1188\n",
      "1189\n",
      "1190\n",
      "1191\n",
      "1192\n",
      "1193\n",
      "1194\n",
      "1195\n",
      "1196\n",
      "1197\n",
      "1198\n",
      "1199\n",
      "1200\n",
      "1201\n",
      "1202\n",
      "1203\n",
      "1204\n",
      "1205\n",
      "1206\n",
      "1207\n",
      "1208\n",
      "1209\n",
      "1210\n",
      "1211\n",
      "1212\n",
      "1213\n",
      "1214\n",
      "1215\n",
      "1216\n",
      "1217\n",
      "1218\n",
      "1219\n",
      "1220\n",
      "1221\n",
      "1222\n",
      "1223\n",
      "1224\n",
      "1225\n",
      "1226\n",
      "1227\n",
      "1228\n",
      "1229\n",
      "1230\n",
      "1231\n",
      "1232\n",
      "1233\n",
      "1234\n",
      "1235\n",
      "1236\n",
      "1237\n",
      "1238\n",
      "1239\n",
      "1240\n",
      "1241\n",
      "1242\n",
      "1243\n",
      "1244\n",
      "1245\n",
      "1246\n",
      "1247\n",
      "1248\n",
      "1249\n",
      "1250\n",
      "1251\n",
      "1252\n",
      "1253\n",
      "1254\n",
      "1255\n",
      "1256\n",
      "1257\n",
      "1258\n",
      "1259\n",
      "1260\n",
      "1261\n",
      "1262\n",
      "1263\n",
      "1264\n",
      "1265\n",
      "1266\n",
      "1267\n",
      "1268\n",
      "1269\n",
      "1270\n",
      "1271\n",
      "1272\n",
      "1273\n",
      "1274\n",
      "1275\n",
      "1276\n",
      "1277\n",
      "1278\n",
      "1279\n",
      "1280\n",
      "1281\n",
      "1282\n",
      "1283\n",
      "1284\n",
      "1285\n",
      "1286\n",
      "1287\n",
      "1288\n",
      "1289\n",
      "1290\n",
      "1291\n",
      "1292\n",
      "1293\n",
      "1294\n",
      "1295\n",
      "1296\n",
      "1297\n",
      "1298\n",
      "1299\n",
      "1300\n",
      "1301\n",
      "1302\n",
      "1303\n",
      "1304\n",
      "1305\n",
      "1306\n",
      "1307\n",
      "1308\n",
      "1309\n",
      "1310\n",
      "1311\n",
      "1312\n",
      "1313\n",
      "1314\n",
      "1315\n",
      "1316\n",
      "1317\n",
      "1318\n",
      "1319\n",
      "1320\n",
      "1321\n",
      "1322\n",
      "1323\n",
      "1324\n",
      "1325\n",
      "1326\n",
      "1327\n",
      "1328\n",
      "1329\n",
      "1330\n",
      "1331\n",
      "1332\n",
      "1333\n",
      "1334\n",
      "1335\n",
      "1336\n",
      "1337\n",
      "1338\n",
      "1339\n",
      "1340\n",
      "1341\n",
      "1342\n",
      "1343\n",
      "1344\n",
      "1345\n",
      "1346\n",
      "1347\n",
      "1348\n",
      "1349\n",
      "1350\n",
      "1351\n",
      "1352\n",
      "1353\n",
      "1354\n",
      "1355\n",
      "1356\n",
      "1357\n",
      "1358\n",
      "1359\n",
      "1360\n",
      "1361\n",
      "1362\n",
      "1363\n",
      "1364\n",
      "1365\n",
      "1366\n",
      "1367\n",
      "1368\n",
      "1369\n",
      "1370\n",
      "1371\n",
      "1372\n",
      "1373\n",
      "1374\n",
      "1375\n",
      "1376\n",
      "1377\n",
      "1378\n",
      "1379\n",
      "1380\n",
      "1381\n",
      "1382\n",
      "1383\n",
      "1384\n",
      "1385\n",
      "1386\n",
      "1387\n",
      "1388\n",
      "1389\n",
      "1390\n",
      "1391\n",
      "1392\n",
      "1393\n",
      "1394\n",
      "1395\n",
      "1396\n",
      "1397\n",
      "1398\n",
      "1399\n",
      "1400\n",
      "1401\n",
      "1402\n",
      "1403\n",
      "1404\n",
      "1405\n",
      "1406\n",
      "1407\n",
      "1408\n",
      "1409\n",
      "1410\n",
      "1411\n",
      "1412\n",
      "1413\n",
      "1414\n",
      "1415\n",
      "1416\n",
      "1417\n",
      "1418\n",
      "1419\n",
      "1420\n",
      "1421\n",
      "1422\n",
      "1423\n",
      "1424\n",
      "1425\n",
      "1426\n",
      "1427\n",
      "1428\n",
      "1429\n",
      "1430\n",
      "1431\n",
      "1432\n",
      "1433\n",
      "1434\n",
      "1435\n",
      "1436\n",
      "1437\n",
      "1438\n",
      "1439\n",
      "1440\n",
      "1441\n",
      "1442\n",
      "1443\n",
      "1444\n",
      "1445\n",
      "1446\n",
      "1447\n",
      "1448\n",
      "1449\n",
      "1450\n",
      "1451\n",
      "1452\n",
      "1453\n",
      "1454\n",
      "1455\n",
      "1456\n",
      "1457\n",
      "1458\n",
      "1459\n",
      "1460\n",
      "1461\n",
      "1462\n",
      "1463\n",
      "1464\n",
      "1465\n",
      "1466\n",
      "1467\n",
      "1468\n",
      "1469\n",
      "1470\n",
      "1471\n",
      "1472\n",
      "1473\n",
      "1474\n",
      "1475\n",
      "1476\n",
      "1477\n",
      "1478\n",
      "1479\n",
      "1480\n",
      "1481\n",
      "1482\n",
      "1483\n",
      "1484\n",
      "1485\n",
      "1486\n",
      "1487\n",
      "1488\n",
      "1489\n",
      "1490\n",
      "1491\n",
      "1492\n",
      "1493\n",
      "1494\n",
      "1495\n",
      "1496\n",
      "1497\n",
      "1498\n",
      "1499\n",
      "1500\n",
      "1501\n",
      "1502\n",
      "1503\n",
      "1504\n",
      "1505\n",
      "1506\n",
      "1507\n",
      "1508\n",
      "1509\n",
      "1510\n",
      "1511\n",
      "1512\n",
      "1513\n",
      "1514\n",
      "1515\n",
      "1516\n",
      "1517\n",
      "1518\n",
      "1519\n",
      "1520\n",
      "1521\n",
      "1522\n",
      "1523\n",
      "1524\n",
      "1525\n",
      "1526\n",
      "1527\n",
      "1528\n",
      "1529\n",
      "1530\n",
      "1531\n",
      "1532\n",
      "1533\n",
      "1534\n",
      "1535\n",
      "1536\n",
      "1537\n",
      "1538\n",
      "1539\n",
      "1540\n",
      "1541\n",
      "1542\n",
      "1543\n",
      "1544\n",
      "1545\n",
      "1546\n",
      "1547\n",
      "1548\n",
      "1549\n",
      "1550\n",
      "1551\n",
      "1552\n",
      "1553\n",
      "1554\n",
      "1555\n",
      "1556\n",
      "1557\n",
      "1558\n",
      "1559\n",
      "1560\n",
      "1561\n",
      "1562\n",
      "1563\n",
      "1564\n",
      "1565\n",
      "1566\n",
      "1567\n",
      "1568\n",
      "1569\n",
      "1570\n",
      "1571\n",
      "1572\n",
      "1573\n",
      "1574\n",
      "1575\n",
      "1576\n",
      "1577\n",
      "1578\n",
      "1579\n",
      "1580\n",
      "1581\n",
      "1582\n",
      "1583\n",
      "1584\n",
      "1585\n",
      "1586\n",
      "1587\n",
      "1588\n",
      "1589\n",
      "1590\n",
      "1591\n",
      "1592\n",
      "1593\n",
      "1594\n",
      "1595\n",
      "1596\n",
      "1597\n",
      "1598\n",
      "1599\n",
      "1600\n",
      "1601\n",
      "1602\n",
      "1603\n",
      "1604\n",
      "1605\n",
      "1606\n",
      "1607\n",
      "1608\n",
      "1609\n",
      "1610\n",
      "1611\n",
      "1612\n",
      "1613\n",
      "1614\n",
      "1615\n",
      "1616\n",
      "1617\n",
      "1618\n",
      "1619\n",
      "1620\n",
      "1621\n",
      "1622\n",
      "1623\n",
      "1624\n",
      "1625\n",
      "1626\n",
      "1627\n",
      "1628\n",
      "1629\n",
      "1630\n",
      "1631\n",
      "1632\n",
      "1633\n",
      "1634\n",
      "1635\n",
      "1636\n",
      "1637\n",
      "1638\n",
      "1639\n",
      "1640\n",
      "1641\n",
      "1642\n",
      "1643\n",
      "1644\n",
      "1645\n",
      "1646\n",
      "1647\n",
      "1648\n",
      "1649\n",
      "1650\n",
      "1651\n",
      "1652\n",
      "1653\n",
      "1654\n",
      "1655\n",
      "1656\n",
      "1657\n",
      "1658\n",
      "1659\n",
      "1660\n",
      "1661\n",
      "1662\n",
      "1663\n",
      "1664\n",
      "1665\n",
      "1666\n",
      "1667\n",
      "1668\n",
      "1669\n",
      "1670\n",
      "1671\n",
      "1672\n",
      "1673\n",
      "1674\n",
      "1675\n",
      "1676\n",
      "1677\n",
      "1678\n",
      "1679\n",
      "1680\n",
      "1681\n",
      "1682\n",
      "1683\n",
      "1684\n",
      "1685\n",
      "1686\n",
      "1687\n",
      "1688\n",
      "1689\n",
      "1690\n",
      "1691\n",
      "1692\n",
      "1693\n",
      "1694\n",
      "1695\n",
      "1696\n",
      "1697\n",
      "1698\n",
      "1699\n",
      "1700\n",
      "1701\n",
      "1702\n",
      "1703\n",
      "1704\n",
      "1705\n",
      "1706\n",
      "1707\n",
      "1708\n",
      "1709\n",
      "1710\n",
      "1711\n",
      "1712\n",
      "1713\n",
      "1714\n",
      "1715\n",
      "1716\n",
      "1717\n",
      "1718\n",
      "1719\n",
      "1720\n",
      "1721\n",
      "1722\n",
      "1723\n",
      "1724\n",
      "1725\n",
      "1726\n",
      "1727\n",
      "1728\n",
      "1729\n",
      "1730\n",
      "1731\n",
      "1732\n",
      "1733\n",
      "1734\n",
      "1735\n",
      "1736\n",
      "1737\n",
      "1738\n",
      "1739\n"
     ]
    },
    {
     "ename": "KeyboardInterrupt",
     "evalue": "",
     "output_type": "error",
     "traceback": [
      "\u001b[1;31m---------------------------------------------------------------------------\u001b[0m",
      "\u001b[1;31mKeyboardInterrupt\u001b[0m                         Traceback (most recent call last)",
      "\u001b[1;32m<ipython-input-87-5e1609d6b5cd>\u001b[0m in \u001b[0;36m<module>\u001b[1;34m\u001b[0m\n\u001b[0;32m      5\u001b[0m     \u001b[0mprint\u001b[0m\u001b[1;33m(\u001b[0m\u001b[0mcount\u001b[0m\u001b[1;33m)\u001b[0m\u001b[1;33m\u001b[0m\u001b[1;33m\u001b[0m\u001b[0m\n\u001b[0;32m      6\u001b[0m     \u001b[0mtemp\u001b[0m \u001b[1;33m=\u001b[0m \u001b[0mdf_drug_resuvatin_cancer\u001b[0m\u001b[1;33m[\u001b[0m\u001b[0mdf_drug_resuvatin_cancer\u001b[0m\u001b[1;33m[\u001b[0m\u001b[1;34m'患者编号'\u001b[0m\u001b[1;33m]\u001b[0m\u001b[1;33m==\u001b[0m\u001b[0mi\u001b[0m\u001b[1;33m]\u001b[0m\u001b[1;33m\u001b[0m\u001b[1;33m\u001b[0m\u001b[0m\n\u001b[1;32m----> 7\u001b[1;33m     \u001b[0mtemp\u001b[0m \u001b[1;33m=\u001b[0m \u001b[0mtemp\u001b[0m\u001b[1;33m.\u001b[0m\u001b[0msort_values\u001b[0m\u001b[1;33m(\u001b[0m\u001b[0mby\u001b[0m\u001b[1;33m=\u001b[0m\u001b[1;33m[\u001b[0m\u001b[1;34m'患者编号'\u001b[0m\u001b[1;33m,\u001b[0m\u001b[1;34m'医嘱开始时间'\u001b[0m\u001b[1;33m]\u001b[0m\u001b[1;33m,\u001b[0m\u001b[0mascending\u001b[0m\u001b[1;33m=\u001b[0m\u001b[1;32mTrue\u001b[0m\u001b[1;33m)\u001b[0m\u001b[1;33m.\u001b[0m\u001b[0mreset_index\u001b[0m\u001b[1;33m(\u001b[0m\u001b[0mdrop\u001b[0m\u001b[1;33m=\u001b[0m\u001b[1;32mTrue\u001b[0m\u001b[1;33m)\u001b[0m\u001b[1;33m\u001b[0m\u001b[1;33m\u001b[0m\u001b[0m\n\u001b[0m\u001b[0;32m      8\u001b[0m     \u001b[0mdrug_start_time\u001b[0m \u001b[1;33m=\u001b[0m \u001b[0mpd\u001b[0m\u001b[1;33m.\u001b[0m\u001b[0mto_datetime\u001b[0m\u001b[1;33m(\u001b[0m\u001b[0mtemp\u001b[0m\u001b[1;33m.\u001b[0m\u001b[0mloc\u001b[0m\u001b[1;33m[\u001b[0m\u001b[1;36m0\u001b[0m\u001b[1;33m,\u001b[0m\u001b[1;34m'医嘱开始时间'\u001b[0m\u001b[1;33m]\u001b[0m\u001b[1;33m)\u001b[0m\u001b[1;33m\u001b[0m\u001b[1;33m\u001b[0m\u001b[0m\n\u001b[0;32m      9\u001b[0m     \u001b[0mtemp\u001b[0m\u001b[1;33m[\u001b[0m\u001b[1;34m'首次用药时间'\u001b[0m\u001b[1;33m]\u001b[0m\u001b[1;33m=\u001b[0m\u001b[0mdrug_start_time\u001b[0m\u001b[1;33m\u001b[0m\u001b[1;33m\u001b[0m\u001b[0m\n",
      "\u001b[1;32mD:\\Anaconda3\\lib\\site-packages\\pandas\\core\\frame.py\u001b[0m in \u001b[0;36msort_values\u001b[1;34m(self, by, axis, ascending, inplace, kind, na_position)\u001b[0m\n\u001b[0;32m   5016\u001b[0m \u001b[1;33m\u001b[0m\u001b[0m\n\u001b[0;32m   5017\u001b[0m         new_data = self._data.take(\n\u001b[1;32m-> 5018\u001b[1;33m             \u001b[0mindexer\u001b[0m\u001b[1;33m,\u001b[0m \u001b[0maxis\u001b[0m\u001b[1;33m=\u001b[0m\u001b[0mself\u001b[0m\u001b[1;33m.\u001b[0m\u001b[0m_get_block_manager_axis\u001b[0m\u001b[1;33m(\u001b[0m\u001b[0maxis\u001b[0m\u001b[1;33m)\u001b[0m\u001b[1;33m,\u001b[0m \u001b[0mverify\u001b[0m\u001b[1;33m=\u001b[0m\u001b[1;32mFalse\u001b[0m\u001b[1;33m\u001b[0m\u001b[1;33m\u001b[0m\u001b[0m\n\u001b[0m\u001b[0;32m   5019\u001b[0m         )\n\u001b[0;32m   5020\u001b[0m \u001b[1;33m\u001b[0m\u001b[0m\n",
      "\u001b[1;32mD:\\Anaconda3\\lib\\site-packages\\pandas\\core\\internals\\managers.py\u001b[0m in \u001b[0;36mtake\u001b[1;34m(self, indexer, axis, verify, convert)\u001b[0m\n\u001b[0;32m   1395\u001b[0m         \u001b[0mnew_labels\u001b[0m \u001b[1;33m=\u001b[0m \u001b[0mself\u001b[0m\u001b[1;33m.\u001b[0m\u001b[0maxes\u001b[0m\u001b[1;33m[\u001b[0m\u001b[0maxis\u001b[0m\u001b[1;33m]\u001b[0m\u001b[1;33m.\u001b[0m\u001b[0mtake\u001b[0m\u001b[1;33m(\u001b[0m\u001b[0mindexer\u001b[0m\u001b[1;33m)\u001b[0m\u001b[1;33m\u001b[0m\u001b[1;33m\u001b[0m\u001b[0m\n\u001b[0;32m   1396\u001b[0m         return self.reindex_indexer(\n\u001b[1;32m-> 1397\u001b[1;33m             \u001b[0mnew_axis\u001b[0m\u001b[1;33m=\u001b[0m\u001b[0mnew_labels\u001b[0m\u001b[1;33m,\u001b[0m \u001b[0mindexer\u001b[0m\u001b[1;33m=\u001b[0m\u001b[0mindexer\u001b[0m\u001b[1;33m,\u001b[0m \u001b[0maxis\u001b[0m\u001b[1;33m=\u001b[0m\u001b[0maxis\u001b[0m\u001b[1;33m,\u001b[0m \u001b[0mallow_dups\u001b[0m\u001b[1;33m=\u001b[0m\u001b[1;32mTrue\u001b[0m\u001b[1;33m\u001b[0m\u001b[1;33m\u001b[0m\u001b[0m\n\u001b[0m\u001b[0;32m   1398\u001b[0m         )\n\u001b[0;32m   1399\u001b[0m \u001b[1;33m\u001b[0m\u001b[0m\n",
      "\u001b[1;32mD:\\Anaconda3\\lib\\site-packages\\pandas\\core\\internals\\managers.py\u001b[0m in \u001b[0;36mreindex_indexer\u001b[1;34m(self, new_axis, indexer, axis, fill_value, allow_dups, copy)\u001b[0m\n\u001b[0;32m   1270\u001b[0m         \u001b[0mnew_axes\u001b[0m \u001b[1;33m=\u001b[0m \u001b[0mlist\u001b[0m\u001b[1;33m(\u001b[0m\u001b[0mself\u001b[0m\u001b[1;33m.\u001b[0m\u001b[0maxes\u001b[0m\u001b[1;33m)\u001b[0m\u001b[1;33m\u001b[0m\u001b[1;33m\u001b[0m\u001b[0m\n\u001b[0;32m   1271\u001b[0m         \u001b[0mnew_axes\u001b[0m\u001b[1;33m[\u001b[0m\u001b[0maxis\u001b[0m\u001b[1;33m]\u001b[0m \u001b[1;33m=\u001b[0m \u001b[0mnew_axis\u001b[0m\u001b[1;33m\u001b[0m\u001b[1;33m\u001b[0m\u001b[0m\n\u001b[1;32m-> 1272\u001b[1;33m         \u001b[1;32mreturn\u001b[0m \u001b[0mself\u001b[0m\u001b[1;33m.\u001b[0m\u001b[0m__class__\u001b[0m\u001b[1;33m(\u001b[0m\u001b[0mnew_blocks\u001b[0m\u001b[1;33m,\u001b[0m \u001b[0mnew_axes\u001b[0m\u001b[1;33m)\u001b[0m\u001b[1;33m\u001b[0m\u001b[1;33m\u001b[0m\u001b[0m\n\u001b[0m\u001b[0;32m   1273\u001b[0m \u001b[1;33m\u001b[0m\u001b[0m\n\u001b[0;32m   1274\u001b[0m     \u001b[1;32mdef\u001b[0m \u001b[0m_slice_take_blocks_ax0\u001b[0m\u001b[1;33m(\u001b[0m\u001b[0mself\u001b[0m\u001b[1;33m,\u001b[0m \u001b[0mslice_or_indexer\u001b[0m\u001b[1;33m,\u001b[0m \u001b[0mfill_tuple\u001b[0m\u001b[1;33m=\u001b[0m\u001b[1;32mNone\u001b[0m\u001b[1;33m)\u001b[0m\u001b[1;33m:\u001b[0m\u001b[1;33m\u001b[0m\u001b[1;33m\u001b[0m\u001b[0m\n",
      "\u001b[1;32mD:\\Anaconda3\\lib\\site-packages\\pandas\\core\\internals\\managers.py\u001b[0m in \u001b[0;36m__init__\u001b[1;34m(self, blocks, axes, do_integrity_check)\u001b[0m\n\u001b[0;32m    145\u001b[0m         \u001b[0mself\u001b[0m\u001b[1;33m.\u001b[0m\u001b[0m_consolidate_check\u001b[0m\u001b[1;33m(\u001b[0m\u001b[1;33m)\u001b[0m\u001b[1;33m\u001b[0m\u001b[1;33m\u001b[0m\u001b[0m\n\u001b[0;32m    146\u001b[0m \u001b[1;33m\u001b[0m\u001b[0m\n\u001b[1;32m--> 147\u001b[1;33m         \u001b[0mself\u001b[0m\u001b[1;33m.\u001b[0m\u001b[0m_rebuild_blknos_and_blklocs\u001b[0m\u001b[1;33m(\u001b[0m\u001b[1;33m)\u001b[0m\u001b[1;33m\u001b[0m\u001b[1;33m\u001b[0m\u001b[0m\n\u001b[0m\u001b[0;32m    148\u001b[0m \u001b[1;33m\u001b[0m\u001b[0m\n\u001b[0;32m    149\u001b[0m     \u001b[1;32mdef\u001b[0m \u001b[0mmake_empty\u001b[0m\u001b[1;33m(\u001b[0m\u001b[0mself\u001b[0m\u001b[1;33m,\u001b[0m \u001b[0maxes\u001b[0m\u001b[1;33m=\u001b[0m\u001b[1;32mNone\u001b[0m\u001b[1;33m)\u001b[0m\u001b[1;33m:\u001b[0m\u001b[1;33m\u001b[0m\u001b[1;33m\u001b[0m\u001b[0m\n",
      "\u001b[1;32mD:\\Anaconda3\\lib\\site-packages\\pandas\\core\\internals\\managers.py\u001b[0m in \u001b[0;36m_rebuild_blknos_and_blklocs\u001b[1;34m(self)\u001b[0m\n\u001b[0;32m    226\u001b[0m             \u001b[0mrl\u001b[0m \u001b[1;33m=\u001b[0m \u001b[0mblk\u001b[0m\u001b[1;33m.\u001b[0m\u001b[0mmgr_locs\u001b[0m\u001b[1;33m\u001b[0m\u001b[1;33m\u001b[0m\u001b[0m\n\u001b[0;32m    227\u001b[0m             \u001b[0mnew_blknos\u001b[0m\u001b[1;33m[\u001b[0m\u001b[0mrl\u001b[0m\u001b[1;33m.\u001b[0m\u001b[0mindexer\u001b[0m\u001b[1;33m]\u001b[0m \u001b[1;33m=\u001b[0m \u001b[0mblkno\u001b[0m\u001b[1;33m\u001b[0m\u001b[1;33m\u001b[0m\u001b[0m\n\u001b[1;32m--> 228\u001b[1;33m             \u001b[0mnew_blklocs\u001b[0m\u001b[1;33m[\u001b[0m\u001b[0mrl\u001b[0m\u001b[1;33m.\u001b[0m\u001b[0mindexer\u001b[0m\u001b[1;33m]\u001b[0m \u001b[1;33m=\u001b[0m \u001b[0mnp\u001b[0m\u001b[1;33m.\u001b[0m\u001b[0marange\u001b[0m\u001b[1;33m(\u001b[0m\u001b[0mlen\u001b[0m\u001b[1;33m(\u001b[0m\u001b[0mrl\u001b[0m\u001b[1;33m)\u001b[0m\u001b[1;33m)\u001b[0m\u001b[1;33m\u001b[0m\u001b[1;33m\u001b[0m\u001b[0m\n\u001b[0m\u001b[0;32m    229\u001b[0m \u001b[1;33m\u001b[0m\u001b[0m\n\u001b[0;32m    230\u001b[0m         \u001b[1;32mif\u001b[0m \u001b[1;33m(\u001b[0m\u001b[0mnew_blknos\u001b[0m \u001b[1;33m==\u001b[0m \u001b[1;33m-\u001b[0m\u001b[1;36m1\u001b[0m\u001b[1;33m)\u001b[0m\u001b[1;33m.\u001b[0m\u001b[0many\u001b[0m\u001b[1;33m(\u001b[0m\u001b[1;33m)\u001b[0m\u001b[1;33m:\u001b[0m\u001b[1;33m\u001b[0m\u001b[1;33m\u001b[0m\u001b[0m\n",
      "\u001b[1;31mKeyboardInterrupt\u001b[0m: "
     ]
    }
   ],
   "source": [
    "temp_list=[]\n",
    "count=0\n",
    "for i in df_drug_resuvatin_cancer.患者编号.unique():\n",
    "    count+=1\n",
    "    print(count)\n",
    "    temp = df_drug_resuvatin_cancer[df_drug_resuvatin_cancer['患者编号']==i]\n",
    "    temp = temp.sort_values(by=['患者编号','医嘱开始时间'],ascending=True).reset_index(drop=True)\n",
    "    drug_start_time = pd.to_datetime(temp.loc[0,'医嘱开始时间'])\n",
    "    temp['首次用药时间']=drug_start_time\n",
    "    # 判断研究期是否未换药\n",
    "    temp_research_period = temp[(pd.to_datetime(temp['医嘱开始时间'])<=drug_start_time+datetime.timedelta(days=135)) &\n",
    "                                (pd.to_datetime(temp['医嘱开始时间'])>=drug_start_time)]\n",
    "    if temp_research_period.resuvatin_brand.nunique() >1:\n",
    "        continue\n",
    "    # 判断基线期-研究期是否使用其他他汀类用药\n",
    "    temp_vatin_other = df_drug_vatin_other[df_drug_vatin_other['患者编号']==i]\n",
    "    baseline_vatin_other = temp_vatin_other[(pd.to_datetime(temp_vatin_other['医嘱开始时间'])<=drug_start_time+datetime.timedelta(days=135)) &\n",
    "                   (pd.to_datetime(temp_vatin_other['医嘱停止时间'])>=drug_start_time-datetime.timedelta(days=90))]\n",
    "    if baseline_vatin_other.shape[0]<1:\n",
    "        temp_list.append(temp)"
   ]
  },
  {
   "cell_type": "code",
   "execution_count": null,
   "metadata": {},
   "outputs": [],
   "source": [
    "drug_start_time"
   ]
  },
  {
   "cell_type": "code",
   "execution_count": 85,
   "metadata": {},
   "outputs": [
    {
     "data": {
      "text/html": [
       "<div>\n",
       "<style scoped>\n",
       "    .dataframe tbody tr th:only-of-type {\n",
       "        vertical-align: middle;\n",
       "    }\n",
       "\n",
       "    .dataframe tbody tr th {\n",
       "        vertical-align: top;\n",
       "    }\n",
       "\n",
       "    .dataframe thead th {\n",
       "        text-align: right;\n",
       "    }\n",
       "</style>\n",
       "<table border=\"1\" class=\"dataframe\">\n",
       "  <thead>\n",
       "    <tr style=\"text-align: right;\">\n",
       "      <th></th>\n",
       "      <th>data_source</th>\n",
       "      <th>患者编号</th>\n",
       "      <th>药物通用名称</th>\n",
       "      <th>医嘱开始时间</th>\n",
       "      <th>医嘱停止时间</th>\n",
       "      <th>药物规格</th>\n",
       "      <th>药物剂量</th>\n",
       "      <th>药物剂量单位名称</th>\n",
       "      <th>频率名称</th>\n",
       "      <th>开药总数量</th>\n",
       "      <th>...</th>\n",
       "      <th>药物剂型</th>\n",
       "      <th>用药时长</th>\n",
       "      <th>resuvatin_brand</th>\n",
       "      <th>日剂量</th>\n",
       "      <th>医嘱开始日期</th>\n",
       "      <th>开药总剂量</th>\n",
       "      <th>冠心病</th>\n",
       "      <th>高脂血症</th>\n",
       "      <th>冠心病_高脂血症</th>\n",
       "      <th>首次用药时间</th>\n",
       "    </tr>\n",
       "  </thead>\n",
       "  <tbody>\n",
       "    <tr>\n",
       "      <th>0</th>\n",
       "      <td>世纪坛医院</td>\n",
       "      <td>0020640c4052f1dae97fcf39be390e1b</td>\n",
       "      <td>瑞舒伐他汀钙片(10mg/片(ZX))</td>\n",
       "      <td>2019-04-04 15:35:28</td>\n",
       "      <td>2019-04-09 07:42:00</td>\n",
       "      <td>10mg*28片(ZX)</td>\n",
       "      <td>10.0</td>\n",
       "      <td>NaN</td>\n",
       "      <td>1.0</td>\n",
       "      <td>NaN</td>\n",
       "      <td>...</td>\n",
       "      <td>NaN</td>\n",
       "      <td>5.0</td>\n",
       "      <td>京新</td>\n",
       "      <td>10.0</td>\n",
       "      <td>2019-04-04</td>\n",
       "      <td>50.0</td>\n",
       "      <td>1</td>\n",
       "      <td>1</td>\n",
       "      <td>1</td>\n",
       "      <td>2019-04-04 15:35:28</td>\n",
       "    </tr>\n",
       "  </tbody>\n",
       "</table>\n",
       "<p>1 rows × 21 columns</p>\n",
       "</div>"
      ],
      "text/plain": [
       "  data_source                              患者编号               药物通用名称  \\\n",
       "0       世纪坛医院  0020640c4052f1dae97fcf39be390e1b  瑞舒伐他汀钙片(10mg/片(ZX))   \n",
       "\n",
       "                医嘱开始时间               医嘱停止时间          药物规格  药物剂量 药物剂量单位名称  \\\n",
       "0  2019-04-04 15:35:28  2019-04-09 07:42:00  10mg*28片(ZX)  10.0      NaN   \n",
       "\n",
       "   频率名称  开药总数量  ... 药物剂型 用药时长  resuvatin_brand   日剂量      医嘱开始日期 开药总剂量  冠心病  \\\n",
       "0   1.0    NaN  ...  NaN  5.0               京新  10.0  2019-04-04  50.0    1   \n",
       "\n",
       "   高脂血症  冠心病_高脂血症              首次用药时间  \n",
       "0     1         1 2019-04-04 15:35:28  \n",
       "\n",
       "[1 rows x 21 columns]"
      ]
     },
     "execution_count": 85,
     "metadata": {},
     "output_type": "execute_result"
    }
   ],
   "source": [
    "temp_baseline"
   ]
  },
  {
   "cell_type": "code",
   "execution_count": null,
   "metadata": {},
   "outputs": [],
   "source": [
    "temp_list"
   ]
  },
  {
   "cell_type": "code",
   "execution_count": 83,
   "metadata": {},
   "outputs": [
    {
     "ename": "ValueError",
     "evalue": "No objects to concatenate",
     "output_type": "error",
     "traceback": [
      "\u001b[1;31m---------------------------------------------------------------------------\u001b[0m",
      "\u001b[1;31mValueError\u001b[0m                                Traceback (most recent call last)",
      "\u001b[1;32m<ipython-input-83-a9d2dfbe433b>\u001b[0m in \u001b[0;36m<module>\u001b[1;34m\u001b[0m\n\u001b[1;32m----> 1\u001b[1;33m \u001b[0mdf_drug_resuvatin_cancer\u001b[0m\u001b[1;33m=\u001b[0m\u001b[0mpd\u001b[0m\u001b[1;33m.\u001b[0m\u001b[0mconcat\u001b[0m\u001b[1;33m(\u001b[0m\u001b[0mtemp_list\u001b[0m\u001b[1;33m,\u001b[0m\u001b[0maxis\u001b[0m\u001b[1;33m=\u001b[0m\u001b[1;36m0\u001b[0m\u001b[1;33m)\u001b[0m\u001b[1;33m.\u001b[0m\u001b[0mreset_index\u001b[0m\u001b[1;33m(\u001b[0m\u001b[0mdrop\u001b[0m\u001b[1;33m=\u001b[0m\u001b[1;32mTrue\u001b[0m\u001b[1;33m)\u001b[0m\u001b[1;33m\u001b[0m\u001b[1;33m\u001b[0m\u001b[0m\n\u001b[0m\u001b[0;32m      2\u001b[0m \u001b[1;32mdel\u001b[0m \u001b[0mtemp_list\u001b[0m\u001b[1;33m\u001b[0m\u001b[1;33m\u001b[0m\u001b[0m\n",
      "\u001b[1;32mD:\\Anaconda3\\lib\\site-packages\\pandas\\core\\reshape\\concat.py\u001b[0m in \u001b[0;36mconcat\u001b[1;34m(objs, axis, join, join_axes, ignore_index, keys, levels, names, verify_integrity, sort, copy)\u001b[0m\n\u001b[0;32m    253\u001b[0m         \u001b[0mverify_integrity\u001b[0m\u001b[1;33m=\u001b[0m\u001b[0mverify_integrity\u001b[0m\u001b[1;33m,\u001b[0m\u001b[1;33m\u001b[0m\u001b[1;33m\u001b[0m\u001b[0m\n\u001b[0;32m    254\u001b[0m         \u001b[0mcopy\u001b[0m\u001b[1;33m=\u001b[0m\u001b[0mcopy\u001b[0m\u001b[1;33m,\u001b[0m\u001b[1;33m\u001b[0m\u001b[1;33m\u001b[0m\u001b[0m\n\u001b[1;32m--> 255\u001b[1;33m         \u001b[0msort\u001b[0m\u001b[1;33m=\u001b[0m\u001b[0msort\u001b[0m\u001b[1;33m,\u001b[0m\u001b[1;33m\u001b[0m\u001b[1;33m\u001b[0m\u001b[0m\n\u001b[0m\u001b[0;32m    256\u001b[0m     )\n\u001b[0;32m    257\u001b[0m \u001b[1;33m\u001b[0m\u001b[0m\n",
      "\u001b[1;32mD:\\Anaconda3\\lib\\site-packages\\pandas\\core\\reshape\\concat.py\u001b[0m in \u001b[0;36m__init__\u001b[1;34m(self, objs, axis, join, join_axes, keys, levels, names, ignore_index, verify_integrity, copy, sort)\u001b[0m\n\u001b[0;32m    302\u001b[0m \u001b[1;33m\u001b[0m\u001b[0m\n\u001b[0;32m    303\u001b[0m         \u001b[1;32mif\u001b[0m \u001b[0mlen\u001b[0m\u001b[1;33m(\u001b[0m\u001b[0mobjs\u001b[0m\u001b[1;33m)\u001b[0m \u001b[1;33m==\u001b[0m \u001b[1;36m0\u001b[0m\u001b[1;33m:\u001b[0m\u001b[1;33m\u001b[0m\u001b[1;33m\u001b[0m\u001b[0m\n\u001b[1;32m--> 304\u001b[1;33m             \u001b[1;32mraise\u001b[0m \u001b[0mValueError\u001b[0m\u001b[1;33m(\u001b[0m\u001b[1;34m\"No objects to concatenate\"\u001b[0m\u001b[1;33m)\u001b[0m\u001b[1;33m\u001b[0m\u001b[1;33m\u001b[0m\u001b[0m\n\u001b[0m\u001b[0;32m    305\u001b[0m \u001b[1;33m\u001b[0m\u001b[0m\n\u001b[0;32m    306\u001b[0m         \u001b[1;32mif\u001b[0m \u001b[0mkeys\u001b[0m \u001b[1;32mis\u001b[0m \u001b[1;32mNone\u001b[0m\u001b[1;33m:\u001b[0m\u001b[1;33m\u001b[0m\u001b[1;33m\u001b[0m\u001b[0m\n",
      "\u001b[1;31mValueError\u001b[0m: No objects to concatenate"
     ]
    }
   ],
   "source": [
    "df_drug_resuvatin_cancer=pd.concat(temp_list,axis=0).reset_index(drop=True)\n",
    "del temp_list"
   ]
  },
  {
   "cell_type": "code",
   "execution_count": 409,
   "metadata": {},
   "outputs": [
    {
     "data": {
      "text/plain": [
       "(43185, 21)"
      ]
     },
     "execution_count": 409,
     "metadata": {},
     "output_type": "execute_result"
    }
   ],
   "source": [
    "df_drug_resuvatin_cancer.shape"
   ]
  },
  {
   "cell_type": "code",
   "execution_count": 84,
   "metadata": {},
   "outputs": [],
   "source": [
    "df_drug_resuvatin_cancer.to_csv(project_path+'/data/processed_data/df_3.3.1_基线期_研究期_未换药.csv')"
   ]
  },
  {
   "cell_type": "code",
   "execution_count": 332,
   "metadata": {},
   "outputs": [],
   "source": [
    "df_drug_resuvatin_cancer=pd.read_csv(project_path+'/data/processed_data/df_3.3.1_基线期_研究期_未换药.csv')\n",
    "if 'Unnamed: 0' in df_drug_resuvatin_cancer.columns:\n",
    "    del df_drug_resuvatin_cancer['Unnamed: 0']"
   ]
  },
  {
   "cell_type": "markdown",
   "metadata": {},
   "source": [
    "### 日均剂量：5-20mg"
   ]
  },
  {
   "cell_type": "code",
   "execution_count": 333,
   "metadata": {},
   "outputs": [],
   "source": [
    "df_drug_resuvatin_cancer['服药总剂量'] = df_drug_resuvatin_cancer['日剂量']*df_drug_resuvatin_cancer['用药时长']"
   ]
  },
  {
   "cell_type": "code",
   "execution_count": 334,
   "metadata": {},
   "outputs": [],
   "source": [
    "for i in df_drug_resuvatin_cancer.患者编号.unique():\n",
    "    temp = df_drug_resuvatin_cancer[df_drug_resuvatin_cancer['患者编号']==i]\n",
    "    temp = temp.sort_values(['医嘱开始时间'],ascending=True).reset_index(drop=True)\n",
    "    # 判断研究期日均剂量\n",
    "    drug_start_time = pd.to_datetime(temp.loc[0,'医嘱开始时间'])\n",
    "    temp = temp[(pd.to_datetime(temp['医嘱开始时间'])<=drug_start_time+datetime.timedelta(days=135)) &\n",
    "                                (pd.to_datetime(temp['医嘱开始时间'])>=drug_start_time)]\n",
    "    m_value = temp['服药总剂量'].sum()/temp['用药时长'].sum()\n",
    "    if 5<=round(m_value,0)<=20:\n",
    "        continue\n",
    "    else:\n",
    "        df_drug_resuvatin_cancer = df_drug_resuvatin_cancer[~ (df_drug_resuvatin_cancer['患者编号']==i)]"
   ]
  },
  {
   "cell_type": "code",
   "execution_count": 335,
   "metadata": {},
   "outputs": [
    {
     "data": {
      "text/plain": [
       "(48946, 21)"
      ]
     },
     "execution_count": 335,
     "metadata": {},
     "output_type": "execute_result"
    }
   ],
   "source": [
    "del df_drug_resuvatin_cancer['服药总剂量']\n",
    "df_drug_resuvatin_cancer.shape"
   ]
  },
  {
   "cell_type": "code",
   "execution_count": 88,
   "metadata": {},
   "outputs": [
    {
     "data": {
      "text/plain": [
       "Index(['data_source', '患者编号', '药物通用名称', '医嘱开始时间', '医嘱停止时间', '药物规格', '药物剂量',\n",
       "       '药物剂量单位名称', '频率名称', '开药总数量', '开药总数量单位名称', '药物剂型', '用药时长',\n",
       "       'resuvatin_brand', '日剂量', '医嘱开始日期', '开药总剂量', '冠心病', '高脂血症', '冠心病_高脂血症',\n",
       "       '首次用药时间'],\n",
       "      dtype='object')"
      ]
     },
     "execution_count": 88,
     "metadata": {},
     "output_type": "execute_result"
    }
   ],
   "source": [
    "df_drug_resuvatin_cancer.columns"
   ]
  },
  {
   "cell_type": "code",
   "execution_count": 89,
   "metadata": {},
   "outputs": [
    {
     "data": {
      "text/plain": [
       "人民医院     40164\n",
       "世纪坛医院     8782\n",
       "Name: data_source, dtype: int64"
      ]
     },
     "execution_count": 89,
     "metadata": {},
     "output_type": "execute_result"
    }
   ],
   "source": [
    "df_drug_resuvatin_cancer.data_source.value_counts()"
   ]
  },
  {
   "cell_type": "code",
   "execution_count": 90,
   "metadata": {},
   "outputs": [
    {
     "data": {
      "text/plain": [
       "9029"
      ]
     },
     "execution_count": 90,
     "metadata": {},
     "output_type": "execute_result"
    }
   ],
   "source": [
    "df_drug_resuvatin_cancer.患者编号.nunique()"
   ]
  },
  {
   "cell_type": "code",
   "execution_count": 91,
   "metadata": {},
   "outputs": [],
   "source": [
    "df_drug_resuvatin_cancer.to_csv(project_path+'/data/processed_data/df_3.3.2_日均剂量筛选.csv')"
   ]
  },
  {
   "cell_type": "code",
   "execution_count": 108,
   "metadata": {},
   "outputs": [
    {
     "data": {
      "text/plain": [
       "28.0     21383\n",
       "14.0      6597\n",
       "35.0      3818\n",
       "18.0      3077\n",
       "21.0      2535\n",
       "         ...  \n",
       "196.0        1\n",
       "429.0        1\n",
       "214.0        1\n",
       "338.0        1\n",
       "270.0        1\n",
       "Name: 用药时长, Length: 340, dtype: int64"
      ]
     },
     "execution_count": 108,
     "metadata": {},
     "output_type": "execute_result"
    }
   ],
   "source": [
    "df_drug_resuvatin_cancer.用药时长.value_counts()"
   ]
  },
  {
   "cell_type": "markdown",
   "metadata": {},
   "source": [
    "### 药物持有率>=50%"
   ]
  },
  {
   "cell_type": "code",
   "execution_count": 194,
   "metadata": {},
   "outputs": [],
   "source": [
    "df_drug_resuvatin_keep = df_drug_resuvatin_cancer.copy().reset_index(drop=True)\n",
    "temp_list=[]\n",
    "for i in df_drug_resuvatin_cancer.患者编号.unique():\n",
    "    temp = df_drug_resuvatin_cancer[df_drug_resuvatin_cancer['患者编号']==i]\n",
    "    temp = temp.sort_values(['医嘱开始时间'],ascending=True).reset_index(drop=True)\n",
    "    # 判断研究期用药天数\n",
    "    drug_start_time = pd.to_datetime(temp.loc[0,'医嘱开始时间'])\n",
    "    temp_r = temp[(pd.to_datetime(temp['医嘱开始时间'])<=drug_start_time+datetime.timedelta(days=135)) &\n",
    "                                (pd.to_datetime(temp['医嘱开始时间'])>=drug_start_time)]\n",
    "    k_value = temp_r['用药时长'].sum()/135\n",
    "    if round(k_value,1)>=0.5:\n",
    "        temp_list.append(temp)"
   ]
  },
  {
   "cell_type": "code",
   "execution_count": 195,
   "metadata": {},
   "outputs": [],
   "source": [
    "df_drug_resuvatin_keep=pd.concat(temp_list,axis=0).reset_index(drop=True)\n",
    "del temp_list"
   ]
  },
  {
   "cell_type": "code",
   "execution_count": 196,
   "metadata": {},
   "outputs": [
    {
     "data": {
      "text/plain": [
       "(35412, 21)"
      ]
     },
     "execution_count": 196,
     "metadata": {},
     "output_type": "execute_result"
    }
   ],
   "source": [
    "df_drug_resuvatin_keep.shape"
   ]
  },
  {
   "cell_type": "code",
   "execution_count": 198,
   "metadata": {},
   "outputs": [],
   "source": [
    "df_drug_resuvatin_keep.to_csv(project_path+'/data/processed_data/df_3.3.3_用药数据纳排.csv')"
   ]
  },
  {
   "cell_type": "markdown",
   "metadata": {},
   "source": [
    "## 纳入血脂检查"
   ]
  },
  {
   "cell_type": "markdown",
   "metadata": {},
   "source": [
    "### 提取血脂检查"
   ]
  },
  {
   "cell_type": "code",
   "execution_count": 440,
   "metadata": {},
   "outputs": [
    {
     "data": {
      "text/plain": [
       "'\\n低密度胆固醇LDL-C\\n高密度胆固醇HDL-C\\n极低密度胆固醇VLDL-C\\n总胆固醇(TC)\\n甘油三酯(TG)\\n载脂蛋白A1 (ApoA1)\\n载脂蛋白B (ApoB)\\n脂蛋白(a) [Lp(a)]\\n'"
      ]
     },
     "execution_count": 440,
     "metadata": {},
     "output_type": "execute_result"
    }
   ],
   "source": [
    "'''\n",
    "低密度胆固醇LDL-C\n",
    "高密度胆固醇HDL-C\n",
    "极低密度胆固醇VLDL-C\n",
    "总胆固醇(TC)\n",
    "甘油三酯(TG)\n",
    "载脂蛋白A1 (ApoA1)\n",
    "载脂蛋白B (ApoB)\n",
    "脂蛋白(a) [Lp(a)]\n",
    "'''"
   ]
  },
  {
   "cell_type": "code",
   "execution_count": 232,
   "metadata": {},
   "outputs": [],
   "source": [
    "# 人民医院\n",
    "df_check_1_BLE = df_check_1_T[['患者编号', '检验时间_date','HDL-C','LDL-C','CHO','TG','apo-A1','apo-B']]\n",
    "# 修改列名\n",
    "df_check_1_BLE = df_check_1_BLE.rename(columns={'CHO':'TC'})\n",
    "# 删除行全空\n",
    "df_check_1_BLE = df_check_1_BLE.reset_index(drop=True)\n",
    "for i in range(df_check_1_BLE.shape[0]):\n",
    "    if df_check_1_BLE.loc[i].notnull().sum()==2:\n",
    "        df_check_1_BLE.drop([i],axis=0,inplace=True)"
   ]
  },
  {
   "cell_type": "code",
   "execution_count": 233,
   "metadata": {},
   "outputs": [
    {
     "data": {
      "text/plain": [
       "(8769, 8)"
      ]
     },
     "execution_count": 233,
     "metadata": {},
     "output_type": "execute_result"
    }
   ],
   "source": [
    "df_check_1_BLE.shape"
   ]
  },
  {
   "cell_type": "code",
   "execution_count": 234,
   "metadata": {},
   "outputs": [
    {
     "data": {
      "text/html": [
       "<div>\n",
       "<style scoped>\n",
       "    .dataframe tbody tr th:only-of-type {\n",
       "        vertical-align: middle;\n",
       "    }\n",
       "\n",
       "    .dataframe tbody tr th {\n",
       "        vertical-align: top;\n",
       "    }\n",
       "\n",
       "    .dataframe thead th {\n",
       "        text-align: right;\n",
       "    }\n",
       "</style>\n",
       "<table border=\"1\" class=\"dataframe\">\n",
       "  <thead>\n",
       "    <tr style=\"text-align: right;\">\n",
       "      <th></th>\n",
       "      <th>患者编号</th>\n",
       "      <th>检验时间_date</th>\n",
       "      <th>HDL-C</th>\n",
       "      <th>LDL-C</th>\n",
       "      <th>TC</th>\n",
       "      <th>TG</th>\n",
       "      <th>apo-A1</th>\n",
       "      <th>apo-B</th>\n",
       "    </tr>\n",
       "  </thead>\n",
       "  <tbody>\n",
       "    <tr>\n",
       "      <th>0</th>\n",
       "      <td>pat_2bb0dfeccae4278dbf399d6428a2573d</td>\n",
       "      <td>2018-08-16</td>\n",
       "      <td>1.1</td>\n",
       "      <td>2.42</td>\n",
       "      <td>3.87</td>\n",
       "      <td>2.89</td>\n",
       "      <td>119.5</td>\n",
       "      <td>86.4</td>\n",
       "    </tr>\n",
       "  </tbody>\n",
       "</table>\n",
       "</div>"
      ],
      "text/plain": [
       "                                   患者编号   检验时间_date  HDL-C  LDL-C    TC    TG  \\\n",
       "0  pat_2bb0dfeccae4278dbf399d6428a2573d  2018-08-16    1.1   2.42  3.87  2.89   \n",
       "\n",
       "   apo-A1  apo-B  \n",
       "0   119.5   86.4  "
      ]
     },
     "execution_count": 234,
     "metadata": {},
     "output_type": "execute_result"
    }
   ],
   "source": [
    "df_check_1_BLE.head(1)"
   ]
  },
  {
   "cell_type": "code",
   "execution_count": 235,
   "metadata": {},
   "outputs": [
    {
     "data": {
      "text/plain": [
       "Index(['患者编号', '检验时间_date', '总胆固醇(TC)-静脉血', '天门冬氨酸氨基转移酶(AST)-静脉血',\n",
       "       '丙氨酸氨基转移酶(ALT)-静脉血', '总胆红素(TBIL)-静脉血', '肌酐(Crea)-静脉血', '甘油三酯(TG)-静脉血',\n",
       "       '尿素(Urea)-静脉血(空腹)', '尿素(Urea)-静脉血', '肌酸激酶(CK)-静脉血(空腹)', '肌酸激酶(CK)-静脉血',\n",
       "       '葡萄糖(Glu)-末梢血', '葡萄糖(Glu)-静脉血(2小时)', '甘油三酯(TG)-静脉血(空腹)',\n",
       "       '总胆固醇(TC)-静脉血(空腹)', '载脂蛋白B(apoB)-静脉血(空腹)', '载脂蛋白AI(apoAI)-静脉血(空腹)',\n",
       "       '高密度脂蛋白胆固醇(HDL-C)-静脉血(空腹)', '低密度脂蛋白胆固醇(LDL-C)-静脉血(空腹)',\n",
       "       '低密度脂蛋白胆固醇(LDL-C)-静脉血', '高密度脂蛋白胆固醇(HDL-C)-静脉血', '载脂蛋白AI(apoAI)-静脉血',\n",
       "       '载脂蛋白B(apoB)-静脉血', '脂蛋白a(LPa)-静脉血', '微量总蛋白-24小时尿液', '总蛋白(TP)-尿液',\n",
       "       '微量白蛋白(mAlb)-尿液'],\n",
       "      dtype='object')"
      ]
     },
     "execution_count": 235,
     "metadata": {},
     "output_type": "execute_result"
    }
   ],
   "source": [
    "df_check_2.columns"
   ]
  },
  {
   "cell_type": "code",
   "execution_count": 236,
   "metadata": {},
   "outputs": [],
   "source": [
    "# 世纪坛医院\n",
    "df_check_2_BLE = df_check_2[['患者编号', '检验时间_date','总胆固醇(TC)-静脉血','总胆固醇(TC)-静脉血(空腹)',\n",
    "                             '低密度脂蛋白胆固醇(LDL-C)-静脉血', '低密度脂蛋白胆固醇(LDL-C)-静脉血(空腹)',\n",
    "                             '高密度脂蛋白胆固醇(HDL-C)-静脉血','高密度脂蛋白胆固醇(HDL-C)-静脉血(空腹)',\n",
    "                             '甘油三酯(TG)-静脉血','甘油三酯(TG)-静脉血(空腹)', \n",
    "                             '载脂蛋白AI(apoAI)-静脉血','载脂蛋白AI(apoAI)-静脉血(空腹)',\n",
    "                            '载脂蛋白B(apoB)-静脉血','载脂蛋白B(apoB)-静脉血(空腹)',\n",
    "                             '脂蛋白a(LPa)-静脉血']]\n",
    "# 修改列名\n",
    "df_check_2_BLE = df_check_2_BLE.rename(columns={'总胆固醇(TC)-静脉血':'TC','总胆固醇(TC)-静脉血(空腹)':'TC_empty',\n",
    "                                    '低密度脂蛋白胆固醇(LDL-C)-静脉血':'LDL-C','低密度脂蛋白胆固醇(LDL-C)-静脉血(空腹)':'LDL-C_empty',\n",
    "                                    '高密度脂蛋白胆固醇(HDL-C)-静脉血':'HDL-C','高密度脂蛋白胆固醇(HDL-C)-静脉血(空腹)':'HDL-C_empty',\n",
    "                                    '甘油三酯(TG)-静脉血':'TG','甘油三酯(TG)-静脉血(空腹)':'TG_empty',\n",
    "                                    '载脂蛋白AI(apoAI)-静脉血':'apo-A1','载脂蛋白AI(apoAI)-静脉血(空腹)':'apo-A1_empty',\n",
    "                                    '载脂蛋白B(apoB)-静脉血':'apo-B','载脂蛋白B(apoB)-静脉血(空腹)':'apo-B_empty',\n",
    "                                    '脂蛋白a(LPa)-静脉血':'LPa'})"
   ]
  },
  {
   "cell_type": "code",
   "execution_count": 237,
   "metadata": {},
   "outputs": [],
   "source": [
    "# 合并空腹检查和静脉血检查\n",
    "df_check_2_BLE['TC_empty']=df_check_2_BLE.apply(lambda x: x['TC'] if pd.isnull(x['TC_empty']) else x['TC_empty'],axis=1)\n",
    "df_check_2_BLE['LDL-C_empty']=df_check_2_BLE.apply(lambda x: x['LDL-C'] if pd.isnull(x['LDL-C_empty']) else x['LDL-C_empty'],axis=1)\n",
    "df_check_2_BLE['HDL-C_empty']=df_check_2_BLE.apply(lambda x: x['HDL-C'] if pd.isnull(x['HDL-C_empty']) else x['HDL-C_empty'],axis=1)\n",
    "df_check_2_BLE['TG_empty']=df_check_2_BLE.apply(lambda x: x['TG'] if pd.isnull(x['TG_empty']) else x['TG_empty'],axis=1)\n",
    "df_check_2_BLE['apo-A1_empty']=df_check_2_BLE.apply(lambda x: x['apo-A1'] if pd.isnull(x['apo-A1_empty']) else x['apo-A1_empty'],axis=1)\n",
    "df_check_2_BLE['apo-B_empty']=df_check_2_BLE.apply(lambda x: x['apo-B'] if pd.isnull(x['apo-B_empty']) else x['apo-B_empty'],axis=1)"
   ]
  },
  {
   "cell_type": "code",
   "execution_count": 238,
   "metadata": {},
   "outputs": [],
   "source": [
    "df_check_2_BLE=df_check_2_BLE[['患者编号', '检验时间_date','HDL-C_empty','LDL-C_empty','TC_empty','TG_empty','apo-A1_empty','apo-B_empty','LPa']]\n",
    "df_check_2_BLE.columns=['患者编号', '检验时间_date','HDL-C','LDL-C','TC','TG','apo-A1','apo-B','LPa']"
   ]
  },
  {
   "cell_type": "code",
   "execution_count": 239,
   "metadata": {},
   "outputs": [],
   "source": [
    "# 删除行全空\n",
    "df_check_2_BLE = df_check_2_BLE.reset_index(drop=True)\n",
    "for i in range(df_check_2_BLE.shape[0]):\n",
    "    if df_check_2_BLE.loc[i].notnull().sum() == 2:\n",
    "        df_check_2_BLE.drop([i],axis=0,inplace=True)"
   ]
  },
  {
   "cell_type": "code",
   "execution_count": 240,
   "metadata": {},
   "outputs": [
    {
     "data": {
      "text/plain": [
       "(13208, 9)"
      ]
     },
     "execution_count": 240,
     "metadata": {},
     "output_type": "execute_result"
    }
   ],
   "source": [
    "df_check_2_BLE.shape"
   ]
  },
  {
   "cell_type": "code",
   "execution_count": 242,
   "metadata": {},
   "outputs": [
    {
     "data": {
      "text/html": [
       "<div>\n",
       "<style scoped>\n",
       "    .dataframe tbody tr th:only-of-type {\n",
       "        vertical-align: middle;\n",
       "    }\n",
       "\n",
       "    .dataframe tbody tr th {\n",
       "        vertical-align: top;\n",
       "    }\n",
       "\n",
       "    .dataframe thead th {\n",
       "        text-align: right;\n",
       "    }\n",
       "</style>\n",
       "<table border=\"1\" class=\"dataframe\">\n",
       "  <thead>\n",
       "    <tr style=\"text-align: right;\">\n",
       "      <th></th>\n",
       "      <th>患者编号</th>\n",
       "      <th>检验时间_date</th>\n",
       "      <th>HDL-C</th>\n",
       "      <th>LDL-C</th>\n",
       "      <th>TC</th>\n",
       "      <th>TG</th>\n",
       "      <th>apo-A1</th>\n",
       "      <th>apo-B</th>\n",
       "      <th>LPa</th>\n",
       "    </tr>\n",
       "  </thead>\n",
       "  <tbody>\n",
       "    <tr>\n",
       "      <th>1</th>\n",
       "      <td>0006b9e1f7ff71744d8162c0c71b2a95</td>\n",
       "      <td>2018-03-18</td>\n",
       "      <td>1.17</td>\n",
       "      <td>1.55</td>\n",
       "      <td>3.35</td>\n",
       "      <td>0.78</td>\n",
       "      <td>0.95</td>\n",
       "      <td>0.69</td>\n",
       "      <td>NaN</td>\n",
       "    </tr>\n",
       "    <tr>\n",
       "      <th>5</th>\n",
       "      <td>0012dfc2f29b979bf5c63fb4f11b7475</td>\n",
       "      <td>2019-11-22</td>\n",
       "      <td>1.04</td>\n",
       "      <td>3.23</td>\n",
       "      <td>5.03</td>\n",
       "      <td>1.67</td>\n",
       "      <td>NaN</td>\n",
       "      <td>NaN</td>\n",
       "      <td>NaN</td>\n",
       "    </tr>\n",
       "    <tr>\n",
       "      <th>8</th>\n",
       "      <td>00193379440c8cd81738464616c134e1</td>\n",
       "      <td>2018-11-01</td>\n",
       "      <td>1.18</td>\n",
       "      <td>2.29</td>\n",
       "      <td>3.83</td>\n",
       "      <td>0.70</td>\n",
       "      <td>1.03</td>\n",
       "      <td>0.75</td>\n",
       "      <td>NaN</td>\n",
       "    </tr>\n",
       "    <tr>\n",
       "      <th>10</th>\n",
       "      <td>00193379440c8cd81738464616c134e1</td>\n",
       "      <td>2019-05-18</td>\n",
       "      <td>1.13</td>\n",
       "      <td>1.37</td>\n",
       "      <td>3.07</td>\n",
       "      <td>0.77</td>\n",
       "      <td>0.96</td>\n",
       "      <td>0.57</td>\n",
       "      <td>NaN</td>\n",
       "    </tr>\n",
       "    <tr>\n",
       "      <th>11</th>\n",
       "      <td>0020640c4052f1dae97fcf39be390e1b</td>\n",
       "      <td>2019-04-01</td>\n",
       "      <td>1.54</td>\n",
       "      <td>1.69</td>\n",
       "      <td>3.79</td>\n",
       "      <td>1.30</td>\n",
       "      <td>NaN</td>\n",
       "      <td>NaN</td>\n",
       "      <td>NaN</td>\n",
       "    </tr>\n",
       "  </tbody>\n",
       "</table>\n",
       "</div>"
      ],
      "text/plain": [
       "                                患者编号   检验时间_date  HDL-C  LDL-C    TC    TG  \\\n",
       "1   0006b9e1f7ff71744d8162c0c71b2a95  2018-03-18   1.17   1.55  3.35  0.78   \n",
       "5   0012dfc2f29b979bf5c63fb4f11b7475  2019-11-22   1.04   3.23  5.03  1.67   \n",
       "8   00193379440c8cd81738464616c134e1  2018-11-01   1.18   2.29  3.83  0.70   \n",
       "10  00193379440c8cd81738464616c134e1  2019-05-18   1.13   1.37  3.07  0.77   \n",
       "11  0020640c4052f1dae97fcf39be390e1b  2019-04-01   1.54   1.69  3.79  1.30   \n",
       "\n",
       "    apo-A1  apo-B  LPa  \n",
       "1     0.95   0.69  NaN  \n",
       "5      NaN    NaN  NaN  \n",
       "8     1.03   0.75  NaN  \n",
       "10    0.96   0.57  NaN  \n",
       "11     NaN    NaN  NaN  "
      ]
     },
     "execution_count": 242,
     "metadata": {},
     "output_type": "execute_result"
    }
   ],
   "source": [
    "df_check_2_BLE.head()"
   ]
  },
  {
   "cell_type": "code",
   "execution_count": 243,
   "metadata": {},
   "outputs": [
    {
     "name": "stderr",
     "output_type": "stream",
     "text": [
      "D:\\Anaconda3\\lib\\site-packages\\ipykernel_launcher.py:2: FutureWarning: Sorting because non-concatenation axis is not aligned. A future version\n",
      "of pandas will change to not sort by default.\n",
      "\n",
      "To accept the future behavior, pass 'sort=False'.\n",
      "\n",
      "To retain the current behavior and silence the warning, pass 'sort=True'.\n",
      "\n",
      "  \n"
     ]
    }
   ],
   "source": [
    "# 合并血脂检查：人民 + 世纪坛\n",
    "df_check_BLE = pd.concat([df_check_1_BLE,df_check_2_BLE],axis=0).reset_index(drop=True)"
   ]
  },
  {
   "cell_type": "code",
   "execution_count": 244,
   "metadata": {},
   "outputs": [
    {
     "data": {
      "text/plain": [
       "(21977, 9)"
      ]
     },
     "execution_count": 244,
     "metadata": {},
     "output_type": "execute_result"
    }
   ],
   "source": [
    "df_check_BLE.shape"
   ]
  },
  {
   "cell_type": "code",
   "execution_count": 245,
   "metadata": {},
   "outputs": [
    {
     "data": {
      "text/html": [
       "<div>\n",
       "<style scoped>\n",
       "    .dataframe tbody tr th:only-of-type {\n",
       "        vertical-align: middle;\n",
       "    }\n",
       "\n",
       "    .dataframe tbody tr th {\n",
       "        vertical-align: top;\n",
       "    }\n",
       "\n",
       "    .dataframe thead th {\n",
       "        text-align: right;\n",
       "    }\n",
       "</style>\n",
       "<table border=\"1\" class=\"dataframe\">\n",
       "  <thead>\n",
       "    <tr style=\"text-align: right;\">\n",
       "      <th></th>\n",
       "      <th>HDL-C</th>\n",
       "      <th>LDL-C</th>\n",
       "      <th>LPa</th>\n",
       "      <th>TC</th>\n",
       "      <th>TG</th>\n",
       "      <th>apo-A1</th>\n",
       "      <th>apo-B</th>\n",
       "      <th>患者编号</th>\n",
       "      <th>检验时间_date</th>\n",
       "    </tr>\n",
       "  </thead>\n",
       "  <tbody>\n",
       "    <tr>\n",
       "      <th>0</th>\n",
       "      <td>1.10</td>\n",
       "      <td>2.42</td>\n",
       "      <td>NaN</td>\n",
       "      <td>3.87</td>\n",
       "      <td>2.89</td>\n",
       "      <td>119.5</td>\n",
       "      <td>86.4</td>\n",
       "      <td>pat_2bb0dfeccae4278dbf399d6428a2573d</td>\n",
       "      <td>2018-08-16</td>\n",
       "    </tr>\n",
       "    <tr>\n",
       "      <th>1</th>\n",
       "      <td>0.95</td>\n",
       "      <td>1.43</td>\n",
       "      <td>NaN</td>\n",
       "      <td>2.82</td>\n",
       "      <td>1.78</td>\n",
       "      <td>112.9</td>\n",
       "      <td>60.7</td>\n",
       "      <td>pat_2bb0dfeccae4278dbf399d6428a2573d</td>\n",
       "      <td>2019-04-10</td>\n",
       "    </tr>\n",
       "  </tbody>\n",
       "</table>\n",
       "</div>"
      ],
      "text/plain": [
       "   HDL-C  LDL-C  LPa    TC    TG  apo-A1  apo-B  \\\n",
       "0   1.10   2.42  NaN  3.87  2.89   119.5   86.4   \n",
       "1   0.95   1.43  NaN  2.82  1.78   112.9   60.7   \n",
       "\n",
       "                                   患者编号   检验时间_date  \n",
       "0  pat_2bb0dfeccae4278dbf399d6428a2573d  2018-08-16  \n",
       "1  pat_2bb0dfeccae4278dbf399d6428a2573d  2019-04-10  "
      ]
     },
     "execution_count": 245,
     "metadata": {},
     "output_type": "execute_result"
    }
   ],
   "source": [
    "df_check_BLE.head(2)"
   ]
  },
  {
   "cell_type": "code",
   "execution_count": 340,
   "metadata": {},
   "outputs": [],
   "source": [
    "df_check_BLE=df_check_BLE[['患者编号','检验时间_date','HDL-C','LDL-C','LPa','TC','TG','apo-A1','apo-B']]"
   ]
  },
  {
   "cell_type": "code",
   "execution_count": 341,
   "metadata": {},
   "outputs": [],
   "source": [
    "df_check_BLE.to_csv(project_path+'/data/processed_data/df_3.4.1_提取血脂检查.csv')"
   ]
  },
  {
   "cell_type": "markdown",
   "metadata": {},
   "source": [
    "### 计算非HDL-C"
   ]
  },
  {
   "cell_type": "code",
   "execution_count": 342,
   "metadata": {},
   "outputs": [
    {
     "data": {
      "text/plain": [
       "'\\n非HDL-C（NonHDL-C）= 总胆固醇（TC）-高密度脂蛋白胆固醇（HDL-C）= LDL-C+VLDL-C\\n注：知道了TC、HDL-C、LDL-C或VLDL-C就可以计算得出非HDL-C。\\n'"
      ]
     },
     "execution_count": 342,
     "metadata": {},
     "output_type": "execute_result"
    }
   ],
   "source": [
    "'''\n",
    "非HDL-C（NonHDL-C）= 总胆固醇（TC）-高密度脂蛋白胆固醇（HDL-C）= LDL-C+VLDL-C\n",
    "注：知道了TC、HDL-C、LDL-C或VLDL-C就可以计算得出非HDL-C。\n",
    "'''"
   ]
  },
  {
   "cell_type": "code",
   "execution_count": 343,
   "metadata": {},
   "outputs": [
    {
     "name": "stderr",
     "output_type": "stream",
     "text": [
      "D:\\Anaconda3\\lib\\site-packages\\ipykernel_launcher.py:2: SettingWithCopyWarning: \n",
      "A value is trying to be set on a copy of a slice from a DataFrame.\n",
      "Try using .loc[row_indexer,col_indexer] = value instead\n",
      "\n",
      "See the caveats in the documentation: http://pandas.pydata.org/pandas-docs/stable/user_guide/indexing.html#returning-a-view-versus-a-copy\n",
      "  \n"
     ]
    }
   ],
   "source": [
    " df_check_BLE['非HDL-C'] =  df_check_BLE.apply(lambda x: np.nan if (pd.isnull(x['TC']) or pd.isnull(x['HDL-C'])) else\n",
    "                                                           x['TC']-x['HDL-C'], axis=1)"
   ]
  },
  {
   "cell_type": "code",
   "execution_count": 344,
   "metadata": {},
   "outputs": [
    {
     "data": {
      "text/html": [
       "<div>\n",
       "<style scoped>\n",
       "    .dataframe tbody tr th:only-of-type {\n",
       "        vertical-align: middle;\n",
       "    }\n",
       "\n",
       "    .dataframe tbody tr th {\n",
       "        vertical-align: top;\n",
       "    }\n",
       "\n",
       "    .dataframe thead th {\n",
       "        text-align: right;\n",
       "    }\n",
       "</style>\n",
       "<table border=\"1\" class=\"dataframe\">\n",
       "  <thead>\n",
       "    <tr style=\"text-align: right;\">\n",
       "      <th></th>\n",
       "      <th>患者编号</th>\n",
       "      <th>检验时间_date</th>\n",
       "      <th>HDL-C</th>\n",
       "      <th>LDL-C</th>\n",
       "      <th>LPa</th>\n",
       "      <th>TC</th>\n",
       "      <th>TG</th>\n",
       "      <th>apo-A1</th>\n",
       "      <th>apo-B</th>\n",
       "      <th>非HDL-C</th>\n",
       "    </tr>\n",
       "  </thead>\n",
       "  <tbody>\n",
       "    <tr>\n",
       "      <th>0</th>\n",
       "      <td>pat_2bb0dfeccae4278dbf399d6428a2573d</td>\n",
       "      <td>2018-08-16</td>\n",
       "      <td>1.10</td>\n",
       "      <td>2.42</td>\n",
       "      <td>NaN</td>\n",
       "      <td>3.87</td>\n",
       "      <td>2.89</td>\n",
       "      <td>119.5</td>\n",
       "      <td>86.4</td>\n",
       "      <td>2.77</td>\n",
       "    </tr>\n",
       "    <tr>\n",
       "      <th>1</th>\n",
       "      <td>pat_2bb0dfeccae4278dbf399d6428a2573d</td>\n",
       "      <td>2019-04-10</td>\n",
       "      <td>0.95</td>\n",
       "      <td>1.43</td>\n",
       "      <td>NaN</td>\n",
       "      <td>2.82</td>\n",
       "      <td>1.78</td>\n",
       "      <td>112.9</td>\n",
       "      <td>60.7</td>\n",
       "      <td>1.87</td>\n",
       "    </tr>\n",
       "    <tr>\n",
       "      <th>2</th>\n",
       "      <td>pat_2bb0dfeccae4278dbf399d6428a2573d</td>\n",
       "      <td>2019-11-06</td>\n",
       "      <td>1.06</td>\n",
       "      <td>1.78</td>\n",
       "      <td>NaN</td>\n",
       "      <td>3.19</td>\n",
       "      <td>2.56</td>\n",
       "      <td>117.5</td>\n",
       "      <td>66.8</td>\n",
       "      <td>2.13</td>\n",
       "    </tr>\n",
       "    <tr>\n",
       "      <th>3</th>\n",
       "      <td>pat_043aba443d80d048105d8903d2034364</td>\n",
       "      <td>2018-06-05</td>\n",
       "      <td>1.30</td>\n",
       "      <td>3.28</td>\n",
       "      <td>NaN</td>\n",
       "      <td>4.78</td>\n",
       "      <td>1.48</td>\n",
       "      <td>NaN</td>\n",
       "      <td>NaN</td>\n",
       "      <td>3.48</td>\n",
       "    </tr>\n",
       "    <tr>\n",
       "      <th>4</th>\n",
       "      <td>pat_272f3f5730bfc5a361c461b4fde1dbb8</td>\n",
       "      <td>2018-08-15</td>\n",
       "      <td>1.24</td>\n",
       "      <td>2.22</td>\n",
       "      <td>NaN</td>\n",
       "      <td>4.25</td>\n",
       "      <td>1.15</td>\n",
       "      <td>125.7</td>\n",
       "      <td>79.2</td>\n",
       "      <td>3.01</td>\n",
       "    </tr>\n",
       "  </tbody>\n",
       "</table>\n",
       "</div>"
      ],
      "text/plain": [
       "                                   患者编号   检验时间_date  HDL-C  LDL-C  LPa    TC  \\\n",
       "0  pat_2bb0dfeccae4278dbf399d6428a2573d  2018-08-16   1.10   2.42  NaN  3.87   \n",
       "1  pat_2bb0dfeccae4278dbf399d6428a2573d  2019-04-10   0.95   1.43  NaN  2.82   \n",
       "2  pat_2bb0dfeccae4278dbf399d6428a2573d  2019-11-06   1.06   1.78  NaN  3.19   \n",
       "3  pat_043aba443d80d048105d8903d2034364  2018-06-05   1.30   3.28  NaN  4.78   \n",
       "4  pat_272f3f5730bfc5a361c461b4fde1dbb8  2018-08-15   1.24   2.22  NaN  4.25   \n",
       "\n",
       "     TG  apo-A1  apo-B  非HDL-C  \n",
       "0  2.89   119.5   86.4    2.77  \n",
       "1  1.78   112.9   60.7    1.87  \n",
       "2  2.56   117.5   66.8    2.13  \n",
       "3  1.48     NaN    NaN    3.48  \n",
       "4  1.15   125.7   79.2    3.01  "
      ]
     },
     "execution_count": 344,
     "metadata": {},
     "output_type": "execute_result"
    }
   ],
   "source": [
    "df_check_BLE.head()"
   ]
  },
  {
   "cell_type": "code",
   "execution_count": 345,
   "metadata": {},
   "outputs": [],
   "source": [
    "df_check_BLE.to_csv(project_path+'/data/processed_data/df_3.4.2_计算非HDL-C.csv')"
   ]
  },
  {
   "cell_type": "code",
   "execution_count": 3,
   "metadata": {},
   "outputs": [],
   "source": [
    "df_check_BLE=pd.read_csv(project_path+'/data/processed_data/疗效/df_3.4.2_计算非HDL-C.csv')\n",
    "if 'Unnamed: 0' in df_check_BLE.columns:\n",
    "    del df_check_BLE['Unnamed: 0']"
   ]
  },
  {
   "cell_type": "markdown",
   "metadata": {},
   "source": [
    "### 血脂检查纳排"
   ]
  },
  {
   "cell_type": "code",
   "execution_count": 252,
   "metadata": {},
   "outputs": [
    {
     "data": {
      "text/plain": [
       "'\\n血脂检查>=2\\n基线期和研究期：存在血脂数据\\n'"
      ]
     },
     "execution_count": 252,
     "metadata": {},
     "output_type": "execute_result"
    }
   ],
   "source": [
    "'''\n",
    "血脂检查>=2\n",
    "基线期和研究期：存在血脂数据\n",
    "'''"
   ]
  },
  {
   "cell_type": "code",
   "execution_count": 390,
   "metadata": {},
   "outputs": [],
   "source": [
    "# 读入处理半成品的瑞舒伐他汀数据\n",
    "df_drug_resuvatin_BLE = df_drug_resuvatin_keep.copy().reset_index(drop=True)"
   ]
  },
  {
   "cell_type": "code",
   "execution_count": 391,
   "metadata": {},
   "outputs": [],
   "source": [
    "# df_drug_resuvatin_BLE = df_drug_resuvatin_BLE.drop_duplicates(['患者编号','首次用药时间'],keep='first')[['data_source','患者编号','首次用药时间']]\n",
    "# df_drug_resuvatin_BLE = pd.merge(df_drug_resuvatin_BLE,df_check_BLE,on='患者编号',how='left')\n",
    "\n",
    "# pd.DataFrame(df_drug_resuvatin_BLE.患者编号.value_counts()).to_csv(project_path+'/data/processed_data/df_temp_血脂纳排前统计.csv')\n",
    "\n",
    "# df_drug_resuvatin_BLE.to_csv(project_path+'/data/processed_data/df_3.4.3_血脂纳排前用药数据.csv')"
   ]
  },
  {
   "cell_type": "code",
   "execution_count": 392,
   "metadata": {},
   "outputs": [
    {
     "data": {
      "text/plain": [
       "(35412, 21)"
      ]
     },
     "execution_count": 392,
     "metadata": {},
     "output_type": "execute_result"
    }
   ],
   "source": [
    "df_drug_resuvatin_BLE.shape"
   ]
  },
  {
   "cell_type": "code",
   "execution_count": 393,
   "metadata": {},
   "outputs": [],
   "source": [
    "# 删除全列为空\n",
    "def del_allNull(df_model):\n",
    "    # 血脂检查项\n",
    "    ble_list = ['HDL-C','LDL-C','TC','TG','apo-A1','apo-B']\n",
    "    df_ble = df_model[['患者编号','检验时间_date']+ble_list]\n",
    "    # 列全空\n",
    "    for i in df_ble.columns:\n",
    "        if df_ble[i].isnull().sum()== df_ble.shape[0]:\n",
    "            del df_ble[i]\n",
    "    # 行全空\n",
    "    df_ble = df_ble.reset_index(drop=True)\n",
    "    for i in range(df_ble.shape[0]):\n",
    "        if df_ble.loc[i].isnull().sum()== (df_ble.shape[1]-2):\n",
    "            df_ble.drop([i],axis=0,inplace=True)\n",
    "    return df_ble.reset_index(drop=True)"
   ]
  },
  {
   "cell_type": "code",
   "execution_count": 394,
   "metadata": {
    "scrolled": true
   },
   "outputs": [],
   "source": [
    "temp_list=[]\n",
    "for i in df_drug_resuvatin_BLE.患者编号.unique():\n",
    "    # 患者用药\n",
    "    temp = df_drug_resuvatin_BLE[df_drug_resuvatin_BLE['患者编号']==i]\n",
    "    temp = temp.sort_values(by=['医嘱开始时间'],ascending=True).reset_index(drop=True)\n",
    "    drug_start_time = pd.to_datetime(temp.loc[0,'医嘱开始时间'])   # 初始开药时间\n",
    "    # 患者血脂检查\n",
    "    temp_check = df_check_BLE[df_check_BLE['患者编号']==i]\n",
    "    temp_check = temp_check.sort_values(by=['检验时间_date'],ascending=True).reset_index(drop=True)\n",
    "    temp_check_nt = del_allNull(temp_check) # 不全为空的血脂检查\n",
    "    if temp_check_nt.shape[0]<2:\n",
    "        continue\n",
    "    # 基线期-血脂检查\n",
    "    temp_check_b = temp_check_nt[(pd.to_datetime(temp_check_nt['检验时间_date'])>=drug_start_time-datetime.timedelta(days=90)) &\n",
    "                                (pd.to_datetime(temp_check_nt['检验时间_date'])<=drug_start_time)]\n",
    "    # 研究期-血脂检查\n",
    "    temp_check_r = temp_check_nt[(pd.to_datetime(temp_check_nt['检验时间_date'])<=drug_start_time+datetime.timedelta(days=135)) &\n",
    "                                (pd.to_datetime(temp_check_nt['检验时间_date'])>drug_start_time+datetime.timedelta(days=45))]\n",
    "    if (temp_check_b.shape[0]>=1) & (temp_check_r.shape[0]>=1):\n",
    "        temp_list.append(temp)"
   ]
  },
  {
   "cell_type": "code",
   "execution_count": 395,
   "metadata": {},
   "outputs": [],
   "source": [
    "df_drug_resuvatin_BLE=pd.concat(temp_list,axis=0).reset_index(drop=True)\n",
    "del temp_list"
   ]
  },
  {
   "cell_type": "code",
   "execution_count": 396,
   "metadata": {},
   "outputs": [
    {
     "data": {
      "text/plain": [
       "164"
      ]
     },
     "execution_count": 396,
     "metadata": {},
     "output_type": "execute_result"
    }
   ],
   "source": [
    "df_drug_resuvatin_BLE.患者编号.nunique()"
   ]
  },
  {
   "cell_type": "code",
   "execution_count": 397,
   "metadata": {},
   "outputs": [
    {
     "data": {
      "text/plain": [
       "人民医院     141\n",
       "世纪坛医院     23\n",
       "Name: data_source, dtype: int64"
      ]
     },
     "execution_count": 397,
     "metadata": {},
     "output_type": "execute_result"
    }
   ],
   "source": [
    "df_drug_resuvatin_BLE.drop_duplicates(['患者编号','data_source'],keep='first').data_source.value_counts()"
   ]
  },
  {
   "cell_type": "code",
   "execution_count": 398,
   "metadata": {},
   "outputs": [
    {
     "data": {
      "text/plain": [
       "(1619, 21)"
      ]
     },
     "execution_count": 398,
     "metadata": {},
     "output_type": "execute_result"
    }
   ],
   "source": [
    "df_drug_resuvatin_BLE.shape"
   ]
  },
  {
   "cell_type": "code",
   "execution_count": 399,
   "metadata": {},
   "outputs": [
    {
     "data": {
      "text/plain": [
       "人民医院     1424\n",
       "世纪坛医院     195\n",
       "Name: data_source, dtype: int64"
      ]
     },
     "execution_count": 399,
     "metadata": {},
     "output_type": "execute_result"
    }
   ],
   "source": [
    "df_drug_resuvatin_BLE.data_source.value_counts()"
   ]
  },
  {
   "cell_type": "code",
   "execution_count": 207,
   "metadata": {},
   "outputs": [],
   "source": [
    "df_drug_resuvatin_BLE.to_csv(project_path+'/data/processed_data/df_3.4.3_血脂检查纳排.csv')"
   ]
  },
  {
   "cell_type": "code",
   "execution_count": 499,
   "metadata": {},
   "outputs": [],
   "source": [
    "df_drug_resuvatin_BLE_del=df_drug_resuvatin_keep[~ df_drug_resuvatin_keep.患者编号.isin(df_drug_resuvatin_BLE.患者编号.unique())]"
   ]
  },
  {
   "cell_type": "code",
   "execution_count": 500,
   "metadata": {},
   "outputs": [
    {
     "data": {
      "text/plain": [
       "(33935, 20)"
      ]
     },
     "execution_count": 500,
     "metadata": {},
     "output_type": "execute_result"
    }
   ],
   "source": [
    "df_drug_resuvatin_BLE_del.shape"
   ]
  },
  {
   "cell_type": "code",
   "execution_count": 501,
   "metadata": {},
   "outputs": [
    {
     "data": {
      "text/plain": [
       "3456"
      ]
     },
     "execution_count": 501,
     "metadata": {},
     "output_type": "execute_result"
    }
   ],
   "source": [
    "df_drug_resuvatin_BLE_del.患者编号.nunique()"
   ]
  },
  {
   "cell_type": "code",
   "execution_count": 200,
   "metadata": {},
   "outputs": [
    {
     "ename": "NameError",
     "evalue": "name 'df_drug_resuvatin_BLE_del' is not defined",
     "output_type": "error",
     "traceback": [
      "\u001b[1;31m---------------------------------------------------------------------------\u001b[0m",
      "\u001b[1;31mNameError\u001b[0m                                 Traceback (most recent call last)",
      "\u001b[1;32m<ipython-input-200-98977972384b>\u001b[0m in \u001b[0;36m<module>\u001b[1;34m\u001b[0m\n\u001b[1;32m----> 1\u001b[1;33m \u001b[0mdf_drug_resuvatin_BLE_del\u001b[0m\u001b[1;33m.\u001b[0m\u001b[0mto_csv\u001b[0m\u001b[1;33m(\u001b[0m\u001b[0mproject_path\u001b[0m\u001b[1;33m+\u001b[0m\u001b[1;34m'/data/processed_data/df_3.4.3_血脂检查删除数据.csv'\u001b[0m\u001b[1;33m)\u001b[0m\u001b[1;33m\u001b[0m\u001b[1;33m\u001b[0m\u001b[0m\n\u001b[0m",
      "\u001b[1;31mNameError\u001b[0m: name 'df_drug_resuvatin_BLE_del' is not defined"
     ]
    }
   ],
   "source": [
    "df_drug_resuvatin_BLE_del.to_csv(project_path+'/data/processed_data/df_3.4.3_血脂检查删除数据.csv')"
   ]
  },
  {
   "cell_type": "markdown",
   "metadata": {},
   "source": [
    "## 人口学特征"
   ]
  },
  {
   "cell_type": "code",
   "execution_count": 402,
   "metadata": {},
   "outputs": [
    {
     "data": {
      "text/plain": [
       "'\\nAGE=患者初次处方京新和/或可定日期-患者的出生日期\\n'"
      ]
     },
     "execution_count": 402,
     "metadata": {},
     "output_type": "execute_result"
    }
   ],
   "source": [
    "'''\n",
    "AGE=患者初次处方京新和/或可定日期-患者的出生日期\n",
    "'''"
   ]
  },
  {
   "cell_type": "markdown",
   "metadata": {},
   "source": [
    "### 人民医院--人口学数据"
   ]
  },
  {
   "cell_type": "code",
   "execution_count": 403,
   "metadata": {},
   "outputs": [],
   "source": [
    "df_popu_1 = pd.read_excel(r'./data/raw_data/人民医院/1-患者基本信息.xlsx')"
   ]
  },
  {
   "cell_type": "code",
   "execution_count": 404,
   "metadata": {},
   "outputs": [
    {
     "data": {
      "text/plain": [
       "(44998, 3)"
      ]
     },
     "execution_count": 404,
     "metadata": {},
     "output_type": "execute_result"
    }
   ],
   "source": [
    "df_popu_1.shape"
   ]
  },
  {
   "cell_type": "code",
   "execution_count": 405,
   "metadata": {},
   "outputs": [
    {
     "data": {
      "text/plain": [
       "Index(['患者编号', '性别', '出生日期'], dtype='object')"
      ]
     },
     "execution_count": 405,
     "metadata": {},
     "output_type": "execute_result"
    }
   ],
   "source": [
    "df_popu_1.columns"
   ]
  },
  {
   "cell_type": "markdown",
   "metadata": {},
   "source": [
    "### 世纪坛医院--人口学数据"
   ]
  },
  {
   "cell_type": "code",
   "execution_count": 406,
   "metadata": {},
   "outputs": [],
   "source": [
    "# 世纪坛医院--人口学数据\n",
    "df_popu_2 = pd.read_excel(r'./data/raw_data/首都医科大学附属北京世纪坛医院—阿托他汀临床疗效及安全性评价的真实世界研究-住院+门诊-2018.3.23-2020.3.xlsx',\n",
    "                              sheet_name='患者')"
   ]
  },
  {
   "cell_type": "code",
   "execution_count": 407,
   "metadata": {},
   "outputs": [
    {
     "data": {
      "text/plain": [
       "(61142, 11)"
      ]
     },
     "execution_count": 407,
     "metadata": {},
     "output_type": "execute_result"
    }
   ],
   "source": [
    "df_popu_2.shape"
   ]
  },
  {
   "cell_type": "code",
   "execution_count": 408,
   "metadata": {},
   "outputs": [
    {
     "data": {
      "text/plain": [
       "Index(['Unnamed: 0', 'Unnamed: 1', 'patient_SN', '性别', '出生日期', '年龄', '民族',\n",
       "       '既往是否有疾病史', '历史总门诊就诊次数', '历史总急诊就诊次数', '历史总住院就诊次数'],\n",
       "      dtype='object')"
      ]
     },
     "execution_count": 408,
     "metadata": {},
     "output_type": "execute_result"
    }
   ],
   "source": [
    "df_popu_2.columns"
   ]
  },
  {
   "cell_type": "code",
   "execution_count": 409,
   "metadata": {},
   "outputs": [],
   "source": [
    "df_popu_2 = df_popu_2[['patient_SN', '性别', '出生日期']]\n",
    "df_popu_2.rename(columns={'patient_SN':'患者编号'},inplace=True)"
   ]
  },
  {
   "cell_type": "markdown",
   "metadata": {},
   "source": [
    "### 合并人口学特征"
   ]
  },
  {
   "cell_type": "code",
   "execution_count": 410,
   "metadata": {},
   "outputs": [],
   "source": [
    "df_popu = pd.concat([df_popu_1,df_popu_2],axis=0).reset_index(drop=True)"
   ]
  },
  {
   "cell_type": "code",
   "execution_count": 411,
   "metadata": {},
   "outputs": [
    {
     "data": {
      "text/plain": [
       "(106140, 3)"
      ]
     },
     "execution_count": 411,
     "metadata": {},
     "output_type": "execute_result"
    }
   ],
   "source": [
    "df_popu.shape"
   ]
  },
  {
   "cell_type": "code",
   "execution_count": 412,
   "metadata": {},
   "outputs": [],
   "source": [
    "# 删除重复数据\n",
    "df_popu = df_popu.drop_duplicates(df_popu.columns, keep='first')"
   ]
  },
  {
   "cell_type": "code",
   "execution_count": 413,
   "metadata": {},
   "outputs": [
    {
     "data": {
      "text/plain": [
       "(65804, 3)"
      ]
     },
     "execution_count": 413,
     "metadata": {},
     "output_type": "execute_result"
    }
   ],
   "source": [
    "df_popu.shape"
   ]
  },
  {
   "cell_type": "code",
   "execution_count": 414,
   "metadata": {},
   "outputs": [
    {
     "data": {
      "text/html": [
       "<div>\n",
       "<style scoped>\n",
       "    .dataframe tbody tr th:only-of-type {\n",
       "        vertical-align: middle;\n",
       "    }\n",
       "\n",
       "    .dataframe tbody tr th {\n",
       "        vertical-align: top;\n",
       "    }\n",
       "\n",
       "    .dataframe thead th {\n",
       "        text-align: right;\n",
       "    }\n",
       "</style>\n",
       "<table border=\"1\" class=\"dataframe\">\n",
       "  <thead>\n",
       "    <tr style=\"text-align: right;\">\n",
       "      <th></th>\n",
       "      <th>患者编号</th>\n",
       "      <th>性别</th>\n",
       "      <th>出生日期</th>\n",
       "    </tr>\n",
       "  </thead>\n",
       "  <tbody>\n",
       "    <tr>\n",
       "      <th>0</th>\n",
       "      <td>pat_0d9297a346707bce01f0b4637484efe9</td>\n",
       "      <td>女性</td>\n",
       "      <td>1956</td>\n",
       "    </tr>\n",
       "    <tr>\n",
       "      <th>1</th>\n",
       "      <td>pat_0ebd83a8c3990a103016a650f84616f8</td>\n",
       "      <td>女性</td>\n",
       "      <td>1962</td>\n",
       "    </tr>\n",
       "    <tr>\n",
       "      <th>2</th>\n",
       "      <td>pat_13da443c402ad02c9e9de0c5c0751eda</td>\n",
       "      <td>女性</td>\n",
       "      <td>1973</td>\n",
       "    </tr>\n",
       "    <tr>\n",
       "      <th>3</th>\n",
       "      <td>pat_2c40bef1b35d17984b1d393c6be55688</td>\n",
       "      <td>女性</td>\n",
       "      <td>1952</td>\n",
       "    </tr>\n",
       "    <tr>\n",
       "      <th>4</th>\n",
       "      <td>pat_0f6bf632666460422c4923f591ede61f</td>\n",
       "      <td>女性</td>\n",
       "      <td>1943</td>\n",
       "    </tr>\n",
       "  </tbody>\n",
       "</table>\n",
       "</div>"
      ],
      "text/plain": [
       "                                   患者编号  性别  出生日期\n",
       "0  pat_0d9297a346707bce01f0b4637484efe9  女性  1956\n",
       "1  pat_0ebd83a8c3990a103016a650f84616f8  女性  1962\n",
       "2  pat_13da443c402ad02c9e9de0c5c0751eda  女性  1973\n",
       "3  pat_2c40bef1b35d17984b1d393c6be55688  女性  1952\n",
       "4  pat_0f6bf632666460422c4923f591ede61f  女性  1943"
      ]
     },
     "execution_count": 414,
     "metadata": {},
     "output_type": "execute_result"
    }
   ],
   "source": [
    "df_popu.head()"
   ]
  },
  {
   "cell_type": "code",
   "execution_count": 415,
   "metadata": {},
   "outputs": [],
   "source": [
    "df_popu.to_csv(project_path+'/data/processed_data/df_3.5.3_合并人口学特征.csv')"
   ]
  },
  {
   "cell_type": "markdown",
   "metadata": {},
   "source": [
    "### 并入人口学特征"
   ]
  },
  {
   "cell_type": "code",
   "execution_count": 416,
   "metadata": {},
   "outputs": [],
   "source": [
    "# 性别：男-1；女-0\n",
    "df_popu['性别'] = df_popu.性别.apply(lambda x: 1 if re.match('男',x) else 0)"
   ]
  },
  {
   "cell_type": "code",
   "execution_count": 417,
   "metadata": {},
   "outputs": [
    {
     "data": {
      "text/plain": [
       "1    34957\n",
       "0    30847\n",
       "Name: 性别, dtype: int64"
      ]
     },
     "execution_count": 417,
     "metadata": {},
     "output_type": "execute_result"
    }
   ],
   "source": [
    "df_popu.性别.value_counts()"
   ]
  },
  {
   "cell_type": "code",
   "execution_count": 418,
   "metadata": {},
   "outputs": [],
   "source": [
    "# 提取出生年\n",
    "df_popu['出生日期'] = df_popu.出生日期.apply(lambda x: np.nan if pd.isnull(x) else\n",
    "                                     str(x).split('-')[0] if '-' in str(x) else x)"
   ]
  },
  {
   "cell_type": "code",
   "execution_count": 410,
   "metadata": {},
   "outputs": [
    {
     "ename": "NameError",
     "evalue": "name 'df_popu' is not defined",
     "output_type": "error",
     "traceback": [
      "\u001b[1;31m---------------------------------------------------------------------------\u001b[0m",
      "\u001b[1;31mNameError\u001b[0m                                 Traceback (most recent call last)",
      "\u001b[1;32m<ipython-input-410-0803451d5530>\u001b[0m in \u001b[0;36m<module>\u001b[1;34m\u001b[0m\n\u001b[0;32m      7\u001b[0m \u001b[0mdf_drug_resuvatin_popu\u001b[0m \u001b[1;33m=\u001b[0m \u001b[0mpd\u001b[0m\u001b[1;33m.\u001b[0m\u001b[0mmerge\u001b[0m\u001b[1;33m(\u001b[0m\u001b[0mdf_drug_resuvatin_popu\u001b[0m\u001b[1;33m,\u001b[0m\u001b[0mdf_drug_start_time\u001b[0m\u001b[1;33m,\u001b[0m\u001b[0mon\u001b[0m\u001b[1;33m=\u001b[0m\u001b[1;34m'患者编号'\u001b[0m\u001b[1;33m,\u001b[0m\u001b[0mhow\u001b[0m\u001b[1;33m=\u001b[0m\u001b[1;34m'left'\u001b[0m\u001b[1;33m)\u001b[0m\u001b[1;33m\u001b[0m\u001b[1;33m\u001b[0m\u001b[0m\n\u001b[0;32m      8\u001b[0m \u001b[1;31m# 并入人口学特征\u001b[0m\u001b[1;33m\u001b[0m\u001b[1;33m\u001b[0m\u001b[1;33m\u001b[0m\u001b[0m\n\u001b[1;32m----> 9\u001b[1;33m \u001b[0mdf_drug_resuvatin_popu\u001b[0m \u001b[1;33m=\u001b[0m \u001b[0mpd\u001b[0m\u001b[1;33m.\u001b[0m\u001b[0mmerge\u001b[0m\u001b[1;33m(\u001b[0m\u001b[0mdf_drug_resuvatin_popu\u001b[0m\u001b[1;33m,\u001b[0m\u001b[0mdf_popu\u001b[0m\u001b[1;33m,\u001b[0m\u001b[0mon\u001b[0m\u001b[1;33m=\u001b[0m\u001b[1;34m'患者编号'\u001b[0m\u001b[1;33m,\u001b[0m\u001b[0mhow\u001b[0m\u001b[1;33m=\u001b[0m\u001b[1;34m'left'\u001b[0m\u001b[1;33m)\u001b[0m\u001b[1;33m\u001b[0m\u001b[1;33m\u001b[0m\u001b[0m\n\u001b[0m\u001b[0;32m     10\u001b[0m \u001b[1;31m# 计算年龄\u001b[0m\u001b[1;33m\u001b[0m\u001b[1;33m\u001b[0m\u001b[1;33m\u001b[0m\u001b[0m\n\u001b[0;32m     11\u001b[0m df_drug_resuvatin_popu['年龄'] = df_drug_resuvatin_popu.apply(lambda x:  np.nan if pd.isnull(x['出生日期']) else\n",
      "\u001b[1;31mNameError\u001b[0m: name 'df_popu' is not defined"
     ]
    }
   ],
   "source": [
    "# 计算年龄\n",
    "df_drug_resuvatin_popu = df_drug_resuvatin_BLE.copy().reset_index(drop=True)\n",
    "df_drug_start_time = df_drug_resuvatin_popu.sort_values(['患者编号','医嘱开始时间']).drop_duplicates(['患者编号'],keep='first')\n",
    "df_drug_start_time = df_drug_start_time[['患者编号','医嘱开始时间']].rename(columns={'医嘱开始时间':'初次用药时间'})\n",
    "df_drug_start_time['初次用药年'] =df_drug_start_time.初次用药时间.apply(lambda x: str(x).split('-')[0])\n",
    "# 并入到用药数据\n",
    "df_drug_resuvatin_popu = pd.merge(df_drug_resuvatin_popu,df_drug_start_time,on='患者编号',how='left')\n",
    "# 并入人口学特征\n",
    "df_drug_resuvatin_popu = pd.merge(df_drug_resuvatin_popu,df_popu,on='患者编号',how='left')\n",
    "# 计算年龄\n",
    "df_drug_resuvatin_popu['年龄'] = df_drug_resuvatin_popu.apply(lambda x:  np.nan if pd.isnull(x['出生日期']) else\n",
    "                                                                        int(x['初次用药年'])-int(x['出生日期']) ,axis=1)"
   ]
  },
  {
   "cell_type": "code",
   "execution_count": 528,
   "metadata": {},
   "outputs": [
    {
     "data": {
      "text/plain": [
       "(1420, 25)"
      ]
     },
     "execution_count": 528,
     "metadata": {},
     "output_type": "execute_result"
    }
   ],
   "source": [
    "df_drug_resuvatin_popu.shape"
   ]
  },
  {
   "cell_type": "code",
   "execution_count": 529,
   "metadata": {},
   "outputs": [
    {
     "ename": "PermissionError",
     "evalue": "[Errno 13] Permission denied: 'D:\\\\PycharmProjects\\\\Rosu_Beijing_renmin_hospital/data/processed_data/df_3.5.4_并入人口学特征.csv'",
     "output_type": "error",
     "traceback": [
      "\u001b[1;31m---------------------------------------------------------------------------\u001b[0m",
      "\u001b[1;31mPermissionError\u001b[0m                           Traceback (most recent call last)",
      "\u001b[1;32m<ipython-input-529-c30fe75c1bad>\u001b[0m in \u001b[0;36m<module>\u001b[1;34m\u001b[0m\n\u001b[1;32m----> 1\u001b[1;33m \u001b[0mdf_drug_resuvatin_popu\u001b[0m\u001b[1;33m.\u001b[0m\u001b[0mto_csv\u001b[0m\u001b[1;33m(\u001b[0m\u001b[0mproject_path\u001b[0m\u001b[1;33m+\u001b[0m\u001b[1;34m'/data/processed_data/df_3.5.4_并入人口学特征.csv'\u001b[0m\u001b[1;33m)\u001b[0m\u001b[1;33m\u001b[0m\u001b[1;33m\u001b[0m\u001b[0m\n\u001b[0m",
      "\u001b[1;32mD:\\Anaconda3\\lib\\site-packages\\pandas\\core\\generic.py\u001b[0m in \u001b[0;36mto_csv\u001b[1;34m(self, path_or_buf, sep, na_rep, float_format, columns, header, index, index_label, mode, encoding, compression, quoting, quotechar, line_terminator, chunksize, date_format, doublequote, escapechar, decimal, errors)\u001b[0m\n\u001b[0;32m   3168\u001b[0m             \u001b[0mdecimal\u001b[0m\u001b[1;33m=\u001b[0m\u001b[0mdecimal\u001b[0m\u001b[1;33m,\u001b[0m\u001b[1;33m\u001b[0m\u001b[1;33m\u001b[0m\u001b[0m\n\u001b[0;32m   3169\u001b[0m         )\n\u001b[1;32m-> 3170\u001b[1;33m         \u001b[0mformatter\u001b[0m\u001b[1;33m.\u001b[0m\u001b[0msave\u001b[0m\u001b[1;33m(\u001b[0m\u001b[1;33m)\u001b[0m\u001b[1;33m\u001b[0m\u001b[1;33m\u001b[0m\u001b[0m\n\u001b[0m\u001b[0;32m   3171\u001b[0m \u001b[1;33m\u001b[0m\u001b[0m\n\u001b[0;32m   3172\u001b[0m         \u001b[1;32mif\u001b[0m \u001b[0mpath_or_buf\u001b[0m \u001b[1;32mis\u001b[0m \u001b[1;32mNone\u001b[0m\u001b[1;33m:\u001b[0m\u001b[1;33m\u001b[0m\u001b[1;33m\u001b[0m\u001b[0m\n",
      "\u001b[1;32mD:\\Anaconda3\\lib\\site-packages\\pandas\\io\\formats\\csvs.py\u001b[0m in \u001b[0;36msave\u001b[1;34m(self)\u001b[0m\n\u001b[0;32m    188\u001b[0m                 \u001b[0mencoding\u001b[0m\u001b[1;33m=\u001b[0m\u001b[0mself\u001b[0m\u001b[1;33m.\u001b[0m\u001b[0mencoding\u001b[0m\u001b[1;33m,\u001b[0m\u001b[1;33m\u001b[0m\u001b[1;33m\u001b[0m\u001b[0m\n\u001b[0;32m    189\u001b[0m                 \u001b[0merrors\u001b[0m\u001b[1;33m=\u001b[0m\u001b[0mself\u001b[0m\u001b[1;33m.\u001b[0m\u001b[0merrors\u001b[0m\u001b[1;33m,\u001b[0m\u001b[1;33m\u001b[0m\u001b[1;33m\u001b[0m\u001b[0m\n\u001b[1;32m--> 190\u001b[1;33m                 \u001b[0mcompression\u001b[0m\u001b[1;33m=\u001b[0m\u001b[0mdict\u001b[0m\u001b[1;33m(\u001b[0m\u001b[0mself\u001b[0m\u001b[1;33m.\u001b[0m\u001b[0mcompression_args\u001b[0m\u001b[1;33m,\u001b[0m \u001b[0mmethod\u001b[0m\u001b[1;33m=\u001b[0m\u001b[0mself\u001b[0m\u001b[1;33m.\u001b[0m\u001b[0mcompression\u001b[0m\u001b[1;33m)\u001b[0m\u001b[1;33m,\u001b[0m\u001b[1;33m\u001b[0m\u001b[1;33m\u001b[0m\u001b[0m\n\u001b[0m\u001b[0;32m    191\u001b[0m             )\n\u001b[0;32m    192\u001b[0m             \u001b[0mclose\u001b[0m \u001b[1;33m=\u001b[0m \u001b[1;32mTrue\u001b[0m\u001b[1;33m\u001b[0m\u001b[1;33m\u001b[0m\u001b[0m\n",
      "\u001b[1;32mD:\\Anaconda3\\lib\\site-packages\\pandas\\io\\common.py\u001b[0m in \u001b[0;36mget_handle\u001b[1;34m(path_or_buf, mode, encoding, compression, memory_map, is_text, errors)\u001b[0m\n\u001b[0;32m    491\u001b[0m         \u001b[1;32mif\u001b[0m \u001b[0mencoding\u001b[0m\u001b[1;33m:\u001b[0m\u001b[1;33m\u001b[0m\u001b[1;33m\u001b[0m\u001b[0m\n\u001b[0;32m    492\u001b[0m             \u001b[1;31m# Encoding\u001b[0m\u001b[1;33m\u001b[0m\u001b[1;33m\u001b[0m\u001b[1;33m\u001b[0m\u001b[0m\n\u001b[1;32m--> 493\u001b[1;33m             \u001b[0mf\u001b[0m \u001b[1;33m=\u001b[0m \u001b[0mopen\u001b[0m\u001b[1;33m(\u001b[0m\u001b[0mpath_or_buf\u001b[0m\u001b[1;33m,\u001b[0m \u001b[0mmode\u001b[0m\u001b[1;33m,\u001b[0m \u001b[0mencoding\u001b[0m\u001b[1;33m=\u001b[0m\u001b[0mencoding\u001b[0m\u001b[1;33m,\u001b[0m \u001b[0merrors\u001b[0m\u001b[1;33m=\u001b[0m\u001b[0merrors\u001b[0m\u001b[1;33m,\u001b[0m \u001b[0mnewline\u001b[0m\u001b[1;33m=\u001b[0m\u001b[1;34m\"\"\u001b[0m\u001b[1;33m)\u001b[0m\u001b[1;33m\u001b[0m\u001b[1;33m\u001b[0m\u001b[0m\n\u001b[0m\u001b[0;32m    494\u001b[0m         \u001b[1;32melif\u001b[0m \u001b[0mis_text\u001b[0m\u001b[1;33m:\u001b[0m\u001b[1;33m\u001b[0m\u001b[1;33m\u001b[0m\u001b[0m\n\u001b[0;32m    495\u001b[0m             \u001b[1;31m# No explicit encoding\u001b[0m\u001b[1;33m\u001b[0m\u001b[1;33m\u001b[0m\u001b[1;33m\u001b[0m\u001b[0m\n",
      "\u001b[1;31mPermissionError\u001b[0m: [Errno 13] Permission denied: 'D:\\\\PycharmProjects\\\\Rosu_Beijing_renmin_hospital/data/processed_data/df_3.5.4_并入人口学特征.csv'"
     ]
    }
   ],
   "source": [
    "df_drug_resuvatin_popu.to_csv(project_path+'/data/processed_data/df_3.5.4_并入人口学特征.csv')"
   ]
  },
  {
   "cell_type": "markdown",
   "metadata": {},
   "source": [
    "## 个人史既往史"
   ]
  },
  {
   "cell_type": "code",
   "execution_count": 530,
   "metadata": {},
   "outputs": [
    {
     "data": {
      "text/plain": [
       "'\\n初次处方京新和/或可定日期(+1个月)前有过高血压、糖尿病、肝胆疾病等相关诊断，明确患者的疾病史\\n'"
      ]
     },
     "execution_count": 530,
     "metadata": {},
     "output_type": "execute_result"
    }
   ],
   "source": [
    "'''\n",
    "初次处方京新和/或可定日期(+1个月)前有过高血压、糖尿病、肝胆疾病等相关诊断，明确患者的疾病史\n",
    "'''"
   ]
  },
  {
   "cell_type": "markdown",
   "metadata": {},
   "source": [
    "### 人民医院--既往史"
   ]
  },
  {
   "cell_type": "code",
   "execution_count": 531,
   "metadata": {},
   "outputs": [],
   "source": [
    "df_history_1 = pd.read_excel(r'./data/raw_data/人民医院/5-病史（1诉5史）.xlsx')"
   ]
  },
  {
   "cell_type": "code",
   "execution_count": 532,
   "metadata": {},
   "outputs": [],
   "source": [
    "# 删除重复值\n",
    "df_history_1 = df_history_1.drop_duplicates(['患者编号','主诉'],keep='first')[['患者编号','主诉']]\n",
    "# 删除空值\n",
    "df_history_1 = df_history_1[df_history_1.主诉.notnull()]"
   ]
  },
  {
   "cell_type": "code",
   "execution_count": 533,
   "metadata": {},
   "outputs": [
    {
     "data": {
      "text/plain": [
       "(83658, 2)"
      ]
     },
     "execution_count": 533,
     "metadata": {},
     "output_type": "execute_result"
    }
   ],
   "source": [
    "df_history_1.shape"
   ]
  },
  {
   "cell_type": "code",
   "execution_count": 534,
   "metadata": {},
   "outputs": [
    {
     "data": {
      "text/html": [
       "<div>\n",
       "<style scoped>\n",
       "    .dataframe tbody tr th:only-of-type {\n",
       "        vertical-align: middle;\n",
       "    }\n",
       "\n",
       "    .dataframe tbody tr th {\n",
       "        vertical-align: top;\n",
       "    }\n",
       "\n",
       "    .dataframe thead th {\n",
       "        text-align: right;\n",
       "    }\n",
       "</style>\n",
       "<table border=\"1\" class=\"dataframe\">\n",
       "  <thead>\n",
       "    <tr style=\"text-align: right;\">\n",
       "      <th></th>\n",
       "      <th>患者编号</th>\n",
       "      <th>主诉</th>\n",
       "    </tr>\n",
       "  </thead>\n",
       "  <tbody>\n",
       "    <tr>\n",
       "      <th>0</th>\n",
       "      <td>pat_0d9297a346707bce01f0b4637484efe9</td>\n",
       "      <td>高血压平时在积水潭医院诊疗</td>\n",
       "    </tr>\n",
       "  </tbody>\n",
       "</table>\n",
       "</div>"
      ],
      "text/plain": [
       "                                   患者编号             主诉\n",
       "0  pat_0d9297a346707bce01f0b4637484efe9  高血压平时在积水潭医院诊疗"
      ]
     },
     "execution_count": 534,
     "metadata": {},
     "output_type": "execute_result"
    }
   ],
   "source": [
    "df_history_1.head(1)"
   ]
  },
  {
   "cell_type": "code",
   "execution_count": 535,
   "metadata": {
    "code_folding": []
   },
   "outputs": [
    {
     "name": "stderr",
     "output_type": "stream",
     "text": [
      "D:\\Anaconda3\\lib\\site-packages\\ipykernel_launcher.py:10: SettingWithCopyWarning: \n",
      "A value is trying to be set on a copy of a slice from a DataFrame.\n",
      "Try using .loc[row_indexer,col_indexer] = value instead\n",
      "\n",
      "See the caveats in the documentation: https://pandas.pydata.org/pandas-docs/stable/user_guide/indexing.html#returning-a-view-versus-a-copy\n",
      "  # Remove the CWD from sys.path while we load stuff.\n",
      "D:\\Anaconda3\\lib\\site-packages\\ipykernel_launcher.py:13: SettingWithCopyWarning: \n",
      "A value is trying to be set on a copy of a slice from a DataFrame.\n",
      "Try using .loc[row_indexer,col_indexer] = value instead\n",
      "\n",
      "See the caveats in the documentation: https://pandas.pydata.org/pandas-docs/stable/user_guide/indexing.html#returning-a-view-versus-a-copy\n",
      "  del sys.path[0]\n"
     ]
    }
   ],
   "source": [
    "temp_list=[]\n",
    "for i in df_history_1.患者编号.unique():\n",
    "    temp=df_history_1[df_history_1['患者编号']==i]\n",
    "    record_list=temp['主诉'].to_list()\n",
    "    record=';'.join(record_list)\n",
    "    record_list=re.split(',|，|;|。',record)\n",
    "    for j in record_list:\n",
    "        # 吸烟\n",
    "        if re.match('[^无未否戒]*烟',j):\n",
    "            temp['吸烟史']=1\n",
    "        # 饮酒\n",
    "        if re.match('[^无未否戒]*酒[^精]',j):\n",
    "            temp['饮酒史']=1\n",
    "    temp_list.append(temp)"
   ]
  },
  {
   "cell_type": "code",
   "execution_count": 536,
   "metadata": {},
   "outputs": [],
   "source": [
    "df_history_1=pd.concat(temp_list,axis=0)\n",
    "del temp_list\n",
    "df_history_1=df_history_1.drop_duplicates(['患者编号'],keep='first')[['患者编号','吸烟史','饮酒史']]\n",
    "df_history_1=df_history_1.fillna(0) # 缺失值填充0"
   ]
  },
  {
   "cell_type": "code",
   "execution_count": 537,
   "metadata": {},
   "outputs": [
    {
     "data": {
      "text/plain": [
       "0.0    36601\n",
       "1.0       29\n",
       "Name: 吸烟史, dtype: int64"
      ]
     },
     "execution_count": 537,
     "metadata": {},
     "output_type": "execute_result"
    }
   ],
   "source": [
    "df_history_1.吸烟史.value_counts()"
   ]
  },
  {
   "cell_type": "code",
   "execution_count": 538,
   "metadata": {},
   "outputs": [],
   "source": [
    "df_history_1.to_csv(project_path+'/data/processed_data/df_3.6.1_人民医院_既往史.csv')"
   ]
  },
  {
   "cell_type": "markdown",
   "metadata": {},
   "source": [
    "### 提取高血压糖尿病"
   ]
  },
  {
   "cell_type": "code",
   "execution_count": 539,
   "metadata": {},
   "outputs": [
    {
     "data": {
      "text/plain": [
       "Index(['患者编号', '诊断名称', '诊断日期', '是否主要诊断', '诊断类别名称'], dtype='object')"
      ]
     },
     "execution_count": 539,
     "metadata": {},
     "output_type": "execute_result"
    }
   ],
   "source": [
    "df_diagnose.columns"
   ]
  },
  {
   "cell_type": "code",
   "execution_count": 540,
   "metadata": {},
   "outputs": [],
   "source": [
    "# 提取高血压\n",
    "df_diagnose_EH = df_diagnose[df_diagnose.诊断名称.str.contains('高血压')].drop_duplicates(['患者编号'],keep='first')\n",
    "# 提取糖尿病\n",
    "df_diagnose_DM = df_diagnose[df_diagnose.诊断名称.str.contains('糖尿病')].drop_duplicates(['患者编号'],keep='first')"
   ]
  },
  {
   "cell_type": "code",
   "execution_count": 541,
   "metadata": {},
   "outputs": [
    {
     "name": "stdout",
     "output_type": "stream",
     "text": [
      "(39706, 5)\n",
      "(14823, 5)\n"
     ]
    }
   ],
   "source": [
    "print(df_diagnose_EH.shape)\n",
    "print(df_diagnose_DM.shape)"
   ]
  },
  {
   "cell_type": "code",
   "execution_count": 542,
   "metadata": {},
   "outputs": [
    {
     "data": {
      "text/html": [
       "<div>\n",
       "<style scoped>\n",
       "    .dataframe tbody tr th:only-of-type {\n",
       "        vertical-align: middle;\n",
       "    }\n",
       "\n",
       "    .dataframe tbody tr th {\n",
       "        vertical-align: top;\n",
       "    }\n",
       "\n",
       "    .dataframe thead th {\n",
       "        text-align: right;\n",
       "    }\n",
       "</style>\n",
       "<table border=\"1\" class=\"dataframe\">\n",
       "  <thead>\n",
       "    <tr style=\"text-align: right;\">\n",
       "      <th></th>\n",
       "      <th>患者编号</th>\n",
       "      <th>诊断名称</th>\n",
       "      <th>诊断日期</th>\n",
       "      <th>是否主要诊断</th>\n",
       "      <th>诊断类别名称</th>\n",
       "    </tr>\n",
       "  </thead>\n",
       "  <tbody>\n",
       "    <tr>\n",
       "      <th>48</th>\n",
       "      <td>pat_12b28ceaa0f528b29568b2ce795c9e75</td>\n",
       "      <td>高血压(或心绞痛)伴动脉粥样硬化并高脂血症</td>\n",
       "      <td>2017-12-04 15:26:49</td>\n",
       "      <td>否</td>\n",
       "      <td>门诊诊断</td>\n",
       "    </tr>\n",
       "  </tbody>\n",
       "</table>\n",
       "</div>"
      ],
      "text/plain": [
       "                                    患者编号                   诊断名称  \\\n",
       "48  pat_12b28ceaa0f528b29568b2ce795c9e75  高血压(或心绞痛)伴动脉粥样硬化并高脂血症   \n",
       "\n",
       "                   诊断日期 是否主要诊断 诊断类别名称  \n",
       "48  2017-12-04 15:26:49      否   门诊诊断  "
      ]
     },
     "execution_count": 542,
     "metadata": {},
     "output_type": "execute_result"
    }
   ],
   "source": [
    "df_diagnose_EH.head(1)"
   ]
  },
  {
   "cell_type": "markdown",
   "metadata": {},
   "source": [
    "### 并入个人史既往史"
   ]
  },
  {
   "cell_type": "code",
   "execution_count": 543,
   "metadata": {},
   "outputs": [],
   "source": [
    "# 并入个人史\n",
    "df_drug_resuvatin_popu = pd.merge(df_drug_resuvatin_popu,df_history_1,on='患者编号',how='left')\n",
    "df_drug_resuvatin_popu['吸烟史']=df_drug_resuvatin_popu['吸烟史'].apply(lambda x: 0 if pd.isnull(x) else x)\n",
    "df_drug_resuvatin_popu['饮酒史']=df_drug_resuvatin_popu['饮酒史'].apply(lambda x: 0 if pd.isnull(x) else x)"
   ]
  },
  {
   "cell_type": "code",
   "execution_count": 544,
   "metadata": {},
   "outputs": [],
   "source": [
    "# 并入高血压、糖尿病\n",
    "df_drug_resuvatin_popu['高血压'] = df_drug_resuvatin_popu['患者编号'].apply(lambda x: 1 if x in df_diagnose_EH.患者编号.unique() else 0)\n",
    "df_drug_resuvatin_popu['糖尿病'] = df_drug_resuvatin_popu['患者编号'].apply(lambda x: 1 if x in df_diagnose_DM.患者编号.unique() else 0)"
   ]
  },
  {
   "cell_type": "code",
   "execution_count": 40,
   "metadata": {},
   "outputs": [
    {
     "data": {
      "text/plain": [
       "(1420, 29)"
      ]
     },
     "execution_count": 40,
     "metadata": {},
     "output_type": "execute_result"
    }
   ],
   "source": [
    "df_drug_resuvatin_popu.shape"
   ]
  },
  {
   "cell_type": "code",
   "execution_count": 545,
   "metadata": {},
   "outputs": [],
   "source": [
    "df_drug_resuvatin_popu.to_csv(project_path+'/data/processed_data/df_3.6.3_并入个人史既往史.csv')"
   ]
  },
  {
   "cell_type": "markdown",
   "metadata": {},
   "source": [
    "## ASCVD预防分级"
   ]
  },
  {
   "cell_type": "code",
   "execution_count": 77,
   "metadata": {},
   "outputs": [
    {
     "data": {
      "text/plain": [
       "'\\n中低危、高危和极高危\\n由于缺乏患者的BMI、血压值和吸烟情况，对于缺失信息的患者的等级划分采用就低原则（信息缺失视为未发生）\\n'"
      ]
     },
     "execution_count": 77,
     "metadata": {},
     "output_type": "execute_result"
    }
   ],
   "source": [
    "'''\n",
    "中低危、高危和极高危\n",
    "由于缺乏患者的BMI、血压值和吸烟情况，对于缺失信息的患者的等级划分采用就低原则（信息缺失视为未发生）\n",
    "'''"
   ]
  },
  {
   "cell_type": "code",
   "execution_count": 251,
   "metadata": {},
   "outputs": [],
   "source": [
    "df_drug_resuvatin_popu=pd.read_csv(project_path+'/data/processed_data/df_3.6.3_并入个人史既往史.csv')\n",
    "if 'Unnamed: 0' in df_drug_resuvatin_popu.columns:\n",
    "    del df_drug_resuvatin_popu['Unnamed: 0']\n",
    "df_drug_resuvatin_ASCVD = df_drug_resuvatin_popu.copy().reset_index(drop=True)"
   ]
  },
  {
   "cell_type": "code",
   "execution_count": 252,
   "metadata": {},
   "outputs": [
    {
     "data": {
      "text/plain": [
       "(1420, 29)"
      ]
     },
     "execution_count": 252,
     "metadata": {},
     "output_type": "execute_result"
    }
   ],
   "source": [
    "df_drug_resuvatin_ASCVD.shape"
   ]
  },
  {
   "cell_type": "code",
   "execution_count": 253,
   "metadata": {},
   "outputs": [
    {
     "data": {
      "text/plain": [
       "Index(['data_source', '患者编号', '药物通用名称', '医嘱开始时间', '医嘱停止时间', '药物规格', '药物剂量',\n",
       "       '药物剂量单位名称', '频率名称', '开药总数量', '开药总数量单位名称', '药物剂型', '用药时长',\n",
       "       'resuvatin_brand', '日剂量', 'drug_start_date', '开药总剂量', '冠心病', '高脂血症',\n",
       "       '冠心病_高脂血症', '初次用药时间', '初次用药年', '性别', '出生日期', '年龄', '吸烟史', '饮酒史', '高血压',\n",
       "       '糖尿病'],\n",
       "      dtype='object')"
      ]
     },
     "execution_count": 253,
     "metadata": {},
     "output_type": "execute_result"
    }
   ],
   "source": [
    "df_drug_resuvatin_ASCVD.columns"
   ]
  },
  {
   "cell_type": "markdown",
   "metadata": {},
   "source": [
    "### 第一步分级"
   ]
  },
  {
   "cell_type": "code",
   "execution_count": 254,
   "metadata": {},
   "outputs": [
    {
     "data": {
      "text/plain": [
       "'\\n已经诊断为动脉粥样硬化性心血管疾病（atherosclerotic cardiovascular disease, ASCVD）者直接列为极高危人群； \\n符合如下条件之一者直接列为高危人群：\\n（1）基线LDL-C ≥ 4.9 mmol/L 或 TC ≥ 7.2 mmol/L。\\n（2）糖尿病患者 1.8 mmol/L ≤ LDL-C<4.9 mmol/L（或）3.1 mmol/L ≤ TC<7.2 mmol/L 且年龄≥ 40 岁\\n'"
      ]
     },
     "execution_count": 254,
     "metadata": {},
     "output_type": "execute_result"
    }
   ],
   "source": [
    "'''\n",
    "已经诊断为动脉粥样硬化性心血管疾病（atherosclerotic cardiovascular disease, ASCVD）者直接列为极高危人群； \n",
    "符合如下条件之一者直接列为高危人群：\n",
    "（1）基线LDL-C ≥ 4.9 mmol/L 或 TC ≥ 7.2 mmol/L。\n",
    "（2）糖尿病患者 1.8 mmol/L ≤ LDL-C<4.9 mmol/L（或）3.1 mmol/L ≤ TC<7.2 mmol/L 且年龄≥ 40 岁\n",
    "'''"
   ]
  },
  {
   "cell_type": "markdown",
   "metadata": {},
   "source": [
    "#### ASCVD诊断"
   ]
  },
  {
   "cell_type": "code",
   "execution_count": 255,
   "metadata": {},
   "outputs": [
    {
     "data": {
      "text/plain": [
       "'\\nASCVD诊断：\\n急性冠状动脉综合征：急性冠脉综合征\\n稳定型心绞痛：稳定性心绞痛。~不稳定型心绞痛\\n冠状动脉血运重建\\n冠心病(冠状动脉粥样硬化性心脏病)：隐匿型冠心病(无症状心肌缺血)、心绞痛型冠心病、心肌梗死型(心肌埂塞)、缺血性心肌病型(缺血性心力衰竭；缺血性心脏病)、猝死型心脏病\\n动脉粥样硬化性脑卒中\\n短暂性脑缺血发作：短暂性脑缺血\\n外周动脉血管疾病：外周动脉硬化、周围血管疾病\\n'"
      ]
     },
     "execution_count": 255,
     "metadata": {},
     "output_type": "execute_result"
    }
   ],
   "source": [
    "'''\n",
    "ASCVD诊断：\n",
    "急性冠状动脉综合征：急性冠脉综合征\n",
    "稳定型心绞痛：稳定性心绞痛。~不稳定型心绞痛\n",
    "冠状动脉血运重建\n",
    "冠心病(冠状动脉粥样硬化性心脏病)：隐匿型冠心病(无症状心肌缺血)、心绞痛型冠心病、心肌梗死型(心肌埂塞)、缺血性心肌病型(缺血性心力衰竭；缺血性心脏病)、猝死型心脏病\n",
    "动脉粥样硬化性脑卒中\n",
    "短暂性脑缺血发作：短暂性脑缺血\n",
    "外周动脉血管疾病：外周动脉硬化、周围血管疾病\n",
    "'''"
   ]
  },
  {
   "cell_type": "code",
   "execution_count": 256,
   "metadata": {},
   "outputs": [
    {
     "data": {
      "text/html": [
       "<div>\n",
       "<style scoped>\n",
       "    .dataframe tbody tr th:only-of-type {\n",
       "        vertical-align: middle;\n",
       "    }\n",
       "\n",
       "    .dataframe tbody tr th {\n",
       "        vertical-align: top;\n",
       "    }\n",
       "\n",
       "    .dataframe thead th {\n",
       "        text-align: right;\n",
       "    }\n",
       "</style>\n",
       "<table border=\"1\" class=\"dataframe\">\n",
       "  <thead>\n",
       "    <tr style=\"text-align: right;\">\n",
       "      <th></th>\n",
       "      <th>患者编号</th>\n",
       "      <th>诊断名称</th>\n",
       "      <th>诊断日期</th>\n",
       "      <th>是否主要诊断</th>\n",
       "      <th>诊断类别名称</th>\n",
       "    </tr>\n",
       "  </thead>\n",
       "  <tbody>\n",
       "    <tr>\n",
       "      <th>0</th>\n",
       "      <td>pat_0d9297a346707bce01f0b4637484efe9</td>\n",
       "      <td>高胆固醇血症</td>\n",
       "      <td>2019-12-31 07:54:05</td>\n",
       "      <td>否</td>\n",
       "      <td>门诊诊断</td>\n",
       "    </tr>\n",
       "    <tr>\n",
       "      <th>1</th>\n",
       "      <td>pat_0ebd83a8c3990a103016a650f84616f8</td>\n",
       "      <td>高胆固醇血症</td>\n",
       "      <td>2018-03-11 11:06:21</td>\n",
       "      <td>否</td>\n",
       "      <td>门诊诊断</td>\n",
       "    </tr>\n",
       "    <tr>\n",
       "      <th>2</th>\n",
       "      <td>pat_13da443c402ad02c9e9de0c5c0751eda</td>\n",
       "      <td>动脉粥样硬化并高脂血症</td>\n",
       "      <td>2018-01-08 16:29:49</td>\n",
       "      <td>否</td>\n",
       "      <td>门诊诊断</td>\n",
       "    </tr>\n",
       "    <tr>\n",
       "      <th>3</th>\n",
       "      <td>pat_13da443c402ad02c9e9de0c5c0751eda</td>\n",
       "      <td>动脉粥样硬化并高脂血症</td>\n",
       "      <td>2018-03-22 15:00:58</td>\n",
       "      <td>否</td>\n",
       "      <td>门诊诊断</td>\n",
       "    </tr>\n",
       "    <tr>\n",
       "      <th>4</th>\n",
       "      <td>pat_13da443c402ad02c9e9de0c5c0751eda</td>\n",
       "      <td>动脉粥样硬化并高脂血症</td>\n",
       "      <td>2018-06-26 14:08:41</td>\n",
       "      <td>否</td>\n",
       "      <td>门诊诊断</td>\n",
       "    </tr>\n",
       "  </tbody>\n",
       "</table>\n",
       "</div>"
      ],
      "text/plain": [
       "                                   患者编号         诊断名称                 诊断日期  \\\n",
       "0  pat_0d9297a346707bce01f0b4637484efe9       高胆固醇血症  2019-12-31 07:54:05   \n",
       "1  pat_0ebd83a8c3990a103016a650f84616f8       高胆固醇血症  2018-03-11 11:06:21   \n",
       "2  pat_13da443c402ad02c9e9de0c5c0751eda  动脉粥样硬化并高脂血症  2018-01-08 16:29:49   \n",
       "3  pat_13da443c402ad02c9e9de0c5c0751eda  动脉粥样硬化并高脂血症  2018-03-22 15:00:58   \n",
       "4  pat_13da443c402ad02c9e9de0c5c0751eda  动脉粥样硬化并高脂血症  2018-06-26 14:08:41   \n",
       "\n",
       "  是否主要诊断 诊断类别名称  \n",
       "0      否   门诊诊断  \n",
       "1      否   门诊诊断  \n",
       "2      否   门诊诊断  \n",
       "3      否   门诊诊断  \n",
       "4      否   门诊诊断  "
      ]
     },
     "execution_count": 256,
     "metadata": {},
     "output_type": "execute_result"
    }
   ],
   "source": [
    "df_diagnose.head()"
   ]
  },
  {
   "cell_type": "code",
   "execution_count": 257,
   "metadata": {},
   "outputs": [],
   "source": [
    "df_diagnose_ASCVD_1 = df_diagnose[df_diagnose.诊断名称.str.contains('急性冠脉综合征')]"
   ]
  },
  {
   "cell_type": "code",
   "execution_count": 258,
   "metadata": {},
   "outputs": [],
   "source": [
    "df_diagnose_ASCVD_2 = df_diagnose[df_diagnose.诊断名称.str.contains('稳定型心绞痛|稳定性心绞痛')]"
   ]
  },
  {
   "cell_type": "code",
   "execution_count": 259,
   "metadata": {},
   "outputs": [],
   "source": [
    "df_diagnose_ASCVD_3 = df_diagnose[df_diagnose.诊断名称.str.contains('冠状动脉血运重建')]"
   ]
  },
  {
   "cell_type": "code",
   "execution_count": 260,
   "metadata": {},
   "outputs": [],
   "source": [
    "df_diagnose_ASCVD_4 = df_diagnose[df_diagnose.诊断名称.str.contains('隐匿型|心绞痛|心肌梗死|心肌埂塞|缺血性心肌病|缺血性心力衰竭|缺血性心脏病|猝死') &\n",
    "                                 df_diagnose.诊断名称.str.contains('冠心病|冠状动脉粥样硬化性心脏病')]"
   ]
  },
  {
   "cell_type": "code",
   "execution_count": 261,
   "metadata": {},
   "outputs": [],
   "source": [
    "df_diagnose_ASCVD_5 = df_diagnose[df_diagnose.诊断名称.str.contains('动脉粥样硬化性脑卒中')]"
   ]
  },
  {
   "cell_type": "code",
   "execution_count": 262,
   "metadata": {},
   "outputs": [],
   "source": [
    "df_diagnose_ASCVD_6 = df_diagnose[df_diagnose.诊断名称.str.contains('短暂性脑缺血|外周动脉血管疾病|外周动脉硬化|周围血管疾病')]"
   ]
  },
  {
   "cell_type": "code",
   "execution_count": 263,
   "metadata": {},
   "outputs": [],
   "source": [
    "# 合并ASCVD诊断\n",
    "df_diagnose_ASCVD = pd.concat([df_diagnose_ASCVD_1,df_diagnose_ASCVD_2],axis=0)\n",
    "df_diagnose_ASCVD = pd.concat([df_diagnose_ASCVD,df_diagnose_ASCVD_3],axis=0)\n",
    "df_diagnose_ASCVD = pd.concat([df_diagnose_ASCVD,df_diagnose_ASCVD_4],axis=0)\n",
    "df_diagnose_ASCVD = pd.concat([df_diagnose_ASCVD,df_diagnose_ASCVD_5],axis=0)\n",
    "df_diagnose_ASCVD = pd.concat([df_diagnose_ASCVD,df_diagnose_ASCVD_6],axis=0)\n",
    "# 删除重复患者\n",
    "df_diagnose_ASCVD = df_diagnose_ASCVD.drop_duplicates(['患者编号'],keep='first')[['患者编号']]\n",
    "df_diagnose_ASCVD['ASCVD'] = '极高危'"
   ]
  },
  {
   "cell_type": "code",
   "execution_count": 264,
   "metadata": {},
   "outputs": [],
   "source": [
    "df_drug_resuvatin_ASCVD=pd.merge(df_drug_resuvatin_ASCVD,df_diagnose_ASCVD,on='患者编号',how='left')"
   ]
  },
  {
   "cell_type": "markdown",
   "metadata": {},
   "source": [
    "#### 高危人群诊断"
   ]
  },
  {
   "cell_type": "code",
   "execution_count": 265,
   "metadata": {},
   "outputs": [],
   "source": [
    "df_check_BLE=pd.read_csv(project_path+'/data/processed_data/df_3.4.2_计算非HDL-C.csv')\n",
    "if 'Unnamed: 0' in df_check_BLE.columns:\n",
    "    del df_check_BLE['Unnamed: 0']"
   ]
  },
  {
   "cell_type": "code",
   "execution_count": 266,
   "metadata": {},
   "outputs": [],
   "source": [
    "temp_list=[]\n",
    "for i in df_drug_resuvatin_ASCVD.患者编号.unique():\n",
    "    # 患者用药\n",
    "    temp = df_drug_resuvatin_ASCVD[df_drug_resuvatin_ASCVD['患者编号']==i]\n",
    "    temp = temp.sort_values(by=['医嘱开始时间'],ascending=True).reset_index(drop=True)\n",
    "    drug_start_time = pd.to_datetime(temp.loc[0,'医嘱开始时间'])   # 初始开药时间\n",
    "    age = temp.loc[0,'年龄'] \n",
    "    DM_history = temp.loc[0,'糖尿病']\n",
    "    # 判断是否有ASCVD诊断\n",
    "    if pd.notnull(temp.loc[0,'ASCVD']):\n",
    "        temp_list.append(temp)\n",
    "        continue\n",
    "    # 患者血脂检查\n",
    "    temp_check = df_check_BLE[df_check_BLE['患者编号']==i]\n",
    "    temp_check = temp_check.sort_values(by=['检验时间_date'],ascending=True).reset_index(drop=True)\n",
    "    temp_check_nt = del_allNull(temp_check) # 不全为空的血脂检查\n",
    "    if temp_check_nt.shape[0]>=1:\n",
    "        # 基线期-血脂检查\n",
    "        temp_check_b = temp_check_nt[(pd.to_datetime(temp_check_nt['检验时间_date'])>=drug_start_time-datetime.timedelta(days=90)) &\n",
    "                                    (pd.to_datetime(temp_check_nt['检验时间_date'])<=drug_start_time)]\n",
    "        if temp_check_b.shape[0]>=1:\n",
    "            temp_check_b = temp_check_b.sort_values(['检验时间_date'],ascending=True).reset_index(drop=True)\n",
    "            for j in range(temp_check_b.shape[0]):\n",
    "                if (temp_check_b.loc[j,'LDL-C'] >=4.9) or (temp_check_b.loc[j,'TC']>=7.2):\n",
    "                    temp['ASCVD']='高危'\n",
    "                    break\n",
    "                elif (1.8<=temp_check_b.loc[j,'LDL-C'] <4.9) or (3.1<=temp_check_b.loc[j,'TC'] <7.2):\n",
    "                    if (age>=40) & (DM_history==1):\n",
    "                        temp['ASCVD']='高危'\n",
    "                        break\n",
    "    temp_list.append(temp)"
   ]
  },
  {
   "cell_type": "code",
   "execution_count": 267,
   "metadata": {},
   "outputs": [],
   "source": [
    "df_drug_resuvatin_ASCVD = pd.concat(temp_list,axis=0)\n",
    "del temp_list"
   ]
  },
  {
   "cell_type": "code",
   "execution_count": 268,
   "metadata": {},
   "outputs": [
    {
     "data": {
      "text/plain": [
       "高危     421\n",
       "极高危     96\n",
       "Name: ASCVD, dtype: int64"
      ]
     },
     "execution_count": 268,
     "metadata": {},
     "output_type": "execute_result"
    }
   ],
   "source": [
    "df_drug_resuvatin_ASCVD.ASCVD.value_counts()"
   ]
  },
  {
   "cell_type": "code",
   "execution_count": 269,
   "metadata": {},
   "outputs": [
    {
     "data": {
      "text/plain": [
       "(1420, 30)"
      ]
     },
     "execution_count": 269,
     "metadata": {},
     "output_type": "execute_result"
    }
   ],
   "source": [
    "df_drug_resuvatin_ASCVD.shape"
   ]
  },
  {
   "cell_type": "code",
   "execution_count": 271,
   "metadata": {},
   "outputs": [],
   "source": [
    "df_drug_resuvatin_ASCVD.to_csv(project_path+'/data/processed_data/df_3.7.1_第一步_ASCVD分级.csv')"
   ]
  },
  {
   "cell_type": "markdown",
   "metadata": {},
   "source": [
    "### 第二步分级"
   ]
  },
  {
   "cell_type": "markdown",
   "metadata": {},
   "source": [
    "#### 统计危险因素个数"
   ]
  },
  {
   "cell_type": "code",
   "execution_count": 280,
   "metadata": {},
   "outputs": [
    {
     "name": "stdout",
     "output_type": "stream",
     "text": [
      "1\n",
      "0\n",
      "0\n",
      "1\n",
      "1\n",
      "1\n",
      "1\n",
      "1\n",
      "0\n",
      "1\n",
      "1\n",
      "1\n",
      "1\n",
      "2\n",
      "1\n",
      "1\n",
      "1\n",
      "1\n",
      "1\n",
      "1\n",
      "1\n",
      "1\n",
      "1\n",
      "0\n",
      "1\n",
      "1\n",
      "2\n",
      "1\n",
      "1\n",
      "1\n",
      "2\n",
      "2\n",
      "2\n",
      "2\n",
      "1\n",
      "2\n",
      "1\n",
      "1\n",
      "1\n",
      "1\n",
      "1\n",
      "0\n",
      "2\n",
      "1\n",
      "1\n",
      "1\n",
      "1\n",
      "2\n",
      "1\n",
      "2\n",
      "0\n",
      "1\n",
      "1\n",
      "0\n",
      "1\n",
      "1\n",
      "0\n",
      "1\n",
      "1\n",
      "1\n",
      "2\n",
      "1\n",
      "1\n",
      "1\n",
      "2\n",
      "1\n",
      "1\n",
      "1\n",
      "1\n",
      "0\n",
      "0\n",
      "1\n",
      "1\n",
      "1\n",
      "1\n",
      "1\n",
      "1\n",
      "1\n",
      "2\n",
      "1\n",
      "1\n",
      "1\n",
      "1\n",
      "1\n",
      "2\n",
      "1\n",
      "1\n",
      "1\n",
      "1\n",
      "2\n",
      "1\n",
      "0\n",
      "1\n",
      "1\n",
      "1\n",
      "1\n",
      "1\n",
      "1\n",
      "2\n",
      "2\n",
      "1\n",
      "1\n",
      "1\n",
      "1\n",
      "1\n",
      "1\n",
      "2\n",
      "1\n",
      "1\n",
      "2\n",
      "0\n",
      "1\n",
      "2\n",
      "1\n",
      "1\n",
      "1\n",
      "1\n",
      "1\n",
      "1\n",
      "1\n",
      "1\n",
      "1\n",
      "1\n",
      "1\n",
      "1\n",
      "1\n",
      "1\n",
      "1\n",
      "1\n",
      "2\n",
      "2\n",
      "1\n",
      "1\n",
      "2\n",
      "1\n",
      "1\n",
      "1\n",
      "1\n",
      "2\n",
      "1\n",
      "2\n",
      "1\n",
      "2\n",
      "1\n",
      "2\n",
      "1\n",
      "1\n",
      "1\n",
      "1\n"
     ]
    }
   ],
   "source": [
    "df_drug_resuvatin_ASCVD = df_drug_resuvatin_ASCVD.reset_index(drop=True)\n",
    "temp_list=[]\n",
    "for i in df_drug_resuvatin_ASCVD.患者编号.unique():\n",
    "    count=0\n",
    "    # 患者用药\n",
    "    temp = df_drug_resuvatin_ASCVD[df_drug_resuvatin_ASCVD['患者编号']==i]\n",
    "    temp = temp.sort_values(by=['医嘱开始时间'],ascending=True).reset_index(drop=True)\n",
    "    drug_start_time = pd.to_datetime(temp.loc[0,'医嘱开始时间'])   # 初始开药时间\n",
    "    gender = temp.loc[0,'性别'] \n",
    "    age = temp.loc[0,'年龄'] \n",
    "    DM_history = temp.loc[0,'糖尿病']\n",
    "    # 基线期-血脂检查\n",
    "    temp_check = df_check_BLE[df_check_BLE['患者编号']==i]\n",
    "    temp_check = temp_check.sort_values(by=['检验时间_date'],ascending=True).reset_index(drop=True)\n",
    "    if temp_check.shape[0]>=1:\n",
    "        temp_check_b = temp_check[(pd.to_datetime(temp_check['检验时间_date'])>=drug_start_time-datetime.timedelta(days=90)) &\n",
    "                                    (pd.to_datetime(temp_check['检验时间_date'])<=drug_start_time)]\n",
    "        if temp_check_b.shape[0]>=1:\n",
    "            temp_check_b = temp_check_b.sort_values(['检验时间_date'],ascending=False).reset_index(drop=True)\n",
    "            if temp_check_b.loc[0,'HDL-C']<1:\n",
    "                count+=1\n",
    "    # 吸烟\n",
    "    if temp['吸烟史'].sum()>0:\n",
    "        count+=1\n",
    "    # 性别\n",
    "    if (gender==1) & (age>=45):\n",
    "        count+=1\n",
    "    elif (gender==0) & (age>=55):\n",
    "        count +=1\n",
    "    print(count)\n",
    "    temp['危险因素个数']=count\n",
    "    temp_list.append(temp)"
   ]
  },
  {
   "cell_type": "code",
   "execution_count": 282,
   "metadata": {},
   "outputs": [],
   "source": [
    "df_drug_resuvatin_ASCVD = pd.concat(temp_list,axis=0)\n",
    "del temp_list"
   ]
  },
  {
   "cell_type": "code",
   "execution_count": 283,
   "metadata": {},
   "outputs": [
    {
     "data": {
      "text/plain": [
       "1    1053\n",
       "2     256\n",
       "0     111\n",
       "Name: 危险因素个数, dtype: int64"
      ]
     },
     "execution_count": 283,
     "metadata": {},
     "output_type": "execute_result"
    }
   ],
   "source": [
    "df_drug_resuvatin_ASCVD.危险因素个数.value_counts()"
   ]
  },
  {
   "cell_type": "markdown",
   "metadata": {},
   "source": [
    "#### 第二步：血脂-ASCVD分级"
   ]
  },
  {
   "cell_type": "code",
   "execution_count": 284,
   "metadata": {},
   "outputs": [],
   "source": [
    "df_drug_resuvatin_ASCVD = df_drug_resuvatin_ASCVD.reset_index(drop=True)\n",
    "temp_list=[]\n",
    "for i in df_drug_resuvatin_ASCVD.患者编号.unique():\n",
    "    count=0\n",
    "    # 患者用药\n",
    "    temp = df_drug_resuvatin_ASCVD[df_drug_resuvatin_ASCVD['患者编号']==i]\n",
    "    temp = temp.sort_values(by=['医嘱开始时间'],ascending=True).reset_index(drop=True)\n",
    "    drug_start_time = pd.to_datetime(temp.loc[0,'医嘱开始时间'])   # 初始开药时间\n",
    "    gender = temp.loc[0,'性别'] \n",
    "    age = temp.loc[0,'年龄'] \n",
    "    EH_history = temp.loc[0,'高血压']\n",
    "    if pd.notnull(temp.loc[0,'ASCVD']):\n",
    "        temp_list.append(temp)\n",
    "        continue\n",
    "    # 基线期-血脂检查\n",
    "    temp_check = df_check_BLE[df_check_BLE['患者编号']==i]\n",
    "    temp_check = temp_check.sort_values(by=['检验时间_date'],ascending=True).reset_index(drop=True)\n",
    "    if temp_check.shape[0]>=1:\n",
    "        temp_check_b = temp_check[(pd.to_datetime(temp_check['检验时间_date'])>=drug_start_time-datetime.timedelta(days=90)) &\n",
    "                                    (pd.to_datetime(temp_check['检验时间_date'])<=drug_start_time)]\n",
    "        temp_check_b = temp_check_b.sort_values(by=['检验时间_date'],ascending=0).reset_index(drop=True)\n",
    "        if temp_check_b.shape[0]>=1:\n",
    "            # 第3列ASCVD分级\n",
    "            if (3.4<=temp_check_b.loc[0,'LDL-C']<4.9) or (5.2<=temp_check_b.loc[0,'TC']<7.2):\n",
    "                # 无高血压\n",
    "                if EH_history==0:\n",
    "                    if temp['危险因素个数'].max()>=2:\n",
    "                        temp['ASCVD']='中危'\n",
    "                    elif temp['危险因素个数'].max()<=1:\n",
    "                        temp['ASCVD']='低危'\n",
    "                # 有高血压\n",
    "                if EH_history==1:\n",
    "                    if temp['危险因素个数'].max()>=2:\n",
    "                        temp['ASCVD']='高危'\n",
    "                    elif temp['危险因素个数'].max()==1:\n",
    "                        temp['ASCVD']='中危'\n",
    "                    elif temp['危险因素个数'].max()==0:\n",
    "                        temp['ASCVD']='低危'\n",
    "            \n",
    "            # 第2列ASCVD分级\n",
    "            if (2.6<=temp_check_b.loc[0,'LDL-C']<3.4) or (4.1<=temp_check_b.loc[0,'TC']<5.2):\n",
    "                # 无高血压\n",
    "                if EH_history==0:\n",
    "                    if temp['危险因素个数'].max()>2:\n",
    "                        temp['ASCVD']='中危'\n",
    "                    elif temp['危险因素个数'].max()<=2:\n",
    "                        temp['ASCVD']='低危'\n",
    "                # 有高血压\n",
    "                if EH_history==1:\n",
    "                    if temp['危险因素个数'].max()>=2:\n",
    "                        temp['ASCVD']='高危'\n",
    "                    elif temp['危险因素个数'].max()==1:\n",
    "                        temp['ASCVD']='中危'\n",
    "                    elif temp['危险因素个数'].max()==0:\n",
    "                        temp['ASCVD']='低危'\n",
    "            \n",
    "            # 第1列ASCVD分级\n",
    "            if (1.8<=temp_check_b.loc[0,'LDL-C']<2.6) or (3.1<=temp_check_b.loc[0,'TC']<4.1):\n",
    "                # 无高血压\n",
    "                if EH_history==0:\n",
    "                    temp['ASCVD']='低危'\n",
    "                # 有高血压\n",
    "                if EH_history==1:\n",
    "                    if temp['危险因素个数'].max()>2:\n",
    "                        temp['ASCVD']='高危'\n",
    "                    elif temp['危险因素个数'].max()==2:\n",
    "                        temp['ASCVD']='中危'\n",
    "                    elif temp['危险因素个数'].max()<=1:\n",
    "                        temp['ASCVD']='低危'\n",
    "    temp_list.append(temp)"
   ]
  },
  {
   "cell_type": "code",
   "execution_count": 285,
   "metadata": {},
   "outputs": [],
   "source": [
    "df_drug_resuvatin_ASCVD = pd.concat(temp_list,axis=0).reset_index(drop=True)\n",
    "del temp_list"
   ]
  },
  {
   "cell_type": "code",
   "execution_count": 286,
   "metadata": {},
   "outputs": [
    {
     "data": {
      "text/plain": [
       "高危     444\n",
       "中危     428\n",
       "低危     393\n",
       "极高危     96\n",
       "Name: ASCVD, dtype: int64"
      ]
     },
     "execution_count": 286,
     "metadata": {},
     "output_type": "execute_result"
    }
   ],
   "source": [
    "df_drug_resuvatin_ASCVD.ASCVD.value_counts()"
   ]
  },
  {
   "cell_type": "code",
   "execution_count": 287,
   "metadata": {},
   "outputs": [
    {
     "data": {
      "text/plain": [
       "(1420, 31)"
      ]
     },
     "execution_count": 287,
     "metadata": {},
     "output_type": "execute_result"
    }
   ],
   "source": [
    "df_drug_resuvatin_ASCVD.shape"
   ]
  },
  {
   "cell_type": "code",
   "execution_count": 289,
   "metadata": {},
   "outputs": [],
   "source": [
    "df_drug_resuvatin_ASCVD.to_csv(project_path+'/data/processed_data/df_3.7.2_第二步_ASCVD分级.csv')"
   ]
  },
  {
   "cell_type": "markdown",
   "metadata": {},
   "source": [
    "### 第三步分级"
   ]
  },
  {
   "cell_type": "code",
   "execution_count": 305,
   "metadata": {},
   "outputs": [],
   "source": [
    "# 余生危险\n",
    "df_drug_resuvatin_ASCVD['余生危险'] = df_drug_resuvatin_ASCVD.apply(lambda x: np.nan if pd.isnull(x['ASCVD']) else\n",
    "                                                                    1 if (x['年龄']<55) & (x['ASCVD']=='中危') else np.nan ,axis=1)"
   ]
  },
  {
   "cell_type": "code",
   "execution_count": 306,
   "metadata": {},
   "outputs": [
    {
     "data": {
      "text/plain": [
       "1.0    41\n",
       "Name: 余生危险, dtype: int64"
      ]
     },
     "execution_count": 306,
     "metadata": {},
     "output_type": "execute_result"
    }
   ],
   "source": [
    "df_drug_resuvatin_ASCVD['余生危险'].value_counts()"
   ]
  },
  {
   "cell_type": "code",
   "execution_count": 316,
   "metadata": {},
   "outputs": [],
   "source": [
    "# 任意两项以上为高危\n",
    "df_drug_resuvatin_ASCVD = df_drug_resuvatin_ASCVD.reset_index(drop=True)\n",
    "temp_list=[]\n",
    "for i in df_drug_resuvatin_ASCVD.患者编号.unique():\n",
    "    count=0\n",
    "    # 患者用药\n",
    "    temp = df_drug_resuvatin_ASCVD[df_drug_resuvatin_ASCVD['患者编号']==i]\n",
    "    temp = temp.sort_values(by=['医嘱开始时间'],ascending=True).reset_index(drop=True)\n",
    "    drug_start_time = pd.to_datetime(temp.loc[0,'医嘱开始时间'])   # 初始开药时间\n",
    "    gender = temp.loc[0,'性别'] \n",
    "    age = temp.loc[0,'年龄'] \n",
    "    DM_history = temp.loc[0,'糖尿病']\n",
    "    if (temp.loc[0,'ASCVD']=='极高危') or (temp.loc[0,'ASCVD']=='高危'):\n",
    "        temp_list.append(temp)\n",
    "        continue\n",
    "    # 基线期-血脂检查\n",
    "    temp_check = df_check_BLE[df_check_BLE['患者编号']==i]\n",
    "    temp_check = temp_check.sort_values(by=['检验时间_date'],ascending=True).reset_index(drop=True)\n",
    "    if temp_check.shape[0]>=1:\n",
    "        temp_check_b = temp_check[(pd.to_datetime(temp_check['检验时间_date'])>=drug_start_time-datetime.timedelta(days=90)) &\n",
    "                                    (pd.to_datetime(temp_check['检验时间_date'])<=drug_start_time)]\n",
    "        if temp_check_b.shape[0]>=1:\n",
    "            temp_check_b = temp_check_b.sort_values(['检验时间_date'],ascending=False).reset_index(drop=True)\n",
    "            if temp_check_b.loc[0,'非HDL-C']>=5.2:\n",
    "                count+=1\n",
    "            if temp_check_b.loc[0,'HDL-C']<1:\n",
    "                count+=1\n",
    "    # 吸烟\n",
    "    if temp['吸烟史'].sum()>0:\n",
    "        count+=1\n",
    "    if count >=2:\n",
    "        print(count)\n",
    "        temp['ASCVD']='高危'\n",
    "    temp_list.append(temp)"
   ]
  },
  {
   "cell_type": "code",
   "execution_count": 317,
   "metadata": {},
   "outputs": [],
   "source": [
    "df_drug_resuvatin_ASCVD = pd.concat(temp_list,axis=0).reset_index(drop=True)\n",
    "del temp_list"
   ]
  },
  {
   "cell_type": "code",
   "execution_count": 318,
   "metadata": {},
   "outputs": [
    {
     "data": {
      "text/plain": [
       "(1420, 32)"
      ]
     },
     "execution_count": 318,
     "metadata": {},
     "output_type": "execute_result"
    }
   ],
   "source": [
    "df_drug_resuvatin_ASCVD.shape"
   ]
  },
  {
   "cell_type": "code",
   "execution_count": 320,
   "metadata": {},
   "outputs": [],
   "source": [
    "df_drug_resuvatin_ASCVD.to_csv(project_path+'/data/processed_data/df_3.7.3_第三步_ASCVD分级.csv')"
   ]
  },
  {
   "cell_type": "code",
   "execution_count": 10,
   "metadata": {},
   "outputs": [],
   "source": [
    "df_drug_resuvatin_ASCVD=pd.read_csv(project_path+'/data/processed_data/疗效/df_3.7.3_第三步_ASCVD分级.csv')\n",
    "if 'Unnamed: 0' in df_drug_resuvatin_ASCVD.columns:\n",
    "    del df_drug_resuvatin_ASCVD['Unnamed: 0']"
   ]
  },
  {
   "cell_type": "code",
   "execution_count": 11,
   "metadata": {},
   "outputs": [
    {
     "data": {
      "text/plain": [
       "Index(['data_source', '患者编号', '药物通用名称', '医嘱开始时间', '医嘱停止时间', '药物规格', '药物剂量',\n",
       "       '药物剂量单位名称', '频率名称', '开药总数量', '开药总数量单位名称', '药物剂型', '用药时长',\n",
       "       'resuvatin_brand', '日剂量', 'drug_start_date', '开药总剂量', '冠心病', '高脂血症',\n",
       "       '冠心病_高脂血症', '初次用药时间', '初次用药年', '性别', '出生日期', '年龄', '吸烟史', '饮酒史', '高血压',\n",
       "       '糖尿病', 'ASCVD', '危险因素个数', '余生危险'],\n",
       "      dtype='object')"
      ]
     },
     "execution_count": 11,
     "metadata": {},
     "output_type": "execute_result"
    }
   ],
   "source": [
    "df_drug_resuvatin_ASCVD.columns"
   ]
  },
  {
   "cell_type": "markdown",
   "metadata": {},
   "source": [
    "## 疗效评价"
   ]
  },
  {
   "cell_type": "code",
   "execution_count": 12,
   "metadata": {},
   "outputs": [
    {
     "data": {
      "text/plain": [
       "'\\n极高危人群：\\n    LDL-C目标值＜1.8mmol/L(70mg/dl); 非HDL-C<2.6\\n    目标为LDL-C降幅至少50%\\n高危人群：\\n    LDL-C目标值＜2.6mmol/L(100mg/dl); 非HDL-C<3.4\\n    目标为LDL-C降幅至少50%\\n低危、中危人群：\\n    LDL-C目标值＜3.4/L(100mg/dl); 非HDL-C<4.1\\n    目标为LDL-C降幅至少50%\\n'"
      ]
     },
     "execution_count": 12,
     "metadata": {},
     "output_type": "execute_result"
    }
   ],
   "source": [
    "'''\n",
    "极高危人群：\n",
    "    LDL-C目标值＜1.8mmol/L(70mg/dl); 非HDL-C<2.6\n",
    "    目标为LDL-C降幅至少50%\n",
    "高危人群：\n",
    "    LDL-C目标值＜2.6mmol/L(100mg/dl); 非HDL-C<3.4\n",
    "    目标为LDL-C降幅至少50%\n",
    "低危、中危人群：\n",
    "    LDL-C目标值＜3.4/L(100mg/dl); 非HDL-C<4.1\n",
    "    目标为LDL-C降幅至少50%\n",
    "'''"
   ]
  },
  {
   "cell_type": "code",
   "execution_count": 58,
   "metadata": {},
   "outputs": [],
   "source": [
    "df_drug_resuvatin_efficacy = df_drug_resuvatin_ASCVD.copy().reset_index(drop=True)"
   ]
  },
  {
   "cell_type": "code",
   "execution_count": 59,
   "metadata": {},
   "outputs": [],
   "source": [
    "def judge_efficacy(ascvd,r_ldl,r_非hdl,b_ldl,b_非hdl):\n",
    "    # 是否达到目标值\n",
    "    if ascvd == '极高危':\n",
    "        if (r_ldl<1.8) or (r_非hdl<2.6):\n",
    "            return True\n",
    "    elif ascvd == '高危':\n",
    "        if (r_ldl<2.6) or (r_非hdl<3.4):\n",
    "            return True\n",
    "    elif (ascvd == '中危') or (ascvd=='低危'):\n",
    "        if (r_ldl<3.4) or (r_非hdl<4.1):\n",
    "            return True\n",
    "    # 是否下降50%\n",
    "    if abs(r_ldl-b_ldl)/b_ldl >=0.5:\n",
    "        return True\n",
    "    elif abs(r_非hdl-b_非hdl)/b_非hdl >=0.5:\n",
    "        return True"
   ]
  },
  {
   "cell_type": "code",
   "execution_count": 60,
   "metadata": {},
   "outputs": [],
   "source": [
    "df_drug_resuvatin_efficacy=df_drug_resuvatin_efficacy.sort_values(by=['医嘱开始时间'],ascending=True)\n",
    "df_drug_resuvatin_efficacy=df_drug_resuvatin_efficacy.drop_duplicates(['患者编号'],keep='first').reset_index(drop=True)"
   ]
  },
  {
   "cell_type": "code",
   "execution_count": 61,
   "metadata": {},
   "outputs": [
    {
     "data": {
      "text/plain": [
       "Index(['data_source', '患者编号', '药物通用名称', '医嘱开始时间', '医嘱停止时间', '药物规格', '药物剂量',\n",
       "       '药物剂量单位名称', '频率名称', '开药总数量', '开药总数量单位名称', '药物剂型', '用药时长',\n",
       "       'resuvatin_brand', '日剂量', 'drug_start_date', '开药总剂量', '冠心病', '高脂血症',\n",
       "       '冠心病_高脂血症', '初次用药时间', '初次用药年', '性别', '出生日期', '年龄', '吸烟史', '饮酒史', '高血压',\n",
       "       '糖尿病', 'ASCVD', '危险因素个数', '余生危险'],\n",
       "      dtype='object')"
      ]
     },
     "execution_count": 61,
     "metadata": {},
     "output_type": "execute_result"
    }
   ],
   "source": [
    "df_drug_resuvatin_efficacy.columns"
   ]
  },
  {
   "cell_type": "code",
   "execution_count": 62,
   "metadata": {},
   "outputs": [
    {
     "data": {
      "text/html": [
       "<div>\n",
       "<style scoped>\n",
       "    .dataframe tbody tr th:only-of-type {\n",
       "        vertical-align: middle;\n",
       "    }\n",
       "\n",
       "    .dataframe tbody tr th {\n",
       "        vertical-align: top;\n",
       "    }\n",
       "\n",
       "    .dataframe thead th {\n",
       "        text-align: right;\n",
       "    }\n",
       "</style>\n",
       "<table border=\"1\" class=\"dataframe\">\n",
       "  <thead>\n",
       "    <tr style=\"text-align: right;\">\n",
       "      <th></th>\n",
       "      <th>患者编号</th>\n",
       "      <th>检验时间_date</th>\n",
       "      <th>HDL-C</th>\n",
       "      <th>LDL-C</th>\n",
       "      <th>LPa</th>\n",
       "      <th>TC</th>\n",
       "      <th>TG</th>\n",
       "      <th>apo-A1</th>\n",
       "      <th>apo-B</th>\n",
       "      <th>非HDL-C</th>\n",
       "    </tr>\n",
       "  </thead>\n",
       "  <tbody>\n",
       "    <tr>\n",
       "      <th>0</th>\n",
       "      <td>pat_0a31a5b06ad2a27c6d4dd950266235d9</td>\n",
       "      <td>2019-07-18</td>\n",
       "      <td>1.18</td>\n",
       "      <td>2.76</td>\n",
       "      <td>NaN</td>\n",
       "      <td>4.44</td>\n",
       "      <td>1.64</td>\n",
       "      <td>NaN</td>\n",
       "      <td>NaN</td>\n",
       "      <td>3.26</td>\n",
       "    </tr>\n",
       "    <tr>\n",
       "      <th>1</th>\n",
       "      <td>pat_0a31a5b06ad2a27c6d4dd950266235d9</td>\n",
       "      <td>2019-12-28</td>\n",
       "      <td>1.33</td>\n",
       "      <td>2.71</td>\n",
       "      <td>NaN</td>\n",
       "      <td>4.36</td>\n",
       "      <td>1.48</td>\n",
       "      <td>NaN</td>\n",
       "      <td>NaN</td>\n",
       "      <td>3.03</td>\n",
       "    </tr>\n",
       "    <tr>\n",
       "      <th>2</th>\n",
       "      <td>pat_0a31a5b06ad2a27c6d4dd950266235d9</td>\n",
       "      <td>2020-04-21</td>\n",
       "      <td>1.35</td>\n",
       "      <td>2.36</td>\n",
       "      <td>NaN</td>\n",
       "      <td>4.07</td>\n",
       "      <td>1.75</td>\n",
       "      <td>NaN</td>\n",
       "      <td>NaN</td>\n",
       "      <td>2.72</td>\n",
       "    </tr>\n",
       "  </tbody>\n",
       "</table>\n",
       "</div>"
      ],
      "text/plain": [
       "                                   患者编号   检验时间_date  HDL-C  LDL-C  LPa    TC  \\\n",
       "0  pat_0a31a5b06ad2a27c6d4dd950266235d9  2019-07-18   1.18   2.76  NaN  4.44   \n",
       "1  pat_0a31a5b06ad2a27c6d4dd950266235d9  2019-12-28   1.33   2.71  NaN  4.36   \n",
       "2  pat_0a31a5b06ad2a27c6d4dd950266235d9  2020-04-21   1.35   2.36  NaN  4.07   \n",
       "\n",
       "     TG  apo-A1  apo-B  非HDL-C  \n",
       "0  1.64     NaN    NaN    3.26  \n",
       "1  1.48     NaN    NaN    3.03  \n",
       "2  1.75     NaN    NaN    2.72  "
      ]
     },
     "execution_count": 62,
     "metadata": {},
     "output_type": "execute_result"
    }
   ],
   "source": [
    "temp_check"
   ]
  },
  {
   "cell_type": "code",
   "execution_count": 63,
   "metadata": {},
   "outputs": [],
   "source": [
    "for i in range(df_drug_resuvatin_efficacy.shape[0]):\n",
    "    patient_id = df_drug_resuvatin_efficacy.loc[i,'患者编号']\n",
    "    # 患者用药\n",
    "    drug_start_time = pd.to_datetime(df_drug_resuvatin_efficacy.loc[i,'医嘱开始时间'])   # 初始开药时间\n",
    "    ascvd = df_drug_resuvatin_efficacy.loc[i,'ASCVD']\n",
    "    \n",
    "    # 血脂检查\n",
    "    temp_check = df_check_BLE[df_check_BLE['患者编号']==patient_id]\n",
    "    temp_check = temp_check.sort_values(by=['检验时间_date'],ascending=True).reset_index(drop=True)\n",
    "    \n",
    "    if temp_check.shape[0]>=1:\n",
    "        # 基线期-血脂检查\n",
    "        temp_check_b = temp_check[(pd.to_datetime(temp_check['检验时间_date'])>=drug_start_time-datetime.timedelta(days=90)) &\n",
    "                                    (pd.to_datetime(temp_check['检验时间_date'])<=drug_start_time)]\n",
    "        if temp_check_b.shape[0]>=1:\n",
    "            temp_check_b = temp_check_b.sort_values(['检验时间_date'],ascending=False).reset_index(drop=True)\n",
    "            b_ldl = temp_check_b.loc[0,'LDL-C']\n",
    "            b_非hdl = temp_check_b.loc[0,'非HDL-C']\n",
    "            df_drug_resuvatin_efficacy.loc[i,'基线期_LDL-C']=b_ldl\n",
    "            df_drug_resuvatin_efficacy.loc[i,'基线期_非HDL-C']=b_非hdl\n",
    "        else:\n",
    "            b_ldl = np.nan\n",
    "            b_非hdl = np.nan\n",
    "            df_drug_resuvatin_efficacy.loc[i,'基线期_LDL-C']=b_ldl\n",
    "            df_drug_resuvatin_efficacy.loc[i,'基线期_非HDL-C']=b_非hdl\n",
    "        # 研究期-血脂检查\n",
    "        temp_check_r = temp_check[(pd.to_datetime(temp_check['检验时间_date'])>=drug_start_time+datetime.timedelta(days=45)) &\n",
    "                                    (pd.to_datetime(temp_check['检验时间_date'])<=drug_start_time+datetime.timedelta(days=135))]\n",
    "        if temp_check_r.shape[0]>=1:\n",
    "            temp_check_r = temp_check_r.sort_values(['检验时间_date'],ascending=True).reset_index(drop=True)\n",
    "            for j in range(temp_check_r.shape[0]):\n",
    "                r_ldl = temp_check_r.loc[j,'LDL-C']\n",
    "                r_非hdl = temp_check_r.loc[j,'非HDL-C']\n",
    "\n",
    "                time=temp_check_r.loc[j,'检验时间_date']\n",
    "                df_drug_resuvatin_efficacy.loc[i,'第'+str(j+1)+'次血脂检查时间']=time\n",
    "                \n",
    "                if judge_efficacy(ascvd,r_ldl,r_非hdl,b_ldl,b_非hdl):\n",
    "                    df_drug_resuvatin_efficacy.loc[i,'第'+str(j+1)+'次检查是否有效']=1\n",
    "                else:\n",
    "                    df_drug_resuvatin_efficacy.loc[i,'第'+str(j+1)+'次检查是否有效']=0"
   ]
  },
  {
   "cell_type": "code",
   "execution_count": 64,
   "metadata": {},
   "outputs": [
    {
     "data": {
      "text/html": [
       "<div>\n",
       "<style scoped>\n",
       "    .dataframe tbody tr th:only-of-type {\n",
       "        vertical-align: middle;\n",
       "    }\n",
       "\n",
       "    .dataframe tbody tr th {\n",
       "        vertical-align: top;\n",
       "    }\n",
       "\n",
       "    .dataframe thead th {\n",
       "        text-align: right;\n",
       "    }\n",
       "</style>\n",
       "<table border=\"1\" class=\"dataframe\">\n",
       "  <thead>\n",
       "    <tr style=\"text-align: right;\">\n",
       "      <th></th>\n",
       "      <th>患者编号</th>\n",
       "      <th>检验时间_date</th>\n",
       "      <th>HDL-C</th>\n",
       "      <th>LDL-C</th>\n",
       "      <th>LPa</th>\n",
       "      <th>TC</th>\n",
       "      <th>TG</th>\n",
       "      <th>apo-A1</th>\n",
       "      <th>apo-B</th>\n",
       "      <th>非HDL-C</th>\n",
       "    </tr>\n",
       "  </thead>\n",
       "  <tbody>\n",
       "    <tr>\n",
       "      <th>0</th>\n",
       "      <td>pat_0a31a5b06ad2a27c6d4dd950266235d9</td>\n",
       "      <td>2020-04-21</td>\n",
       "      <td>1.35</td>\n",
       "      <td>2.36</td>\n",
       "      <td>NaN</td>\n",
       "      <td>4.07</td>\n",
       "      <td>1.75</td>\n",
       "      <td>NaN</td>\n",
       "      <td>NaN</td>\n",
       "      <td>2.72</td>\n",
       "    </tr>\n",
       "  </tbody>\n",
       "</table>\n",
       "</div>"
      ],
      "text/plain": [
       "                                   患者编号   检验时间_date  HDL-C  LDL-C  LPa    TC  \\\n",
       "0  pat_0a31a5b06ad2a27c6d4dd950266235d9  2020-04-21   1.35   2.36  NaN  4.07   \n",
       "\n",
       "     TG  apo-A1  apo-B  非HDL-C  \n",
       "0  1.75     NaN    NaN    2.72  "
      ]
     },
     "execution_count": 64,
     "metadata": {},
     "output_type": "execute_result"
    }
   ],
   "source": [
    "temp_check_r"
   ]
  },
  {
   "cell_type": "code",
   "execution_count": 65,
   "metadata": {},
   "outputs": [
    {
     "data": {
      "text/plain": [
       "(149, 38)"
      ]
     },
     "execution_count": 65,
     "metadata": {},
     "output_type": "execute_result"
    }
   ],
   "source": [
    "df_drug_resuvatin_efficacy.shape"
   ]
  },
  {
   "cell_type": "code",
   "execution_count": 66,
   "metadata": {},
   "outputs": [],
   "source": [
    "df_drug_resuvatin_efficacy.to_csv(project_path+'/data/processed_data/疗效/df_3.8_疗效评价.csv')"
   ]
  },
  {
   "cell_type": "code",
   "execution_count": null,
   "metadata": {},
   "outputs": [],
   "source": []
  }
 ],
 "metadata": {
  "kernelspec": {
   "display_name": "Python 3",
   "language": "python",
   "name": "python3"
  },
  "language_info": {
   "codemirror_mode": {
    "name": "ipython",
    "version": 3
   },
   "file_extension": ".py",
   "mimetype": "text/x-python",
   "name": "python",
   "nbconvert_exporter": "python",
   "pygments_lexer": "ipython3",
   "version": "3.6.8"
  },
  "toc": {
   "base_numbering": 1,
   "nav_menu": {},
   "number_sections": true,
   "sideBar": true,
   "skip_h1_title": false,
   "title_cell": "Table of Contents",
   "title_sidebar": "Contents",
   "toc_cell": false,
   "toc_position": {
    "height": "calc(100% - 180px)",
    "left": "10px",
    "top": "150px",
    "width": "460.8px"
   },
   "toc_section_display": true,
   "toc_window_display": true
  },
  "varInspector": {
   "cols": {
    "lenName": 16,
    "lenType": 16,
    "lenVar": 40
   },
   "kernels_config": {
    "python": {
     "delete_cmd_postfix": "",
     "delete_cmd_prefix": "del ",
     "library": "var_list.py",
     "varRefreshCmd": "print(var_dic_list())"
    },
    "r": {
     "delete_cmd_postfix": ") ",
     "delete_cmd_prefix": "rm(",
     "library": "var_list.r",
     "varRefreshCmd": "cat(var_dic_list()) "
    }
   },
   "types_to_exclude": [
    "module",
    "function",
    "builtin_function_or_method",
    "instance",
    "_Feature"
   ],
   "window_display": false
  }
 },
 "nbformat": 4,
 "nbformat_minor": 2
}
